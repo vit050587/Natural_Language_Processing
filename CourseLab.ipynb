{
  "nbformat": 4,
  "nbformat_minor": 0,
  "metadata": {
    "colab": {
      "provenance": [],
      "mount_file_id": "1TvQMLNQBirTNall3cJ_SxXK_yWUJsbFI",
      "authorship_tag": "ABX9TyN+tTZmbRLzGPhf/bDhtWYJ",
      "include_colab_link": true
    },
    "kernelspec": {
      "name": "python3",
      "display_name": "Python 3"
    },
    "language_info": {
      "name": "python"
    },
    "widgets": {
      "application/vnd.jupyter.widget-state+json": {
        "9ed9aada769344daa243ae31e125a2ae": {
          "model_module": "@jupyter-widgets/controls",
          "model_name": "HBoxModel",
          "model_module_version": "1.5.0",
          "state": {
            "_dom_classes": [],
            "_model_module": "@jupyter-widgets/controls",
            "_model_module_version": "1.5.0",
            "_model_name": "HBoxModel",
            "_view_count": null,
            "_view_module": "@jupyter-widgets/controls",
            "_view_module_version": "1.5.0",
            "_view_name": "HBoxView",
            "box_style": "",
            "children": [
              "IPY_MODEL_fbd51d9e9ff34b2cbb5540749a3894ce",
              "IPY_MODEL_3f6a99773f4e461b95fc3083ee5b58c3",
              "IPY_MODEL_7cde3a1981dc413683bf9226823a1e46"
            ],
            "layout": "IPY_MODEL_9361308d3d6649f5904d9b177cec1289"
          }
        },
        "fbd51d9e9ff34b2cbb5540749a3894ce": {
          "model_module": "@jupyter-widgets/controls",
          "model_name": "HTMLModel",
          "model_module_version": "1.5.0",
          "state": {
            "_dom_classes": [],
            "_model_module": "@jupyter-widgets/controls",
            "_model_module_version": "1.5.0",
            "_model_name": "HTMLModel",
            "_view_count": null,
            "_view_module": "@jupyter-widgets/controls",
            "_view_module_version": "1.5.0",
            "_view_name": "HTMLView",
            "description": "",
            "description_tooltip": null,
            "layout": "IPY_MODEL_845460b211a74d0e947ff108c7e44a79",
            "placeholder": "​",
            "style": "IPY_MODEL_4eeda7772a844ee08274f8f6df72d51d",
            "value": ""
          }
        },
        "3f6a99773f4e461b95fc3083ee5b58c3": {
          "model_module": "@jupyter-widgets/controls",
          "model_name": "FloatProgressModel",
          "model_module_version": "1.5.0",
          "state": {
            "_dom_classes": [],
            "_model_module": "@jupyter-widgets/controls",
            "_model_module_version": "1.5.0",
            "_model_name": "FloatProgressModel",
            "_view_count": null,
            "_view_module": "@jupyter-widgets/controls",
            "_view_module_version": "1.5.0",
            "_view_name": "ProgressView",
            "bar_style": "success",
            "description": "",
            "description_tooltip": null,
            "layout": "IPY_MODEL_137f021930844467bbe658899a58ac39",
            "max": 1,
            "min": 0,
            "orientation": "horizontal",
            "style": "IPY_MODEL_7f6f54d9d9054f09b506e39f047d2c11",
            "value": 1
          }
        },
        "7cde3a1981dc413683bf9226823a1e46": {
          "model_module": "@jupyter-widgets/controls",
          "model_name": "HTMLModel",
          "model_module_version": "1.5.0",
          "state": {
            "_dom_classes": [],
            "_model_module": "@jupyter-widgets/controls",
            "_model_module_version": "1.5.0",
            "_model_name": "HTMLModel",
            "_view_count": null,
            "_view_module": "@jupyter-widgets/controls",
            "_view_module_version": "1.5.0",
            "_view_name": "HTMLView",
            "description": "",
            "description_tooltip": null,
            "layout": "IPY_MODEL_cf6ec2d94fad4f339a3965e65cc572cd",
            "placeholder": "​",
            "style": "IPY_MODEL_8b88581a194244ed95cb7f54bced57e5",
            "value": " 7550926/? [01:21&lt;00:00, 200024.68it/s]"
          }
        },
        "9361308d3d6649f5904d9b177cec1289": {
          "model_module": "@jupyter-widgets/base",
          "model_name": "LayoutModel",
          "model_module_version": "1.2.0",
          "state": {
            "_model_module": "@jupyter-widgets/base",
            "_model_module_version": "1.2.0",
            "_model_name": "LayoutModel",
            "_view_count": null,
            "_view_module": "@jupyter-widgets/base",
            "_view_module_version": "1.2.0",
            "_view_name": "LayoutView",
            "align_content": null,
            "align_items": null,
            "align_self": null,
            "border": null,
            "bottom": null,
            "display": null,
            "flex": null,
            "flex_flow": null,
            "grid_area": null,
            "grid_auto_columns": null,
            "grid_auto_flow": null,
            "grid_auto_rows": null,
            "grid_column": null,
            "grid_gap": null,
            "grid_row": null,
            "grid_template_areas": null,
            "grid_template_columns": null,
            "grid_template_rows": null,
            "height": null,
            "justify_content": null,
            "justify_items": null,
            "left": null,
            "margin": null,
            "max_height": null,
            "max_width": null,
            "min_height": null,
            "min_width": null,
            "object_fit": null,
            "object_position": null,
            "order": null,
            "overflow": null,
            "overflow_x": null,
            "overflow_y": null,
            "padding": null,
            "right": null,
            "top": null,
            "visibility": null,
            "width": null
          }
        },
        "845460b211a74d0e947ff108c7e44a79": {
          "model_module": "@jupyter-widgets/base",
          "model_name": "LayoutModel",
          "model_module_version": "1.2.0",
          "state": {
            "_model_module": "@jupyter-widgets/base",
            "_model_module_version": "1.2.0",
            "_model_name": "LayoutModel",
            "_view_count": null,
            "_view_module": "@jupyter-widgets/base",
            "_view_module_version": "1.2.0",
            "_view_name": "LayoutView",
            "align_content": null,
            "align_items": null,
            "align_self": null,
            "border": null,
            "bottom": null,
            "display": null,
            "flex": null,
            "flex_flow": null,
            "grid_area": null,
            "grid_auto_columns": null,
            "grid_auto_flow": null,
            "grid_auto_rows": null,
            "grid_column": null,
            "grid_gap": null,
            "grid_row": null,
            "grid_template_areas": null,
            "grid_template_columns": null,
            "grid_template_rows": null,
            "height": null,
            "justify_content": null,
            "justify_items": null,
            "left": null,
            "margin": null,
            "max_height": null,
            "max_width": null,
            "min_height": null,
            "min_width": null,
            "object_fit": null,
            "object_position": null,
            "order": null,
            "overflow": null,
            "overflow_x": null,
            "overflow_y": null,
            "padding": null,
            "right": null,
            "top": null,
            "visibility": null,
            "width": null
          }
        },
        "4eeda7772a844ee08274f8f6df72d51d": {
          "model_module": "@jupyter-widgets/controls",
          "model_name": "DescriptionStyleModel",
          "model_module_version": "1.5.0",
          "state": {
            "_model_module": "@jupyter-widgets/controls",
            "_model_module_version": "1.5.0",
            "_model_name": "DescriptionStyleModel",
            "_view_count": null,
            "_view_module": "@jupyter-widgets/base",
            "_view_module_version": "1.2.0",
            "_view_name": "StyleView",
            "description_width": ""
          }
        },
        "137f021930844467bbe658899a58ac39": {
          "model_module": "@jupyter-widgets/base",
          "model_name": "LayoutModel",
          "model_module_version": "1.2.0",
          "state": {
            "_model_module": "@jupyter-widgets/base",
            "_model_module_version": "1.2.0",
            "_model_name": "LayoutModel",
            "_view_count": null,
            "_view_module": "@jupyter-widgets/base",
            "_view_module_version": "1.2.0",
            "_view_name": "LayoutView",
            "align_content": null,
            "align_items": null,
            "align_self": null,
            "border": null,
            "bottom": null,
            "display": null,
            "flex": null,
            "flex_flow": null,
            "grid_area": null,
            "grid_auto_columns": null,
            "grid_auto_flow": null,
            "grid_auto_rows": null,
            "grid_column": null,
            "grid_gap": null,
            "grid_row": null,
            "grid_template_areas": null,
            "grid_template_columns": null,
            "grid_template_rows": null,
            "height": null,
            "justify_content": null,
            "justify_items": null,
            "left": null,
            "margin": null,
            "max_height": null,
            "max_width": null,
            "min_height": null,
            "min_width": null,
            "object_fit": null,
            "object_position": null,
            "order": null,
            "overflow": null,
            "overflow_x": null,
            "overflow_y": null,
            "padding": null,
            "right": null,
            "top": null,
            "visibility": null,
            "width": "20px"
          }
        },
        "7f6f54d9d9054f09b506e39f047d2c11": {
          "model_module": "@jupyter-widgets/controls",
          "model_name": "ProgressStyleModel",
          "model_module_version": "1.5.0",
          "state": {
            "_model_module": "@jupyter-widgets/controls",
            "_model_module_version": "1.5.0",
            "_model_name": "ProgressStyleModel",
            "_view_count": null,
            "_view_module": "@jupyter-widgets/base",
            "_view_module_version": "1.2.0",
            "_view_name": "StyleView",
            "bar_color": null,
            "description_width": ""
          }
        },
        "cf6ec2d94fad4f339a3965e65cc572cd": {
          "model_module": "@jupyter-widgets/base",
          "model_name": "LayoutModel",
          "model_module_version": "1.2.0",
          "state": {
            "_model_module": "@jupyter-widgets/base",
            "_model_module_version": "1.2.0",
            "_model_name": "LayoutModel",
            "_view_count": null,
            "_view_module": "@jupyter-widgets/base",
            "_view_module_version": "1.2.0",
            "_view_name": "LayoutView",
            "align_content": null,
            "align_items": null,
            "align_self": null,
            "border": null,
            "bottom": null,
            "display": null,
            "flex": null,
            "flex_flow": null,
            "grid_area": null,
            "grid_auto_columns": null,
            "grid_auto_flow": null,
            "grid_auto_rows": null,
            "grid_column": null,
            "grid_gap": null,
            "grid_row": null,
            "grid_template_areas": null,
            "grid_template_columns": null,
            "grid_template_rows": null,
            "height": null,
            "justify_content": null,
            "justify_items": null,
            "left": null,
            "margin": null,
            "max_height": null,
            "max_width": null,
            "min_height": null,
            "min_width": null,
            "object_fit": null,
            "object_position": null,
            "order": null,
            "overflow": null,
            "overflow_x": null,
            "overflow_y": null,
            "padding": null,
            "right": null,
            "top": null,
            "visibility": null,
            "width": null
          }
        },
        "8b88581a194244ed95cb7f54bced57e5": {
          "model_module": "@jupyter-widgets/controls",
          "model_name": "DescriptionStyleModel",
          "model_module_version": "1.5.0",
          "state": {
            "_model_module": "@jupyter-widgets/controls",
            "_model_module_version": "1.5.0",
            "_model_name": "DescriptionStyleModel",
            "_view_count": null,
            "_view_module": "@jupyter-widgets/base",
            "_view_module_version": "1.2.0",
            "_view_name": "StyleView",
            "description_width": ""
          }
        },
        "3dcaf07153e14b10b609573ae87b6f56": {
          "model_module": "@jupyter-widgets/controls",
          "model_name": "HBoxModel",
          "model_module_version": "1.5.0",
          "state": {
            "_dom_classes": [],
            "_model_module": "@jupyter-widgets/controls",
            "_model_module_version": "1.5.0",
            "_model_name": "HBoxModel",
            "_view_count": null,
            "_view_module": "@jupyter-widgets/controls",
            "_view_module_version": "1.5.0",
            "_view_name": "HBoxView",
            "box_style": "",
            "children": [
              "IPY_MODEL_fb78bcb11962413fbd6aa8cad0e519bb",
              "IPY_MODEL_ddb31d3c313d431bab6a97f70d6c2d42",
              "IPY_MODEL_8e2796c2d6f64f2082d75cb206c88dab"
            ],
            "layout": "IPY_MODEL_abbd51e143b741b79c4f4f3b0fb58904"
          }
        },
        "fb78bcb11962413fbd6aa8cad0e519bb": {
          "model_module": "@jupyter-widgets/controls",
          "model_name": "HTMLModel",
          "model_module_version": "1.5.0",
          "state": {
            "_dom_classes": [],
            "_model_module": "@jupyter-widgets/controls",
            "_model_module_version": "1.5.0",
            "_model_name": "HTMLModel",
            "_view_count": null,
            "_view_module": "@jupyter-widgets/controls",
            "_view_module_version": "1.5.0",
            "_view_name": "HTMLView",
            "description": "",
            "description_tooltip": null,
            "layout": "IPY_MODEL_080f6506464c4ac7b4ce06ac67fee3e2",
            "placeholder": "​",
            "style": "IPY_MODEL_c8ae296eab4547828d5e69131902adbc",
            "value": ""
          }
        },
        "ddb31d3c313d431bab6a97f70d6c2d42": {
          "model_module": "@jupyter-widgets/controls",
          "model_name": "FloatProgressModel",
          "model_module_version": "1.5.0",
          "state": {
            "_dom_classes": [],
            "_model_module": "@jupyter-widgets/controls",
            "_model_module_version": "1.5.0",
            "_model_name": "FloatProgressModel",
            "_view_count": null,
            "_view_module": "@jupyter-widgets/controls",
            "_view_module_version": "1.5.0",
            "_view_name": "ProgressView",
            "bar_style": "danger",
            "description": "",
            "description_tooltip": null,
            "layout": "IPY_MODEL_df613d3c8c924914a99fb05a62541830",
            "max": 1,
            "min": 0,
            "orientation": "horizontal",
            "style": "IPY_MODEL_c901eb03acc34838bd5d85515444cd90",
            "value": 1
          }
        },
        "8e2796c2d6f64f2082d75cb206c88dab": {
          "model_module": "@jupyter-widgets/controls",
          "model_name": "HTMLModel",
          "model_module_version": "1.5.0",
          "state": {
            "_dom_classes": [],
            "_model_module": "@jupyter-widgets/controls",
            "_model_module_version": "1.5.0",
            "_model_name": "HTMLModel",
            "_view_count": null,
            "_view_module": "@jupyter-widgets/controls",
            "_view_module_version": "1.5.0",
            "_view_name": "HTMLView",
            "description": "",
            "description_tooltip": null,
            "layout": "IPY_MODEL_832d645206de4be5b2cc21919441ad49",
            "placeholder": "​",
            "style": "IPY_MODEL_df41766ad501416b983d5e12a532f475",
            "value": " 500000/? [52:12&lt;00:00, 225.85it/s]"
          }
        },
        "abbd51e143b741b79c4f4f3b0fb58904": {
          "model_module": "@jupyter-widgets/base",
          "model_name": "LayoutModel",
          "model_module_version": "1.2.0",
          "state": {
            "_model_module": "@jupyter-widgets/base",
            "_model_module_version": "1.2.0",
            "_model_name": "LayoutModel",
            "_view_count": null,
            "_view_module": "@jupyter-widgets/base",
            "_view_module_version": "1.2.0",
            "_view_name": "LayoutView",
            "align_content": null,
            "align_items": null,
            "align_self": null,
            "border": null,
            "bottom": null,
            "display": null,
            "flex": null,
            "flex_flow": null,
            "grid_area": null,
            "grid_auto_columns": null,
            "grid_auto_flow": null,
            "grid_auto_rows": null,
            "grid_column": null,
            "grid_gap": null,
            "grid_row": null,
            "grid_template_areas": null,
            "grid_template_columns": null,
            "grid_template_rows": null,
            "height": null,
            "justify_content": null,
            "justify_items": null,
            "left": null,
            "margin": null,
            "max_height": null,
            "max_width": null,
            "min_height": null,
            "min_width": null,
            "object_fit": null,
            "object_position": null,
            "order": null,
            "overflow": null,
            "overflow_x": null,
            "overflow_y": null,
            "padding": null,
            "right": null,
            "top": null,
            "visibility": null,
            "width": null
          }
        },
        "080f6506464c4ac7b4ce06ac67fee3e2": {
          "model_module": "@jupyter-widgets/base",
          "model_name": "LayoutModel",
          "model_module_version": "1.2.0",
          "state": {
            "_model_module": "@jupyter-widgets/base",
            "_model_module_version": "1.2.0",
            "_model_name": "LayoutModel",
            "_view_count": null,
            "_view_module": "@jupyter-widgets/base",
            "_view_module_version": "1.2.0",
            "_view_name": "LayoutView",
            "align_content": null,
            "align_items": null,
            "align_self": null,
            "border": null,
            "bottom": null,
            "display": null,
            "flex": null,
            "flex_flow": null,
            "grid_area": null,
            "grid_auto_columns": null,
            "grid_auto_flow": null,
            "grid_auto_rows": null,
            "grid_column": null,
            "grid_gap": null,
            "grid_row": null,
            "grid_template_areas": null,
            "grid_template_columns": null,
            "grid_template_rows": null,
            "height": null,
            "justify_content": null,
            "justify_items": null,
            "left": null,
            "margin": null,
            "max_height": null,
            "max_width": null,
            "min_height": null,
            "min_width": null,
            "object_fit": null,
            "object_position": null,
            "order": null,
            "overflow": null,
            "overflow_x": null,
            "overflow_y": null,
            "padding": null,
            "right": null,
            "top": null,
            "visibility": null,
            "width": null
          }
        },
        "c8ae296eab4547828d5e69131902adbc": {
          "model_module": "@jupyter-widgets/controls",
          "model_name": "DescriptionStyleModel",
          "model_module_version": "1.5.0",
          "state": {
            "_model_module": "@jupyter-widgets/controls",
            "_model_module_version": "1.5.0",
            "_model_name": "DescriptionStyleModel",
            "_view_count": null,
            "_view_module": "@jupyter-widgets/base",
            "_view_module_version": "1.2.0",
            "_view_name": "StyleView",
            "description_width": ""
          }
        },
        "df613d3c8c924914a99fb05a62541830": {
          "model_module": "@jupyter-widgets/base",
          "model_name": "LayoutModel",
          "model_module_version": "1.2.0",
          "state": {
            "_model_module": "@jupyter-widgets/base",
            "_model_module_version": "1.2.0",
            "_model_name": "LayoutModel",
            "_view_count": null,
            "_view_module": "@jupyter-widgets/base",
            "_view_module_version": "1.2.0",
            "_view_name": "LayoutView",
            "align_content": null,
            "align_items": null,
            "align_self": null,
            "border": null,
            "bottom": null,
            "display": null,
            "flex": null,
            "flex_flow": null,
            "grid_area": null,
            "grid_auto_columns": null,
            "grid_auto_flow": null,
            "grid_auto_rows": null,
            "grid_column": null,
            "grid_gap": null,
            "grid_row": null,
            "grid_template_areas": null,
            "grid_template_columns": null,
            "grid_template_rows": null,
            "height": null,
            "justify_content": null,
            "justify_items": null,
            "left": null,
            "margin": null,
            "max_height": null,
            "max_width": null,
            "min_height": null,
            "min_width": null,
            "object_fit": null,
            "object_position": null,
            "order": null,
            "overflow": null,
            "overflow_x": null,
            "overflow_y": null,
            "padding": null,
            "right": null,
            "top": null,
            "visibility": null,
            "width": "20px"
          }
        },
        "c901eb03acc34838bd5d85515444cd90": {
          "model_module": "@jupyter-widgets/controls",
          "model_name": "ProgressStyleModel",
          "model_module_version": "1.5.0",
          "state": {
            "_model_module": "@jupyter-widgets/controls",
            "_model_module_version": "1.5.0",
            "_model_name": "ProgressStyleModel",
            "_view_count": null,
            "_view_module": "@jupyter-widgets/base",
            "_view_module_version": "1.2.0",
            "_view_name": "StyleView",
            "bar_color": null,
            "description_width": ""
          }
        },
        "832d645206de4be5b2cc21919441ad49": {
          "model_module": "@jupyter-widgets/base",
          "model_name": "LayoutModel",
          "model_module_version": "1.2.0",
          "state": {
            "_model_module": "@jupyter-widgets/base",
            "_model_module_version": "1.2.0",
            "_model_name": "LayoutModel",
            "_view_count": null,
            "_view_module": "@jupyter-widgets/base",
            "_view_module_version": "1.2.0",
            "_view_name": "LayoutView",
            "align_content": null,
            "align_items": null,
            "align_self": null,
            "border": null,
            "bottom": null,
            "display": null,
            "flex": null,
            "flex_flow": null,
            "grid_area": null,
            "grid_auto_columns": null,
            "grid_auto_flow": null,
            "grid_auto_rows": null,
            "grid_column": null,
            "grid_gap": null,
            "grid_row": null,
            "grid_template_areas": null,
            "grid_template_columns": null,
            "grid_template_rows": null,
            "height": null,
            "justify_content": null,
            "justify_items": null,
            "left": null,
            "margin": null,
            "max_height": null,
            "max_width": null,
            "min_height": null,
            "min_width": null,
            "object_fit": null,
            "object_position": null,
            "order": null,
            "overflow": null,
            "overflow_x": null,
            "overflow_y": null,
            "padding": null,
            "right": null,
            "top": null,
            "visibility": null,
            "width": null
          }
        },
        "df41766ad501416b983d5e12a532f475": {
          "model_module": "@jupyter-widgets/controls",
          "model_name": "DescriptionStyleModel",
          "model_module_version": "1.5.0",
          "state": {
            "_model_module": "@jupyter-widgets/controls",
            "_model_module_version": "1.5.0",
            "_model_name": "DescriptionStyleModel",
            "_view_count": null,
            "_view_module": "@jupyter-widgets/base",
            "_view_module_version": "1.2.0",
            "_view_name": "StyleView",
            "description_width": ""
          }
        },
        "b825994dfe704e3e8b9c97b4cbb7f1be": {
          "model_module": "@jupyter-widgets/controls",
          "model_name": "HBoxModel",
          "model_module_version": "1.5.0",
          "state": {
            "_dom_classes": [],
            "_model_module": "@jupyter-widgets/controls",
            "_model_module_version": "1.5.0",
            "_model_name": "HBoxModel",
            "_view_count": null,
            "_view_module": "@jupyter-widgets/controls",
            "_view_module_version": "1.5.0",
            "_view_name": "HBoxView",
            "box_style": "",
            "children": [
              "IPY_MODEL_a47b7c2554914badaea5c1c995e2686d",
              "IPY_MODEL_156a866e4f45447dbeb0cf0a9f83bf92",
              "IPY_MODEL_199b0c4527fa47db9470601ce2fa437c"
            ],
            "layout": "IPY_MODEL_266d617a7d03421ab7ce77d1d794f969"
          }
        },
        "a47b7c2554914badaea5c1c995e2686d": {
          "model_module": "@jupyter-widgets/controls",
          "model_name": "HTMLModel",
          "model_module_version": "1.5.0",
          "state": {
            "_dom_classes": [],
            "_model_module": "@jupyter-widgets/controls",
            "_model_module_version": "1.5.0",
            "_model_name": "HTMLModel",
            "_view_count": null,
            "_view_module": "@jupyter-widgets/controls",
            "_view_module_version": "1.5.0",
            "_view_name": "HTMLView",
            "description": "",
            "description_tooltip": null,
            "layout": "IPY_MODEL_6e11e2e664c5439b85a4175205a375ac",
            "placeholder": "​",
            "style": "IPY_MODEL_f27e1238684e443faf959372df421035",
            "value": ""
          }
        },
        "156a866e4f45447dbeb0cf0a9f83bf92": {
          "model_module": "@jupyter-widgets/controls",
          "model_name": "FloatProgressModel",
          "model_module_version": "1.5.0",
          "state": {
            "_dom_classes": [],
            "_model_module": "@jupyter-widgets/controls",
            "_model_module_version": "1.5.0",
            "_model_name": "FloatProgressModel",
            "_view_count": null,
            "_view_module": "@jupyter-widgets/controls",
            "_view_module_version": "1.5.0",
            "_view_name": "ProgressView",
            "bar_style": "success",
            "description": "",
            "description_tooltip": null,
            "layout": "IPY_MODEL_c89cab04c3784512abd5aa6e8240e75f",
            "max": 1,
            "min": 0,
            "orientation": "horizontal",
            "style": "IPY_MODEL_132b02273f834e5eaa916a208562a9b4",
            "value": 1
          }
        },
        "199b0c4527fa47db9470601ce2fa437c": {
          "model_module": "@jupyter-widgets/controls",
          "model_name": "HTMLModel",
          "model_module_version": "1.5.0",
          "state": {
            "_dom_classes": [],
            "_model_module": "@jupyter-widgets/controls",
            "_model_module_version": "1.5.0",
            "_model_name": "HTMLModel",
            "_view_count": null,
            "_view_module": "@jupyter-widgets/controls",
            "_view_module_version": "1.5.0",
            "_view_name": "HTMLView",
            "description": "",
            "description_tooltip": null,
            "layout": "IPY_MODEL_0496bf3d1a9b4a2d8be068775f1dd86d",
            "placeholder": "​",
            "style": "IPY_MODEL_6bbd7fb6a55f433baed7cfe2b3efa998",
            "value": " 1163342/? [2:06:00&lt;00:00, 131.65it/s]"
          }
        },
        "266d617a7d03421ab7ce77d1d794f969": {
          "model_module": "@jupyter-widgets/base",
          "model_name": "LayoutModel",
          "model_module_version": "1.2.0",
          "state": {
            "_model_module": "@jupyter-widgets/base",
            "_model_module_version": "1.2.0",
            "_model_name": "LayoutModel",
            "_view_count": null,
            "_view_module": "@jupyter-widgets/base",
            "_view_module_version": "1.2.0",
            "_view_name": "LayoutView",
            "align_content": null,
            "align_items": null,
            "align_self": null,
            "border": null,
            "bottom": null,
            "display": null,
            "flex": null,
            "flex_flow": null,
            "grid_area": null,
            "grid_auto_columns": null,
            "grid_auto_flow": null,
            "grid_auto_rows": null,
            "grid_column": null,
            "grid_gap": null,
            "grid_row": null,
            "grid_template_areas": null,
            "grid_template_columns": null,
            "grid_template_rows": null,
            "height": null,
            "justify_content": null,
            "justify_items": null,
            "left": null,
            "margin": null,
            "max_height": null,
            "max_width": null,
            "min_height": null,
            "min_width": null,
            "object_fit": null,
            "object_position": null,
            "order": null,
            "overflow": null,
            "overflow_x": null,
            "overflow_y": null,
            "padding": null,
            "right": null,
            "top": null,
            "visibility": null,
            "width": null
          }
        },
        "6e11e2e664c5439b85a4175205a375ac": {
          "model_module": "@jupyter-widgets/base",
          "model_name": "LayoutModel",
          "model_module_version": "1.2.0",
          "state": {
            "_model_module": "@jupyter-widgets/base",
            "_model_module_version": "1.2.0",
            "_model_name": "LayoutModel",
            "_view_count": null,
            "_view_module": "@jupyter-widgets/base",
            "_view_module_version": "1.2.0",
            "_view_name": "LayoutView",
            "align_content": null,
            "align_items": null,
            "align_self": null,
            "border": null,
            "bottom": null,
            "display": null,
            "flex": null,
            "flex_flow": null,
            "grid_area": null,
            "grid_auto_columns": null,
            "grid_auto_flow": null,
            "grid_auto_rows": null,
            "grid_column": null,
            "grid_gap": null,
            "grid_row": null,
            "grid_template_areas": null,
            "grid_template_columns": null,
            "grid_template_rows": null,
            "height": null,
            "justify_content": null,
            "justify_items": null,
            "left": null,
            "margin": null,
            "max_height": null,
            "max_width": null,
            "min_height": null,
            "min_width": null,
            "object_fit": null,
            "object_position": null,
            "order": null,
            "overflow": null,
            "overflow_x": null,
            "overflow_y": null,
            "padding": null,
            "right": null,
            "top": null,
            "visibility": null,
            "width": null
          }
        },
        "f27e1238684e443faf959372df421035": {
          "model_module": "@jupyter-widgets/controls",
          "model_name": "DescriptionStyleModel",
          "model_module_version": "1.5.0",
          "state": {
            "_model_module": "@jupyter-widgets/controls",
            "_model_module_version": "1.5.0",
            "_model_name": "DescriptionStyleModel",
            "_view_count": null,
            "_view_module": "@jupyter-widgets/base",
            "_view_module_version": "1.2.0",
            "_view_name": "StyleView",
            "description_width": ""
          }
        },
        "c89cab04c3784512abd5aa6e8240e75f": {
          "model_module": "@jupyter-widgets/base",
          "model_name": "LayoutModel",
          "model_module_version": "1.2.0",
          "state": {
            "_model_module": "@jupyter-widgets/base",
            "_model_module_version": "1.2.0",
            "_model_name": "LayoutModel",
            "_view_count": null,
            "_view_module": "@jupyter-widgets/base",
            "_view_module_version": "1.2.0",
            "_view_name": "LayoutView",
            "align_content": null,
            "align_items": null,
            "align_self": null,
            "border": null,
            "bottom": null,
            "display": null,
            "flex": null,
            "flex_flow": null,
            "grid_area": null,
            "grid_auto_columns": null,
            "grid_auto_flow": null,
            "grid_auto_rows": null,
            "grid_column": null,
            "grid_gap": null,
            "grid_row": null,
            "grid_template_areas": null,
            "grid_template_columns": null,
            "grid_template_rows": null,
            "height": null,
            "justify_content": null,
            "justify_items": null,
            "left": null,
            "margin": null,
            "max_height": null,
            "max_width": null,
            "min_height": null,
            "min_width": null,
            "object_fit": null,
            "object_position": null,
            "order": null,
            "overflow": null,
            "overflow_x": null,
            "overflow_y": null,
            "padding": null,
            "right": null,
            "top": null,
            "visibility": null,
            "width": "20px"
          }
        },
        "132b02273f834e5eaa916a208562a9b4": {
          "model_module": "@jupyter-widgets/controls",
          "model_name": "ProgressStyleModel",
          "model_module_version": "1.5.0",
          "state": {
            "_model_module": "@jupyter-widgets/controls",
            "_model_module_version": "1.5.0",
            "_model_name": "ProgressStyleModel",
            "_view_count": null,
            "_view_module": "@jupyter-widgets/base",
            "_view_module_version": "1.2.0",
            "_view_name": "StyleView",
            "bar_color": null,
            "description_width": ""
          }
        },
        "0496bf3d1a9b4a2d8be068775f1dd86d": {
          "model_module": "@jupyter-widgets/base",
          "model_name": "LayoutModel",
          "model_module_version": "1.2.0",
          "state": {
            "_model_module": "@jupyter-widgets/base",
            "_model_module_version": "1.2.0",
            "_model_name": "LayoutModel",
            "_view_count": null,
            "_view_module": "@jupyter-widgets/base",
            "_view_module_version": "1.2.0",
            "_view_name": "LayoutView",
            "align_content": null,
            "align_items": null,
            "align_self": null,
            "border": null,
            "bottom": null,
            "display": null,
            "flex": null,
            "flex_flow": null,
            "grid_area": null,
            "grid_auto_columns": null,
            "grid_auto_flow": null,
            "grid_auto_rows": null,
            "grid_column": null,
            "grid_gap": null,
            "grid_row": null,
            "grid_template_areas": null,
            "grid_template_columns": null,
            "grid_template_rows": null,
            "height": null,
            "justify_content": null,
            "justify_items": null,
            "left": null,
            "margin": null,
            "max_height": null,
            "max_width": null,
            "min_height": null,
            "min_width": null,
            "object_fit": null,
            "object_position": null,
            "order": null,
            "overflow": null,
            "overflow_x": null,
            "overflow_y": null,
            "padding": null,
            "right": null,
            "top": null,
            "visibility": null,
            "width": null
          }
        },
        "6bbd7fb6a55f433baed7cfe2b3efa998": {
          "model_module": "@jupyter-widgets/controls",
          "model_name": "DescriptionStyleModel",
          "model_module_version": "1.5.0",
          "state": {
            "_model_module": "@jupyter-widgets/controls",
            "_model_module_version": "1.5.0",
            "_model_name": "DescriptionStyleModel",
            "_view_count": null,
            "_view_module": "@jupyter-widgets/base",
            "_view_module_version": "1.2.0",
            "_view_name": "StyleView",
            "description_width": ""
          }
        },
        "c6bfdace22544279af6a0d2ee57fd716": {
          "model_module": "@jupyter-widgets/controls",
          "model_name": "HBoxModel",
          "model_module_version": "1.5.0",
          "state": {
            "_dom_classes": [],
            "_model_module": "@jupyter-widgets/controls",
            "_model_module_version": "1.5.0",
            "_model_name": "HBoxModel",
            "_view_count": null,
            "_view_module": "@jupyter-widgets/controls",
            "_view_module_version": "1.5.0",
            "_view_name": "HBoxView",
            "box_style": "",
            "children": [
              "IPY_MODEL_68ebf90371544b9098f80f34d6ea35ae",
              "IPY_MODEL_531488827c2542f3b87cb133545f89a6",
              "IPY_MODEL_b8d192dd385b403fa54b8ea50f56cbd6"
            ],
            "layout": "IPY_MODEL_281fc2d01a84408a9fa0b6216e1600fe"
          }
        },
        "68ebf90371544b9098f80f34d6ea35ae": {
          "model_module": "@jupyter-widgets/controls",
          "model_name": "HTMLModel",
          "model_module_version": "1.5.0",
          "state": {
            "_dom_classes": [],
            "_model_module": "@jupyter-widgets/controls",
            "_model_module_version": "1.5.0",
            "_model_name": "HTMLModel",
            "_view_count": null,
            "_view_module": "@jupyter-widgets/controls",
            "_view_module_version": "1.5.0",
            "_view_name": "HTMLView",
            "description": "",
            "description_tooltip": null,
            "layout": "IPY_MODEL_78ae2ce87d104184a719450bdea62c81",
            "placeholder": "​",
            "style": "IPY_MODEL_c9f8369d702d441fbc2ff997fe23ba03",
            "value": "100%"
          }
        },
        "531488827c2542f3b87cb133545f89a6": {
          "model_module": "@jupyter-widgets/controls",
          "model_name": "FloatProgressModel",
          "model_module_version": "1.5.0",
          "state": {
            "_dom_classes": [],
            "_model_module": "@jupyter-widgets/controls",
            "_model_module_version": "1.5.0",
            "_model_name": "FloatProgressModel",
            "_view_count": null,
            "_view_module": "@jupyter-widgets/controls",
            "_view_module_version": "1.5.0",
            "_view_name": "ProgressView",
            "bar_style": "success",
            "description": "",
            "description_tooltip": null,
            "layout": "IPY_MODEL_5cdfbc95bc4b4377a29d1588d94f4a9f",
            "max": 35548,
            "min": 0,
            "orientation": "horizontal",
            "style": "IPY_MODEL_c8a8f2b5ec9f48af9c5f997505532899",
            "value": 35548
          }
        },
        "b8d192dd385b403fa54b8ea50f56cbd6": {
          "model_module": "@jupyter-widgets/controls",
          "model_name": "HTMLModel",
          "model_module_version": "1.5.0",
          "state": {
            "_dom_classes": [],
            "_model_module": "@jupyter-widgets/controls",
            "_model_module_version": "1.5.0",
            "_model_name": "HTMLModel",
            "_view_count": null,
            "_view_module": "@jupyter-widgets/controls",
            "_view_module_version": "1.5.0",
            "_view_name": "HTMLView",
            "description": "",
            "description_tooltip": null,
            "layout": "IPY_MODEL_76cd807275d543cb80fb9f5c971c80e9",
            "placeholder": "​",
            "style": "IPY_MODEL_fd7f99c83110428d8b887b1db15bc2c8",
            "value": " 35548/35548 [00:12&lt;00:00, 2289.39it/s]"
          }
        },
        "281fc2d01a84408a9fa0b6216e1600fe": {
          "model_module": "@jupyter-widgets/base",
          "model_name": "LayoutModel",
          "model_module_version": "1.2.0",
          "state": {
            "_model_module": "@jupyter-widgets/base",
            "_model_module_version": "1.2.0",
            "_model_name": "LayoutModel",
            "_view_count": null,
            "_view_module": "@jupyter-widgets/base",
            "_view_module_version": "1.2.0",
            "_view_name": "LayoutView",
            "align_content": null,
            "align_items": null,
            "align_self": null,
            "border": null,
            "bottom": null,
            "display": null,
            "flex": null,
            "flex_flow": null,
            "grid_area": null,
            "grid_auto_columns": null,
            "grid_auto_flow": null,
            "grid_auto_rows": null,
            "grid_column": null,
            "grid_gap": null,
            "grid_row": null,
            "grid_template_areas": null,
            "grid_template_columns": null,
            "grid_template_rows": null,
            "height": null,
            "justify_content": null,
            "justify_items": null,
            "left": null,
            "margin": null,
            "max_height": null,
            "max_width": null,
            "min_height": null,
            "min_width": null,
            "object_fit": null,
            "object_position": null,
            "order": null,
            "overflow": null,
            "overflow_x": null,
            "overflow_y": null,
            "padding": null,
            "right": null,
            "top": null,
            "visibility": null,
            "width": null
          }
        },
        "78ae2ce87d104184a719450bdea62c81": {
          "model_module": "@jupyter-widgets/base",
          "model_name": "LayoutModel",
          "model_module_version": "1.2.0",
          "state": {
            "_model_module": "@jupyter-widgets/base",
            "_model_module_version": "1.2.0",
            "_model_name": "LayoutModel",
            "_view_count": null,
            "_view_module": "@jupyter-widgets/base",
            "_view_module_version": "1.2.0",
            "_view_name": "LayoutView",
            "align_content": null,
            "align_items": null,
            "align_self": null,
            "border": null,
            "bottom": null,
            "display": null,
            "flex": null,
            "flex_flow": null,
            "grid_area": null,
            "grid_auto_columns": null,
            "grid_auto_flow": null,
            "grid_auto_rows": null,
            "grid_column": null,
            "grid_gap": null,
            "grid_row": null,
            "grid_template_areas": null,
            "grid_template_columns": null,
            "grid_template_rows": null,
            "height": null,
            "justify_content": null,
            "justify_items": null,
            "left": null,
            "margin": null,
            "max_height": null,
            "max_width": null,
            "min_height": null,
            "min_width": null,
            "object_fit": null,
            "object_position": null,
            "order": null,
            "overflow": null,
            "overflow_x": null,
            "overflow_y": null,
            "padding": null,
            "right": null,
            "top": null,
            "visibility": null,
            "width": null
          }
        },
        "c9f8369d702d441fbc2ff997fe23ba03": {
          "model_module": "@jupyter-widgets/controls",
          "model_name": "DescriptionStyleModel",
          "model_module_version": "1.5.0",
          "state": {
            "_model_module": "@jupyter-widgets/controls",
            "_model_module_version": "1.5.0",
            "_model_name": "DescriptionStyleModel",
            "_view_count": null,
            "_view_module": "@jupyter-widgets/base",
            "_view_module_version": "1.2.0",
            "_view_name": "StyleView",
            "description_width": ""
          }
        },
        "5cdfbc95bc4b4377a29d1588d94f4a9f": {
          "model_module": "@jupyter-widgets/base",
          "model_name": "LayoutModel",
          "model_module_version": "1.2.0",
          "state": {
            "_model_module": "@jupyter-widgets/base",
            "_model_module_version": "1.2.0",
            "_model_name": "LayoutModel",
            "_view_count": null,
            "_view_module": "@jupyter-widgets/base",
            "_view_module_version": "1.2.0",
            "_view_name": "LayoutView",
            "align_content": null,
            "align_items": null,
            "align_self": null,
            "border": null,
            "bottom": null,
            "display": null,
            "flex": null,
            "flex_flow": null,
            "grid_area": null,
            "grid_auto_columns": null,
            "grid_auto_flow": null,
            "grid_auto_rows": null,
            "grid_column": null,
            "grid_gap": null,
            "grid_row": null,
            "grid_template_areas": null,
            "grid_template_columns": null,
            "grid_template_rows": null,
            "height": null,
            "justify_content": null,
            "justify_items": null,
            "left": null,
            "margin": null,
            "max_height": null,
            "max_width": null,
            "min_height": null,
            "min_width": null,
            "object_fit": null,
            "object_position": null,
            "order": null,
            "overflow": null,
            "overflow_x": null,
            "overflow_y": null,
            "padding": null,
            "right": null,
            "top": null,
            "visibility": null,
            "width": null
          }
        },
        "c8a8f2b5ec9f48af9c5f997505532899": {
          "model_module": "@jupyter-widgets/controls",
          "model_name": "ProgressStyleModel",
          "model_module_version": "1.5.0",
          "state": {
            "_model_module": "@jupyter-widgets/controls",
            "_model_module_version": "1.5.0",
            "_model_name": "ProgressStyleModel",
            "_view_count": null,
            "_view_module": "@jupyter-widgets/base",
            "_view_module_version": "1.2.0",
            "_view_name": "StyleView",
            "bar_color": null,
            "description_width": ""
          }
        },
        "76cd807275d543cb80fb9f5c971c80e9": {
          "model_module": "@jupyter-widgets/base",
          "model_name": "LayoutModel",
          "model_module_version": "1.2.0",
          "state": {
            "_model_module": "@jupyter-widgets/base",
            "_model_module_version": "1.2.0",
            "_model_name": "LayoutModel",
            "_view_count": null,
            "_view_module": "@jupyter-widgets/base",
            "_view_module_version": "1.2.0",
            "_view_name": "LayoutView",
            "align_content": null,
            "align_items": null,
            "align_self": null,
            "border": null,
            "bottom": null,
            "display": null,
            "flex": null,
            "flex_flow": null,
            "grid_area": null,
            "grid_auto_columns": null,
            "grid_auto_flow": null,
            "grid_auto_rows": null,
            "grid_column": null,
            "grid_gap": null,
            "grid_row": null,
            "grid_template_areas": null,
            "grid_template_columns": null,
            "grid_template_rows": null,
            "height": null,
            "justify_content": null,
            "justify_items": null,
            "left": null,
            "margin": null,
            "max_height": null,
            "max_width": null,
            "min_height": null,
            "min_width": null,
            "object_fit": null,
            "object_position": null,
            "order": null,
            "overflow": null,
            "overflow_x": null,
            "overflow_y": null,
            "padding": null,
            "right": null,
            "top": null,
            "visibility": null,
            "width": null
          }
        },
        "fd7f99c83110428d8b887b1db15bc2c8": {
          "model_module": "@jupyter-widgets/controls",
          "model_name": "DescriptionStyleModel",
          "model_module_version": "1.5.0",
          "state": {
            "_model_module": "@jupyter-widgets/controls",
            "_model_module_version": "1.5.0",
            "_model_name": "DescriptionStyleModel",
            "_view_count": null,
            "_view_module": "@jupyter-widgets/base",
            "_view_module_version": "1.2.0",
            "_view_name": "StyleView",
            "description_width": ""
          }
        }
      }
    }
  },
  "cells": [
    {
      "cell_type": "markdown",
      "metadata": {
        "id": "view-in-github",
        "colab_type": "text"
      },
      "source": [
        "<a href=\"https://colab.research.google.com/github/vit050587/Natural_Language_Processing/blob/master/CourseLab.ipynb\" target=\"_parent\"><img src=\"https://colab.research.google.com/assets/colab-badge.svg\" alt=\"Open In Colab\"/></a>"
      ]
    },
    {
      "cell_type": "markdown",
      "source": [
        "#Курсовой проект «Введение в обработку естественного языка»"
      ],
      "metadata": {
        "id": "XsLGEq3qyGIe"
      }
    },
    {
      "cell_type": "markdown",
      "source": [
        "**Задание**:\n",
        "\n",
        "Реализовать чат-бот на базе API Telegram.\n",
        "\n",
        "**Интенты**:\n",
        "\n",
        "* болталка (разговорная часть): используются вопросы-ответы mail.ru,\n",
        "* суммаризация: используется предобученная модель - csebuetnlp/mT5_multilingual_XLSum\n",
        "* продуктовая часть: используются данные с youla.ru.\n",
        "\n",
        "**Технологии**:\n",
        "\n",
        "ML: CountVectorizer, TfidfVectorizer, FastText, MorphAnalyzer, dialogflow, LogisticRegression, annoy, API: telegram\n",
        "\n",
        "**Алгоритм работы чат-бота:**\n",
        "\n",
        "При поступлении текстового запроса модель должна определить интент к которому относится запрос:\n",
        "\n",
        "* болталка (вопрос/ответ)\n",
        "* суммаризация\n",
        "* поиск продукта\n",
        "    1 Если запрос \"разговорный\", используя TfidfVectorizer, FastText, annoy определяется наиболее подходящий ответ.\n",
        "\n",
        "    2 Если интент \"cуммаризация\", то используется предобученная модель csebuetnlp/mT5_multilingual_XLSum. Суммаризация должна начинаться с ключевого слова \"Summarization:\".\n",
        "\n",
        "    3 Если запрос \"продуктовый\", используя TfidfVectorizer, FastText, annoy (быстрый поиск ближайших соседей). Определяются N наиболее похожих продукта, которые возвращяются в чат.\n",
        "\n",
        "    4 Если в разговорном и продуктовом запросе найденный ответ слабо соответствует запросу, чат-бот должен ответить \"Не понимаю запрос. Сформулируйте запрос более корректно.\".``"
      ],
      "metadata": {
        "id": "h9_4nW_pyMn9"
      }
    },
    {
      "cell_type": "markdown",
      "source": [
        "#1. Установка библиотек и подготовка данных."
      ],
      "metadata": {
        "id": "SVpbPpKGzfQv"
      }
    },
    {
      "cell_type": "code",
      "source": [
        "!pip install telegram --quiet\n",
        "!pip install python-telegram-bot==13.14 --quiet\n",
        "!pip install pymorphy2 --quiet\n",
        "!pip install stop_words --quiet\n",
        "!pip install annoy --quiet\n",
        "!pip install transformers sentencepiece --quiet\n",
        "!pip install gensim\n",
        "#!pip3 uninstall python-telegram-bot\n",
        "\n",
        "#!pip3 install python-telegram-bot"
      ],
      "metadata": {
        "colab": {
          "base_uri": "https://localhost:8080/"
        },
        "id": "Qd8iBtYhrQ4A",
        "outputId": "1a4be79d-37c9-4eea-8997-6247a70abe49"
      },
      "execution_count": 1,
      "outputs": [
        {
          "output_type": "stream",
          "name": "stdout",
          "text": [
            "Requirement already satisfied: gensim in /usr/local/lib/python3.10/dist-packages (4.3.1)\n",
            "Requirement already satisfied: numpy>=1.18.5 in /usr/local/lib/python3.10/dist-packages (from gensim) (1.23.5)\n",
            "Requirement already satisfied: scipy>=1.7.0 in /usr/local/lib/python3.10/dist-packages (from gensim) (1.10.1)\n",
            "Requirement already satisfied: smart-open>=1.8.1 in /usr/local/lib/python3.10/dist-packages (from gensim) (6.3.0)\n"
          ]
        }
      ]
    },
    {
      "cell_type": "code",
      "source": [
        "import os\n",
        "from telegram.ext import Updater, CommandHandler, MessageHandler, filters, CallbackContext\n",
        "import string\n",
        "from pymorphy2 import MorphAnalyzer\n",
        "from stop_words import get_stop_words\n",
        "import annoy\n",
        "import fasttext\n",
        "import word2vec\n",
        "from gensim.models import Word2Vec, FastText\n",
        "import pickle\n",
        "import numpy as np\n",
        "import tqdm\n",
        "from tqdm import tqdm_notebook\n",
        "from tqdm.notebook import tqdm\n",
        "import pandas as pd\n",
        "import re"
      ],
      "metadata": {
        "id": "NH75xX1szmFz"
      },
      "execution_count": 24,
      "outputs": []
    },
    {
      "cell_type": "markdown",
      "source": [
        "#2.Обучение разговорной модели"
      ],
      "metadata": {
        "id": "A-85eT_Gztzl"
      }
    },
    {
      "cell_type": "code",
      "source": [
        "%%time\n",
        "# работает быстро\n",
        "\n",
        "assert True\n",
        "\n",
        "#Small preprocess of the answers\n",
        "\n",
        "question = None\n",
        "written = False\n",
        "\n",
        "c=0\n",
        "\n",
        "# Идем по всем записям, берем строку как вопрос и после знака \"---\" находим ответ\n",
        "with open(\"/content/drive/MyDrive/Colab Notebooks/Natural_Language_Processing/CourseLab/prepared_answers.txt\", \"w\") as fout:\n",
        "    with open(\"/content/drive/MyDrive/Colab Notebooks/Natural_Language_Processing/CourseLab/Otvety.txt\", \"r\") as fin:\n",
        "        for line in tqdm_notebook(fin):\n",
        "            if line.startswith(\"---\"):\n",
        "                written = False\n",
        "                continue\n",
        "            if not written and question is not None:\n",
        "                fout.write(question.replace(\"\\t\", \" \").strip() + \"\\t\" + line.replace(\"\\t\", \" \"))\n",
        "                written = True\n",
        "                question = None\n",
        "                continue\n",
        "            if not written:\n",
        "                question = line.strip()\n",
        "                continue"
      ],
      "metadata": {
        "id": "xZ1JCs10zxQ9",
        "colab": {
          "base_uri": "https://localhost:8080/",
          "height": 118,
          "referenced_widgets": [
            "9ed9aada769344daa243ae31e125a2ae",
            "fbd51d9e9ff34b2cbb5540749a3894ce",
            "3f6a99773f4e461b95fc3083ee5b58c3",
            "7cde3a1981dc413683bf9226823a1e46",
            "9361308d3d6649f5904d9b177cec1289",
            "845460b211a74d0e947ff108c7e44a79",
            "4eeda7772a844ee08274f8f6df72d51d",
            "137f021930844467bbe658899a58ac39",
            "7f6f54d9d9054f09b506e39f047d2c11",
            "cf6ec2d94fad4f339a3965e65cc572cd",
            "8b88581a194244ed95cb7f54bced57e5"
          ]
        },
        "outputId": "1fc81677-e913-496c-d90f-db4e4f8274e6"
      },
      "execution_count": 3,
      "outputs": [
        {
          "output_type": "stream",
          "name": "stderr",
          "text": [
            "<timed exec>:15: TqdmDeprecationWarning: This function will be removed in tqdm==5.0.0\n",
            "Please use `tqdm.notebook.tqdm` instead of `tqdm.tqdm_notebook`\n"
          ]
        },
        {
          "output_type": "display_data",
          "data": {
            "text/plain": [
              "0it [00:00, ?it/s]"
            ],
            "application/vnd.jupyter.widget-view+json": {
              "version_major": 2,
              "version_minor": 0,
              "model_id": "9ed9aada769344daa243ae31e125a2ae"
            }
          },
          "metadata": {}
        },
        {
          "output_type": "stream",
          "name": "stdout",
          "text": [
            "CPU times: user 31.1 s, sys: 4.3 s, total: 35.4 s\n",
            "Wall time: 1min 22s\n"
          ]
        }
      ]
    },
    {
      "cell_type": "markdown",
      "source": [
        "##Предобработка текста"
      ],
      "metadata": {
        "id": "3qgbKyR0z0mW"
      }
    },
    {
      "cell_type": "code",
      "source": [
        "def preprocess_txt(line):\n",
        "    spls = \"\".join(i for i in line.strip() if i not in exclude).split()\n",
        "    spls = [morpher.parse(i.lower())[0].normal_form for i in spls]\n",
        "    spls = [i for i in spls if i not in sw and i != \"\"]\n",
        "    return spls"
      ],
      "metadata": {
        "id": "J0drtmFZz3ey"
      },
      "execution_count": 4,
      "outputs": []
    },
    {
      "cell_type": "code",
      "source": [
        "morpher = MorphAnalyzer()\n",
        "sw = set(get_stop_words(\"ru\"))\n",
        "exclude = set(string.punctuation)"
      ],
      "metadata": {
        "id": "KPb1GwX2z5H6"
      },
      "execution_count": 5,
      "outputs": []
    },
    {
      "cell_type": "code",
      "source": [
        "assert True\n",
        "\n",
        "# Preprocess for models fitting\n",
        "\n",
        "sentences = []\n",
        "c = 0\n",
        "\n",
        "with open(\"/content/drive/MyDrive/Colab Notebooks/Natural_Language_Processing/CourseLab/Otvety.txt\", \"r\") as fin:\n",
        "    for line in tqdm_notebook(fin):\n",
        "        spls = preprocess_txt(line)\n",
        "        sentences.append(spls)\n",
        "        c += 1\n",
        "        if c > 500000:\n",
        "            break"
      ],
      "metadata": {
        "id": "Hd5BCYMUz7XQ",
        "colab": {
          "base_uri": "https://localhost:8080/",
          "height": 101,
          "referenced_widgets": [
            "3dcaf07153e14b10b609573ae87b6f56",
            "fb78bcb11962413fbd6aa8cad0e519bb",
            "ddb31d3c313d431bab6a97f70d6c2d42",
            "8e2796c2d6f64f2082d75cb206c88dab",
            "abbd51e143b741b79c4f4f3b0fb58904",
            "080f6506464c4ac7b4ce06ac67fee3e2",
            "c8ae296eab4547828d5e69131902adbc",
            "df613d3c8c924914a99fb05a62541830",
            "c901eb03acc34838bd5d85515444cd90",
            "832d645206de4be5b2cc21919441ad49",
            "df41766ad501416b983d5e12a532f475"
          ]
        },
        "outputId": "23e73121-4974-4aa4-ff84-21a03b8a6888"
      },
      "execution_count": 6,
      "outputs": [
        {
          "output_type": "stream",
          "name": "stderr",
          "text": [
            "<ipython-input-6-7ebb7e8e2473>:9: TqdmDeprecationWarning: This function will be removed in tqdm==5.0.0\n",
            "Please use `tqdm.notebook.tqdm` instead of `tqdm.tqdm_notebook`\n",
            "  for line in tqdm_notebook(fin):\n"
          ]
        },
        {
          "output_type": "display_data",
          "data": {
            "text/plain": [
              "0it [00:00, ?it/s]"
            ],
            "application/vnd.jupyter.widget-view+json": {
              "version_major": 2,
              "version_minor": 0,
              "model_id": "3dcaf07153e14b10b609573ae87b6f56"
            }
          },
          "metadata": {}
        }
      ]
    },
    {
      "cell_type": "code",
      "source": [
        "sentences[:10]"
      ],
      "metadata": {
        "id": "ZfEGvv30E9do",
        "colab": {
          "base_uri": "https://localhost:8080/"
        },
        "outputId": "e3a01ce6-bf65-41de-8531-4048181cea86"
      },
      "execution_count": 7,
      "outputs": [
        {
          "output_type": "execute_result",
          "data": {
            "text/plain": [
              "[[],\n",
              " [],\n",
              " ['вопрос', 'тдв', 'отдыхать', 'лично', 'советовать', 'завести'],\n",
              " ['хомячок'],\n",
              " ['мужик', 'йопарить', 'собачка', '50', 'кошка'],\n",
              " ['общение'],\n",
              " ['паучок'],\n",
              " ['пол', 'памытьbr', 'таг', 'тип', 'каво'],\n",
              " ['вообще', 'пообщаться'],\n",
              " ['советовать', 'сися', 'завести']]"
            ]
          },
          "metadata": {},
          "execution_count": 7
        }
      ]
    },
    {
      "cell_type": "code",
      "source": [
        "sentences = [i for i in sentences if len(i) > 2]\n",
        "\n",
        "# записываем сериализованный объект в файл\n",
        "with open(f'/content/sentences.pkl', 'wb') as f:\n",
        "    pickle.dump(sentences, f)"
      ],
      "metadata": {
        "id": "FhfdUAobz_ds"
      },
      "execution_count": 8,
      "outputs": []
    },
    {
      "cell_type": "code",
      "source": [
        "# загружаем объект из файла\n",
        "with open(f'/content/sentences.pkl', 'rb') as f:\n",
        "    sentences = pickle.load(f)"
      ],
      "metadata": {
        "id": "FxoubEl80DV3"
      },
      "execution_count": 9,
      "outputs": []
    },
    {
      "cell_type": "markdown",
      "source": [
        "##Обучение модели TF-IDF"
      ],
      "metadata": {
        "id": "nFfFgtcM0FEi"
      }
    },
    {
      "cell_type": "code",
      "source": [
        "# Функция-пустышка, для возможности передать в TfidfVectorizer список уже готовых токенов, а не текст\n",
        "def simple_tokenizer(x):\n",
        "    return x"
      ],
      "metadata": {
        "id": "X4PsD9tL0HsX"
      },
      "execution_count": 10,
      "outputs": []
    },
    {
      "cell_type": "code",
      "source": [
        "from sklearn.feature_extraction.text import TfidfVectorizer"
      ],
      "metadata": {
        "id": "M2Q_gSbI0JRg"
      },
      "execution_count": 11,
      "outputs": []
    },
    {
      "cell_type": "code",
      "source": [
        "%%time\n",
        "tfidf_vectorizer = TfidfVectorizer(tokenizer=simple_tokenizer, lowercase=False, min_df=2)\n",
        "tfidf_vectorizer.fit_transform(sentences)\n",
        "\n",
        "idfs = {v[0]: v[1] for v in zip(tfidf_vectorizer.vocabulary_, tfidf_vectorizer.idf_)}\n",
        "midf = np.mean(tfidf_vectorizer.idf_)\n",
        "\n",
        "with open(f'idfs.pkl', 'wb') as f:\n",
        "    pickle.dump(idfs, f)  # записывает сериализованный объект в файл.\n",
        "\n",
        "with open(f'midf.pkl', 'wb') as f:\n",
        "    pickle.dump(midf, f)  # записывает сериализованный объект в файл."
      ],
      "metadata": {
        "id": "f9RGx-vP0LFW",
        "colab": {
          "base_uri": "https://localhost:8080/"
        },
        "outputId": "ab32c2fc-c01b-4028-92eb-7528b972f26d"
      },
      "execution_count": 12,
      "outputs": [
        {
          "output_type": "stream",
          "name": "stderr",
          "text": [
            "/usr/local/lib/python3.10/dist-packages/sklearn/feature_extraction/text.py:528: UserWarning: The parameter 'token_pattern' will not be used since 'tokenizer' is not None'\n",
            "  warnings.warn(\n"
          ]
        },
        {
          "output_type": "stream",
          "name": "stdout",
          "text": [
            "CPU times: user 8.17 s, sys: 302 ms, total: 8.47 s\n",
            "Wall time: 8.56 s\n"
          ]
        }
      ]
    },
    {
      "cell_type": "code",
      "source": [
        "with open(f'idfs.pkl', 'rb') as f:\n",
        "    idfs = pickle.load(f)  # загружает объект из файла"
      ],
      "metadata": {
        "id": "CQd3w8m-0Mpk"
      },
      "execution_count": 13,
      "outputs": []
    },
    {
      "cell_type": "code",
      "source": [
        "with open(f'midf.pkl', 'rb') as f:\n",
        "    midf = pickle.load(f)  # загружает объект из файла"
      ],
      "metadata": {
        "id": "-Ra-yXNO0OFq"
      },
      "execution_count": 14,
      "outputs": []
    },
    {
      "cell_type": "markdown",
      "source": [
        "##Обучение модели FastText"
      ],
      "metadata": {
        "id": "RHrrKb380P_L"
      }
    },
    {
      "cell_type": "code",
      "source": [
        "SIZE_EMB = 100  # Размер эмбеддинга"
      ],
      "metadata": {
        "id": "bjkDzO9x0TTQ"
      },
      "execution_count": 15,
      "outputs": []
    },
    {
      "cell_type": "code",
      "source": [
        "def embed_txt(txt, idfs, model, midf):\n",
        "    n_ft = 0\n",
        "    vector_ft = np.zeros(SIZE_EMB)\n",
        "    for word in txt:\n",
        "        if word in model:\n",
        "            vector_ft += model[word] * idfs.get(word, midf)\n",
        "            n_ft += idfs.get(word, midf)\n",
        "    if n_ft > 0:\n",
        "        vector_ft = vector_ft / n_ft\n",
        "\n",
        "    return vector_ft"
      ],
      "metadata": {
        "id": "yGCboIwB0VZa"
      },
      "execution_count": 16,
      "outputs": []
    },
    {
      "cell_type": "code",
      "source": [
        "%%time\n",
        "modelFT = FastText(sentences=sentences, vector_size=100, min_count=1, window=5, workers=8)\n",
        "modelFT.save(\"ft_model\")"
      ],
      "metadata": {
        "id": "465QrLb-0W0l",
        "colab": {
          "base_uri": "https://localhost:8080/"
        },
        "outputId": "7d95b2ac-f281-413d-8987-78342dd346ef"
      },
      "execution_count": 25,
      "outputs": [
        {
          "output_type": "stream",
          "name": "stdout",
          "text": [
            "CPU times: user 14min 2s, sys: 8.03 s, total: 14min 10s\n",
            "Wall time: 10min 27s\n"
          ]
        }
      ]
    },
    {
      "cell_type": "code",
      "source": [
        "modelFT = FastText.load(\"ft_model\")\n",
        "ft_index = annoy.AnnoyIndex(100 ,'angular')"
      ],
      "metadata": {
        "id": "xnOD8QSChHS4"
      },
      "execution_count": 26,
      "outputs": []
    },
    {
      "cell_type": "code",
      "source": [
        "modelFT = FastText.load(\"ft_model\")"
      ],
      "metadata": {
        "id": "T9ooLbMJ9_BH"
      },
      "execution_count": 27,
      "outputs": []
    },
    {
      "cell_type": "code",
      "source": [
        "%%time\n",
        "\n",
        "modelFT = FastText.load(\"ft_model\")\n",
        "ft_index = annoy.AnnoyIndex(SIZE_EMB ,'angular')\n",
        "\n",
        "index_map = {}\n",
        "counter = 0\n",
        "\n",
        "with open(\"prepared_answers.txt\", \"r\") as f:\n",
        "    for line in tqdm_notebook(f):\n",
        "        n_ft = 0\n",
        "        spls = line.split(\"\\t\")\n",
        "        index_map[counter] = re.sub(r'\\<[^>]*\\>', '', spls[1]) # Удалим html-тэги\n",
        "        question = preprocess_txt(spls[0])\n",
        "        vector_ft = np.zeros(SIZE_EMB)\n",
        "\n",
        "        for word in question:\n",
        "            if word in modelFT.wv:\n",
        "                vector_ft += modelFT.wv[word]\n",
        "                # n_ft += 1\n",
        "                n_ft += idfs.get(word, midf)\n",
        "\n",
        "        if n_ft > 0:\n",
        "            vector_ft = vector_ft / n_ft\n",
        "        ft_index.add_item(counter, vector_ft)\n",
        "\n",
        "        counter += 1\n",
        "        if counter > 1000000:\n",
        "            break\n",
        "\n",
        "ft_index.build(10)\n",
        "ft_index.save('ft_index.ann')\n",
        "\n",
        "# Сохраняем индекс вопросов из болталки\n",
        "with open(f'index_map.pkl', 'wb') as f:   # Save it for future use\n",
        "    pickle.dump(index_map, f)  # записывает сериализованный объект в файл"
      ],
      "metadata": {
        "id": "-SErPz8H-8sp"
      },
      "execution_count": null,
      "outputs": []
    },
    {
      "cell_type": "code",
      "source": [
        "modelFT = FastText.load(\"ft_model\")\n",
        "ft_index = annoy.AnnoyIndex(SIZE_EMB ,'angular')\n",
        "\n",
        "index_map = {}\n",
        "counter = 0\n",
        "\n",
        "with open(\"/content/drive/MyDrive/Colab Notebooks/Natural_Language_Processing/CourseLab/prepared_answers.txt\", \"r\") as f:\n",
        "    for line in tqdm_notebook(f):\n",
        "        n_ft = 0\n",
        "        spls = line.split(\"\\t\")\n",
        "        index_map[counter] = spls[1]\n",
        "        question = preprocess_txt(spls[0])\n",
        "        vector_ft = np.zeros(100)\n",
        "        for word in question:\n",
        "            if word in modelFT.wv:\n",
        "                vector_ft += modelFT.wv[word]\n",
        "                n_ft += 1\n",
        "        if n_ft > 0:\n",
        "            vector_ft = vector_ft / n_ft\n",
        "        ft_index.add_item(counter, vector_ft)\n",
        "\n",
        "        counter += 1\n",
        "        #if counter > 1000000:\n",
        "        #    break\n",
        "ft_index.build(10)\n",
        "ft_index.save('ft_index.ann')"
      ],
      "metadata": {
        "id": "ve1SOgszDm2X",
        "colab": {
          "base_uri": "https://localhost:8080/",
          "height": 118,
          "referenced_widgets": [
            "b825994dfe704e3e8b9c97b4cbb7f1be",
            "a47b7c2554914badaea5c1c995e2686d",
            "156a866e4f45447dbeb0cf0a9f83bf92",
            "199b0c4527fa47db9470601ce2fa437c",
            "266d617a7d03421ab7ce77d1d794f969",
            "6e11e2e664c5439b85a4175205a375ac",
            "f27e1238684e443faf959372df421035",
            "c89cab04c3784512abd5aa6e8240e75f",
            "132b02273f834e5eaa916a208562a9b4",
            "0496bf3d1a9b4a2d8be068775f1dd86d",
            "6bbd7fb6a55f433baed7cfe2b3efa998"
          ]
        },
        "outputId": "1230da72-1d7d-459f-c92d-0d578c223d18"
      },
      "execution_count": 28,
      "outputs": [
        {
          "output_type": "stream",
          "name": "stderr",
          "text": [
            "<ipython-input-28-7a1f6b7b4a53>:8: TqdmDeprecationWarning: This function will be removed in tqdm==5.0.0\n",
            "Please use `tqdm.notebook.tqdm` instead of `tqdm.tqdm_notebook`\n",
            "  for line in tqdm_notebook(f):\n"
          ]
        },
        {
          "output_type": "display_data",
          "data": {
            "text/plain": [
              "0it [00:00, ?it/s]"
            ],
            "application/vnd.jupyter.widget-view+json": {
              "version_major": 2,
              "version_minor": 0,
              "model_id": "b825994dfe704e3e8b9c97b4cbb7f1be"
            }
          },
          "metadata": {}
        },
        {
          "output_type": "execute_result",
          "data": {
            "text/plain": [
              "True"
            ]
          },
          "metadata": {},
          "execution_count": 28
        }
      ]
    },
    {
      "cell_type": "code",
      "source": [
        "# Сохраняем индекс вопросов из болталки\n",
        "with open(f'index_map.pkl', 'wb') as f:   # Save it for future use\n",
        "    pickle.dump(index_map, f)  # записывает сериализованный объект в файл"
      ],
      "metadata": {
        "id": "-YAuq7zAFrKF"
      },
      "execution_count": 29,
      "outputs": []
    },
    {
      "cell_type": "code",
      "source": [
        "ft_index = annoy.AnnoyIndex(100, 'angular')  # Создание Annoy индекса\n",
        "ft_index.load(f'ft_index.ann')  # загружает"
      ],
      "metadata": {
        "id": "-8JW8k8e0cIP",
        "colab": {
          "base_uri": "https://localhost:8080/"
        },
        "outputId": "75eef5ec-1e04-4330-d9a7-1565d967c5fa"
      },
      "execution_count": 30,
      "outputs": [
        {
          "output_type": "execute_result",
          "data": {
            "text/plain": [
              "True"
            ]
          },
          "metadata": {},
          "execution_count": 30
        }
      ]
    },
    {
      "cell_type": "code",
      "source": [
        "ft_index = annoy.AnnoyIndex(SIZE_EMB, 'angular')  # Создание Annoy индекса\n",
        "ft_index.load(f'/content/ft_index.ann')  # загружает"
      ],
      "metadata": {
        "id": "5hvENO1I0eBf",
        "colab": {
          "base_uri": "https://localhost:8080/"
        },
        "outputId": "5cc987a8-e1c0-4185-eac4-6ff72e161528"
      },
      "execution_count": 31,
      "outputs": [
        {
          "output_type": "execute_result",
          "data": {
            "text/plain": [
              "True"
            ]
          },
          "metadata": {},
          "execution_count": 31
        }
      ]
    },
    {
      "cell_type": "code",
      "source": [
        "with open(f'/content/index_map.pkl', 'rb') as f:\n",
        "    index_map = pickle.load(f)  # загружает объект из файла"
      ],
      "metadata": {
        "id": "n1v8-Uch0iAQ"
      },
      "execution_count": 32,
      "outputs": []
    },
    {
      "cell_type": "code",
      "source": [
        "ft_index.get_nns_by_vector(np.zeros(SIZE_EMB), 2)"
      ],
      "metadata": {
        "id": "DSqNLXE30jh9",
        "colab": {
          "base_uri": "https://localhost:8080/"
        },
        "outputId": "6729fd01-0c1d-4149-8741-ebf8f6222dfa"
      },
      "execution_count": 33,
      "outputs": [
        {
          "output_type": "execute_result",
          "data": {
            "text/plain": [
              "[48087, 48741]"
            ]
          },
          "metadata": {},
          "execution_count": 33
        }
      ]
    },
    {
      "cell_type": "markdown",
      "source": [
        "#3. Обучение продуктовых моделей"
      ],
      "metadata": {
        "id": "7-N3QC-F0pnS"
      }
    },
    {
      "cell_type": "code",
      "source": [
        "%%time\n",
        "\n",
        "shop_data = pd.read_csv(\"/content/drive/MyDrive/Colab Notebooks/Natural_Language_Processing/CourseLab/ProductsDataset.csv\")\n",
        "# \"/content/drive/MyDrive/06_lang/course_proj/Misis.Ida.zip\"\n",
        "shop_data['text'] = shop_data['title'] + \" \" + shop_data[\"descrirption\"]\n",
        "shop_data['text'] = shop_data['text'].apply(lambda x: preprocess_txt(str(x)))\n",
        "shop_data.head()"
      ],
      "metadata": {
        "id": "Ug0UJzWi0szu",
        "colab": {
          "base_uri": "https://localhost:8080/",
          "height": 521
        },
        "outputId": "5bb2abc3-9e3a-4a47-b7a7-9867f93f2435"
      },
      "execution_count": 34,
      "outputs": [
        {
          "output_type": "stream",
          "name": "stdout",
          "text": [
            "CPU times: user 3min 6s, sys: 578 ms, total: 3min 6s\n",
            "Wall time: 3min 10s\n"
          ]
        },
        {
          "output_type": "execute_result",
          "data": {
            "text/plain": [
              "                  title                                       descrirption  \\\n",
              "0     Юбка детская ORBY  Новая, не носили ни разу. В реале красивей чем...   \n",
              "1             Ботильоны  Новые,привезены из Чехии ,указан размер 40,но ...   \n",
              "2                 Брюки  Размер 40-42. Брюки почти новые - не знаю как ...   \n",
              "3  Продам детские шапки  Продам шапки,кажда 200р.Розовая и белая проданны.   \n",
              "4                Блузка  Темно-синяя, 42 размер,состояние отличное,как ...   \n",
              "\n",
              "                 product_id  category_id subcategory_id  \\\n",
              "0  58e3cfe6132ca50e053f5f82         22.0           2211   \n",
              "1  5667531b2b7f8d127d838c34          9.0            902   \n",
              "2  59534826aaab284cba337e06          9.0            906   \n",
              "3  57de544096ad842e26de8027         22.0           2217   \n",
              "4  5ad4d2626c86cb168d212022          9.0            907   \n",
              "\n",
              "                                          properties  \\\n",
              "0        {'detskie_razmer_rost': '81-86 (1,5 года)'}   \n",
              "1  {'zhenskaya_odezhda_tzvet': 'Зеленый', 'visota...   \n",
              "2  {'zhenskaya_odezhda_dzhinsy_bryuki_tip': 'Брюк...   \n",
              "3  {'detskie_pol': 'Девочкам', 'detskaya_odezhda_...   \n",
              "4  {'zhenskaya_odezhda_tzvet': 'Синий', 'zhenskay...   \n",
              "\n",
              "                                         image_links  \\\n",
              "0  http://cache3.youla.io/files/images/360_360/58...   \n",
              "1  http://cache3.youla.io/files/images/360_360/5b...   \n",
              "2  http://cache3.youla.io/files/images/360_360/59...   \n",
              "3  http://cache3.youla.io/files/images/360_360/57...   \n",
              "4  http://cache3.youla.io/files/images/360_360/5a...   \n",
              "\n",
              "                                                text  \n",
              "0  [юбка, детский, orby, новый, носить, реал, кра...  \n",
              "1  [ботильон, новыепривезти, чехия, указать, разм...  \n",
              "2  [брюки, размер, 4042, брюки, новый, знать, мер...  \n",
              "3  [продать, детский, шапка, продать, шапкикажда,...  \n",
              "4  [блузка, темносиний, 42, размерсостояние, отли...  "
            ],
            "text/html": [
              "\n",
              "  <div id=\"df-03649cc9-91ee-4194-a3f7-b50c270696d6\" class=\"colab-df-container\">\n",
              "    <div>\n",
              "<style scoped>\n",
              "    .dataframe tbody tr th:only-of-type {\n",
              "        vertical-align: middle;\n",
              "    }\n",
              "\n",
              "    .dataframe tbody tr th {\n",
              "        vertical-align: top;\n",
              "    }\n",
              "\n",
              "    .dataframe thead th {\n",
              "        text-align: right;\n",
              "    }\n",
              "</style>\n",
              "<table border=\"1\" class=\"dataframe\">\n",
              "  <thead>\n",
              "    <tr style=\"text-align: right;\">\n",
              "      <th></th>\n",
              "      <th>title</th>\n",
              "      <th>descrirption</th>\n",
              "      <th>product_id</th>\n",
              "      <th>category_id</th>\n",
              "      <th>subcategory_id</th>\n",
              "      <th>properties</th>\n",
              "      <th>image_links</th>\n",
              "      <th>text</th>\n",
              "    </tr>\n",
              "  </thead>\n",
              "  <tbody>\n",
              "    <tr>\n",
              "      <th>0</th>\n",
              "      <td>Юбка детская ORBY</td>\n",
              "      <td>Новая, не носили ни разу. В реале красивей чем...</td>\n",
              "      <td>58e3cfe6132ca50e053f5f82</td>\n",
              "      <td>22.0</td>\n",
              "      <td>2211</td>\n",
              "      <td>{'detskie_razmer_rost': '81-86 (1,5 года)'}</td>\n",
              "      <td>http://cache3.youla.io/files/images/360_360/58...</td>\n",
              "      <td>[юбка, детский, orby, новый, носить, реал, кра...</td>\n",
              "    </tr>\n",
              "    <tr>\n",
              "      <th>1</th>\n",
              "      <td>Ботильоны</td>\n",
              "      <td>Новые,привезены из Чехии ,указан размер 40,но ...</td>\n",
              "      <td>5667531b2b7f8d127d838c34</td>\n",
              "      <td>9.0</td>\n",
              "      <td>902</td>\n",
              "      <td>{'zhenskaya_odezhda_tzvet': 'Зеленый', 'visota...</td>\n",
              "      <td>http://cache3.youla.io/files/images/360_360/5b...</td>\n",
              "      <td>[ботильон, новыепривезти, чехия, указать, разм...</td>\n",
              "    </tr>\n",
              "    <tr>\n",
              "      <th>2</th>\n",
              "      <td>Брюки</td>\n",
              "      <td>Размер 40-42. Брюки почти новые - не знаю как ...</td>\n",
              "      <td>59534826aaab284cba337e06</td>\n",
              "      <td>9.0</td>\n",
              "      <td>906</td>\n",
              "      <td>{'zhenskaya_odezhda_dzhinsy_bryuki_tip': 'Брюк...</td>\n",
              "      <td>http://cache3.youla.io/files/images/360_360/59...</td>\n",
              "      <td>[брюки, размер, 4042, брюки, новый, знать, мер...</td>\n",
              "    </tr>\n",
              "    <tr>\n",
              "      <th>3</th>\n",
              "      <td>Продам детские шапки</td>\n",
              "      <td>Продам шапки,кажда 200р.Розовая и белая проданны.</td>\n",
              "      <td>57de544096ad842e26de8027</td>\n",
              "      <td>22.0</td>\n",
              "      <td>2217</td>\n",
              "      <td>{'detskie_pol': 'Девочкам', 'detskaya_odezhda_...</td>\n",
              "      <td>http://cache3.youla.io/files/images/360_360/57...</td>\n",
              "      <td>[продать, детский, шапка, продать, шапкикажда,...</td>\n",
              "    </tr>\n",
              "    <tr>\n",
              "      <th>4</th>\n",
              "      <td>Блузка</td>\n",
              "      <td>Темно-синяя, 42 размер,состояние отличное,как ...</td>\n",
              "      <td>5ad4d2626c86cb168d212022</td>\n",
              "      <td>9.0</td>\n",
              "      <td>907</td>\n",
              "      <td>{'zhenskaya_odezhda_tzvet': 'Синий', 'zhenskay...</td>\n",
              "      <td>http://cache3.youla.io/files/images/360_360/5a...</td>\n",
              "      <td>[блузка, темносиний, 42, размерсостояние, отли...</td>\n",
              "    </tr>\n",
              "  </tbody>\n",
              "</table>\n",
              "</div>\n",
              "    <div class=\"colab-df-buttons\">\n",
              "\n",
              "  <div class=\"colab-df-container\">\n",
              "    <button class=\"colab-df-convert\" onclick=\"convertToInteractive('df-03649cc9-91ee-4194-a3f7-b50c270696d6')\"\n",
              "            title=\"Convert this dataframe to an interactive table.\"\n",
              "            style=\"display:none;\">\n",
              "\n",
              "  <svg xmlns=\"http://www.w3.org/2000/svg\" height=\"24px\" viewBox=\"0 -960 960 960\">\n",
              "    <path d=\"M120-120v-720h720v720H120Zm60-500h600v-160H180v160Zm220 220h160v-160H400v160Zm0 220h160v-160H400v160ZM180-400h160v-160H180v160Zm440 0h160v-160H620v160ZM180-180h160v-160H180v160Zm440 0h160v-160H620v160Z\"/>\n",
              "  </svg>\n",
              "    </button>\n",
              "\n",
              "  <style>\n",
              "    .colab-df-container {\n",
              "      display:flex;\n",
              "      gap: 12px;\n",
              "    }\n",
              "\n",
              "    .colab-df-convert {\n",
              "      background-color: #E8F0FE;\n",
              "      border: none;\n",
              "      border-radius: 50%;\n",
              "      cursor: pointer;\n",
              "      display: none;\n",
              "      fill: #1967D2;\n",
              "      height: 32px;\n",
              "      padding: 0 0 0 0;\n",
              "      width: 32px;\n",
              "    }\n",
              "\n",
              "    .colab-df-convert:hover {\n",
              "      background-color: #E2EBFA;\n",
              "      box-shadow: 0px 1px 2px rgba(60, 64, 67, 0.3), 0px 1px 3px 1px rgba(60, 64, 67, 0.15);\n",
              "      fill: #174EA6;\n",
              "    }\n",
              "\n",
              "    .colab-df-buttons div {\n",
              "      margin-bottom: 4px;\n",
              "    }\n",
              "\n",
              "    [theme=dark] .colab-df-convert {\n",
              "      background-color: #3B4455;\n",
              "      fill: #D2E3FC;\n",
              "    }\n",
              "\n",
              "    [theme=dark] .colab-df-convert:hover {\n",
              "      background-color: #434B5C;\n",
              "      box-shadow: 0px 1px 3px 1px rgba(0, 0, 0, 0.15);\n",
              "      filter: drop-shadow(0px 1px 2px rgba(0, 0, 0, 0.3));\n",
              "      fill: #FFFFFF;\n",
              "    }\n",
              "  </style>\n",
              "\n",
              "    <script>\n",
              "      const buttonEl =\n",
              "        document.querySelector('#df-03649cc9-91ee-4194-a3f7-b50c270696d6 button.colab-df-convert');\n",
              "      buttonEl.style.display =\n",
              "        google.colab.kernel.accessAllowed ? 'block' : 'none';\n",
              "\n",
              "      async function convertToInteractive(key) {\n",
              "        const element = document.querySelector('#df-03649cc9-91ee-4194-a3f7-b50c270696d6');\n",
              "        const dataTable =\n",
              "          await google.colab.kernel.invokeFunction('convertToInteractive',\n",
              "                                                    [key], {});\n",
              "        if (!dataTable) return;\n",
              "\n",
              "        const docLinkHtml = 'Like what you see? Visit the ' +\n",
              "          '<a target=\"_blank\" href=https://colab.research.google.com/notebooks/data_table.ipynb>data table notebook</a>'\n",
              "          + ' to learn more about interactive tables.';\n",
              "        element.innerHTML = '';\n",
              "        dataTable['output_type'] = 'display_data';\n",
              "        await google.colab.output.renderOutput(dataTable, element);\n",
              "        const docLink = document.createElement('div');\n",
              "        docLink.innerHTML = docLinkHtml;\n",
              "        element.appendChild(docLink);\n",
              "      }\n",
              "    </script>\n",
              "  </div>\n",
              "\n",
              "\n",
              "<div id=\"df-fa302cb3-0c6d-4ca4-81f5-4ad37e10ee09\">\n",
              "  <button class=\"colab-df-quickchart\" onclick=\"quickchart('df-fa302cb3-0c6d-4ca4-81f5-4ad37e10ee09')\"\n",
              "            title=\"Suggest charts.\"\n",
              "            style=\"display:none;\">\n",
              "\n",
              "<svg xmlns=\"http://www.w3.org/2000/svg\" height=\"24px\"viewBox=\"0 0 24 24\"\n",
              "     width=\"24px\">\n",
              "    <g>\n",
              "        <path d=\"M19 3H5c-1.1 0-2 .9-2 2v14c0 1.1.9 2 2 2h14c1.1 0 2-.9 2-2V5c0-1.1-.9-2-2-2zM9 17H7v-7h2v7zm4 0h-2V7h2v10zm4 0h-2v-4h2v4z\"/>\n",
              "    </g>\n",
              "</svg>\n",
              "  </button>\n",
              "\n",
              "<style>\n",
              "  .colab-df-quickchart {\n",
              "    background-color: #E8F0FE;\n",
              "    border: none;\n",
              "    border-radius: 50%;\n",
              "    cursor: pointer;\n",
              "    display: none;\n",
              "    fill: #1967D2;\n",
              "    height: 32px;\n",
              "    padding: 0 0 0 0;\n",
              "    width: 32px;\n",
              "  }\n",
              "\n",
              "  .colab-df-quickchart:hover {\n",
              "    background-color: #E2EBFA;\n",
              "    box-shadow: 0px 1px 2px rgba(60, 64, 67, 0.3), 0px 1px 3px 1px rgba(60, 64, 67, 0.15);\n",
              "    fill: #174EA6;\n",
              "  }\n",
              "\n",
              "  [theme=dark] .colab-df-quickchart {\n",
              "    background-color: #3B4455;\n",
              "    fill: #D2E3FC;\n",
              "  }\n",
              "\n",
              "  [theme=dark] .colab-df-quickchart:hover {\n",
              "    background-color: #434B5C;\n",
              "    box-shadow: 0px 1px 3px 1px rgba(0, 0, 0, 0.15);\n",
              "    filter: drop-shadow(0px 1px 2px rgba(0, 0, 0, 0.3));\n",
              "    fill: #FFFFFF;\n",
              "  }\n",
              "</style>\n",
              "\n",
              "  <script>\n",
              "    async function quickchart(key) {\n",
              "      const charts = await google.colab.kernel.invokeFunction(\n",
              "          'suggestCharts', [key], {});\n",
              "    }\n",
              "    (() => {\n",
              "      let quickchartButtonEl =\n",
              "        document.querySelector('#df-fa302cb3-0c6d-4ca4-81f5-4ad37e10ee09 button');\n",
              "      quickchartButtonEl.style.display =\n",
              "        google.colab.kernel.accessAllowed ? 'block' : 'none';\n",
              "    })();\n",
              "  </script>\n",
              "</div>\n",
              "    </div>\n",
              "  </div>\n"
            ]
          },
          "metadata": {},
          "execution_count": 34
        }
      ]
    },
    {
      "cell_type": "code",
      "source": [
        "from sklearn.feature_extraction.text import CountVectorizer\n",
        "from sklearn.linear_model import LogisticRegression\n",
        "\n",
        "vectorizer = CountVectorizer(ngram_range=(1, 2))"
      ],
      "metadata": {
        "id": "Ssqy2uWK0w-G"
      },
      "execution_count": 35,
      "outputs": []
    },
    {
      "cell_type": "code",
      "source": [
        "%%time\n",
        "\n",
        "idxs = set(np.random.randint(0, len(index_map), len(shop_data)))\n",
        "negative_texts = [\" \".join(preprocess_txt(index_map[i])) for i in idxs]\n",
        "positive_texts = [\" \".join(val) for val in shop_data['text'].values]"
      ],
      "metadata": {
        "id": "wBoxcCgu0ycF",
        "colab": {
          "base_uri": "https://localhost:8080/"
        },
        "outputId": "76f61035-c577-41b9-b538-64f3ee7755e0"
      },
      "execution_count": 36,
      "outputs": [
        {
          "output_type": "stream",
          "name": "stdout",
          "text": [
            "CPU times: user 9min 6s, sys: 1.49 s, total: 9min 8s\n",
            "Wall time: 9min 17s\n"
          ]
        }
      ]
    },
    {
      "cell_type": "code",
      "source": [
        "dataset = negative_texts + positive_texts\n",
        "labels = np.zeros(len(dataset))\n",
        "labels[len(negative_texts):] = np.ones(len(positive_texts))"
      ],
      "metadata": {
        "id": "vJ6XpWIF0z8F"
      },
      "execution_count": 37,
      "outputs": []
    },
    {
      "cell_type": "code",
      "source": [
        "from sklearn.model_selection import train_test_split\n",
        "\n",
        "X_train, X_test, y_train, y_test = train_test_split(dataset, labels, test_size=0.2, stratify=labels,\n",
        "                                                    random_state=13)"
      ],
      "metadata": {
        "id": "4zWKOEbB01xn"
      },
      "execution_count": 38,
      "outputs": []
    },
    {
      "cell_type": "markdown",
      "source": [
        "Модуль CountVectorizer в sklearn позволяет сконвертировать набор текстов в матрицу токенов, находящихся в тексте."
      ],
      "metadata": {
        "id": "cc5P2pI-04vI"
      }
    },
    {
      "cell_type": "code",
      "source": [
        "%%time\n",
        "\n",
        "x_train_vec = vectorizer.fit_transform(X_train)\n",
        "x_test_vec = vectorizer.transform(X_test)\n",
        "\n",
        "lr = LogisticRegression().fit(x_train_vec, y_train)"
      ],
      "metadata": {
        "id": "2F5H90Y006n3",
        "colab": {
          "base_uri": "https://localhost:8080/"
        },
        "outputId": "175d4b3a-00ca-4ddf-dbd9-ac72e0297d1d"
      },
      "execution_count": 39,
      "outputs": [
        {
          "output_type": "stream",
          "name": "stdout",
          "text": [
            "CPU times: user 50.1 s, sys: 20.2 s, total: 1min 10s\n",
            "Wall time: 52.4 s\n"
          ]
        }
      ]
    },
    {
      "cell_type": "code",
      "source": [
        "with open(f'vectorizer.pkl', 'wb') as f:\n",
        "    pickle.dump(vectorizer, f)"
      ],
      "metadata": {
        "id": "8LMzOh8m08l9"
      },
      "execution_count": 40,
      "outputs": []
    },
    {
      "cell_type": "code",
      "source": [
        "vectorizer = CountVectorizer(ngram_range=(1, 2))\n",
        "with open(f'vectorizer.pkl', 'rb') as f:\n",
        "    vectorizer = pickle.load(f)"
      ],
      "metadata": {
        "id": "VbU1U9zv0-MN"
      },
      "execution_count": 41,
      "outputs": []
    },
    {
      "cell_type": "code",
      "source": [
        "with open(f'lr.pkl', 'wb') as f:\n",
        "    pickle.dump(lr, f)"
      ],
      "metadata": {
        "id": "CRxQLbCG0_0P"
      },
      "execution_count": 42,
      "outputs": []
    },
    {
      "cell_type": "code",
      "source": [
        "lr = LogisticRegression()\n",
        "with open(f'lr.pkl', 'rb') as f:\n",
        "    lr = pickle.load(f)"
      ],
      "metadata": {
        "id": "1lRcEKLu1CAT"
      },
      "execution_count": 43,
      "outputs": []
    },
    {
      "cell_type": "code",
      "source": [
        "from sklearn.metrics import accuracy_score\n",
        "\n",
        "accuracy_score(y_true=y_test, y_pred=lr.predict(x_test_vec))"
      ],
      "metadata": {
        "id": "Ogcd9u7L1Dhq",
        "colab": {
          "base_uri": "https://localhost:8080/"
        },
        "outputId": "6247f3a9-4d15-4e3c-8c5f-8181d2365f28"
      },
      "execution_count": 44,
      "outputs": [
        {
          "output_type": "execute_result",
          "data": {
            "text/plain": [
              "0.9805185604987249"
            ]
          },
          "metadata": {},
          "execution_count": 44
        }
      ]
    },
    {
      "cell_type": "code",
      "source": [
        "from sklearn.feature_extraction.text import TfidfVectorizer\n",
        "\n",
        "tfidf_vect = TfidfVectorizer().fit(X_train)"
      ],
      "metadata": {
        "id": "yuOrWZmU1E86"
      },
      "execution_count": 45,
      "outputs": []
    },
    {
      "cell_type": "markdown",
      "source": [
        "##Обучение модели TF-IDF"
      ],
      "metadata": {
        "id": "JLY_4Ujf1GsG"
      }
    },
    {
      "cell_type": "code",
      "source": [
        "%%time\n",
        "tfidf_vect_prod = TfidfVectorizer(lowercase=False, min_df=2)\n",
        "tfidf_vect_prod.fit(X_train)\n",
        "\n",
        "idfs_prod = {v[0]: v[1] for v in zip(tfidf_vect_prod.vocabulary_, tfidf_vect_prod.idf_)}\n",
        "midf_prod = np.mean(tfidf_vect_prod.idf_)\n",
        "\n",
        "with open(f'idfs_prod.pkl', 'wb') as f:\n",
        "    pickle.dump(idfs_prod, f)\n",
        "with open(f'midf_prod.pkl', 'wb') as f:\n",
        "    pickle.dump(midf_prod, f)"
      ],
      "metadata": {
        "id": "MfdnyvHU1JGv",
        "colab": {
          "base_uri": "https://localhost:8080/"
        },
        "outputId": "14da16c7-98a0-4e29-d5d0-acd09b1149ea"
      },
      "execution_count": 46,
      "outputs": [
        {
          "output_type": "stream",
          "name": "stdout",
          "text": [
            "CPU times: user 2.42 s, sys: 19 ms, total: 2.43 s\n",
            "Wall time: 2.46 s\n"
          ]
        }
      ]
    },
    {
      "cell_type": "code",
      "source": [
        "with open(f'idfs_prod.pkl', 'rb') as f:\n",
        "    idfs_prod = pickle.load(f)"
      ],
      "metadata": {
        "id": "mLHRpH-i1K1t"
      },
      "execution_count": 47,
      "outputs": []
    },
    {
      "cell_type": "code",
      "source": [
        "with open(f'midf_prod.pkl', 'rb') as f:\n",
        "    midf_prod = pickle.load(f)"
      ],
      "metadata": {
        "id": "Wybg49pm1MXZ"
      },
      "execution_count": 48,
      "outputs": []
    },
    {
      "cell_type": "markdown",
      "source": [
        "##Annoy. Алгоритм приблизительного поиска"
      ],
      "metadata": {
        "id": "qjRMrY1_1OCU"
      }
    },
    {
      "cell_type": "code",
      "source": [
        "%%time\n",
        "ft_index_shop = annoy.AnnoyIndex(SIZE_EMB ,'angular')\n",
        "index_map_shop = {}\n",
        "counter = 0\n",
        "\n",
        "for i in tqdm_notebook(range(len(shop_data))):\n",
        "    n_ft = 0\n",
        "    index_map_shop[counter] = (shop_data.loc[i, \"title\"], shop_data.loc[i, \"image_links\"])\n",
        "    vector_ft = np.zeros(SIZE_EMB)\n",
        "    for word in shop_data.loc[i, \"text\"]:\n",
        "        if word in modelFT.wv:\n",
        "            vector_ft += modelFT.wv[word] * idfs.get(word, midf_prod)\n",
        "            n_ft += idfs.get(word, midf_prod)\n",
        "    if n_ft > 0:\n",
        "        vector_ft = vector_ft / n_ft\n",
        "    ft_index_shop.add_item(counter, vector_ft)\n",
        "    counter += 1\n",
        "    if counter > 1000000:\n",
        "            break\n",
        "ft_index_shop.build(50)\n",
        "# ft_index_shop.save('shop.ann')\n",
        "ft_index_shop.save(f'ft_index_shop')\n",
        "\n",
        "with open(f'index_map_shop.pkl', 'wb') as f:\n",
        "    pickle.dump(index_map_shop, f)  # записывает сериализованный объект в файл."
      ],
      "metadata": {
        "id": "ZqI5K-NTXtuF",
        "colab": {
          "base_uri": "https://localhost:8080/",
          "height": 118,
          "referenced_widgets": [
            "c6bfdace22544279af6a0d2ee57fd716",
            "68ebf90371544b9098f80f34d6ea35ae",
            "531488827c2542f3b87cb133545f89a6",
            "b8d192dd385b403fa54b8ea50f56cbd6",
            "281fc2d01a84408a9fa0b6216e1600fe",
            "78ae2ce87d104184a719450bdea62c81",
            "c9f8369d702d441fbc2ff997fe23ba03",
            "5cdfbc95bc4b4377a29d1588d94f4a9f",
            "c8a8f2b5ec9f48af9c5f997505532899",
            "76cd807275d543cb80fb9f5c971c80e9",
            "fd7f99c83110428d8b887b1db15bc2c8"
          ]
        },
        "outputId": "09de1c03-2790-4f78-b4f3-270217f0bd26"
      },
      "execution_count": 50,
      "outputs": [
        {
          "output_type": "stream",
          "name": "stderr",
          "text": [
            "<timed exec>:5: TqdmDeprecationWarning: This function will be removed in tqdm==5.0.0\n",
            "Please use `tqdm.notebook.tqdm` instead of `tqdm.tqdm_notebook`\n"
          ]
        },
        {
          "output_type": "display_data",
          "data": {
            "text/plain": [
              "  0%|          | 0/35548 [00:00<?, ?it/s]"
            ],
            "application/vnd.jupyter.widget-view+json": {
              "version_major": 2,
              "version_minor": 0,
              "model_id": "c6bfdace22544279af6a0d2ee57fd716"
            }
          },
          "metadata": {}
        },
        {
          "output_type": "stream",
          "name": "stdout",
          "text": [
            "CPU times: user 16 s, sys: 470 ms, total: 16.5 s\n",
            "Wall time: 16.6 s\n"
          ]
        }
      ]
    },
    {
      "cell_type": "code",
      "source": [
        "with open(f'index_map_shop.pkl', 'wb') as f:\n",
        "    pickle.dump(index_map_shop, f)  # записывает сериализованный объект в файл."
      ],
      "metadata": {
        "id": "8qPBN88thdyQ"
      },
      "execution_count": 51,
      "outputs": []
    },
    {
      "cell_type": "code",
      "source": [
        "ft_index_shop = annoy.AnnoyIndex(SIZE_EMB, 'angular')\n",
        "ft_index_shop.load(f'ft_index_shop')"
      ],
      "metadata": {
        "id": "B6cH7jg31TN-",
        "colab": {
          "base_uri": "https://localhost:8080/"
        },
        "outputId": "7b60358f-2497-4925-8bf1-46fc8521e53f"
      },
      "execution_count": 52,
      "outputs": [
        {
          "output_type": "execute_result",
          "data": {
            "text/plain": [
              "True"
            ]
          },
          "metadata": {},
          "execution_count": 52
        }
      ]
    },
    {
      "cell_type": "code",
      "source": [
        "with open(f'index_map_shop.pkl', 'rb') as f:\n",
        "    index_map_shop = pickle.load(f)"
      ],
      "metadata": {
        "id": "L0OvECos1Uqa"
      },
      "execution_count": 53,
      "outputs": []
    },
    {
      "cell_type": "markdown",
      "source": [
        "#БОТ"
      ],
      "metadata": {
        "id": "mlDAFX9Y1WKs"
      }
    },
    {
      "cell_type": "code",
      "source": [
        "from transformers import AutoTokenizer, AutoModelForSeq2SeqLM\n",
        "from transformers import MBartTokenizer, MBartForConditionalGeneration"
      ],
      "metadata": {
        "id": "d0TDXWAt1Yoy"
      },
      "execution_count": 54,
      "outputs": []
    },
    {
      "cell_type": "code",
      "source": [
        "model_name = \"csebuetnlp/mT5_multilingual_XLSum\"\n",
        "tokenizer = AutoTokenizer.from_pretrained(model_name)\n",
        "model_mT5_multilingual_XLSum = AutoModelForSeq2SeqLM.from_pretrained(model_name)"
      ],
      "metadata": {
        "id": "9fzhm-hc1aim",
        "colab": {
          "base_uri": "https://localhost:8080/"
        },
        "outputId": "985f6ab8-39ef-4f96-d01e-a145bea3c2a1"
      },
      "execution_count": 55,
      "outputs": [
        {
          "output_type": "stream",
          "name": "stderr",
          "text": [
            "You are using the default legacy behaviour of the <class 'transformers.models.t5.tokenization_t5.T5Tokenizer'>. If you see this, DO NOT PANIC! This is expected, and simply means that the `legacy` (previous) behavior will be used so nothing changes for you. If you want to use the new behaviour, set `legacy=True`. This should only be set if you understand what it means, and thouroughly read the reason why this was added as explained in https://github.com/huggingface/transformers/pull/24565\n",
            "/usr/local/lib/python3.10/dist-packages/transformers/convert_slow_tokenizer.py:470: UserWarning: The sentencepiece tokenizer that you are converting to a fast tokenizer uses the byte fallback option which is not implemented in the fast tokenizers. In practice this means that the fast version of the tokenizer can produce unknown tokens whereas the sentencepiece version would have converted these unknown tokens into a sequence of byte tokens matching the original piece of text.\n",
            "  warnings.warn(\n"
          ]
        }
      ]
    },
    {
      "cell_type": "code",
      "source": [
        "import os\n",
        "from telegram.ext import Updater, CommandHandler, MessageHandler, filters, CallbackContext\n",
        "import string\n",
        "from pymorphy2 import MorphAnalyzer\n",
        "from stop_words import get_stop_words\n",
        "import annoy\n",
        "from gensim.models import Word2Vec, FastText\n",
        "import pickle\n",
        "import numpy as np\n",
        "from tqdm import tqdm_notebook\n",
        "import pandas as pd\n",
        "import re\n",
        "\n",
        "from telegram import Update\n",
        "from sklearn.feature_extraction.text import CountVectorizer, TfidfVectorizer\n",
        "from sklearn.linear_model import LogisticRegression\n",
        "\n",
        "SIZE_EMB = 100  # Размер эмбеддинга"
      ],
      "metadata": {
        "id": "x4uzICf01cmj"
      },
      "execution_count": 56,
      "outputs": []
    },
    {
      "cell_type": "code",
      "source": [
        "morpher = MorphAnalyzer()\n",
        "sw = set(get_stop_words(\"ru\"))\n",
        "exclude = set(string.punctuation)"
      ],
      "metadata": {
        "id": "5NPsLveZ1d7D"
      },
      "execution_count": 57,
      "outputs": []
    },
    {
      "cell_type": "markdown",
      "source": [
        "#Загрузка моделей"
      ],
      "metadata": {
        "id": "m4YTVxAm1f4F"
      }
    },
    {
      "cell_type": "code",
      "source": [
        "with open(f'idfs.pkl', 'rb') as f:\n",
        "    idfs = pickle.load(f)\n",
        "\n",
        "with open(f'midf.pkl', 'rb') as f:\n",
        "    midf = pickle.load(f)\n",
        "\n",
        "with open(f'idfs_prod.pkl', 'rb') as f:\n",
        "    idfs_prod = pickle.load(f)  # загружает объект из файла\n",
        "\n",
        "with open(f'midf_prod.pkl', 'rb') as f:\n",
        "    midf_prod = pickle.load(f)  # загружает объект из файла\n",
        "\n",
        "# Подгружаем предварительно обученную модель вопросов из болталки\n",
        "modelFT = FastText.load(f'ft_model')\n",
        "\n",
        "# Подгружаем предварительно подготовленный и сохранненый индекс ответов из болталки\n",
        "ft_index = annoy.AnnoyIndex(SIZE_EMB, 'angular')\n",
        "ft_index.load(f'/content/ft_index.ann')\n",
        "with open(f'/content/index_map.pkl', 'rb') as f:\n",
        "    index_map = pickle.load(f)  # загружает объект из файла\n",
        "\n",
        "vectorizer = CountVectorizer(ngram_range=(1, 2))\n",
        "with open(f'vectorizer.pkl', 'rb') as f:\n",
        "    vectorizer = pickle.load(f)\n",
        "\n",
        "lr = LogisticRegression()\n",
        "with open(f'lr.pkl', 'rb') as f:\n",
        "    lr = pickle.load(f)\n",
        "\n",
        "with open(f'midf_prod.pkl', 'rb') as f:\n",
        "    midf_p = pickle.load(f)\n",
        "\n",
        "ft_index_shop = annoy.AnnoyIndex(SIZE_EMB, 'angular')\n",
        "ft_index_shop.load(f'ft_index_shop')\n",
        "\n",
        "# Подгружаем предварительно обученную модель продуктовых названий\n",
        "with open(f'index_map_shop.pkl', 'rb') as f:\n",
        "    index_map_shop = pickle.load(f)"
      ],
      "metadata": {
        "id": "9zN3pG7f1iuy"
      },
      "execution_count": 58,
      "outputs": []
    },
    {
      "cell_type": "code",
      "source": [
        "updater = Updater(\"6408751190:AAFLISYMU6MePdplMfakYAdpW2M3Q7zZoMo\", use_context=True)  # Токен API к Telegram\n",
        "\n",
        "def echo(update: Update, context: CallbackContext):\n",
        "    txt = update.message.text\n",
        "    update.message.reply_text('Ваше сообщение! ' + update.message.text)\n",
        "\n",
        "\n",
        "def startCommand(update: Update, context: CallbackContext) -> None:\n",
        "    update.message.reply_text('Добрый день!')\n",
        "\n",
        "\n",
        "def model_mT5_multilingual_XLSum_summary(input_text, model, tokenizer):\n",
        "    \"\"\"\n",
        "        Суммаризация. Предобученную модель: csebuetnlp/mT5_multilingual_XLSum\n",
        "    \"\"\"\n",
        "    WHITESPACE_HANDLER = lambda k: re.sub('\\s+', ' ', re.sub('\\n+', ' ', k.strip()))\n",
        "\n",
        "    input_ids = tokenizer(\n",
        "        [WHITESPACE_HANDLER(input_text)],\n",
        "        return_tensors=\"pt\",\n",
        "        padding=\"max_length\",\n",
        "        truncation=True,\n",
        "        max_length=512\n",
        "    )[\"input_ids\"]\n",
        "\n",
        "    output_ids = model.generate(\n",
        "        input_ids=input_ids,\n",
        "        max_length=84,\n",
        "        no_repeat_ngram_size=2,\n",
        "        num_beams=4\n",
        "    )[0]\n",
        "\n",
        "    summary = tokenizer.decode(\n",
        "        output_ids,\n",
        "        skip_special_tokens=True,\n",
        "        clean_up_tokenization_spaces=False\n",
        "    )\n",
        "\n",
        "    return summary\n",
        "\n",
        "\n",
        "def textMessage(update: Update, context: CallbackContext) -> None:\n",
        "\n",
        "    # 1. Суммаризация. Начало фразы с ключевого слова \"Summarization:\"\n",
        "    input_text = update.message.text\n",
        "    if input_text.split(' ', 1)[0] == 'Summarisation:':\n",
        "      update.message.reply_text('Подождите, идет суммаризация текста ...')\n",
        "\n",
        "      input_text = input_text.replace('Summarisation:', '')\n",
        "      summary = model_mT5_multilingual_XLSum_summary(input_text, model_mT5_multilingual_XLSum, tokenizer)\n",
        "      update.message.reply_text('Суммаризация: ' + summary)\n",
        "\n",
        "    else:\n",
        "      res_text = 'Не понимаю запрос. Сформулируйте запрос более корректно.'\n",
        "      input_txt = preprocess_txt(update.message.text)\n",
        "      vect = vectorizer.transform([\" \".join(input_txt)])\n",
        "      prediction = lr.predict(vect)\n",
        "\n",
        "      # 2. Определим является ли запрос продуктовым.\n",
        "      if prediction[0] == 1:\n",
        "          # Если запрос продуктовый, то найдём 3 самых подходящих товара.\n",
        "          update.message.reply_text('Продуктовый ...')\n",
        "          find = False\n",
        "          vect_ft = embed_txt(input_txt, idfs_prod, modelFT, midf_prod)\n",
        "          ft_index_shop_val, distances_shop = ft_index_shop.get_nns_by_vector(vect_ft, 3, include_distances=True)\n",
        "\n",
        "          for i, item in enumerate(ft_index_shop_val):\n",
        "              if distances_shop[i] <= 0.5:\n",
        "                title, image = index_map_shop[item]\n",
        "                print(title, image)\n",
        "                update.message.reply_text(\"title: {} image: {}\".format(title, image))\n",
        "                find = True\n",
        "          if find == False:\n",
        "            update.message.reply_text(res_text)\n",
        "\n",
        "      else:\n",
        "          # 3. Если запрос разговорный, то найдём ответ.\n",
        "          update.message.reply_text('Разговорный ...')\n",
        "          vect_ft = embed_txt(input_txt, idfs, modelFT, midf)\n",
        "          ft_index_val, distances = ft_index.get_nns_by_vector(vect_ft, 1, include_distances=True)\n",
        "          if distances[0] <= 0.9:\n",
        "              update.message.reply_text(index_map[ft_index_val[0]])\n",
        "          else:\n",
        "              update.message.reply_text(res_text)"
      ],
      "metadata": {
        "id": "PPHbcaK71n3I"
      },
      "execution_count": 59,
      "outputs": []
    },
    {
      "cell_type": "code",
      "source": [
        "dispatcher = updater.dispatcher  # Диспетчер\n",
        "\n",
        "# on different commands - answer in Telegram\n",
        "dispatcher.add_handler(CommandHandler('start', startCommand))\n",
        "dispatcher.add_handler(MessageHandler(filters.text & ~filters.command, textMessage))\n",
        "\n",
        "# Start Bot\n",
        "updater.start_polling()\n",
        "updater.idle()"
      ],
      "metadata": {
        "id": "LGXcrEtq1rAT"
      },
      "execution_count": null,
      "outputs": []
    }
  ]
}