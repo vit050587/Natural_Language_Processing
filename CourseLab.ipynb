{
  "nbformat": 4,
  "nbformat_minor": 0,
  "metadata": {
    "colab": {
      "provenance": [],
      "mount_file_id": "1TvQMLNQBirTNall3cJ_SxXK_yWUJsbFI",
      "authorship_tag": "ABX9TyMDjLH3x0FQ9xjIHS3lrkko",
      "include_colab_link": true
    },
    "kernelspec": {
      "name": "python3",
      "display_name": "Python 3"
    },
    "language_info": {
      "name": "python"
    },
    "widgets": {
      "application/vnd.jupyter.widget-state+json": {
        "0ba53b8f797f4331a43a00076297aeef": {
          "model_module": "@jupyter-widgets/controls",
          "model_name": "HBoxModel",
          "model_module_version": "1.5.0",
          "state": {
            "_dom_classes": [],
            "_model_module": "@jupyter-widgets/controls",
            "_model_module_version": "1.5.0",
            "_model_name": "HBoxModel",
            "_view_count": null,
            "_view_module": "@jupyter-widgets/controls",
            "_view_module_version": "1.5.0",
            "_view_name": "HBoxView",
            "box_style": "",
            "children": [
              "IPY_MODEL_fe1a0b18efe4498da75533f5fe22093f",
              "IPY_MODEL_e90dfa3a982a4e829d4e449d85405dff",
              "IPY_MODEL_cd3ac0f3e6944eb481a98b70e5019934"
            ],
            "layout": "IPY_MODEL_a28b5bff4b3a46918636217ca2f110e1"
          }
        },
        "fe1a0b18efe4498da75533f5fe22093f": {
          "model_module": "@jupyter-widgets/controls",
          "model_name": "HTMLModel",
          "model_module_version": "1.5.0",
          "state": {
            "_dom_classes": [],
            "_model_module": "@jupyter-widgets/controls",
            "_model_module_version": "1.5.0",
            "_model_name": "HTMLModel",
            "_view_count": null,
            "_view_module": "@jupyter-widgets/controls",
            "_view_module_version": "1.5.0",
            "_view_name": "HTMLView",
            "description": "",
            "description_tooltip": null,
            "layout": "IPY_MODEL_337128c0cb4b41ed9a0c0248fffae680",
            "placeholder": "​",
            "style": "IPY_MODEL_ae829247f9e948a8aea6152aecb2bfa6",
            "value": ""
          }
        },
        "e90dfa3a982a4e829d4e449d85405dff": {
          "model_module": "@jupyter-widgets/controls",
          "model_name": "FloatProgressModel",
          "model_module_version": "1.5.0",
          "state": {
            "_dom_classes": [],
            "_model_module": "@jupyter-widgets/controls",
            "_model_module_version": "1.5.0",
            "_model_name": "FloatProgressModel",
            "_view_count": null,
            "_view_module": "@jupyter-widgets/controls",
            "_view_module_version": "1.5.0",
            "_view_name": "ProgressView",
            "bar_style": "success",
            "description": "",
            "description_tooltip": null,
            "layout": "IPY_MODEL_660726b968894ec6b04c0cb4846682ec",
            "max": 1,
            "min": 0,
            "orientation": "horizontal",
            "style": "IPY_MODEL_f13dc3fb0bc246a9a484ff39d2e97968",
            "value": 1
          }
        },
        "cd3ac0f3e6944eb481a98b70e5019934": {
          "model_module": "@jupyter-widgets/controls",
          "model_name": "HTMLModel",
          "model_module_version": "1.5.0",
          "state": {
            "_dom_classes": [],
            "_model_module": "@jupyter-widgets/controls",
            "_model_module_version": "1.5.0",
            "_model_name": "HTMLModel",
            "_view_count": null,
            "_view_module": "@jupyter-widgets/controls",
            "_view_module_version": "1.5.0",
            "_view_name": "HTMLView",
            "description": "",
            "description_tooltip": null,
            "layout": "IPY_MODEL_9b74ec0b5dc7414e874f78fba069b932",
            "placeholder": "​",
            "style": "IPY_MODEL_d46ff66ffff143e48b635543c79c9dd0",
            "value": " 7550926/? [01:15&lt;00:00, 219375.76it/s]"
          }
        },
        "a28b5bff4b3a46918636217ca2f110e1": {
          "model_module": "@jupyter-widgets/base",
          "model_name": "LayoutModel",
          "model_module_version": "1.2.0",
          "state": {
            "_model_module": "@jupyter-widgets/base",
            "_model_module_version": "1.2.0",
            "_model_name": "LayoutModel",
            "_view_count": null,
            "_view_module": "@jupyter-widgets/base",
            "_view_module_version": "1.2.0",
            "_view_name": "LayoutView",
            "align_content": null,
            "align_items": null,
            "align_self": null,
            "border": null,
            "bottom": null,
            "display": null,
            "flex": null,
            "flex_flow": null,
            "grid_area": null,
            "grid_auto_columns": null,
            "grid_auto_flow": null,
            "grid_auto_rows": null,
            "grid_column": null,
            "grid_gap": null,
            "grid_row": null,
            "grid_template_areas": null,
            "grid_template_columns": null,
            "grid_template_rows": null,
            "height": null,
            "justify_content": null,
            "justify_items": null,
            "left": null,
            "margin": null,
            "max_height": null,
            "max_width": null,
            "min_height": null,
            "min_width": null,
            "object_fit": null,
            "object_position": null,
            "order": null,
            "overflow": null,
            "overflow_x": null,
            "overflow_y": null,
            "padding": null,
            "right": null,
            "top": null,
            "visibility": null,
            "width": null
          }
        },
        "337128c0cb4b41ed9a0c0248fffae680": {
          "model_module": "@jupyter-widgets/base",
          "model_name": "LayoutModel",
          "model_module_version": "1.2.0",
          "state": {
            "_model_module": "@jupyter-widgets/base",
            "_model_module_version": "1.2.0",
            "_model_name": "LayoutModel",
            "_view_count": null,
            "_view_module": "@jupyter-widgets/base",
            "_view_module_version": "1.2.0",
            "_view_name": "LayoutView",
            "align_content": null,
            "align_items": null,
            "align_self": null,
            "border": null,
            "bottom": null,
            "display": null,
            "flex": null,
            "flex_flow": null,
            "grid_area": null,
            "grid_auto_columns": null,
            "grid_auto_flow": null,
            "grid_auto_rows": null,
            "grid_column": null,
            "grid_gap": null,
            "grid_row": null,
            "grid_template_areas": null,
            "grid_template_columns": null,
            "grid_template_rows": null,
            "height": null,
            "justify_content": null,
            "justify_items": null,
            "left": null,
            "margin": null,
            "max_height": null,
            "max_width": null,
            "min_height": null,
            "min_width": null,
            "object_fit": null,
            "object_position": null,
            "order": null,
            "overflow": null,
            "overflow_x": null,
            "overflow_y": null,
            "padding": null,
            "right": null,
            "top": null,
            "visibility": null,
            "width": null
          }
        },
        "ae829247f9e948a8aea6152aecb2bfa6": {
          "model_module": "@jupyter-widgets/controls",
          "model_name": "DescriptionStyleModel",
          "model_module_version": "1.5.0",
          "state": {
            "_model_module": "@jupyter-widgets/controls",
            "_model_module_version": "1.5.0",
            "_model_name": "DescriptionStyleModel",
            "_view_count": null,
            "_view_module": "@jupyter-widgets/base",
            "_view_module_version": "1.2.0",
            "_view_name": "StyleView",
            "description_width": ""
          }
        },
        "660726b968894ec6b04c0cb4846682ec": {
          "model_module": "@jupyter-widgets/base",
          "model_name": "LayoutModel",
          "model_module_version": "1.2.0",
          "state": {
            "_model_module": "@jupyter-widgets/base",
            "_model_module_version": "1.2.0",
            "_model_name": "LayoutModel",
            "_view_count": null,
            "_view_module": "@jupyter-widgets/base",
            "_view_module_version": "1.2.0",
            "_view_name": "LayoutView",
            "align_content": null,
            "align_items": null,
            "align_self": null,
            "border": null,
            "bottom": null,
            "display": null,
            "flex": null,
            "flex_flow": null,
            "grid_area": null,
            "grid_auto_columns": null,
            "grid_auto_flow": null,
            "grid_auto_rows": null,
            "grid_column": null,
            "grid_gap": null,
            "grid_row": null,
            "grid_template_areas": null,
            "grid_template_columns": null,
            "grid_template_rows": null,
            "height": null,
            "justify_content": null,
            "justify_items": null,
            "left": null,
            "margin": null,
            "max_height": null,
            "max_width": null,
            "min_height": null,
            "min_width": null,
            "object_fit": null,
            "object_position": null,
            "order": null,
            "overflow": null,
            "overflow_x": null,
            "overflow_y": null,
            "padding": null,
            "right": null,
            "top": null,
            "visibility": null,
            "width": "20px"
          }
        },
        "f13dc3fb0bc246a9a484ff39d2e97968": {
          "model_module": "@jupyter-widgets/controls",
          "model_name": "ProgressStyleModel",
          "model_module_version": "1.5.0",
          "state": {
            "_model_module": "@jupyter-widgets/controls",
            "_model_module_version": "1.5.0",
            "_model_name": "ProgressStyleModel",
            "_view_count": null,
            "_view_module": "@jupyter-widgets/base",
            "_view_module_version": "1.2.0",
            "_view_name": "StyleView",
            "bar_color": null,
            "description_width": ""
          }
        },
        "9b74ec0b5dc7414e874f78fba069b932": {
          "model_module": "@jupyter-widgets/base",
          "model_name": "LayoutModel",
          "model_module_version": "1.2.0",
          "state": {
            "_model_module": "@jupyter-widgets/base",
            "_model_module_version": "1.2.0",
            "_model_name": "LayoutModel",
            "_view_count": null,
            "_view_module": "@jupyter-widgets/base",
            "_view_module_version": "1.2.0",
            "_view_name": "LayoutView",
            "align_content": null,
            "align_items": null,
            "align_self": null,
            "border": null,
            "bottom": null,
            "display": null,
            "flex": null,
            "flex_flow": null,
            "grid_area": null,
            "grid_auto_columns": null,
            "grid_auto_flow": null,
            "grid_auto_rows": null,
            "grid_column": null,
            "grid_gap": null,
            "grid_row": null,
            "grid_template_areas": null,
            "grid_template_columns": null,
            "grid_template_rows": null,
            "height": null,
            "justify_content": null,
            "justify_items": null,
            "left": null,
            "margin": null,
            "max_height": null,
            "max_width": null,
            "min_height": null,
            "min_width": null,
            "object_fit": null,
            "object_position": null,
            "order": null,
            "overflow": null,
            "overflow_x": null,
            "overflow_y": null,
            "padding": null,
            "right": null,
            "top": null,
            "visibility": null,
            "width": null
          }
        },
        "d46ff66ffff143e48b635543c79c9dd0": {
          "model_module": "@jupyter-widgets/controls",
          "model_name": "DescriptionStyleModel",
          "model_module_version": "1.5.0",
          "state": {
            "_model_module": "@jupyter-widgets/controls",
            "_model_module_version": "1.5.0",
            "_model_name": "DescriptionStyleModel",
            "_view_count": null,
            "_view_module": "@jupyter-widgets/base",
            "_view_module_version": "1.2.0",
            "_view_name": "StyleView",
            "description_width": ""
          }
        },
        "79469a1162bf40769d0e77dd69e1bc6a": {
          "model_module": "@jupyter-widgets/controls",
          "model_name": "HBoxModel",
          "model_module_version": "1.5.0",
          "state": {
            "_dom_classes": [],
            "_model_module": "@jupyter-widgets/controls",
            "_model_module_version": "1.5.0",
            "_model_name": "HBoxModel",
            "_view_count": null,
            "_view_module": "@jupyter-widgets/controls",
            "_view_module_version": "1.5.0",
            "_view_name": "HBoxView",
            "box_style": "",
            "children": [
              "IPY_MODEL_5fda1a18dbd84f1bb4acb1f59261621d",
              "IPY_MODEL_8dc54fe68de34280801015641d6afc55",
              "IPY_MODEL_f572077e55a74252ad5be860aeef18c1"
            ],
            "layout": "IPY_MODEL_b5bad4129e584cb884fed19b91154032"
          }
        },
        "5fda1a18dbd84f1bb4acb1f59261621d": {
          "model_module": "@jupyter-widgets/controls",
          "model_name": "HTMLModel",
          "model_module_version": "1.5.0",
          "state": {
            "_dom_classes": [],
            "_model_module": "@jupyter-widgets/controls",
            "_model_module_version": "1.5.0",
            "_model_name": "HTMLModel",
            "_view_count": null,
            "_view_module": "@jupyter-widgets/controls",
            "_view_module_version": "1.5.0",
            "_view_name": "HTMLView",
            "description": "",
            "description_tooltip": null,
            "layout": "IPY_MODEL_b04f962e02b34f79a3f1fda6dee7b891",
            "placeholder": "​",
            "style": "IPY_MODEL_47b5c349550045d795c162b3a89f13c1",
            "value": ""
          }
        },
        "8dc54fe68de34280801015641d6afc55": {
          "model_module": "@jupyter-widgets/controls",
          "model_name": "FloatProgressModel",
          "model_module_version": "1.5.0",
          "state": {
            "_dom_classes": [],
            "_model_module": "@jupyter-widgets/controls",
            "_model_module_version": "1.5.0",
            "_model_name": "FloatProgressModel",
            "_view_count": null,
            "_view_module": "@jupyter-widgets/controls",
            "_view_module_version": "1.5.0",
            "_view_name": "ProgressView",
            "bar_style": "danger",
            "description": "",
            "description_tooltip": null,
            "layout": "IPY_MODEL_081402b17c3f4fa6959ca70efaa62e66",
            "max": 1,
            "min": 0,
            "orientation": "horizontal",
            "style": "IPY_MODEL_c8de11e4454949f2bf16fbd684ba690f",
            "value": 1
          }
        },
        "f572077e55a74252ad5be860aeef18c1": {
          "model_module": "@jupyter-widgets/controls",
          "model_name": "HTMLModel",
          "model_module_version": "1.5.0",
          "state": {
            "_dom_classes": [],
            "_model_module": "@jupyter-widgets/controls",
            "_model_module_version": "1.5.0",
            "_model_name": "HTMLModel",
            "_view_count": null,
            "_view_module": "@jupyter-widgets/controls",
            "_view_module_version": "1.5.0",
            "_view_name": "HTMLView",
            "description": "",
            "description_tooltip": null,
            "layout": "IPY_MODEL_c2ddc75e1f9c45bfae66b85084eaf2d8",
            "placeholder": "​",
            "style": "IPY_MODEL_cd7f5e303911423d95c327782834a9cb",
            "value": " 500000/? [51:00&lt;00:00, 227.59it/s]"
          }
        },
        "b5bad4129e584cb884fed19b91154032": {
          "model_module": "@jupyter-widgets/base",
          "model_name": "LayoutModel",
          "model_module_version": "1.2.0",
          "state": {
            "_model_module": "@jupyter-widgets/base",
            "_model_module_version": "1.2.0",
            "_model_name": "LayoutModel",
            "_view_count": null,
            "_view_module": "@jupyter-widgets/base",
            "_view_module_version": "1.2.0",
            "_view_name": "LayoutView",
            "align_content": null,
            "align_items": null,
            "align_self": null,
            "border": null,
            "bottom": null,
            "display": null,
            "flex": null,
            "flex_flow": null,
            "grid_area": null,
            "grid_auto_columns": null,
            "grid_auto_flow": null,
            "grid_auto_rows": null,
            "grid_column": null,
            "grid_gap": null,
            "grid_row": null,
            "grid_template_areas": null,
            "grid_template_columns": null,
            "grid_template_rows": null,
            "height": null,
            "justify_content": null,
            "justify_items": null,
            "left": null,
            "margin": null,
            "max_height": null,
            "max_width": null,
            "min_height": null,
            "min_width": null,
            "object_fit": null,
            "object_position": null,
            "order": null,
            "overflow": null,
            "overflow_x": null,
            "overflow_y": null,
            "padding": null,
            "right": null,
            "top": null,
            "visibility": null,
            "width": null
          }
        },
        "b04f962e02b34f79a3f1fda6dee7b891": {
          "model_module": "@jupyter-widgets/base",
          "model_name": "LayoutModel",
          "model_module_version": "1.2.0",
          "state": {
            "_model_module": "@jupyter-widgets/base",
            "_model_module_version": "1.2.0",
            "_model_name": "LayoutModel",
            "_view_count": null,
            "_view_module": "@jupyter-widgets/base",
            "_view_module_version": "1.2.0",
            "_view_name": "LayoutView",
            "align_content": null,
            "align_items": null,
            "align_self": null,
            "border": null,
            "bottom": null,
            "display": null,
            "flex": null,
            "flex_flow": null,
            "grid_area": null,
            "grid_auto_columns": null,
            "grid_auto_flow": null,
            "grid_auto_rows": null,
            "grid_column": null,
            "grid_gap": null,
            "grid_row": null,
            "grid_template_areas": null,
            "grid_template_columns": null,
            "grid_template_rows": null,
            "height": null,
            "justify_content": null,
            "justify_items": null,
            "left": null,
            "margin": null,
            "max_height": null,
            "max_width": null,
            "min_height": null,
            "min_width": null,
            "object_fit": null,
            "object_position": null,
            "order": null,
            "overflow": null,
            "overflow_x": null,
            "overflow_y": null,
            "padding": null,
            "right": null,
            "top": null,
            "visibility": null,
            "width": null
          }
        },
        "47b5c349550045d795c162b3a89f13c1": {
          "model_module": "@jupyter-widgets/controls",
          "model_name": "DescriptionStyleModel",
          "model_module_version": "1.5.0",
          "state": {
            "_model_module": "@jupyter-widgets/controls",
            "_model_module_version": "1.5.0",
            "_model_name": "DescriptionStyleModel",
            "_view_count": null,
            "_view_module": "@jupyter-widgets/base",
            "_view_module_version": "1.2.0",
            "_view_name": "StyleView",
            "description_width": ""
          }
        },
        "081402b17c3f4fa6959ca70efaa62e66": {
          "model_module": "@jupyter-widgets/base",
          "model_name": "LayoutModel",
          "model_module_version": "1.2.0",
          "state": {
            "_model_module": "@jupyter-widgets/base",
            "_model_module_version": "1.2.0",
            "_model_name": "LayoutModel",
            "_view_count": null,
            "_view_module": "@jupyter-widgets/base",
            "_view_module_version": "1.2.0",
            "_view_name": "LayoutView",
            "align_content": null,
            "align_items": null,
            "align_self": null,
            "border": null,
            "bottom": null,
            "display": null,
            "flex": null,
            "flex_flow": null,
            "grid_area": null,
            "grid_auto_columns": null,
            "grid_auto_flow": null,
            "grid_auto_rows": null,
            "grid_column": null,
            "grid_gap": null,
            "grid_row": null,
            "grid_template_areas": null,
            "grid_template_columns": null,
            "grid_template_rows": null,
            "height": null,
            "justify_content": null,
            "justify_items": null,
            "left": null,
            "margin": null,
            "max_height": null,
            "max_width": null,
            "min_height": null,
            "min_width": null,
            "object_fit": null,
            "object_position": null,
            "order": null,
            "overflow": null,
            "overflow_x": null,
            "overflow_y": null,
            "padding": null,
            "right": null,
            "top": null,
            "visibility": null,
            "width": "20px"
          }
        },
        "c8de11e4454949f2bf16fbd684ba690f": {
          "model_module": "@jupyter-widgets/controls",
          "model_name": "ProgressStyleModel",
          "model_module_version": "1.5.0",
          "state": {
            "_model_module": "@jupyter-widgets/controls",
            "_model_module_version": "1.5.0",
            "_model_name": "ProgressStyleModel",
            "_view_count": null,
            "_view_module": "@jupyter-widgets/base",
            "_view_module_version": "1.2.0",
            "_view_name": "StyleView",
            "bar_color": null,
            "description_width": ""
          }
        },
        "c2ddc75e1f9c45bfae66b85084eaf2d8": {
          "model_module": "@jupyter-widgets/base",
          "model_name": "LayoutModel",
          "model_module_version": "1.2.0",
          "state": {
            "_model_module": "@jupyter-widgets/base",
            "_model_module_version": "1.2.0",
            "_model_name": "LayoutModel",
            "_view_count": null,
            "_view_module": "@jupyter-widgets/base",
            "_view_module_version": "1.2.0",
            "_view_name": "LayoutView",
            "align_content": null,
            "align_items": null,
            "align_self": null,
            "border": null,
            "bottom": null,
            "display": null,
            "flex": null,
            "flex_flow": null,
            "grid_area": null,
            "grid_auto_columns": null,
            "grid_auto_flow": null,
            "grid_auto_rows": null,
            "grid_column": null,
            "grid_gap": null,
            "grid_row": null,
            "grid_template_areas": null,
            "grid_template_columns": null,
            "grid_template_rows": null,
            "height": null,
            "justify_content": null,
            "justify_items": null,
            "left": null,
            "margin": null,
            "max_height": null,
            "max_width": null,
            "min_height": null,
            "min_width": null,
            "object_fit": null,
            "object_position": null,
            "order": null,
            "overflow": null,
            "overflow_x": null,
            "overflow_y": null,
            "padding": null,
            "right": null,
            "top": null,
            "visibility": null,
            "width": null
          }
        },
        "cd7f5e303911423d95c327782834a9cb": {
          "model_module": "@jupyter-widgets/controls",
          "model_name": "DescriptionStyleModel",
          "model_module_version": "1.5.0",
          "state": {
            "_model_module": "@jupyter-widgets/controls",
            "_model_module_version": "1.5.0",
            "_model_name": "DescriptionStyleModel",
            "_view_count": null,
            "_view_module": "@jupyter-widgets/base",
            "_view_module_version": "1.2.0",
            "_view_name": "StyleView",
            "description_width": ""
          }
        },
        "c81baab1e19945cea3e6d177d7279165": {
          "model_module": "@jupyter-widgets/controls",
          "model_name": "HBoxModel",
          "model_module_version": "1.5.0",
          "state": {
            "_dom_classes": [],
            "_model_module": "@jupyter-widgets/controls",
            "_model_module_version": "1.5.0",
            "_model_name": "HBoxModel",
            "_view_count": null,
            "_view_module": "@jupyter-widgets/controls",
            "_view_module_version": "1.5.0",
            "_view_name": "HBoxView",
            "box_style": "",
            "children": [
              "IPY_MODEL_fa0e7ff7ff55482183dc22313dde406c",
              "IPY_MODEL_32193fe27d234932afd9a7056dd8ec36",
              "IPY_MODEL_b4da54439e4943f39694f369b4b84635"
            ],
            "layout": "IPY_MODEL_b3ac6078109d439cba243177329c8c02"
          }
        },
        "fa0e7ff7ff55482183dc22313dde406c": {
          "model_module": "@jupyter-widgets/controls",
          "model_name": "HTMLModel",
          "model_module_version": "1.5.0",
          "state": {
            "_dom_classes": [],
            "_model_module": "@jupyter-widgets/controls",
            "_model_module_version": "1.5.0",
            "_model_name": "HTMLModel",
            "_view_count": null,
            "_view_module": "@jupyter-widgets/controls",
            "_view_module_version": "1.5.0",
            "_view_name": "HTMLView",
            "description": "",
            "description_tooltip": null,
            "layout": "IPY_MODEL_36d997c7319840ebb0025752079e9fdf",
            "placeholder": "​",
            "style": "IPY_MODEL_12b2fe07b44040779c31d35952347ede",
            "value": ""
          }
        },
        "32193fe27d234932afd9a7056dd8ec36": {
          "model_module": "@jupyter-widgets/controls",
          "model_name": "FloatProgressModel",
          "model_module_version": "1.5.0",
          "state": {
            "_dom_classes": [],
            "_model_module": "@jupyter-widgets/controls",
            "_model_module_version": "1.5.0",
            "_model_name": "FloatProgressModel",
            "_view_count": null,
            "_view_module": "@jupyter-widgets/controls",
            "_view_module_version": "1.5.0",
            "_view_name": "ProgressView",
            "bar_style": "success",
            "description": "",
            "description_tooltip": null,
            "layout": "IPY_MODEL_c52d70b30af74f4c8e69dd5fdfc1b925",
            "max": 1,
            "min": 0,
            "orientation": "horizontal",
            "style": "IPY_MODEL_d87720813d1f4dfd952715dc00aca87d",
            "value": 1
          }
        },
        "b4da54439e4943f39694f369b4b84635": {
          "model_module": "@jupyter-widgets/controls",
          "model_name": "HTMLModel",
          "model_module_version": "1.5.0",
          "state": {
            "_dom_classes": [],
            "_model_module": "@jupyter-widgets/controls",
            "_model_module_version": "1.5.0",
            "_model_name": "HTMLModel",
            "_view_count": null,
            "_view_module": "@jupyter-widgets/controls",
            "_view_module_version": "1.5.0",
            "_view_name": "HTMLView",
            "description": "",
            "description_tooltip": null,
            "layout": "IPY_MODEL_dc5c815dd16d43b8b7ba0914b004a1c0",
            "placeholder": "​",
            "style": "IPY_MODEL_3a34e121a12a45d8b3745625781a3f24",
            "value": " 1163342/? [2:00:39&lt;00:00, 92.02it/s]"
          }
        },
        "b3ac6078109d439cba243177329c8c02": {
          "model_module": "@jupyter-widgets/base",
          "model_name": "LayoutModel",
          "model_module_version": "1.2.0",
          "state": {
            "_model_module": "@jupyter-widgets/base",
            "_model_module_version": "1.2.0",
            "_model_name": "LayoutModel",
            "_view_count": null,
            "_view_module": "@jupyter-widgets/base",
            "_view_module_version": "1.2.0",
            "_view_name": "LayoutView",
            "align_content": null,
            "align_items": null,
            "align_self": null,
            "border": null,
            "bottom": null,
            "display": null,
            "flex": null,
            "flex_flow": null,
            "grid_area": null,
            "grid_auto_columns": null,
            "grid_auto_flow": null,
            "grid_auto_rows": null,
            "grid_column": null,
            "grid_gap": null,
            "grid_row": null,
            "grid_template_areas": null,
            "grid_template_columns": null,
            "grid_template_rows": null,
            "height": null,
            "justify_content": null,
            "justify_items": null,
            "left": null,
            "margin": null,
            "max_height": null,
            "max_width": null,
            "min_height": null,
            "min_width": null,
            "object_fit": null,
            "object_position": null,
            "order": null,
            "overflow": null,
            "overflow_x": null,
            "overflow_y": null,
            "padding": null,
            "right": null,
            "top": null,
            "visibility": null,
            "width": null
          }
        },
        "36d997c7319840ebb0025752079e9fdf": {
          "model_module": "@jupyter-widgets/base",
          "model_name": "LayoutModel",
          "model_module_version": "1.2.0",
          "state": {
            "_model_module": "@jupyter-widgets/base",
            "_model_module_version": "1.2.0",
            "_model_name": "LayoutModel",
            "_view_count": null,
            "_view_module": "@jupyter-widgets/base",
            "_view_module_version": "1.2.0",
            "_view_name": "LayoutView",
            "align_content": null,
            "align_items": null,
            "align_self": null,
            "border": null,
            "bottom": null,
            "display": null,
            "flex": null,
            "flex_flow": null,
            "grid_area": null,
            "grid_auto_columns": null,
            "grid_auto_flow": null,
            "grid_auto_rows": null,
            "grid_column": null,
            "grid_gap": null,
            "grid_row": null,
            "grid_template_areas": null,
            "grid_template_columns": null,
            "grid_template_rows": null,
            "height": null,
            "justify_content": null,
            "justify_items": null,
            "left": null,
            "margin": null,
            "max_height": null,
            "max_width": null,
            "min_height": null,
            "min_width": null,
            "object_fit": null,
            "object_position": null,
            "order": null,
            "overflow": null,
            "overflow_x": null,
            "overflow_y": null,
            "padding": null,
            "right": null,
            "top": null,
            "visibility": null,
            "width": null
          }
        },
        "12b2fe07b44040779c31d35952347ede": {
          "model_module": "@jupyter-widgets/controls",
          "model_name": "DescriptionStyleModel",
          "model_module_version": "1.5.0",
          "state": {
            "_model_module": "@jupyter-widgets/controls",
            "_model_module_version": "1.5.0",
            "_model_name": "DescriptionStyleModel",
            "_view_count": null,
            "_view_module": "@jupyter-widgets/base",
            "_view_module_version": "1.2.0",
            "_view_name": "StyleView",
            "description_width": ""
          }
        },
        "c52d70b30af74f4c8e69dd5fdfc1b925": {
          "model_module": "@jupyter-widgets/base",
          "model_name": "LayoutModel",
          "model_module_version": "1.2.0",
          "state": {
            "_model_module": "@jupyter-widgets/base",
            "_model_module_version": "1.2.0",
            "_model_name": "LayoutModel",
            "_view_count": null,
            "_view_module": "@jupyter-widgets/base",
            "_view_module_version": "1.2.0",
            "_view_name": "LayoutView",
            "align_content": null,
            "align_items": null,
            "align_self": null,
            "border": null,
            "bottom": null,
            "display": null,
            "flex": null,
            "flex_flow": null,
            "grid_area": null,
            "grid_auto_columns": null,
            "grid_auto_flow": null,
            "grid_auto_rows": null,
            "grid_column": null,
            "grid_gap": null,
            "grid_row": null,
            "grid_template_areas": null,
            "grid_template_columns": null,
            "grid_template_rows": null,
            "height": null,
            "justify_content": null,
            "justify_items": null,
            "left": null,
            "margin": null,
            "max_height": null,
            "max_width": null,
            "min_height": null,
            "min_width": null,
            "object_fit": null,
            "object_position": null,
            "order": null,
            "overflow": null,
            "overflow_x": null,
            "overflow_y": null,
            "padding": null,
            "right": null,
            "top": null,
            "visibility": null,
            "width": "20px"
          }
        },
        "d87720813d1f4dfd952715dc00aca87d": {
          "model_module": "@jupyter-widgets/controls",
          "model_name": "ProgressStyleModel",
          "model_module_version": "1.5.0",
          "state": {
            "_model_module": "@jupyter-widgets/controls",
            "_model_module_version": "1.5.0",
            "_model_name": "ProgressStyleModel",
            "_view_count": null,
            "_view_module": "@jupyter-widgets/base",
            "_view_module_version": "1.2.0",
            "_view_name": "StyleView",
            "bar_color": null,
            "description_width": ""
          }
        },
        "dc5c815dd16d43b8b7ba0914b004a1c0": {
          "model_module": "@jupyter-widgets/base",
          "model_name": "LayoutModel",
          "model_module_version": "1.2.0",
          "state": {
            "_model_module": "@jupyter-widgets/base",
            "_model_module_version": "1.2.0",
            "_model_name": "LayoutModel",
            "_view_count": null,
            "_view_module": "@jupyter-widgets/base",
            "_view_module_version": "1.2.0",
            "_view_name": "LayoutView",
            "align_content": null,
            "align_items": null,
            "align_self": null,
            "border": null,
            "bottom": null,
            "display": null,
            "flex": null,
            "flex_flow": null,
            "grid_area": null,
            "grid_auto_columns": null,
            "grid_auto_flow": null,
            "grid_auto_rows": null,
            "grid_column": null,
            "grid_gap": null,
            "grid_row": null,
            "grid_template_areas": null,
            "grid_template_columns": null,
            "grid_template_rows": null,
            "height": null,
            "justify_content": null,
            "justify_items": null,
            "left": null,
            "margin": null,
            "max_height": null,
            "max_width": null,
            "min_height": null,
            "min_width": null,
            "object_fit": null,
            "object_position": null,
            "order": null,
            "overflow": null,
            "overflow_x": null,
            "overflow_y": null,
            "padding": null,
            "right": null,
            "top": null,
            "visibility": null,
            "width": null
          }
        },
        "3a34e121a12a45d8b3745625781a3f24": {
          "model_module": "@jupyter-widgets/controls",
          "model_name": "DescriptionStyleModel",
          "model_module_version": "1.5.0",
          "state": {
            "_model_module": "@jupyter-widgets/controls",
            "_model_module_version": "1.5.0",
            "_model_name": "DescriptionStyleModel",
            "_view_count": null,
            "_view_module": "@jupyter-widgets/base",
            "_view_module_version": "1.2.0",
            "_view_name": "StyleView",
            "description_width": ""
          }
        },
        "7c9a069ce0544bcd8aab91daa1ed232a": {
          "model_module": "@jupyter-widgets/controls",
          "model_name": "HBoxModel",
          "model_module_version": "1.5.0",
          "state": {
            "_dom_classes": [],
            "_model_module": "@jupyter-widgets/controls",
            "_model_module_version": "1.5.0",
            "_model_name": "HBoxModel",
            "_view_count": null,
            "_view_module": "@jupyter-widgets/controls",
            "_view_module_version": "1.5.0",
            "_view_name": "HBoxView",
            "box_style": "",
            "children": [
              "IPY_MODEL_696d3d8f06d34a4fb7a8ff0d618160ac",
              "IPY_MODEL_9878bc3addb047e6b416c0907ffb4965",
              "IPY_MODEL_2709f3e206664906bd84dd9a06a7924f"
            ],
            "layout": "IPY_MODEL_09a8dcc2d88c46119ec6e96b9621605d"
          }
        },
        "696d3d8f06d34a4fb7a8ff0d618160ac": {
          "model_module": "@jupyter-widgets/controls",
          "model_name": "HTMLModel",
          "model_module_version": "1.5.0",
          "state": {
            "_dom_classes": [],
            "_model_module": "@jupyter-widgets/controls",
            "_model_module_version": "1.5.0",
            "_model_name": "HTMLModel",
            "_view_count": null,
            "_view_module": "@jupyter-widgets/controls",
            "_view_module_version": "1.5.0",
            "_view_name": "HTMLView",
            "description": "",
            "description_tooltip": null,
            "layout": "IPY_MODEL_94214fc1c8c145d69fc523d38622bb11",
            "placeholder": "​",
            "style": "IPY_MODEL_78049be992ae4939b1fb10b0fe7d9a4b",
            "value": "  0%"
          }
        },
        "9878bc3addb047e6b416c0907ffb4965": {
          "model_module": "@jupyter-widgets/controls",
          "model_name": "FloatProgressModel",
          "model_module_version": "1.5.0",
          "state": {
            "_dom_classes": [],
            "_model_module": "@jupyter-widgets/controls",
            "_model_module_version": "1.5.0",
            "_model_name": "FloatProgressModel",
            "_view_count": null,
            "_view_module": "@jupyter-widgets/controls",
            "_view_module_version": "1.5.0",
            "_view_name": "ProgressView",
            "bar_style": "danger",
            "description": "",
            "description_tooltip": null,
            "layout": "IPY_MODEL_5e224655d7f44e53bb791b38ea0f59f6",
            "max": 35548,
            "min": 0,
            "orientation": "horizontal",
            "style": "IPY_MODEL_2c1e73a1144d448aaab7b2d261df6371",
            "value": 0
          }
        },
        "2709f3e206664906bd84dd9a06a7924f": {
          "model_module": "@jupyter-widgets/controls",
          "model_name": "HTMLModel",
          "model_module_version": "1.5.0",
          "state": {
            "_dom_classes": [],
            "_model_module": "@jupyter-widgets/controls",
            "_model_module_version": "1.5.0",
            "_model_name": "HTMLModel",
            "_view_count": null,
            "_view_module": "@jupyter-widgets/controls",
            "_view_module_version": "1.5.0",
            "_view_name": "HTMLView",
            "description": "",
            "description_tooltip": null,
            "layout": "IPY_MODEL_a36991b069d345898b4c9e1595a7b227",
            "placeholder": "​",
            "style": "IPY_MODEL_4389ee90e1954c1ea6ca5f5d5349f089",
            "value": " 0/35548 [00:00&lt;?, ?it/s]"
          }
        },
        "09a8dcc2d88c46119ec6e96b9621605d": {
          "model_module": "@jupyter-widgets/base",
          "model_name": "LayoutModel",
          "model_module_version": "1.2.0",
          "state": {
            "_model_module": "@jupyter-widgets/base",
            "_model_module_version": "1.2.0",
            "_model_name": "LayoutModel",
            "_view_count": null,
            "_view_module": "@jupyter-widgets/base",
            "_view_module_version": "1.2.0",
            "_view_name": "LayoutView",
            "align_content": null,
            "align_items": null,
            "align_self": null,
            "border": null,
            "bottom": null,
            "display": null,
            "flex": null,
            "flex_flow": null,
            "grid_area": null,
            "grid_auto_columns": null,
            "grid_auto_flow": null,
            "grid_auto_rows": null,
            "grid_column": null,
            "grid_gap": null,
            "grid_row": null,
            "grid_template_areas": null,
            "grid_template_columns": null,
            "grid_template_rows": null,
            "height": null,
            "justify_content": null,
            "justify_items": null,
            "left": null,
            "margin": null,
            "max_height": null,
            "max_width": null,
            "min_height": null,
            "min_width": null,
            "object_fit": null,
            "object_position": null,
            "order": null,
            "overflow": null,
            "overflow_x": null,
            "overflow_y": null,
            "padding": null,
            "right": null,
            "top": null,
            "visibility": null,
            "width": null
          }
        },
        "94214fc1c8c145d69fc523d38622bb11": {
          "model_module": "@jupyter-widgets/base",
          "model_name": "LayoutModel",
          "model_module_version": "1.2.0",
          "state": {
            "_model_module": "@jupyter-widgets/base",
            "_model_module_version": "1.2.0",
            "_model_name": "LayoutModel",
            "_view_count": null,
            "_view_module": "@jupyter-widgets/base",
            "_view_module_version": "1.2.0",
            "_view_name": "LayoutView",
            "align_content": null,
            "align_items": null,
            "align_self": null,
            "border": null,
            "bottom": null,
            "display": null,
            "flex": null,
            "flex_flow": null,
            "grid_area": null,
            "grid_auto_columns": null,
            "grid_auto_flow": null,
            "grid_auto_rows": null,
            "grid_column": null,
            "grid_gap": null,
            "grid_row": null,
            "grid_template_areas": null,
            "grid_template_columns": null,
            "grid_template_rows": null,
            "height": null,
            "justify_content": null,
            "justify_items": null,
            "left": null,
            "margin": null,
            "max_height": null,
            "max_width": null,
            "min_height": null,
            "min_width": null,
            "object_fit": null,
            "object_position": null,
            "order": null,
            "overflow": null,
            "overflow_x": null,
            "overflow_y": null,
            "padding": null,
            "right": null,
            "top": null,
            "visibility": null,
            "width": null
          }
        },
        "78049be992ae4939b1fb10b0fe7d9a4b": {
          "model_module": "@jupyter-widgets/controls",
          "model_name": "DescriptionStyleModel",
          "model_module_version": "1.5.0",
          "state": {
            "_model_module": "@jupyter-widgets/controls",
            "_model_module_version": "1.5.0",
            "_model_name": "DescriptionStyleModel",
            "_view_count": null,
            "_view_module": "@jupyter-widgets/base",
            "_view_module_version": "1.2.0",
            "_view_name": "StyleView",
            "description_width": ""
          }
        },
        "5e224655d7f44e53bb791b38ea0f59f6": {
          "model_module": "@jupyter-widgets/base",
          "model_name": "LayoutModel",
          "model_module_version": "1.2.0",
          "state": {
            "_model_module": "@jupyter-widgets/base",
            "_model_module_version": "1.2.0",
            "_model_name": "LayoutModel",
            "_view_count": null,
            "_view_module": "@jupyter-widgets/base",
            "_view_module_version": "1.2.0",
            "_view_name": "LayoutView",
            "align_content": null,
            "align_items": null,
            "align_self": null,
            "border": null,
            "bottom": null,
            "display": null,
            "flex": null,
            "flex_flow": null,
            "grid_area": null,
            "grid_auto_columns": null,
            "grid_auto_flow": null,
            "grid_auto_rows": null,
            "grid_column": null,
            "grid_gap": null,
            "grid_row": null,
            "grid_template_areas": null,
            "grid_template_columns": null,
            "grid_template_rows": null,
            "height": null,
            "justify_content": null,
            "justify_items": null,
            "left": null,
            "margin": null,
            "max_height": null,
            "max_width": null,
            "min_height": null,
            "min_width": null,
            "object_fit": null,
            "object_position": null,
            "order": null,
            "overflow": null,
            "overflow_x": null,
            "overflow_y": null,
            "padding": null,
            "right": null,
            "top": null,
            "visibility": null,
            "width": null
          }
        },
        "2c1e73a1144d448aaab7b2d261df6371": {
          "model_module": "@jupyter-widgets/controls",
          "model_name": "ProgressStyleModel",
          "model_module_version": "1.5.0",
          "state": {
            "_model_module": "@jupyter-widgets/controls",
            "_model_module_version": "1.5.0",
            "_model_name": "ProgressStyleModel",
            "_view_count": null,
            "_view_module": "@jupyter-widgets/base",
            "_view_module_version": "1.2.0",
            "_view_name": "StyleView",
            "bar_color": null,
            "description_width": ""
          }
        },
        "a36991b069d345898b4c9e1595a7b227": {
          "model_module": "@jupyter-widgets/base",
          "model_name": "LayoutModel",
          "model_module_version": "1.2.0",
          "state": {
            "_model_module": "@jupyter-widgets/base",
            "_model_module_version": "1.2.0",
            "_model_name": "LayoutModel",
            "_view_count": null,
            "_view_module": "@jupyter-widgets/base",
            "_view_module_version": "1.2.0",
            "_view_name": "LayoutView",
            "align_content": null,
            "align_items": null,
            "align_self": null,
            "border": null,
            "bottom": null,
            "display": null,
            "flex": null,
            "flex_flow": null,
            "grid_area": null,
            "grid_auto_columns": null,
            "grid_auto_flow": null,
            "grid_auto_rows": null,
            "grid_column": null,
            "grid_gap": null,
            "grid_row": null,
            "grid_template_areas": null,
            "grid_template_columns": null,
            "grid_template_rows": null,
            "height": null,
            "justify_content": null,
            "justify_items": null,
            "left": null,
            "margin": null,
            "max_height": null,
            "max_width": null,
            "min_height": null,
            "min_width": null,
            "object_fit": null,
            "object_position": null,
            "order": null,
            "overflow": null,
            "overflow_x": null,
            "overflow_y": null,
            "padding": null,
            "right": null,
            "top": null,
            "visibility": null,
            "width": null
          }
        },
        "4389ee90e1954c1ea6ca5f5d5349f089": {
          "model_module": "@jupyter-widgets/controls",
          "model_name": "DescriptionStyleModel",
          "model_module_version": "1.5.0",
          "state": {
            "_model_module": "@jupyter-widgets/controls",
            "_model_module_version": "1.5.0",
            "_model_name": "DescriptionStyleModel",
            "_view_count": null,
            "_view_module": "@jupyter-widgets/base",
            "_view_module_version": "1.2.0",
            "_view_name": "StyleView",
            "description_width": ""
          }
        }
      }
    }
  },
  "cells": [
    {
      "cell_type": "markdown",
      "metadata": {
        "id": "view-in-github",
        "colab_type": "text"
      },
      "source": [
        "<a href=\"https://colab.research.google.com/github/vit050587/Natural_Language_Processing/blob/master/CourseLab.ipynb\" target=\"_parent\"><img src=\"https://colab.research.google.com/assets/colab-badge.svg\" alt=\"Open In Colab\"/></a>"
      ]
    },
    {
      "cell_type": "markdown",
      "source": [
        "#Курсовой проект «Введение в обработку естественного языка»"
      ],
      "metadata": {
        "id": "XsLGEq3qyGIe"
      }
    },
    {
      "cell_type": "markdown",
      "source": [
        "**Задание**:\n",
        "\n",
        "Реализовать чат-бот на базе API Telegram.\n",
        "\n",
        "**Интенты**:\n",
        "\n",
        "* болталка (разговорная часть): используются вопросы-ответы mail.ru,\n",
        "* суммаризация: используется предобученная модель - csebuetnlp/mT5_multilingual_XLSum\n",
        "* продуктовая часть: используются данные с youla.ru.\n",
        "\n",
        "**Технологии**:\n",
        "\n",
        "ML: CountVectorizer, TfidfVectorizer, FastText, MorphAnalyzer, dialogflow, LogisticRegression, annoy, API: telegram\n",
        "\n",
        "**Алгоритм работы чат-бота:**\n",
        "\n",
        "При поступлении текстового запроса модель должна определить интент к которому относится запрос:\n",
        "\n",
        "* болталка (вопрос/ответ)\n",
        "* суммаризация\n",
        "* поиск продукта\n",
        "    1 Если запрос \"разговорный\", используя TfidfVectorizer, FastText, annoy определяется наиболее подходящий ответ.\n",
        "\n",
        "    2 Если интент \"cуммаризация\", то используется предобученная модель csebuetnlp/mT5_multilingual_XLSum. Суммаризация должна начинаться с ключевого слова \"Summarization:\".\n",
        "\n",
        "    3 Если запрос \"продуктовый\", используя TfidfVectorizer, FastText, annoy (быстрый поиск ближайших соседей). Определяются N наиболее похожих продукта, которые возвращяются в чат.\n",
        "\n",
        "    4 Если в разговорном и продуктовом запросе найденный ответ слабо соответствует запросу, чат-бот должен ответить \"Не понимаю запрос. Сформулируйте запрос более корректно.\".``"
      ],
      "metadata": {
        "id": "h9_4nW_pyMn9"
      }
    },
    {
      "cell_type": "markdown",
      "source": [
        "#1. Установка библиотек и подготовка данных."
      ],
      "metadata": {
        "id": "SVpbPpKGzfQv"
      }
    },
    {
      "cell_type": "code",
      "execution_count": 1,
      "metadata": {
        "id": "gMkrdjI7yEHZ",
        "colab": {
          "base_uri": "https://localhost:8080/"
        },
        "outputId": "8eee7d31-5104-44e6-eb3a-f17b2cbf3831"
      },
      "outputs": [
        {
          "output_type": "stream",
          "name": "stdout",
          "text": [
            "  Preparing metadata (setup.py) ... \u001b[?25l\u001b[?25hdone\n",
            "  Building wheel for telegram (setup.py) ... \u001b[?25l\u001b[?25hdone\n",
            "\u001b[2K     \u001b[90m━━━━━━━━━━━━━━━━━━━━━━━━━━━━━━━━━━━━━━━\u001b[0m \u001b[32m549.0/549.0 kB\u001b[0m \u001b[31m5.6 MB/s\u001b[0m eta \u001b[36m0:00:00\u001b[0m\n",
            "\u001b[2K     \u001b[90m━━━━━━━━━━━━━━━━━━━━━━━━━━━━━━━━━━━━━━━━\u001b[0m \u001b[32m75.4/75.4 kB\u001b[0m \u001b[31m6.9 MB/s\u001b[0m eta \u001b[36m0:00:00\u001b[0m\n",
            "\u001b[2K     \u001b[90m━━━━━━━━━━━━━━━━━━━━━━━━━━━━━━━━━━━━━━━━\u001b[0m \u001b[32m74.5/74.5 kB\u001b[0m \u001b[31m5.3 MB/s\u001b[0m eta \u001b[36m0:00:00\u001b[0m\n",
            "\u001b[2K     \u001b[90m━━━━━━━━━━━━━━━━━━━━━━━━━━━━━━━━━━━━━━━━\u001b[0m \u001b[32m58.3/58.3 kB\u001b[0m \u001b[31m5.3 MB/s\u001b[0m eta \u001b[36m0:00:00\u001b[0m\n",
            "\u001b[2K     \u001b[90m━━━━━━━━━━━━━━━━━━━━━━━━━━━━━━━━━━━━━━━\u001b[0m \u001b[32m55.5/55.5 kB\u001b[0m \u001b[31m938.9 kB/s\u001b[0m eta \u001b[36m0:00:00\u001b[0m\n",
            "\u001b[2K     \u001b[90m━━━━━━━━━━━━━━━━━━━━━━━━━━━━━━━━━━━━━━━━\u001b[0m \u001b[32m8.2/8.2 MB\u001b[0m \u001b[31m46.5 MB/s\u001b[0m eta \u001b[36m0:00:00\u001b[0m\n",
            "\u001b[?25h  Preparing metadata (setup.py) ... \u001b[?25l\u001b[?25hdone\n",
            "  Building wheel for docopt (setup.py) ... \u001b[?25l\u001b[?25hdone\n",
            "  Preparing metadata (setup.py) ... \u001b[?25l\u001b[?25hdone\n",
            "  Building wheel for stop_words (setup.py) ... \u001b[?25l\u001b[?25hdone\n",
            "\u001b[2K     \u001b[90m━━━━━━━━━━━━━━━━━━━━━━━━━━━━━━━━━━━━━━━\u001b[0m \u001b[32m647.5/647.5 kB\u001b[0m \u001b[31m5.0 MB/s\u001b[0m eta \u001b[36m0:00:00\u001b[0m\n",
            "\u001b[?25h  Preparing metadata (setup.py) ... \u001b[?25l\u001b[?25hdone\n",
            "  Building wheel for annoy (setup.py) ... \u001b[?25l\u001b[?25hdone\n",
            "\u001b[2K     \u001b[90m━━━━━━━━━━━━━━━━━━━━━━━━━━━━━━━━━━━━━━━━\u001b[0m \u001b[32m7.5/7.5 MB\u001b[0m \u001b[31m16.2 MB/s\u001b[0m eta \u001b[36m0:00:00\u001b[0m\n",
            "\u001b[2K     \u001b[90m━━━━━━━━━━━━━━━━━━━━━━━━━━━━━━━━━━━━━━━━\u001b[0m \u001b[32m1.3/1.3 MB\u001b[0m \u001b[31m29.9 MB/s\u001b[0m eta \u001b[36m0:00:00\u001b[0m\n",
            "\u001b[2K     \u001b[90m━━━━━━━━━━━━━━━━━━━━━━━━━━━━━━━━━━━━━━\u001b[0m \u001b[32m268.8/268.8 kB\u001b[0m \u001b[31m22.1 MB/s\u001b[0m eta \u001b[36m0:00:00\u001b[0m\n",
            "\u001b[2K     \u001b[90m━━━━━━━━━━━━━━━━━━━━━━━━━━━━━━━━━━━━━━━━\u001b[0m \u001b[32m7.8/7.8 MB\u001b[0m \u001b[31m44.8 MB/s\u001b[0m eta \u001b[36m0:00:00\u001b[0m\n",
            "\u001b[2K     \u001b[90m━━━━━━━━━━━━━━━━━━━━━━━━━━━━━━━━━━━━━━━━\u001b[0m \u001b[32m1.3/1.3 MB\u001b[0m \u001b[31m47.2 MB/s\u001b[0m eta \u001b[36m0:00:00\u001b[0m\n",
            "\u001b[?25hFound existing installation: python-telegram-bot 20.4\n",
            "Uninstalling python-telegram-bot-20.4:\n",
            "  Would remove:\n",
            "    /usr/local/lib/python3.10/dist-packages/python_telegram_bot-20.4.dist-info/*\n",
            "    /usr/local/lib/python3.10/dist-packages/telegram/*\n",
            "Proceed (Y/n)? y\n",
            "  Successfully uninstalled python-telegram-bot-20.4\n",
            "Collecting python-telegram-bot\n",
            "  Using cached python_telegram_bot-20.4-py3-none-any.whl (549 kB)\n",
            "Requirement already satisfied: httpx~=0.24.1 in /usr/local/lib/python3.10/dist-packages (from python-telegram-bot) (0.24.1)\n",
            "Requirement already satisfied: certifi in /usr/local/lib/python3.10/dist-packages (from httpx~=0.24.1->python-telegram-bot) (2023.7.22)\n",
            "Requirement already satisfied: httpcore<0.18.0,>=0.15.0 in /usr/local/lib/python3.10/dist-packages (from httpx~=0.24.1->python-telegram-bot) (0.17.3)\n",
            "Requirement already satisfied: idna in /usr/local/lib/python3.10/dist-packages (from httpx~=0.24.1->python-telegram-bot) (3.4)\n",
            "Requirement already satisfied: sniffio in /usr/local/lib/python3.10/dist-packages (from httpx~=0.24.1->python-telegram-bot) (1.3.0)\n",
            "Requirement already satisfied: h11<0.15,>=0.13 in /usr/local/lib/python3.10/dist-packages (from httpcore<0.18.0,>=0.15.0->httpx~=0.24.1->python-telegram-bot) (0.14.0)\n",
            "Requirement already satisfied: anyio<5.0,>=3.0 in /usr/local/lib/python3.10/dist-packages (from httpcore<0.18.0,>=0.15.0->httpx~=0.24.1->python-telegram-bot) (3.7.1)\n",
            "Requirement already satisfied: exceptiongroup in /usr/local/lib/python3.10/dist-packages (from anyio<5.0,>=3.0->httpcore<0.18.0,>=0.15.0->httpx~=0.24.1->python-telegram-bot) (1.1.3)\n",
            "Installing collected packages: python-telegram-bot\n",
            "Successfully installed python-telegram-bot-20.4\n"
          ]
        }
      ],
      "source": [
        "!pip install telegram --quiet\n",
        "!pip install python-telegram-bot --quiet\n",
        "!pip install pymorphy2 --quiet\n",
        "!pip install stop_words --quiet\n",
        "!pip install annoy --quiet\n",
        "!pip install transformers sentencepiece --quiet\n",
        "\n",
        "!pip3 uninstall python-telegram-bot\n",
        "\n",
        "!pip3 install python-telegram-bot"
      ]
    },
    {
      "cell_type": "code",
      "source": [
        "import os\n",
        "from telegram.ext import Updater, CommandHandler, MessageHandler, filters, CallbackContext\n",
        "import string\n",
        "from pymorphy2 import MorphAnalyzer\n",
        "from stop_words import get_stop_words\n",
        "import annoy\n",
        "from gensim.models import Word2Vec, FastText\n",
        "import pickle\n",
        "import numpy as np\n",
        "import tqdm\n",
        "from tqdm import tqdm_notebook\n",
        "from tqdm.notebook import tqdm\n",
        "import pandas as pd\n",
        "import re"
      ],
      "metadata": {
        "id": "NH75xX1szmFz"
      },
      "execution_count": 2,
      "outputs": []
    },
    {
      "cell_type": "markdown",
      "source": [
        "#2.Обучение разговорной модели"
      ],
      "metadata": {
        "id": "A-85eT_Gztzl"
      }
    },
    {
      "cell_type": "code",
      "source": [
        "%%time\n",
        "# работает быстро\n",
        "\n",
        "assert True\n",
        "\n",
        "#Small preprocess of the answers\n",
        "\n",
        "question = None\n",
        "written = False\n",
        "\n",
        "c=0\n",
        "\n",
        "# Идем по всем записям, берем строку как вопрос и после знака \"---\" находим ответ\n",
        "with open(\"/content/drive/MyDrive/Colab Notebooks/Natural_Language_Processing/CourseLab/prepared_answers.txt\", \"w\") as fout:\n",
        "    with open(\"/content/drive/MyDrive/Colab Notebooks/Natural_Language_Processing/CourseLab/Otvety.txt\", \"r\") as fin:\n",
        "        for line in tqdm_notebook(fin):\n",
        "            if line.startswith(\"---\"):\n",
        "                written = False\n",
        "                continue\n",
        "            if not written and question is not None:\n",
        "                fout.write(question.replace(\"\\t\", \" \").strip() + \"\\t\" + line.replace(\"\\t\", \" \"))\n",
        "                written = True\n",
        "                question = None\n",
        "                continue\n",
        "            if not written:\n",
        "                question = line.strip()\n",
        "                continue"
      ],
      "metadata": {
        "id": "xZ1JCs10zxQ9",
        "colab": {
          "base_uri": "https://localhost:8080/",
          "height": 118,
          "referenced_widgets": [
            "0ba53b8f797f4331a43a00076297aeef",
            "fe1a0b18efe4498da75533f5fe22093f",
            "e90dfa3a982a4e829d4e449d85405dff",
            "cd3ac0f3e6944eb481a98b70e5019934",
            "a28b5bff4b3a46918636217ca2f110e1",
            "337128c0cb4b41ed9a0c0248fffae680",
            "ae829247f9e948a8aea6152aecb2bfa6",
            "660726b968894ec6b04c0cb4846682ec",
            "f13dc3fb0bc246a9a484ff39d2e97968",
            "9b74ec0b5dc7414e874f78fba069b932",
            "d46ff66ffff143e48b635543c79c9dd0"
          ]
        },
        "outputId": "3abedbc5-47d9-490c-d47a-eb1c04520287"
      },
      "execution_count": 3,
      "outputs": [
        {
          "output_type": "stream",
          "name": "stderr",
          "text": [
            "<timed exec>:15: TqdmDeprecationWarning: This function will be removed in tqdm==5.0.0\n",
            "Please use `tqdm.notebook.tqdm` instead of `tqdm.tqdm_notebook`\n"
          ]
        },
        {
          "output_type": "display_data",
          "data": {
            "text/plain": [
              "0it [00:00, ?it/s]"
            ],
            "application/vnd.jupyter.widget-view+json": {
              "version_major": 2,
              "version_minor": 0,
              "model_id": "0ba53b8f797f4331a43a00076297aeef"
            }
          },
          "metadata": {}
        },
        {
          "output_type": "stream",
          "name": "stdout",
          "text": [
            "CPU times: user 28.2 s, sys: 3.96 s, total: 32.2 s\n",
            "Wall time: 1min 34s\n"
          ]
        }
      ]
    },
    {
      "cell_type": "markdown",
      "source": [
        "##Предобработка текста"
      ],
      "metadata": {
        "id": "3qgbKyR0z0mW"
      }
    },
    {
      "cell_type": "code",
      "source": [
        "def preprocess_txt(line):\n",
        "    spls = \"\".join(i for i in line.strip() if i not in exclude).split()\n",
        "    spls = [morpher.parse(i.lower())[0].normal_form for i in spls]\n",
        "    spls = [i for i in spls if i not in sw and i != \"\"]\n",
        "    return spls"
      ],
      "metadata": {
        "id": "J0drtmFZz3ey"
      },
      "execution_count": 4,
      "outputs": []
    },
    {
      "cell_type": "code",
      "source": [
        "morpher = MorphAnalyzer()\n",
        "sw = set(get_stop_words(\"ru\"))\n",
        "exclude = set(string.punctuation)"
      ],
      "metadata": {
        "id": "KPb1GwX2z5H6"
      },
      "execution_count": 5,
      "outputs": []
    },
    {
      "cell_type": "code",
      "source": [
        "assert True\n",
        "\n",
        "# Preprocess for models fitting\n",
        "\n",
        "sentences = []\n",
        "c = 0\n",
        "\n",
        "with open(\"/content/drive/MyDrive/Colab Notebooks/Natural_Language_Processing/CourseLab/Otvety.txt\", \"r\") as fin:\n",
        "    for line in tqdm_notebook(fin):\n",
        "        spls = preprocess_txt(line)\n",
        "        sentences.append(spls)\n",
        "        c += 1\n",
        "        if c > 500000:\n",
        "            break"
      ],
      "metadata": {
        "id": "Hd5BCYMUz7XQ",
        "colab": {
          "base_uri": "https://localhost:8080/",
          "height": 101,
          "referenced_widgets": [
            "79469a1162bf40769d0e77dd69e1bc6a",
            "5fda1a18dbd84f1bb4acb1f59261621d",
            "8dc54fe68de34280801015641d6afc55",
            "f572077e55a74252ad5be860aeef18c1",
            "b5bad4129e584cb884fed19b91154032",
            "b04f962e02b34f79a3f1fda6dee7b891",
            "47b5c349550045d795c162b3a89f13c1",
            "081402b17c3f4fa6959ca70efaa62e66",
            "c8de11e4454949f2bf16fbd684ba690f",
            "c2ddc75e1f9c45bfae66b85084eaf2d8",
            "cd7f5e303911423d95c327782834a9cb"
          ]
        },
        "outputId": "02c0ab05-7028-47ae-fd0b-4ba2cc8c56bc"
      },
      "execution_count": 6,
      "outputs": [
        {
          "output_type": "stream",
          "name": "stderr",
          "text": [
            "<ipython-input-6-7ebb7e8e2473>:9: TqdmDeprecationWarning: This function will be removed in tqdm==5.0.0\n",
            "Please use `tqdm.notebook.tqdm` instead of `tqdm.tqdm_notebook`\n",
            "  for line in tqdm_notebook(fin):\n"
          ]
        },
        {
          "output_type": "display_data",
          "data": {
            "text/plain": [
              "0it [00:00, ?it/s]"
            ],
            "application/vnd.jupyter.widget-view+json": {
              "version_major": 2,
              "version_minor": 0,
              "model_id": "79469a1162bf40769d0e77dd69e1bc6a"
            }
          },
          "metadata": {}
        }
      ]
    },
    {
      "cell_type": "code",
      "source": [
        "sentences = [i for i in sentences if len(i) > 2]\n",
        "\n",
        "# записываем сериализованный объект в файл\n",
        "with open(f'/content/sentences.pkl', 'wb') as f:\n",
        "    pickle.dump(sentences, f)"
      ],
      "metadata": {
        "id": "FhfdUAobz_ds"
      },
      "execution_count": 7,
      "outputs": []
    },
    {
      "cell_type": "code",
      "source": [
        "# загружаем объект из файла\n",
        "with open(f'/content/sentences.pkl', 'rb') as f:\n",
        "    sentences = pickle.load(f)"
      ],
      "metadata": {
        "id": "FxoubEl80DV3"
      },
      "execution_count": 8,
      "outputs": []
    },
    {
      "cell_type": "markdown",
      "source": [
        "##Обучение модели TF-IDF"
      ],
      "metadata": {
        "id": "nFfFgtcM0FEi"
      }
    },
    {
      "cell_type": "code",
      "source": [
        "# Функция-пустышка, для возможности передать в TfidfVectorizer список уже готовых токенов, а не текст\n",
        "def simple_tokenizer(x):\n",
        "    return x"
      ],
      "metadata": {
        "id": "X4PsD9tL0HsX"
      },
      "execution_count": 9,
      "outputs": []
    },
    {
      "cell_type": "code",
      "source": [
        "from sklearn.feature_extraction.text import TfidfVectorizer"
      ],
      "metadata": {
        "id": "M2Q_gSbI0JRg"
      },
      "execution_count": 10,
      "outputs": []
    },
    {
      "cell_type": "code",
      "source": [
        "%%time\n",
        "tfidf_vectorizer = TfidfVectorizer(tokenizer=simple_tokenizer, lowercase=False, min_df=2)\n",
        "tfidf_vectorizer.fit_transform(sentences)\n",
        "\n",
        "idfs = {v[0]: v[1] for v in zip(tfidf_vectorizer.vocabulary_, tfidf_vectorizer.idf_)}\n",
        "midf = np.mean(tfidf_vectorizer.idf_)\n",
        "\n",
        "with open(f'idfs.pkl', 'wb') as f:\n",
        "    pickle.dump(idfs, f)  # записывает сериализованный объект в файл.\n",
        "\n",
        "with open(f'midf.pkl', 'wb') as f:\n",
        "    pickle.dump(midf, f)  # записывает сериализованный объект в файл."
      ],
      "metadata": {
        "id": "f9RGx-vP0LFW",
        "colab": {
          "base_uri": "https://localhost:8080/"
        },
        "outputId": "eb8215fe-4bc3-420f-afd5-2e509de22963"
      },
      "execution_count": 11,
      "outputs": [
        {
          "output_type": "stream",
          "name": "stderr",
          "text": [
            "/usr/local/lib/python3.10/dist-packages/sklearn/feature_extraction/text.py:528: UserWarning: The parameter 'token_pattern' will not be used since 'tokenizer' is not None'\n",
            "  warnings.warn(\n"
          ]
        },
        {
          "output_type": "stream",
          "name": "stdout",
          "text": [
            "CPU times: user 11.8 s, sys: 1.15 s, total: 12.9 s\n",
            "Wall time: 13.8 s\n"
          ]
        }
      ]
    },
    {
      "cell_type": "code",
      "source": [
        "with open(f'idfs.pkl', 'rb') as f:\n",
        "    idfs = pickle.load(f)  # загружает объект из файла"
      ],
      "metadata": {
        "id": "CQd3w8m-0Mpk"
      },
      "execution_count": 12,
      "outputs": []
    },
    {
      "cell_type": "code",
      "source": [
        "with open(f'midf.pkl', 'rb') as f:\n",
        "    midf = pickle.load(f)  # загружает объект из файла"
      ],
      "metadata": {
        "id": "-Ra-yXNO0OFq"
      },
      "execution_count": 13,
      "outputs": []
    },
    {
      "cell_type": "markdown",
      "source": [
        "##Обучение модели FastText"
      ],
      "metadata": {
        "id": "RHrrKb380P_L"
      }
    },
    {
      "cell_type": "code",
      "source": [
        "SIZE_EMB = 100  # Размер эмбеддинга"
      ],
      "metadata": {
        "id": "bjkDzO9x0TTQ"
      },
      "execution_count": 14,
      "outputs": []
    },
    {
      "cell_type": "code",
      "source": [
        "def embed_txt(txt, idfs, model, midf):\n",
        "    n_ft = 0\n",
        "    vector_ft = np.zeros(SIZE_EMB)\n",
        "    for word in txt:\n",
        "        if word in model:\n",
        "            vector_ft += model[word] * idfs.get(word, midf)\n",
        "            n_ft += idfs.get(word, midf)\n",
        "    if n_ft > 0:\n",
        "        vector_ft = vector_ft / n_ft\n",
        "\n",
        "    return vector_ft"
      ],
      "metadata": {
        "id": "yGCboIwB0VZa"
      },
      "execution_count": 15,
      "outputs": []
    },
    {
      "cell_type": "code",
      "source": [
        "%%time\n",
        "modelFT = FastText(sentences=sentences, vector_size=100, min_count=1, window=5, workers=8)\n",
        "#modelFT = FastText(sentences=sentences, vector_size=SIZE_EMB, min_count=2, window=5, workers=8, seed=34)\n",
        "modelFT.save(\"ft_model\")"
      ],
      "metadata": {
        "id": "465QrLb-0W0l",
        "colab": {
          "base_uri": "https://localhost:8080/"
        },
        "outputId": "f8293ade-5f25-4ed7-abe6-37144edccd36"
      },
      "execution_count": 16,
      "outputs": [
        {
          "output_type": "stream",
          "name": "stdout",
          "text": [
            "CPU times: user 14min 18s, sys: 7.97 s, total: 14min 26s\n",
            "Wall time: 10min 15s\n"
          ]
        }
      ]
    },
    {
      "cell_type": "code",
      "source": [
        "modelFT = FastText.load(\"ft_model\")"
      ],
      "metadata": {
        "id": "T9ooLbMJ9_BH"
      },
      "execution_count": 17,
      "outputs": []
    },
    {
      "cell_type": "code",
      "source": [
        "modelFT = FastText.load(\"ft_model\")\n",
        "ft_index = annoy.AnnoyIndex(SIZE_EMB ,'angular')\n",
        "\n",
        "index_map = {}\n",
        "counter = 0\n",
        "\n",
        "with open(\"/content/drive/MyDrive/Colab Notebooks/Natural_Language_Processing/CourseLab/prepared_answers.txt\", \"r\") as f:\n",
        "    for line in tqdm_notebook(f):\n",
        "        n_ft = 0\n",
        "        spls = line.split(\"\\t\")\n",
        "        index_map[counter] = spls[1]\n",
        "        question = preprocess_txt(spls[0])\n",
        "        vector_ft = np.zeros(100)\n",
        "        for word in question:\n",
        "            if word in modelFT.wv:\n",
        "                vector_ft += modelFT.wv[word]\n",
        "                n_ft += 1\n",
        "        if n_ft > 0:\n",
        "            vector_ft = vector_ft / n_ft\n",
        "        ft_index.add_item(counter, vector_ft)\n",
        "\n",
        "        counter += 1\n",
        "\n",
        "ft_index.build(10)\n",
        "ft_index.save('ft_index.ann')"
      ],
      "metadata": {
        "id": "ve1SOgszDm2X",
        "colab": {
          "base_uri": "https://localhost:8080/",
          "height": 118,
          "referenced_widgets": [
            "c81baab1e19945cea3e6d177d7279165",
            "fa0e7ff7ff55482183dc22313dde406c",
            "32193fe27d234932afd9a7056dd8ec36",
            "b4da54439e4943f39694f369b4b84635",
            "b3ac6078109d439cba243177329c8c02",
            "36d997c7319840ebb0025752079e9fdf",
            "12b2fe07b44040779c31d35952347ede",
            "c52d70b30af74f4c8e69dd5fdfc1b925",
            "d87720813d1f4dfd952715dc00aca87d",
            "dc5c815dd16d43b8b7ba0914b004a1c0",
            "3a34e121a12a45d8b3745625781a3f24"
          ]
        },
        "outputId": "618ca9cf-0691-4fa1-d097-c63c53c3fe79"
      },
      "execution_count": 18,
      "outputs": [
        {
          "output_type": "stream",
          "name": "stderr",
          "text": [
            "<ipython-input-18-7a1f6b7b4a53>:8: TqdmDeprecationWarning: This function will be removed in tqdm==5.0.0\n",
            "Please use `tqdm.notebook.tqdm` instead of `tqdm.tqdm_notebook`\n",
            "  for line in tqdm_notebook(f):\n"
          ]
        },
        {
          "output_type": "display_data",
          "data": {
            "text/plain": [
              "0it [00:00, ?it/s]"
            ],
            "application/vnd.jupyter.widget-view+json": {
              "version_major": 2,
              "version_minor": 0,
              "model_id": "c81baab1e19945cea3e6d177d7279165"
            }
          },
          "metadata": {}
        },
        {
          "output_type": "execute_result",
          "data": {
            "text/plain": [
              "True"
            ]
          },
          "metadata": {},
          "execution_count": 18
        }
      ]
    },
    {
      "cell_type": "code",
      "source": [
        "# Сохраняем индекс вопросов из болталки\n",
        "with open(f'index_map.pkl', 'wb') as f:   # Save it for future use\n",
        "    pickle.dump(index_map, f)  # записывает сериализованный объект в файл"
      ],
      "metadata": {
        "id": "-YAuq7zAFrKF"
      },
      "execution_count": 19,
      "outputs": []
    },
    {
      "cell_type": "code",
      "source": [
        "ft_index = annoy.AnnoyIndex(100, 'angular')  # Создание Annoy индекса\n",
        "ft_index.load(f'ft_index.ann')  # загружает"
      ],
      "metadata": {
        "id": "-8JW8k8e0cIP",
        "colab": {
          "base_uri": "https://localhost:8080/"
        },
        "outputId": "9217131d-f5b8-4340-f3c1-1b548d4bfcdc"
      },
      "execution_count": 20,
      "outputs": [
        {
          "output_type": "execute_result",
          "data": {
            "text/plain": [
              "True"
            ]
          },
          "metadata": {},
          "execution_count": 20
        }
      ]
    },
    {
      "cell_type": "code",
      "source": [
        "ft_index = annoy.AnnoyIndex(SIZE_EMB, 'angular')  # Создание Annoy индекса\n",
        "ft_index.load(f'/content/ft_index.ann')  # загружает"
      ],
      "metadata": {
        "id": "5hvENO1I0eBf",
        "colab": {
          "base_uri": "https://localhost:8080/"
        },
        "outputId": "d10a53bd-9a73-4c79-d3ad-fe5afa680c2b"
      },
      "execution_count": 21,
      "outputs": [
        {
          "output_type": "execute_result",
          "data": {
            "text/plain": [
              "True"
            ]
          },
          "metadata": {},
          "execution_count": 21
        }
      ]
    },
    {
      "cell_type": "code",
      "source": [
        "with open(f'/content/index_map.pkl', 'rb') as f:\n",
        "    index_map = pickle.load(f)  # загружает объект из файла"
      ],
      "metadata": {
        "id": "n1v8-Uch0iAQ"
      },
      "execution_count": 22,
      "outputs": []
    },
    {
      "cell_type": "code",
      "source": [
        "ft_index.get_nns_by_vector(np.zeros(SIZE_EMB), 2)"
      ],
      "metadata": {
        "id": "DSqNLXE30jh9",
        "colab": {
          "base_uri": "https://localhost:8080/"
        },
        "outputId": "f8a9a480-9a27-4aae-d620-41b35625e067"
      },
      "execution_count": 23,
      "outputs": [
        {
          "output_type": "execute_result",
          "data": {
            "text/plain": [
              "[37294, 38406]"
            ]
          },
          "metadata": {},
          "execution_count": 23
        }
      ]
    },
    {
      "cell_type": "markdown",
      "source": [
        "#3. Обучение продуктовых моделей"
      ],
      "metadata": {
        "id": "7-N3QC-F0pnS"
      }
    },
    {
      "cell_type": "code",
      "source": [
        "%%time\n",
        "\n",
        "shop_data = pd.read_csv(\"/content/drive/MyDrive/Colab Notebooks/Natural_Language_Processing/CourseLab/ProductsDataset.csv\")\n",
        "# \"/content/drive/MyDrive/06_lang/course_proj/Misis.Ida.zip\"\n",
        "shop_data['text'] = shop_data['title'] + \" \" + shop_data[\"descrirption\"]\n",
        "shop_data['text'] = shop_data['text'].apply(lambda x: preprocess_txt(str(x)))\n",
        "shop_data.head()"
      ],
      "metadata": {
        "id": "Ug0UJzWi0szu",
        "colab": {
          "base_uri": "https://localhost:8080/",
          "height": 467
        },
        "outputId": "0152386f-ace2-465a-9fb1-a37b23e5444c"
      },
      "execution_count": 24,
      "outputs": [
        {
          "output_type": "stream",
          "name": "stdout",
          "text": [
            "CPU times: user 3min 2s, sys: 518 ms, total: 3min 2s\n",
            "Wall time: 3min 5s\n",
            "Parser   : 368 ms\n"
          ]
        },
        {
          "output_type": "execute_result",
          "data": {
            "text/plain": [
              "                  title                                       descrirption  \\\n",
              "0     Юбка детская ORBY  Новая, не носили ни разу. В реале красивей чем...   \n",
              "1             Ботильоны  Новые,привезены из Чехии ,указан размер 40,но ...   \n",
              "2                 Брюки  Размер 40-42. Брюки почти новые - не знаю как ...   \n",
              "3  Продам детские шапки  Продам шапки,кажда 200р.Розовая и белая проданны.   \n",
              "4                Блузка  Темно-синяя, 42 размер,состояние отличное,как ...   \n",
              "\n",
              "                 product_id  category_id subcategory_id  \\\n",
              "0  58e3cfe6132ca50e053f5f82         22.0           2211   \n",
              "1  5667531b2b7f8d127d838c34          9.0            902   \n",
              "2  59534826aaab284cba337e06          9.0            906   \n",
              "3  57de544096ad842e26de8027         22.0           2217   \n",
              "4  5ad4d2626c86cb168d212022          9.0            907   \n",
              "\n",
              "                                          properties  \\\n",
              "0        {'detskie_razmer_rost': '81-86 (1,5 года)'}   \n",
              "1  {'zhenskaya_odezhda_tzvet': 'Зеленый', 'visota...   \n",
              "2  {'zhenskaya_odezhda_dzhinsy_bryuki_tip': 'Брюк...   \n",
              "3  {'detskie_pol': 'Девочкам', 'detskaya_odezhda_...   \n",
              "4  {'zhenskaya_odezhda_tzvet': 'Синий', 'zhenskay...   \n",
              "\n",
              "                                         image_links  \\\n",
              "0  http://cache3.youla.io/files/images/360_360/58...   \n",
              "1  http://cache3.youla.io/files/images/360_360/5b...   \n",
              "2  http://cache3.youla.io/files/images/360_360/59...   \n",
              "3  http://cache3.youla.io/files/images/360_360/57...   \n",
              "4  http://cache3.youla.io/files/images/360_360/5a...   \n",
              "\n",
              "                                                text  \n",
              "0  [юбка, детский, orby, новый, носить, реал, кра...  \n",
              "1  [ботильон, новыепривезти, чехия, указать, разм...  \n",
              "2  [брюки, размер, 4042, брюки, новый, знать, мер...  \n",
              "3  [продать, детский, шапка, продать, шапкикажда,...  \n",
              "4  [блузка, темносиний, 42, размерсостояние, отли...  "
            ],
            "text/html": [
              "\n",
              "  <div id=\"df-9e04bbeb-948c-4d73-9998-c089ce9ed8da\" class=\"colab-df-container\">\n",
              "    <div>\n",
              "<style scoped>\n",
              "    .dataframe tbody tr th:only-of-type {\n",
              "        vertical-align: middle;\n",
              "    }\n",
              "\n",
              "    .dataframe tbody tr th {\n",
              "        vertical-align: top;\n",
              "    }\n",
              "\n",
              "    .dataframe thead th {\n",
              "        text-align: right;\n",
              "    }\n",
              "</style>\n",
              "<table border=\"1\" class=\"dataframe\">\n",
              "  <thead>\n",
              "    <tr style=\"text-align: right;\">\n",
              "      <th></th>\n",
              "      <th>title</th>\n",
              "      <th>descrirption</th>\n",
              "      <th>product_id</th>\n",
              "      <th>category_id</th>\n",
              "      <th>subcategory_id</th>\n",
              "      <th>properties</th>\n",
              "      <th>image_links</th>\n",
              "      <th>text</th>\n",
              "    </tr>\n",
              "  </thead>\n",
              "  <tbody>\n",
              "    <tr>\n",
              "      <th>0</th>\n",
              "      <td>Юбка детская ORBY</td>\n",
              "      <td>Новая, не носили ни разу. В реале красивей чем...</td>\n",
              "      <td>58e3cfe6132ca50e053f5f82</td>\n",
              "      <td>22.0</td>\n",
              "      <td>2211</td>\n",
              "      <td>{'detskie_razmer_rost': '81-86 (1,5 года)'}</td>\n",
              "      <td>http://cache3.youla.io/files/images/360_360/58...</td>\n",
              "      <td>[юбка, детский, orby, новый, носить, реал, кра...</td>\n",
              "    </tr>\n",
              "    <tr>\n",
              "      <th>1</th>\n",
              "      <td>Ботильоны</td>\n",
              "      <td>Новые,привезены из Чехии ,указан размер 40,но ...</td>\n",
              "      <td>5667531b2b7f8d127d838c34</td>\n",
              "      <td>9.0</td>\n",
              "      <td>902</td>\n",
              "      <td>{'zhenskaya_odezhda_tzvet': 'Зеленый', 'visota...</td>\n",
              "      <td>http://cache3.youla.io/files/images/360_360/5b...</td>\n",
              "      <td>[ботильон, новыепривезти, чехия, указать, разм...</td>\n",
              "    </tr>\n",
              "    <tr>\n",
              "      <th>2</th>\n",
              "      <td>Брюки</td>\n",
              "      <td>Размер 40-42. Брюки почти новые - не знаю как ...</td>\n",
              "      <td>59534826aaab284cba337e06</td>\n",
              "      <td>9.0</td>\n",
              "      <td>906</td>\n",
              "      <td>{'zhenskaya_odezhda_dzhinsy_bryuki_tip': 'Брюк...</td>\n",
              "      <td>http://cache3.youla.io/files/images/360_360/59...</td>\n",
              "      <td>[брюки, размер, 4042, брюки, новый, знать, мер...</td>\n",
              "    </tr>\n",
              "    <tr>\n",
              "      <th>3</th>\n",
              "      <td>Продам детские шапки</td>\n",
              "      <td>Продам шапки,кажда 200р.Розовая и белая проданны.</td>\n",
              "      <td>57de544096ad842e26de8027</td>\n",
              "      <td>22.0</td>\n",
              "      <td>2217</td>\n",
              "      <td>{'detskie_pol': 'Девочкам', 'detskaya_odezhda_...</td>\n",
              "      <td>http://cache3.youla.io/files/images/360_360/57...</td>\n",
              "      <td>[продать, детский, шапка, продать, шапкикажда,...</td>\n",
              "    </tr>\n",
              "    <tr>\n",
              "      <th>4</th>\n",
              "      <td>Блузка</td>\n",
              "      <td>Темно-синяя, 42 размер,состояние отличное,как ...</td>\n",
              "      <td>5ad4d2626c86cb168d212022</td>\n",
              "      <td>9.0</td>\n",
              "      <td>907</td>\n",
              "      <td>{'zhenskaya_odezhda_tzvet': 'Синий', 'zhenskay...</td>\n",
              "      <td>http://cache3.youla.io/files/images/360_360/5a...</td>\n",
              "      <td>[блузка, темносиний, 42, размерсостояние, отли...</td>\n",
              "    </tr>\n",
              "  </tbody>\n",
              "</table>\n",
              "</div>\n",
              "    <div class=\"colab-df-buttons\">\n",
              "\n",
              "  <div class=\"colab-df-container\">\n",
              "    <button class=\"colab-df-convert\" onclick=\"convertToInteractive('df-9e04bbeb-948c-4d73-9998-c089ce9ed8da')\"\n",
              "            title=\"Convert this dataframe to an interactive table.\"\n",
              "            style=\"display:none;\">\n",
              "\n",
              "  <svg xmlns=\"http://www.w3.org/2000/svg\" height=\"24px\" viewBox=\"0 -960 960 960\">\n",
              "    <path d=\"M120-120v-720h720v720H120Zm60-500h600v-160H180v160Zm220 220h160v-160H400v160Zm0 220h160v-160H400v160ZM180-400h160v-160H180v160Zm440 0h160v-160H620v160ZM180-180h160v-160H180v160Zm440 0h160v-160H620v160Z\"/>\n",
              "  </svg>\n",
              "    </button>\n",
              "\n",
              "  <style>\n",
              "    .colab-df-container {\n",
              "      display:flex;\n",
              "      gap: 12px;\n",
              "    }\n",
              "\n",
              "    .colab-df-convert {\n",
              "      background-color: #E8F0FE;\n",
              "      border: none;\n",
              "      border-radius: 50%;\n",
              "      cursor: pointer;\n",
              "      display: none;\n",
              "      fill: #1967D2;\n",
              "      height: 32px;\n",
              "      padding: 0 0 0 0;\n",
              "      width: 32px;\n",
              "    }\n",
              "\n",
              "    .colab-df-convert:hover {\n",
              "      background-color: #E2EBFA;\n",
              "      box-shadow: 0px 1px 2px rgba(60, 64, 67, 0.3), 0px 1px 3px 1px rgba(60, 64, 67, 0.15);\n",
              "      fill: #174EA6;\n",
              "    }\n",
              "\n",
              "    .colab-df-buttons div {\n",
              "      margin-bottom: 4px;\n",
              "    }\n",
              "\n",
              "    [theme=dark] .colab-df-convert {\n",
              "      background-color: #3B4455;\n",
              "      fill: #D2E3FC;\n",
              "    }\n",
              "\n",
              "    [theme=dark] .colab-df-convert:hover {\n",
              "      background-color: #434B5C;\n",
              "      box-shadow: 0px 1px 3px 1px rgba(0, 0, 0, 0.15);\n",
              "      filter: drop-shadow(0px 1px 2px rgba(0, 0, 0, 0.3));\n",
              "      fill: #FFFFFF;\n",
              "    }\n",
              "  </style>\n",
              "\n",
              "    <script>\n",
              "      const buttonEl =\n",
              "        document.querySelector('#df-9e04bbeb-948c-4d73-9998-c089ce9ed8da button.colab-df-convert');\n",
              "      buttonEl.style.display =\n",
              "        google.colab.kernel.accessAllowed ? 'block' : 'none';\n",
              "\n",
              "      async function convertToInteractive(key) {\n",
              "        const element = document.querySelector('#df-9e04bbeb-948c-4d73-9998-c089ce9ed8da');\n",
              "        const dataTable =\n",
              "          await google.colab.kernel.invokeFunction('convertToInteractive',\n",
              "                                                    [key], {});\n",
              "        if (!dataTable) return;\n",
              "\n",
              "        const docLinkHtml = 'Like what you see? Visit the ' +\n",
              "          '<a target=\"_blank\" href=https://colab.research.google.com/notebooks/data_table.ipynb>data table notebook</a>'\n",
              "          + ' to learn more about interactive tables.';\n",
              "        element.innerHTML = '';\n",
              "        dataTable['output_type'] = 'display_data';\n",
              "        await google.colab.output.renderOutput(dataTable, element);\n",
              "        const docLink = document.createElement('div');\n",
              "        docLink.innerHTML = docLinkHtml;\n",
              "        element.appendChild(docLink);\n",
              "      }\n",
              "    </script>\n",
              "  </div>\n",
              "\n",
              "\n",
              "<div id=\"df-fec253d7-a5f6-45ad-9ad7-babcfc60f795\">\n",
              "  <button class=\"colab-df-quickchart\" onclick=\"quickchart('df-fec253d7-a5f6-45ad-9ad7-babcfc60f795')\"\n",
              "            title=\"Suggest charts.\"\n",
              "            style=\"display:none;\">\n",
              "\n",
              "<svg xmlns=\"http://www.w3.org/2000/svg\" height=\"24px\"viewBox=\"0 0 24 24\"\n",
              "     width=\"24px\">\n",
              "    <g>\n",
              "        <path d=\"M19 3H5c-1.1 0-2 .9-2 2v14c0 1.1.9 2 2 2h14c1.1 0 2-.9 2-2V5c0-1.1-.9-2-2-2zM9 17H7v-7h2v7zm4 0h-2V7h2v10zm4 0h-2v-4h2v4z\"/>\n",
              "    </g>\n",
              "</svg>\n",
              "  </button>\n",
              "\n",
              "<style>\n",
              "  .colab-df-quickchart {\n",
              "    background-color: #E8F0FE;\n",
              "    border: none;\n",
              "    border-radius: 50%;\n",
              "    cursor: pointer;\n",
              "    display: none;\n",
              "    fill: #1967D2;\n",
              "    height: 32px;\n",
              "    padding: 0 0 0 0;\n",
              "    width: 32px;\n",
              "  }\n",
              "\n",
              "  .colab-df-quickchart:hover {\n",
              "    background-color: #E2EBFA;\n",
              "    box-shadow: 0px 1px 2px rgba(60, 64, 67, 0.3), 0px 1px 3px 1px rgba(60, 64, 67, 0.15);\n",
              "    fill: #174EA6;\n",
              "  }\n",
              "\n",
              "  [theme=dark] .colab-df-quickchart {\n",
              "    background-color: #3B4455;\n",
              "    fill: #D2E3FC;\n",
              "  }\n",
              "\n",
              "  [theme=dark] .colab-df-quickchart:hover {\n",
              "    background-color: #434B5C;\n",
              "    box-shadow: 0px 1px 3px 1px rgba(0, 0, 0, 0.15);\n",
              "    filter: drop-shadow(0px 1px 2px rgba(0, 0, 0, 0.3));\n",
              "    fill: #FFFFFF;\n",
              "  }\n",
              "</style>\n",
              "\n",
              "  <script>\n",
              "    async function quickchart(key) {\n",
              "      const charts = await google.colab.kernel.invokeFunction(\n",
              "          'suggestCharts', [key], {});\n",
              "    }\n",
              "    (() => {\n",
              "      let quickchartButtonEl =\n",
              "        document.querySelector('#df-fec253d7-a5f6-45ad-9ad7-babcfc60f795 button');\n",
              "      quickchartButtonEl.style.display =\n",
              "        google.colab.kernel.accessAllowed ? 'block' : 'none';\n",
              "    })();\n",
              "  </script>\n",
              "</div>\n",
              "    </div>\n",
              "  </div>\n"
            ]
          },
          "metadata": {},
          "execution_count": 24
        }
      ]
    },
    {
      "cell_type": "code",
      "source": [
        "from sklearn.feature_extraction.text import CountVectorizer\n",
        "from sklearn.linear_model import LogisticRegression\n",
        "\n",
        "vectorizer = CountVectorizer(ngram_range=(1, 2))"
      ],
      "metadata": {
        "id": "Ssqy2uWK0w-G"
      },
      "execution_count": 25,
      "outputs": []
    },
    {
      "cell_type": "code",
      "source": [
        "%%time\n",
        "\n",
        "idxs = set(np.random.randint(0, len(index_map), len(shop_data)))\n",
        "negative_texts = [\" \".join(preprocess_txt(index_map[i])) for i in idxs]\n",
        "positive_texts = [\" \".join(val) for val in shop_data['text'].values]"
      ],
      "metadata": {
        "id": "wBoxcCgu0ycF",
        "colab": {
          "base_uri": "https://localhost:8080/"
        },
        "outputId": "61a4a73c-75f7-4d68-9e42-691cb84090b7"
      },
      "execution_count": 26,
      "outputs": [
        {
          "output_type": "stream",
          "name": "stdout",
          "text": [
            "CPU times: user 9min 3s, sys: 1.42 s, total: 9min 4s\n",
            "Wall time: 9min 15s\n"
          ]
        }
      ]
    },
    {
      "cell_type": "code",
      "source": [
        "dataset = negative_texts + positive_texts\n",
        "labels = np.zeros(len(dataset))\n",
        "labels[len(negative_texts):] = np.ones(len(positive_texts))"
      ],
      "metadata": {
        "id": "vJ6XpWIF0z8F"
      },
      "execution_count": 27,
      "outputs": []
    },
    {
      "cell_type": "code",
      "source": [
        "from sklearn.model_selection import train_test_split\n",
        "\n",
        "X_train, X_test, y_train, y_test = train_test_split(dataset, labels, test_size=0.2, stratify=labels,\n",
        "                                                    random_state=13)"
      ],
      "metadata": {
        "id": "4zWKOEbB01xn"
      },
      "execution_count": 28,
      "outputs": []
    },
    {
      "cell_type": "markdown",
      "source": [
        "Модуль CountVectorizer в sklearn позволяет сконвертировать набор текстов в матрицу токенов, находящихся в тексте."
      ],
      "metadata": {
        "id": "cc5P2pI-04vI"
      }
    },
    {
      "cell_type": "code",
      "source": [
        "%%time\n",
        "\n",
        "x_train_vec = vectorizer.fit_transform(X_train)\n",
        "x_test_vec = vectorizer.transform(X_test)\n",
        "\n",
        "lr = LogisticRegression().fit(x_train_vec, y_train)"
      ],
      "metadata": {
        "id": "2F5H90Y006n3",
        "colab": {
          "base_uri": "https://localhost:8080/"
        },
        "outputId": "1198d7cf-40a3-45d9-cc48-e0d099f6cabf"
      },
      "execution_count": 29,
      "outputs": [
        {
          "output_type": "stream",
          "name": "stdout",
          "text": [
            "CPU times: user 53.2 s, sys: 21.4 s, total: 1min 14s\n",
            "Wall time: 56.4 s\n"
          ]
        }
      ]
    },
    {
      "cell_type": "code",
      "source": [
        "with open(f'vectorizer.pkl', 'wb') as f:\n",
        "    pickle.dump(vectorizer, f)"
      ],
      "metadata": {
        "id": "8LMzOh8m08l9"
      },
      "execution_count": 30,
      "outputs": []
    },
    {
      "cell_type": "code",
      "source": [
        "vectorizer = CountVectorizer(ngram_range=(1, 2))\n",
        "with open(f'vectorizer.pkl', 'rb') as f:\n",
        "    vectorizer = pickle.load(f)"
      ],
      "metadata": {
        "id": "VbU1U9zv0-MN"
      },
      "execution_count": 31,
      "outputs": []
    },
    {
      "cell_type": "code",
      "source": [
        "with open(f'lr.pkl', 'wb') as f:\n",
        "    pickle.dump(lr, f)"
      ],
      "metadata": {
        "id": "CRxQLbCG0_0P"
      },
      "execution_count": 32,
      "outputs": []
    },
    {
      "cell_type": "code",
      "source": [
        "lr = LogisticRegression()\n",
        "with open(f'lr.pkl', 'rb') as f:\n",
        "    lr = pickle.load(f)"
      ],
      "metadata": {
        "id": "1lRcEKLu1CAT"
      },
      "execution_count": 33,
      "outputs": []
    },
    {
      "cell_type": "code",
      "source": [
        "from sklearn.metrics import accuracy_score\n",
        "\n",
        "accuracy_score(y_true=y_test, y_pred=lr.predict(x_test_vec))"
      ],
      "metadata": {
        "id": "Ogcd9u7L1Dhq",
        "colab": {
          "base_uri": "https://localhost:8080/"
        },
        "outputId": "ddf92d46-d7be-4eb2-8088-3aa5fbc97794"
      },
      "execution_count": 34,
      "outputs": [
        {
          "output_type": "execute_result",
          "data": {
            "text/plain": [
              "0.980720158775163"
            ]
          },
          "metadata": {},
          "execution_count": 34
        }
      ]
    },
    {
      "cell_type": "code",
      "source": [
        "from sklearn.feature_extraction.text import TfidfVectorizer\n",
        "\n",
        "tfidf_vect = TfidfVectorizer().fit(X_train)"
      ],
      "metadata": {
        "id": "yuOrWZmU1E86"
      },
      "execution_count": 35,
      "outputs": []
    },
    {
      "cell_type": "markdown",
      "source": [
        "##Обучение модели TF-IDF"
      ],
      "metadata": {
        "id": "JLY_4Ujf1GsG"
      }
    },
    {
      "cell_type": "code",
      "source": [
        "%%time\n",
        "tfidf_vect_prod = TfidfVectorizer(lowercase=False, min_df=2)\n",
        "tfidf_vect_prod.fit(X_train)\n",
        "\n",
        "idfs_prod = {v[0]: v[1] for v in zip(tfidf_vect_prod.vocabulary_, tfidf_vect_prod.idf_)}\n",
        "midf_prod = np.mean(tfidf_vect_prod.idf_)\n",
        "\n",
        "with open(f'idfs_prod.pkl', 'wb') as f:\n",
        "    pickle.dump(idfs_prod, f)\n",
        "with open(f'midf_prod.pkl', 'wb') as f:\n",
        "    pickle.dump(midf_prod, f)"
      ],
      "metadata": {
        "id": "MfdnyvHU1JGv",
        "colab": {
          "base_uri": "https://localhost:8080/"
        },
        "outputId": "322f9351-8b5e-423b-b37e-5f98bcc2cc8d"
      },
      "execution_count": 36,
      "outputs": [
        {
          "output_type": "stream",
          "name": "stdout",
          "text": [
            "CPU times: user 2.82 s, sys: 14 ms, total: 2.83 s\n",
            "Wall time: 2.89 s\n"
          ]
        }
      ]
    },
    {
      "cell_type": "code",
      "source": [
        "with open(f'idfs_prod.pkl', 'rb') as f:\n",
        "    idfs_prod = pickle.load(f)"
      ],
      "metadata": {
        "id": "mLHRpH-i1K1t"
      },
      "execution_count": 37,
      "outputs": []
    },
    {
      "cell_type": "code",
      "source": [
        "with open(f'midf_prod.pkl', 'rb') as f:\n",
        "    midf_prod = pickle.load(f)"
      ],
      "metadata": {
        "id": "Wybg49pm1MXZ"
      },
      "execution_count": 38,
      "outputs": []
    },
    {
      "cell_type": "markdown",
      "source": [
        "##Annoy. Алгоритм приблизительного поиска"
      ],
      "metadata": {
        "id": "qjRMrY1_1OCU"
      }
    },
    {
      "cell_type": "code",
      "source": [
        "from gensim.models import FastText"
      ],
      "metadata": {
        "id": "g7IWKGvy0G2R"
      },
      "execution_count": 39,
      "outputs": []
    },
    {
      "cell_type": "code",
      "source": [
        "%%time\n",
        "ft_index_shop = annoy.AnnoyIndex(SIZE_EMB ,'angular')\n",
        "index_map_shop = {}\n",
        "counter = 0\n",
        "\n",
        "for i in tqdm_notebook(range(len(shop_data))):\n",
        "    n_ft = 0\n",
        "    index_map_shop[counter] = (shop_data.loc[i, \"title\"], shop_data.loc[i, \"image_links\"])\n",
        "    vector_ft = np.zeros(SIZE_EMB)\n",
        "    for word in shop_data.loc[i, \"text\"]:\n",
        "        if word in modelFT:\n",
        "            vector_ft += modelFT[word] * idfs.get(word, midf_prod)\n",
        "            n_ft += idfs.get(word, midf_prod)\n",
        "    if n_ft > 0:\n",
        "        vector_ft = vector_ft / n_ft\n",
        "    ft_index_shop.add_item(counter, vector_ft)\n",
        "    counter += 1\n",
        "\n",
        "ft_index_shop.build(50)\n",
        "# ft_index_shop.save('shop.ann')\n",
        "ft_index_shop.save(f'ft_index_shop')\n",
        "\n",
        "with open(f'index_map_shop.pkl', 'wb') as f:\n",
        "    pickle.dump(index_map_shop, f)  # записывает сериализованный объект в файл."
      ],
      "metadata": {
        "id": "ZqI5K-NTXtuF",
        "colab": {
          "base_uri": "https://localhost:8080/",
          "height": 226,
          "referenced_widgets": [
            "7c9a069ce0544bcd8aab91daa1ed232a",
            "696d3d8f06d34a4fb7a8ff0d618160ac",
            "9878bc3addb047e6b416c0907ffb4965",
            "2709f3e206664906bd84dd9a06a7924f",
            "09a8dcc2d88c46119ec6e96b9621605d",
            "94214fc1c8c145d69fc523d38622bb11",
            "78049be992ae4939b1fb10b0fe7d9a4b",
            "5e224655d7f44e53bb791b38ea0f59f6",
            "2c1e73a1144d448aaab7b2d261df6371",
            "a36991b069d345898b4c9e1595a7b227",
            "4389ee90e1954c1ea6ca5f5d5349f089"
          ]
        },
        "outputId": "59664d8c-f45c-40e3-c581-e9cd790a8c36"
      },
      "execution_count": 40,
      "outputs": [
        {
          "output_type": "stream",
          "name": "stderr",
          "text": [
            "<timed exec>:5: TqdmDeprecationWarning: This function will be removed in tqdm==5.0.0\n",
            "Please use `tqdm.notebook.tqdm` instead of `tqdm.tqdm_notebook`\n"
          ]
        },
        {
          "output_type": "display_data",
          "data": {
            "text/plain": [
              "  0%|          | 0/35548 [00:00<?, ?it/s]"
            ],
            "application/vnd.jupyter.widget-view+json": {
              "version_major": 2,
              "version_minor": 0,
              "model_id": "7c9a069ce0544bcd8aab91daa1ed232a"
            }
          },
          "metadata": {}
        },
        {
          "output_type": "error",
          "ename": "TypeError",
          "evalue": "ignored",
          "traceback": [
            "\u001b[0;31m---------------------------------------------------------------------------\u001b[0m",
            "\u001b[0;31mTypeError\u001b[0m                                 Traceback (most recent call last)",
            "\u001b[0;32m<timed exec>\u001b[0m in \u001b[0;36m<module>\u001b[0;34m\u001b[0m\n",
            "\u001b[0;31mTypeError\u001b[0m: argument of type 'FastText' is not iterable"
          ]
        }
      ]
    },
    {
      "cell_type": "code",
      "source": [
        "with open(f'index_map_shop.pkl', 'wb') as f:\n",
        "    pickle.dump(index_map_shop, f)  # записывает сериализованный объект в файл."
      ],
      "metadata": {
        "id": "8qPBN88thdyQ"
      },
      "execution_count": 41,
      "outputs": []
    },
    {
      "cell_type": "code",
      "source": [
        "ft_index_shop = annoy.AnnoyIndex(SIZE_EMB, 'angular')\n",
        "ft_index_shop.load(f'ft_index_shop')"
      ],
      "metadata": {
        "id": "B6cH7jg31TN-",
        "colab": {
          "base_uri": "https://localhost:8080/",
          "height": 194
        },
        "outputId": "1976a7da-290c-43b2-8250-d8eed263e32a"
      },
      "execution_count": 42,
      "outputs": [
        {
          "output_type": "error",
          "ename": "OSError",
          "evalue": "ignored",
          "traceback": [
            "\u001b[0;31m---------------------------------------------------------------------------\u001b[0m",
            "\u001b[0;31mOSError\u001b[0m                                   Traceback (most recent call last)",
            "\u001b[0;32m<ipython-input-42-103caa5f9e3a>\u001b[0m in \u001b[0;36m<cell line: 2>\u001b[0;34m()\u001b[0m\n\u001b[1;32m      1\u001b[0m \u001b[0mft_index_shop\u001b[0m \u001b[0;34m=\u001b[0m \u001b[0mannoy\u001b[0m\u001b[0;34m.\u001b[0m\u001b[0mAnnoyIndex\u001b[0m\u001b[0;34m(\u001b[0m\u001b[0mSIZE_EMB\u001b[0m\u001b[0;34m,\u001b[0m \u001b[0;34m'angular'\u001b[0m\u001b[0;34m)\u001b[0m\u001b[0;34m\u001b[0m\u001b[0;34m\u001b[0m\u001b[0m\n\u001b[0;32m----> 2\u001b[0;31m \u001b[0mft_index_shop\u001b[0m\u001b[0;34m.\u001b[0m\u001b[0mload\u001b[0m\u001b[0;34m(\u001b[0m\u001b[0;34mf'ft_index_shop'\u001b[0m\u001b[0;34m)\u001b[0m\u001b[0;34m\u001b[0m\u001b[0;34m\u001b[0m\u001b[0m\n\u001b[0m",
            "\u001b[0;31mOSError\u001b[0m: Unable to open: No such file or directory (2)"
          ]
        }
      ]
    },
    {
      "cell_type": "code",
      "source": [
        "with open(f'index_map_shop.pkl', 'rb') as f:\n",
        "    index_map_shop = pickle.load(f)"
      ],
      "metadata": {
        "id": "L0OvECos1Uqa"
      },
      "execution_count": null,
      "outputs": []
    },
    {
      "cell_type": "markdown",
      "source": [
        "#БОТ"
      ],
      "metadata": {
        "id": "mlDAFX9Y1WKs"
      }
    },
    {
      "cell_type": "code",
      "source": [
        "from transformers import AutoTokenizer, AutoModelForSeq2SeqLM\n",
        "from transformers import MBartTokenizer, MBartForConditionalGeneration"
      ],
      "metadata": {
        "id": "d0TDXWAt1Yoy"
      },
      "execution_count": null,
      "outputs": []
    },
    {
      "cell_type": "code",
      "source": [
        "model_name = \"csebuetnlp/mT5_multilingual_XLSum\"\n",
        "tokenizer = AutoTokenizer.from_pretrained(model_name)\n",
        "model_mT5_multilingual_XLSum = AutoModelForSeq2SeqLM.from_pretrained(model_name)"
      ],
      "metadata": {
        "id": "9fzhm-hc1aim"
      },
      "execution_count": null,
      "outputs": []
    },
    {
      "cell_type": "code",
      "source": [
        "import os\n",
        "from telegram.ext import Updater, CommandHandler, MessageHandler, filters, CallbackContext\n",
        "import string\n",
        "from pymorphy2 import MorphAnalyzer\n",
        "from stop_words import get_stop_words\n",
        "import annoy\n",
        "from gensim.models import Word2Vec, FastText\n",
        "import pickle\n",
        "import numpy as np\n",
        "from tqdm import tqdm_notebook\n",
        "import pandas as pd\n",
        "import re\n",
        "\n",
        "from telegram import Update\n",
        "from sklearn.feature_extraction.text import CountVectorizer, TfidfVectorizer\n",
        "from sklearn.linear_model import LogisticRegression\n",
        "\n",
        "SIZE_EMB = 100  # Размер эмбеддинга"
      ],
      "metadata": {
        "id": "x4uzICf01cmj"
      },
      "execution_count": null,
      "outputs": []
    },
    {
      "cell_type": "code",
      "source": [
        "morpher = MorphAnalyzer()\n",
        "sw = set(get_stop_words(\"ru\"))\n",
        "exclude = set(string.punctuation)"
      ],
      "metadata": {
        "id": "5NPsLveZ1d7D"
      },
      "execution_count": null,
      "outputs": []
    },
    {
      "cell_type": "markdown",
      "source": [
        "#Загрузка моделей"
      ],
      "metadata": {
        "id": "m4YTVxAm1f4F"
      }
    },
    {
      "cell_type": "code",
      "source": [
        "with open(f'idfs.pkl', 'rb') as f:\n",
        "    idfs = pickle.load(f)\n",
        "\n",
        "with open(f'midf.pkl', 'rb') as f:\n",
        "    midf = pickle.load(f)\n",
        "\n",
        "with open(f'idfs_prod.pkl', 'rb') as f:\n",
        "    idfs_prod = pickle.load(f)  # загружает объект из файла\n",
        "\n",
        "with open(f'midf_prod.pkl', 'rb') as f:\n",
        "    midf_prod = pickle.load(f)  # загружает объект из файла\n",
        "\n",
        "# Подгружаем предварительно обученную модель вопросов из болталки\n",
        "modelFT = FastText.load(f'ft_model')\n",
        "\n",
        "# Подгружаем предварительно подготовленный и сохранненый индекс ответов из болталки\n",
        "ft_index = annoy.AnnoyIndex(SIZE_EMB, 'angular')\n",
        "ft_index.load(f'/content/drive/MyDrive/Colab Notebooks/Natural_Language_Processing/CourseLab/ft_index.ann')\n",
        "with open(f'/content/drive/MyDrive/Colab Notebooks/Natural_Language_Processing/CourseLab/index_map.pkl', 'rb') as f:\n",
        "    index_map = pickle.load(f)  # загружает объект из файла\n",
        "\n",
        "vectorizer = CountVectorizer(ngram_range=(1, 2))\n",
        "with open(f'vectorizer.pkl', 'rb') as f:\n",
        "    vectorizer = pickle.load(f)\n",
        "\n",
        "lr = LogisticRegression()\n",
        "with open(f'lr.pkl', 'rb') as f:\n",
        "    lr = pickle.load(f)\n",
        "\n",
        "with open(f'midf_prod.pkl', 'rb') as f:\n",
        "    midf_p = pickle.load(f)\n",
        "\n",
        "ft_index_shop = annoy.AnnoyIndex(SIZE_EMB, 'angular')\n",
        "ft_index_shop.load(f'ft_index_shop')\n",
        "\n",
        "# Подгружаем предварительно обученную модель продуктовых названий\n",
        "with open(f'index_map_shop.pkl', 'rb') as f:\n",
        "    index_map_shop = pickle.load(f)"
      ],
      "metadata": {
        "id": "9zN3pG7f1iuy"
      },
      "execution_count": null,
      "outputs": []
    },
    {
      "cell_type": "code",
      "source": [
        "updater = Updater(\"6408751190:AAFLISYMU6MePdplMfakYAdpW2M3Q7zZoMo\", use_context=True)  # Токен API к Telegram\n",
        "\n",
        "def echo(update: Update, context: CallbackContext):\n",
        "    txt = update.message.text\n",
        "    update.message.reply_text('Ваше сообщение! ' + update.message.text)\n",
        "\n",
        "\n",
        "def startCommand(update: Update, context: CallbackContext) -> None:\n",
        "    update.message.reply_text('Добрый день!')\n",
        "\n",
        "\n",
        "def model_mT5_multilingual_XLSum_summary(input_text, model, tokenizer):\n",
        "    \"\"\"\n",
        "        Суммаризация. Предобученную модель: csebuetnlp/mT5_multilingual_XLSum\n",
        "    \"\"\"\n",
        "    WHITESPACE_HANDLER = lambda k: re.sub('\\s+', ' ', re.sub('\\n+', ' ', k.strip()))\n",
        "\n",
        "    input_ids = tokenizer(\n",
        "        [WHITESPACE_HANDLER(input_text)],\n",
        "        return_tensors=\"pt\",\n",
        "        padding=\"max_length\",\n",
        "        truncation=True,\n",
        "        max_length=512\n",
        "    )[\"input_ids\"]\n",
        "\n",
        "    output_ids = model.generate(\n",
        "        input_ids=input_ids,\n",
        "        max_length=84,\n",
        "        no_repeat_ngram_size=2,\n",
        "        num_beams=4\n",
        "    )[0]\n",
        "\n",
        "    summary = tokenizer.decode(\n",
        "        output_ids,\n",
        "        skip_special_tokens=True,\n",
        "        clean_up_tokenization_spaces=False\n",
        "    )\n",
        "\n",
        "    return summary\n",
        "\n",
        "\n",
        "def textMessage(update: Update, context: CallbackContext) -> None:\n",
        "\n",
        "    # 1. Суммаризация. Начало фразы с ключевого слова \"Summarization:\"\n",
        "    input_text = update.message.text\n",
        "    if input_text.split(' ', 1)[0] == 'Summarisation:':\n",
        "      update.message.reply_text('Подождите, идет суммаризация текста ...')\n",
        "\n",
        "      input_text = input_text.replace('Summarisation:', '')\n",
        "      summary = model_mT5_multilingual_XLSum_summary(input_text, model_mT5_multilingual_XLSum, tokenizer)\n",
        "      update.message.reply_text('Суммаризация: ' + summary)\n",
        "\n",
        "    else:\n",
        "      res_text = 'Не понимаю запрос. Сформулируйте запрос более корректно.'\n",
        "      input_txt = preprocess_txt(update.message.text)\n",
        "      vect = vectorizer.transform([\" \".join(input_txt)])\n",
        "      prediction = lr.predict(vect)\n",
        "\n",
        "      # 2. Определим является ли запрос продуктовым.\n",
        "      if prediction[0] == 1:\n",
        "          # Если запрос продуктовый, то найдём 3 самых подходящих товара.\n",
        "          update.message.reply_text('Продуктовый ...')\n",
        "          find = False\n",
        "          vect_ft = embed_txt(input_txt, idfs_prod, modelFT, midf_prod)\n",
        "          ft_index_shop_val, distances_shop = ft_index_shop.get_nns_by_vector(vect_ft, 3, include_distances=True)\n",
        "\n",
        "          for i, item in enumerate(ft_index_shop_val):\n",
        "              if distances_shop[i] <= 0.5:\n",
        "                title, image = index_map_shop[item]\n",
        "                print(title, image)\n",
        "                update.message.reply_text(\"title: {} image: {}\".format(title, image))\n",
        "                find = True\n",
        "          if find == False:\n",
        "            update.message.reply_text(res_text)\n",
        "\n",
        "      else:\n",
        "          # 3. Если запрос разговорный, то найдём ответ.\n",
        "          update.message.reply_text('Разговорный ...')\n",
        "          vect_ft = embed_txt(input_txt, idfs, modelFT, midf)\n",
        "          ft_index_val, distances = ft_index.get_nns_by_vector(vect_ft, 1, include_distances=True)\n",
        "          if distances[0] <= 0.9:\n",
        "              update.message.reply_text(index_map[ft_index_val[0]])\n",
        "          else:\n",
        "              update.message.reply_text(res_text)"
      ],
      "metadata": {
        "id": "PPHbcaK71n3I"
      },
      "execution_count": null,
      "outputs": []
    },
    {
      "cell_type": "code",
      "source": [
        "dispatcher = updater.dispatcher  # Диспетчер\n",
        "\n",
        "# on different commands - answer in Telegram\n",
        "dispatcher.add_handler(CommandHandler('start', startCommand))\n",
        "dispatcher.add_handler(MessageHandler(filters.text & ~filters.command, textMessage))\n",
        "\n",
        "# Start Bot\n",
        "updater.start_polling()\n",
        "updater.idle()"
      ],
      "metadata": {
        "id": "LGXcrEtq1rAT"
      },
      "execution_count": null,
      "outputs": []
    }
  ]
}