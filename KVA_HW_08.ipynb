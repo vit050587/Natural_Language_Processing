{
  "nbformat": 4,
  "nbformat_minor": 0,
  "metadata": {
    "colab": {
      "provenance": [],
      "authorship_tag": "ABX9TyOkQs8bN9qo1aXPQt7XravR",
      "include_colab_link": true
    },
    "kernelspec": {
      "name": "python3",
      "display_name": "Python 3"
    },
    "language_info": {
      "name": "python"
    }
  },
  "cells": [
    {
      "cell_type": "markdown",
      "metadata": {
        "id": "view-in-github",
        "colab_type": "text"
      },
      "source": [
        "<a href=\"https://colab.research.google.com/github/vit050587/Natural_Language_Processing/blob/master/KVA_HW_08.ipynb\" target=\"_parent\"><img src=\"https://colab.research.google.com/assets/colab-badge.svg\" alt=\"Open In Colab\"/></a>"
      ]
    },
    {
      "cell_type": "markdown",
      "source": [
        "#ДЗ 8. Рекуррентные нейронные сети RNN LSTM GRU\n",
        "Задание\n",
        "Данные берем отызывы за лето.\n",
        "\n",
        "На вебинаре мы говорили, что долгое время CNN и RNN архитектуры были конурируещими выяснить какая архитектура больше подходит для нашей задачи.\n",
        "\n",
        "* построить свёрточные архитектуры\n",
        "* построить различные архитектуры с RNN\n",
        "* построить совместные архитектуры CNN -> RNN или (RNN -> CNN)"
      ],
      "metadata": {
        "id": "-0jRPjVU3XC4"
      }
    },
    {
      "cell_type": "code",
      "source": [
        "from google.colab import drive\n",
        "drive.mount('/content/drive')"
      ],
      "metadata": {
        "colab": {
          "base_uri": "https://localhost:8080/"
        },
        "id": "43SCVNl04xXi",
        "outputId": "59b9b09f-d234-4cf9-b5b6-d8d0c3fc1337"
      },
      "execution_count": 1,
      "outputs": [
        {
          "output_type": "stream",
          "name": "stdout",
          "text": [
            "Mounted at /content/drive\n"
          ]
        }
      ]
    },
    {
      "cell_type": "code",
      "source": [
        "!pip install pymorphy2\n",
        "!pip install stop_words"
      ],
      "metadata": {
        "id": "h4ZZR0Qk3d-x",
        "colab": {
          "base_uri": "https://localhost:8080/"
        },
        "outputId": "2cfc5e59-ecd5-41f9-c981-6e86a5be6499"
      },
      "execution_count": 2,
      "outputs": [
        {
          "output_type": "stream",
          "name": "stdout",
          "text": [
            "Collecting pymorphy2\n",
            "  Downloading pymorphy2-0.9.1-py3-none-any.whl (55 kB)\n",
            "\u001b[?25l     \u001b[90m━━━━━━━━━━━━━━━━━━━━━━━━━━━━━━━━━━━━━━━━\u001b[0m \u001b[32m0.0/55.5 kB\u001b[0m \u001b[31m?\u001b[0m eta \u001b[36m-:--:--\u001b[0m\r\u001b[2K     \u001b[91m━━━━━━━━━━━━━━━━━━━━━━━━━━━━━━━━━━━━\u001b[0m\u001b[91m╸\u001b[0m\u001b[90m━━━\u001b[0m \u001b[32m51.2/55.5 kB\u001b[0m \u001b[31m1.5 MB/s\u001b[0m eta \u001b[36m0:00:01\u001b[0m\r\u001b[2K     \u001b[90m━━━━━━━━━━━━━━━━━━━━━━━━━━━━━━━━━━━━━━━━\u001b[0m \u001b[32m55.5/55.5 kB\u001b[0m \u001b[31m1.3 MB/s\u001b[0m eta \u001b[36m0:00:00\u001b[0m\n",
            "\u001b[?25hCollecting dawg-python>=0.7.1 (from pymorphy2)\n",
            "  Downloading DAWG_Python-0.7.2-py2.py3-none-any.whl (11 kB)\n",
            "Collecting pymorphy2-dicts-ru<3.0,>=2.4 (from pymorphy2)\n",
            "  Downloading pymorphy2_dicts_ru-2.4.417127.4579844-py2.py3-none-any.whl (8.2 MB)\n",
            "\u001b[2K     \u001b[90m━━━━━━━━━━━━━━━━━━━━━━━━━━━━━━━━━━━━━━━━\u001b[0m \u001b[32m8.2/8.2 MB\u001b[0m \u001b[31m65.7 MB/s\u001b[0m eta \u001b[36m0:00:00\u001b[0m\n",
            "\u001b[?25hCollecting docopt>=0.6 (from pymorphy2)\n",
            "  Downloading docopt-0.6.2.tar.gz (25 kB)\n",
            "  Preparing metadata (setup.py) ... \u001b[?25l\u001b[?25hdone\n",
            "Building wheels for collected packages: docopt\n",
            "  Building wheel for docopt (setup.py) ... \u001b[?25l\u001b[?25hdone\n",
            "  Created wheel for docopt: filename=docopt-0.6.2-py2.py3-none-any.whl size=13705 sha256=70ba6b1d040aac15cd65dedd658a42ca788f87c3d79579bd079fb96cacf2fe14\n",
            "  Stored in directory: /root/.cache/pip/wheels/fc/ab/d4/5da2067ac95b36618c629a5f93f809425700506f72c9732fac\n",
            "Successfully built docopt\n",
            "Installing collected packages: pymorphy2-dicts-ru, docopt, dawg-python, pymorphy2\n",
            "Successfully installed dawg-python-0.7.2 docopt-0.6.2 pymorphy2-0.9.1 pymorphy2-dicts-ru-2.4.417127.4579844\n",
            "Collecting stop_words\n",
            "  Downloading stop-words-2018.7.23.tar.gz (31 kB)\n",
            "  Preparing metadata (setup.py) ... \u001b[?25l\u001b[?25hdone\n",
            "Building wheels for collected packages: stop_words\n",
            "  Building wheel for stop_words (setup.py) ... \u001b[?25l\u001b[?25hdone\n",
            "  Created wheel for stop_words: filename=stop_words-2018.7.23-py3-none-any.whl size=32894 sha256=af1717a87c60d050b9a8881b3ab4b35c0811f38fb920424a20036e925d8aed33\n",
            "  Stored in directory: /root/.cache/pip/wheels/d0/1a/23/f12552a50cb09bcc1694a5ebb6c2cd5f2a0311de2b8c3d9a89\n",
            "Successfully built stop_words\n",
            "Installing collected packages: stop_words\n",
            "Successfully installed stop_words-2018.7.23\n"
          ]
        }
      ]
    },
    {
      "cell_type": "code",
      "source": [
        "# Импорт библиотек\n",
        "\n",
        "import pandas as pd\n",
        "import numpy as np\n",
        "import re\n",
        "from pymorphy2 import MorphAnalyzer\n",
        "from stop_words import get_stop_words\n",
        "from string import punctuation\n",
        "from gensim.models import Word2Vec, FastText\n",
        "\n",
        "import keras\n",
        "from keras.models import Sequential, Model\n",
        "from keras.layers import Dense, Dropout, Activation, Input, Embedding, Conv1D, GlobalMaxPool1D, GlobalMaxPool2D, SimpleRNN, LSTM, GRU, Masking, Flatten\n",
        "from keras.preprocessing.text import Tokenizer\n",
        "#from keras.preprocessing.sequence import pad_sequences\n",
        "from keras.utils import pad_sequences\n",
        "from keras.callbacks import TensorBoard\n",
        "from keras.callbacks import EarlyStopping\n",
        "from keras.utils import np_utils\n",
        "\n",
        "from sklearn.metrics import classification_report"
      ],
      "metadata": {
        "id": "TiWk3TL23f4D"
      },
      "execution_count": 3,
      "outputs": []
    },
    {
      "cell_type": "code",
      "source": [
        "!pip install --upgrade xlrd"
      ],
      "metadata": {
        "id": "IIVQ0DUZ3hQu",
        "colab": {
          "base_uri": "https://localhost:8080/"
        },
        "outputId": "93d689ea-fde6-4e6c-9c54-8bd3ea8175e4"
      },
      "execution_count": 4,
      "outputs": [
        {
          "output_type": "stream",
          "name": "stdout",
          "text": [
            "Requirement already satisfied: xlrd in /usr/local/lib/python3.10/dist-packages (2.0.1)\n"
          ]
        }
      ]
    },
    {
      "cell_type": "code",
      "source": [
        "df = pd.read_excel('/content/drive/MyDrive/Colab Notebooks/Natural_Language_Processing/lesson07/lection7/отзывы за лето.xls')"
      ],
      "metadata": {
        "id": "9repVpo_3jzX"
      },
      "execution_count": 5,
      "outputs": []
    },
    {
      "cell_type": "code",
      "source": [
        "df"
      ],
      "metadata": {
        "id": "QVMhOf3X3l0r",
        "colab": {
          "base_uri": "https://localhost:8080/",
          "height": 424
        },
        "outputId": "19c43d56-f217-4e44-e839-adbde30d0c8f"
      },
      "execution_count": 6,
      "outputs": [
        {
          "output_type": "execute_result",
          "data": {
            "text/plain": [
              "       Rating                                            Content        Date\n",
              "0           5                                     It just works!  2017-08-14\n",
              "1           4  В целом удобноное приложение...из минусов хотя...  2017-08-14\n",
              "2           5                                        Отлично все  2017-08-14\n",
              "3           5  Стал зависать на 1% работы антивируса. Дальше ...  2017-08-14\n",
              "4           5                     Очень удобно, работает быстро.  2017-08-14\n",
              "...       ...                                                ...         ...\n",
              "20654       1  Ну и шляпа,с роот правами бесполезная прога,ра...  2017-06-01\n",
              "20655       5                                                 Ок  2017-06-01\n",
              "20656       4                                            Доволен  2017-06-01\n",
              "20657       1                         Песопаснасть, рут ни нужын  2017-06-01\n",
              "20658       5  Сбербанк бомбовая компания на сегодняшний день...  2017-06-01\n",
              "\n",
              "[20659 rows x 3 columns]"
            ],
            "text/html": [
              "\n",
              "\n",
              "  <div id=\"df-dbedc653-5c1c-4c24-bdc4-3a8a8422e11a\">\n",
              "    <div class=\"colab-df-container\">\n",
              "      <div>\n",
              "<style scoped>\n",
              "    .dataframe tbody tr th:only-of-type {\n",
              "        vertical-align: middle;\n",
              "    }\n",
              "\n",
              "    .dataframe tbody tr th {\n",
              "        vertical-align: top;\n",
              "    }\n",
              "\n",
              "    .dataframe thead th {\n",
              "        text-align: right;\n",
              "    }\n",
              "</style>\n",
              "<table border=\"1\" class=\"dataframe\">\n",
              "  <thead>\n",
              "    <tr style=\"text-align: right;\">\n",
              "      <th></th>\n",
              "      <th>Rating</th>\n",
              "      <th>Content</th>\n",
              "      <th>Date</th>\n",
              "    </tr>\n",
              "  </thead>\n",
              "  <tbody>\n",
              "    <tr>\n",
              "      <th>0</th>\n",
              "      <td>5</td>\n",
              "      <td>It just works!</td>\n",
              "      <td>2017-08-14</td>\n",
              "    </tr>\n",
              "    <tr>\n",
              "      <th>1</th>\n",
              "      <td>4</td>\n",
              "      <td>В целом удобноное приложение...из минусов хотя...</td>\n",
              "      <td>2017-08-14</td>\n",
              "    </tr>\n",
              "    <tr>\n",
              "      <th>2</th>\n",
              "      <td>5</td>\n",
              "      <td>Отлично все</td>\n",
              "      <td>2017-08-14</td>\n",
              "    </tr>\n",
              "    <tr>\n",
              "      <th>3</th>\n",
              "      <td>5</td>\n",
              "      <td>Стал зависать на 1% работы антивируса. Дальше ...</td>\n",
              "      <td>2017-08-14</td>\n",
              "    </tr>\n",
              "    <tr>\n",
              "      <th>4</th>\n",
              "      <td>5</td>\n",
              "      <td>Очень удобно, работает быстро.</td>\n",
              "      <td>2017-08-14</td>\n",
              "    </tr>\n",
              "    <tr>\n",
              "      <th>...</th>\n",
              "      <td>...</td>\n",
              "      <td>...</td>\n",
              "      <td>...</td>\n",
              "    </tr>\n",
              "    <tr>\n",
              "      <th>20654</th>\n",
              "      <td>1</td>\n",
              "      <td>Ну и шляпа,с роот правами бесполезная прога,ра...</td>\n",
              "      <td>2017-06-01</td>\n",
              "    </tr>\n",
              "    <tr>\n",
              "      <th>20655</th>\n",
              "      <td>5</td>\n",
              "      <td>Ок</td>\n",
              "      <td>2017-06-01</td>\n",
              "    </tr>\n",
              "    <tr>\n",
              "      <th>20656</th>\n",
              "      <td>4</td>\n",
              "      <td>Доволен</td>\n",
              "      <td>2017-06-01</td>\n",
              "    </tr>\n",
              "    <tr>\n",
              "      <th>20657</th>\n",
              "      <td>1</td>\n",
              "      <td>Песопаснасть, рут ни нужын</td>\n",
              "      <td>2017-06-01</td>\n",
              "    </tr>\n",
              "    <tr>\n",
              "      <th>20658</th>\n",
              "      <td>5</td>\n",
              "      <td>Сбербанк бомбовая компания на сегодняшний день...</td>\n",
              "      <td>2017-06-01</td>\n",
              "    </tr>\n",
              "  </tbody>\n",
              "</table>\n",
              "<p>20659 rows × 3 columns</p>\n",
              "</div>\n",
              "      <button class=\"colab-df-convert\" onclick=\"convertToInteractive('df-dbedc653-5c1c-4c24-bdc4-3a8a8422e11a')\"\n",
              "              title=\"Convert this dataframe to an interactive table.\"\n",
              "              style=\"display:none;\">\n",
              "\n",
              "  <svg xmlns=\"http://www.w3.org/2000/svg\" height=\"24px\"viewBox=\"0 0 24 24\"\n",
              "       width=\"24px\">\n",
              "    <path d=\"M0 0h24v24H0V0z\" fill=\"none\"/>\n",
              "    <path d=\"M18.56 5.44l.94 2.06.94-2.06 2.06-.94-2.06-.94-.94-2.06-.94 2.06-2.06.94zm-11 1L8.5 8.5l.94-2.06 2.06-.94-2.06-.94L8.5 2.5l-.94 2.06-2.06.94zm10 10l.94 2.06.94-2.06 2.06-.94-2.06-.94-.94-2.06-.94 2.06-2.06.94z\"/><path d=\"M17.41 7.96l-1.37-1.37c-.4-.4-.92-.59-1.43-.59-.52 0-1.04.2-1.43.59L10.3 9.45l-7.72 7.72c-.78.78-.78 2.05 0 2.83L4 21.41c.39.39.9.59 1.41.59.51 0 1.02-.2 1.41-.59l7.78-7.78 2.81-2.81c.8-.78.8-2.07 0-2.86zM5.41 20L4 18.59l7.72-7.72 1.47 1.35L5.41 20z\"/>\n",
              "  </svg>\n",
              "      </button>\n",
              "\n",
              "\n",
              "\n",
              "    <div id=\"df-67ab562b-1330-442a-93f4-1d2273f26793\">\n",
              "      <button class=\"colab-df-quickchart\" onclick=\"quickchart('df-67ab562b-1330-442a-93f4-1d2273f26793')\"\n",
              "              title=\"Suggest charts.\"\n",
              "              style=\"display:none;\">\n",
              "\n",
              "<svg xmlns=\"http://www.w3.org/2000/svg\" height=\"24px\"viewBox=\"0 0 24 24\"\n",
              "     width=\"24px\">\n",
              "    <g>\n",
              "        <path d=\"M19 3H5c-1.1 0-2 .9-2 2v14c0 1.1.9 2 2 2h14c1.1 0 2-.9 2-2V5c0-1.1-.9-2-2-2zM9 17H7v-7h2v7zm4 0h-2V7h2v10zm4 0h-2v-4h2v4z\"/>\n",
              "    </g>\n",
              "</svg>\n",
              "      </button>\n",
              "    </div>\n",
              "\n",
              "<style>\n",
              "  .colab-df-quickchart {\n",
              "    background-color: #E8F0FE;\n",
              "    border: none;\n",
              "    border-radius: 50%;\n",
              "    cursor: pointer;\n",
              "    display: none;\n",
              "    fill: #1967D2;\n",
              "    height: 32px;\n",
              "    padding: 0 0 0 0;\n",
              "    width: 32px;\n",
              "  }\n",
              "\n",
              "  .colab-df-quickchart:hover {\n",
              "    background-color: #E2EBFA;\n",
              "    box-shadow: 0px 1px 2px rgba(60, 64, 67, 0.3), 0px 1px 3px 1px rgba(60, 64, 67, 0.15);\n",
              "    fill: #174EA6;\n",
              "  }\n",
              "\n",
              "  [theme=dark] .colab-df-quickchart {\n",
              "    background-color: #3B4455;\n",
              "    fill: #D2E3FC;\n",
              "  }\n",
              "\n",
              "  [theme=dark] .colab-df-quickchart:hover {\n",
              "    background-color: #434B5C;\n",
              "    box-shadow: 0px 1px 3px 1px rgba(0, 0, 0, 0.15);\n",
              "    filter: drop-shadow(0px 1px 2px rgba(0, 0, 0, 0.3));\n",
              "    fill: #FFFFFF;\n",
              "  }\n",
              "</style>\n",
              "\n",
              "    <script>\n",
              "      async function quickchart(key) {\n",
              "        const containerElement = document.querySelector('#' + key);\n",
              "        const charts = await google.colab.kernel.invokeFunction(\n",
              "            'suggestCharts', [key], {});\n",
              "      }\n",
              "    </script>\n",
              "\n",
              "      <script>\n",
              "\n",
              "function displayQuickchartButton(domScope) {\n",
              "  let quickchartButtonEl =\n",
              "    domScope.querySelector('#df-67ab562b-1330-442a-93f4-1d2273f26793 button.colab-df-quickchart');\n",
              "  quickchartButtonEl.style.display =\n",
              "    google.colab.kernel.accessAllowed ? 'block' : 'none';\n",
              "}\n",
              "\n",
              "        displayQuickchartButton(document);\n",
              "      </script>\n",
              "      <style>\n",
              "    .colab-df-container {\n",
              "      display:flex;\n",
              "      flex-wrap:wrap;\n",
              "      gap: 12px;\n",
              "    }\n",
              "\n",
              "    .colab-df-convert {\n",
              "      background-color: #E8F0FE;\n",
              "      border: none;\n",
              "      border-radius: 50%;\n",
              "      cursor: pointer;\n",
              "      display: none;\n",
              "      fill: #1967D2;\n",
              "      height: 32px;\n",
              "      padding: 0 0 0 0;\n",
              "      width: 32px;\n",
              "    }\n",
              "\n",
              "    .colab-df-convert:hover {\n",
              "      background-color: #E2EBFA;\n",
              "      box-shadow: 0px 1px 2px rgba(60, 64, 67, 0.3), 0px 1px 3px 1px rgba(60, 64, 67, 0.15);\n",
              "      fill: #174EA6;\n",
              "    }\n",
              "\n",
              "    [theme=dark] .colab-df-convert {\n",
              "      background-color: #3B4455;\n",
              "      fill: #D2E3FC;\n",
              "    }\n",
              "\n",
              "    [theme=dark] .colab-df-convert:hover {\n",
              "      background-color: #434B5C;\n",
              "      box-shadow: 0px 1px 3px 1px rgba(0, 0, 0, 0.15);\n",
              "      filter: drop-shadow(0px 1px 2px rgba(0, 0, 0, 0.3));\n",
              "      fill: #FFFFFF;\n",
              "    }\n",
              "  </style>\n",
              "\n",
              "      <script>\n",
              "        const buttonEl =\n",
              "          document.querySelector('#df-dbedc653-5c1c-4c24-bdc4-3a8a8422e11a button.colab-df-convert');\n",
              "        buttonEl.style.display =\n",
              "          google.colab.kernel.accessAllowed ? 'block' : 'none';\n",
              "\n",
              "        async function convertToInteractive(key) {\n",
              "          const element = document.querySelector('#df-dbedc653-5c1c-4c24-bdc4-3a8a8422e11a');\n",
              "          const dataTable =\n",
              "            await google.colab.kernel.invokeFunction('convertToInteractive',\n",
              "                                                     [key], {});\n",
              "          if (!dataTable) return;\n",
              "\n",
              "          const docLinkHtml = 'Like what you see? Visit the ' +\n",
              "            '<a target=\"_blank\" href=https://colab.research.google.com/notebooks/data_table.ipynb>data table notebook</a>'\n",
              "            + ' to learn more about interactive tables.';\n",
              "          element.innerHTML = '';\n",
              "          dataTable['output_type'] = 'display_data';\n",
              "          await google.colab.output.renderOutput(dataTable, element);\n",
              "          const docLink = document.createElement('div');\n",
              "          docLink.innerHTML = docLinkHtml;\n",
              "          element.appendChild(docLink);\n",
              "        }\n",
              "      </script>\n",
              "    </div>\n",
              "  </div>\n"
            ]
          },
          "metadata": {},
          "execution_count": 6
        }
      ]
    },
    {
      "cell_type": "code",
      "source": [
        "df = df.dropna()"
      ],
      "metadata": {
        "id": "rc--C2jv3nat"
      },
      "execution_count": 7,
      "outputs": []
    },
    {
      "cell_type": "code",
      "source": [
        "df.shape"
      ],
      "metadata": {
        "id": "WlhIHD063okt",
        "colab": {
          "base_uri": "https://localhost:8080/"
        },
        "outputId": "3ba2ff5f-a2f9-4c00-faac-95f89f81daf4"
      },
      "execution_count": 8,
      "outputs": [
        {
          "output_type": "execute_result",
          "data": {
            "text/plain": [
              "(20656, 3)"
            ]
          },
          "metadata": {},
          "execution_count": 8
        }
      ]
    },
    {
      "cell_type": "code",
      "source": [
        "df.Rating.value_counts()"
      ],
      "metadata": {
        "id": "RRVmEaZr3pxL",
        "colab": {
          "base_uri": "https://localhost:8080/"
        },
        "outputId": "5f9b6ae3-1d9e-472d-cc84-bf33d38a60ca"
      },
      "execution_count": 9,
      "outputs": [
        {
          "output_type": "execute_result",
          "data": {
            "text/plain": [
              "5    14584\n",
              "1     2276\n",
              "4     2137\n",
              "3      911\n",
              "2      748\n",
              "Name: Rating, dtype: int64"
            ]
          },
          "metadata": {},
          "execution_count": 9
        }
      ]
    },
    {
      "cell_type": "code",
      "source": [
        "# делаем колонку Content текстовой - так как ругается что - 'int' object has no attribute 'translate'\n",
        "\n",
        "df.Content = df.Content.apply(lambda text: str(text))"
      ],
      "metadata": {
        "id": "_kAqm2L93rUZ",
        "colab": {
          "base_uri": "https://localhost:8080/"
        },
        "outputId": "b96f1b66-3c13-418e-deda-8ef64412c50a"
      },
      "execution_count": 10,
      "outputs": [
        {
          "output_type": "stream",
          "name": "stderr",
          "text": [
            "<ipython-input-10-26a918284a53>:3: SettingWithCopyWarning: \n",
            "A value is trying to be set on a copy of a slice from a DataFrame.\n",
            "Try using .loc[row_indexer,col_indexer] = value instead\n",
            "\n",
            "See the caveats in the documentation: https://pandas.pydata.org/pandas-docs/stable/user_guide/indexing.html#returning-a-view-versus-a-copy\n",
            "  df.Content = df.Content.apply(lambda text: str(text))\n"
          ]
        }
      ]
    },
    {
      "cell_type": "code",
      "source": [
        "from sklearn.model_selection import train_test_split\n",
        "\n",
        "X_train, X_test, y_train, y_test = train_test_split(df.Content, df.Rating, test_size=0.3, random_state=42, stratify=df.Rating)\n",
        "y_train.value_counts()"
      ],
      "metadata": {
        "id": "TsPDVxkh3trE",
        "colab": {
          "base_uri": "https://localhost:8080/"
        },
        "outputId": "6a5e3f7d-d1ec-45f5-b61c-a8d868e2187a"
      },
      "execution_count": 11,
      "outputs": [
        {
          "output_type": "execute_result",
          "data": {
            "text/plain": [
              "5    10209\n",
              "1     1593\n",
              "4     1496\n",
              "3      638\n",
              "2      523\n",
              "Name: Rating, dtype: int64"
            ]
          },
          "metadata": {},
          "execution_count": 11
        }
      ]
    },
    {
      "cell_type": "code",
      "source": [
        "y_test.value_counts()"
      ],
      "metadata": {
        "id": "R2XBIna13wlw",
        "colab": {
          "base_uri": "https://localhost:8080/"
        },
        "outputId": "55f4a0d6-8261-4f46-8109-27e7ecf97a6b"
      },
      "execution_count": 12,
      "outputs": [
        {
          "output_type": "execute_result",
          "data": {
            "text/plain": [
              "5    4375\n",
              "1     683\n",
              "4     641\n",
              "3     273\n",
              "2     225\n",
              "Name: Rating, dtype: int64"
            ]
          },
          "metadata": {},
          "execution_count": 12
        }
      ]
    },
    {
      "cell_type": "code",
      "source": [
        "corpus_train = X_train\n",
        "corpus_test = X_test"
      ],
      "metadata": {
        "id": "ScwtWlPC3x9j"
      },
      "execution_count": 13,
      "outputs": []
    },
    {
      "cell_type": "code",
      "source": [
        "tokenizer = Tokenizer(num_words=None,\n",
        "                     filters='#$%&()*+-<=>@[\\\\]^_`{|}~\\t\\n',\n",
        "                     lower = False, split = ' ')\n",
        "tokenizer.fit_on_texts(corpus_train)\n",
        "\n",
        "sequences_train = tokenizer.texts_to_sequences(corpus_train)\n",
        "sequences_test = tokenizer.texts_to_sequences(corpus_test)\n",
        "\n",
        "word_count = len(tokenizer.index_word) + 1\n",
        "training_length = max([len(i.split()) for i in corpus_train])\n",
        "\n",
        "X_train = pad_sequences(sequences_train, maxlen=training_length)\n",
        "X_test = pad_sequences(sequences_test, maxlen=training_length)"
      ],
      "metadata": {
        "id": "qr9SHCz530KR"
      },
      "execution_count": 14,
      "outputs": []
    },
    {
      "cell_type": "markdown",
      "source": [
        "#Построение сетей"
      ],
      "metadata": {
        "id": "9KriJKCJ31lx"
      }
    },
    {
      "cell_type": "code",
      "source": [
        "num_classes = 6\n",
        "\n",
        "epochs = 20\n",
        "batch_size = 512\n",
        "\n",
        "comparing_list = []"
      ],
      "metadata": {
        "id": "4zSliobM34Sm"
      },
      "execution_count": 15,
      "outputs": []
    },
    {
      "cell_type": "code",
      "source": [
        "y_train = keras.utils.np_utils.to_categorical(y_train, num_classes)\n",
        "y_test = keras.utils.np_utils.to_categorical(y_test, num_classes)"
      ],
      "metadata": {
        "id": "cAYGBRTQ35-Y"
      },
      "execution_count": 16,
      "outputs": []
    },
    {
      "cell_type": "markdown",
      "source": [
        "#CNN+pooling"
      ],
      "metadata": {
        "id": "8XnXjWGK37Um"
      }
    },
    {
      "cell_type": "code",
      "source": [
        "net_name = 'CNN+pooling'\n",
        "\n",
        "model = Sequential()\n",
        "model.add(Embedding(input_dim=word_count,\n",
        "                    output_dim=128,\n",
        "                    input_length=training_length,\n",
        "                    trainable=True,\n",
        "                    mask_zero=True,\n",
        "                    ))\n",
        "# model.add(Masking(mask_value=0.0))\n",
        "model.add(Conv1D(128, 3))\n",
        "model.add(Activation(\"relu\"))\n",
        "model.add(GlobalMaxPool1D())\n",
        "model.add(Dense(10))\n",
        "model.add(Activation(\"relu\"))\n",
        "# model.add(Dropout(0.5))\n",
        "model.add(Dense(num_classes))\n",
        "model.add(Activation('sigmoid'))\n",
        "\n",
        "model.compile(loss='categorical_crossentropy',\n",
        "              optimizer='adam',\n",
        "              metrics=['accuracy'])\n",
        "\n",
        "tensorboard=TensorBoard(log_dir='./logs', write_graph=True, write_images=True)\n",
        "early_stopping=EarlyStopping(monitor='val_loss')\n",
        "\n",
        "\n",
        "history = model.fit(X_train, y_train,\n",
        "                    batch_size=batch_size,\n",
        "                    epochs=epochs,\n",
        "                    verbose=1,\n",
        "                    validation_split=0.1,\n",
        "                    callbacks=[tensorboard, early_stopping],\n",
        "                    )"
      ],
      "metadata": {
        "id": "kkUmV5hk3_G-",
        "colab": {
          "base_uri": "https://localhost:8080/"
        },
        "outputId": "892f5d6b-d43f-4880-b61a-396571385685"
      },
      "execution_count": 17,
      "outputs": [
        {
          "output_type": "stream",
          "name": "stdout",
          "text": [
            "Epoch 1/20\n",
            "26/26 [==============================] - 39s 1s/step - loss: 1.7132 - accuracy: 0.0423 - val_loss: 1.6260 - val_accuracy: 0.0443\n",
            "Epoch 2/20\n",
            "26/26 [==============================] - 24s 892ms/step - loss: 1.5525 - accuracy: 0.2863 - val_loss: 1.4633 - val_accuracy: 0.7026\n",
            "Epoch 3/20\n",
            "26/26 [==============================] - 21s 829ms/step - loss: 1.3288 - accuracy: 0.7064 - val_loss: 1.2101 - val_accuracy: 0.7033\n",
            "Epoch 4/20\n",
            "26/26 [==============================] - 22s 817ms/step - loss: 1.0054 - accuracy: 0.7470 - val_loss: 0.9267 - val_accuracy: 0.7580\n",
            "Epoch 5/20\n",
            "26/26 [==============================] - 20s 784ms/step - loss: 0.8089 - accuracy: 0.7820 - val_loss: 0.8470 - val_accuracy: 0.7635\n",
            "Epoch 6/20\n",
            "26/26 [==============================] - 24s 920ms/step - loss: 0.6994 - accuracy: 0.7905 - val_loss: 0.8165 - val_accuracy: 0.7642\n",
            "Epoch 7/20\n",
            "26/26 [==============================] - 20s 774ms/step - loss: 0.6096 - accuracy: 0.8058 - val_loss: 0.7833 - val_accuracy: 0.7600\n",
            "Epoch 8/20\n",
            "26/26 [==============================] - 23s 862ms/step - loss: 0.5156 - accuracy: 0.8421 - val_loss: 0.7566 - val_accuracy: 0.7580\n",
            "Epoch 9/20\n",
            "26/26 [==============================] - 21s 825ms/step - loss: 0.4390 - accuracy: 0.8669 - val_loss: 0.7534 - val_accuracy: 0.7531\n",
            "Epoch 10/20\n",
            "26/26 [==============================] - 22s 816ms/step - loss: 0.3686 - accuracy: 0.8866 - val_loss: 0.7784 - val_accuracy: 0.7483\n"
          ]
        }
      ]
    },
    {
      "cell_type": "code",
      "source": [
        "preds_proba = model.predict(X_test)\n",
        "preds = [np.round(l) for l in preds_proba]\n",
        "print(classification_report([np.round(l) for l in y_test], preds))\n",
        "\n",
        "comparing_list.append([net_name, history.history['accuracy'][-1], history.history['val_accuracy'][-1]])"
      ],
      "metadata": {
        "id": "NNJ96tXj4A_c",
        "colab": {
          "base_uri": "https://localhost:8080/"
        },
        "outputId": "14e36d0e-3004-461e-cc32-45f1ad2ab926"
      },
      "execution_count": 18,
      "outputs": [
        {
          "output_type": "stream",
          "name": "stdout",
          "text": [
            "194/194 [==============================] - 2s 12ms/step\n",
            "              precision    recall  f1-score   support\n",
            "\n",
            "           0       0.00      0.00      0.00         0\n",
            "           1       0.47      0.81      0.59       683\n",
            "           2       0.14      0.40      0.21       225\n",
            "           3       0.07      0.70      0.12       273\n",
            "           4       0.18      0.69      0.28       641\n",
            "           5       0.83      0.96      0.89      4375\n",
            "\n",
            "   micro avg       0.45      0.88      0.59      6197\n",
            "   macro avg       0.28      0.59      0.35      6197\n",
            "weighted avg       0.66      0.88      0.73      6197\n",
            " samples avg       0.58      0.88      0.66      6197\n",
            "\n"
          ]
        },
        {
          "output_type": "stream",
          "name": "stderr",
          "text": [
            "/usr/local/lib/python3.10/dist-packages/sklearn/metrics/_classification.py:1344: UndefinedMetricWarning: Precision and F-score are ill-defined and being set to 0.0 in labels with no predicted samples. Use `zero_division` parameter to control this behavior.\n",
            "  _warn_prf(average, modifier, msg_start, len(result))\n",
            "/usr/local/lib/python3.10/dist-packages/sklearn/metrics/_classification.py:1344: UndefinedMetricWarning: Recall and F-score are ill-defined and being set to 0.0 in labels with no true samples. Use `zero_division` parameter to control this behavior.\n",
            "  _warn_prf(average, modifier, msg_start, len(result))\n"
          ]
        }
      ]
    },
    {
      "cell_type": "markdown",
      "source": [
        "#RNN"
      ],
      "metadata": {
        "id": "RIR93TOx4CVE"
      }
    },
    {
      "cell_type": "code",
      "source": [
        "net_name = 'RNN'\n",
        "\n",
        "model = Sequential()\n",
        "\n",
        "model.add(Embedding(input_dim=word_count,\n",
        "                    output_dim=128,\n",
        "                    input_length=training_length,\n",
        "                    trainable=True,\n",
        "                    mask_zero=True,\n",
        "                    ))\n",
        "# model.add(Masking(mask_value=0.0))\n",
        "\n",
        "model.add(SimpleRNN(64))\n",
        "model.add(Dense(64, activation='relu'))\n",
        "model.add(Dropout(0.5))\n",
        "model.add(Dense(num_classes, activation='sigmoid'))\n",
        "\n",
        "model.compile(loss='categorical_crossentropy',\n",
        "              optimizer='adam',\n",
        "              metrics=['accuracy'])\n",
        "\n",
        "history = model.fit(X_train, y_train,\n",
        "                    batch_size=batch_size,\n",
        "                    epochs=epochs,\n",
        "                    verbose=1,\n",
        "                    validation_split=0.1,\n",
        "                    callbacks=[tensorboard, early_stopping])"
      ],
      "metadata": {
        "id": "aDfg-OlQ4EuB",
        "colab": {
          "base_uri": "https://localhost:8080/"
        },
        "outputId": "24f17510-eb03-4a0a-95d3-21347110a0ed"
      },
      "execution_count": 19,
      "outputs": [
        {
          "output_type": "stream",
          "name": "stdout",
          "text": [
            "Epoch 1/20\n",
            "26/26 [==============================] - 18s 625ms/step - loss: 1.5597 - accuracy: 0.5777 - val_loss: 1.1336 - val_accuracy: 0.7026\n",
            "Epoch 2/20\n",
            "26/26 [==============================] - 17s 644ms/step - loss: 0.9369 - accuracy: 0.7256 - val_loss: 0.7656 - val_accuracy: 0.7580\n",
            "Epoch 3/20\n",
            "26/26 [==============================] - 18s 678ms/step - loss: 0.6719 - accuracy: 0.7815 - val_loss: 0.7025 - val_accuracy: 0.7676\n",
            "Epoch 4/20\n",
            "26/26 [==============================] - 18s 685ms/step - loss: 0.5156 - accuracy: 0.8310 - val_loss: 0.7093 - val_accuracy: 0.7559\n"
          ]
        }
      ]
    },
    {
      "cell_type": "code",
      "source": [
        "preds_proba = model.predict(X_test)\n",
        "preds = [np.round(l) for l in preds_proba]\n",
        "print(classification_report([np.round(l) for l in y_test], preds))\n",
        "\n",
        "comparing_list.append([net_name, history.history['accuracy'][-1], history.history['val_accuracy'][-1]])"
      ],
      "metadata": {
        "id": "_ilSZ8RS4Grt",
        "colab": {
          "base_uri": "https://localhost:8080/"
        },
        "outputId": "e73a5b14-d511-4f7b-a914-e9ce31721e14"
      },
      "execution_count": 20,
      "outputs": [
        {
          "output_type": "stream",
          "name": "stdout",
          "text": [
            "194/194 [==============================] - 3s 16ms/step\n",
            "              precision    recall  f1-score   support\n",
            "\n",
            "           0       0.00      0.00      0.00         0\n",
            "           1       0.40      0.83      0.54       683\n",
            "           2       0.14      0.33      0.19       225\n",
            "           3       0.17      0.37      0.24       273\n",
            "           4       0.10      0.86      0.18       641\n",
            "           5       0.84      0.96      0.90      4375\n",
            "\n",
            "   micro avg       0.42      0.89      0.57      6197\n",
            "   macro avg       0.28      0.56      0.34      6197\n",
            "weighted avg       0.66      0.89      0.73      6197\n",
            " samples avg       0.43      0.89      0.58      6197\n",
            "\n"
          ]
        },
        {
          "output_type": "stream",
          "name": "stderr",
          "text": [
            "/usr/local/lib/python3.10/dist-packages/sklearn/metrics/_classification.py:1344: UndefinedMetricWarning: Precision and F-score are ill-defined and being set to 0.0 in labels with no predicted samples. Use `zero_division` parameter to control this behavior.\n",
            "  _warn_prf(average, modifier, msg_start, len(result))\n",
            "/usr/local/lib/python3.10/dist-packages/sklearn/metrics/_classification.py:1344: UndefinedMetricWarning: Recall and F-score are ill-defined and being set to 0.0 in labels with no true samples. Use `zero_division` parameter to control this behavior.\n",
            "  _warn_prf(average, modifier, msg_start, len(result))\n"
          ]
        }
      ]
    },
    {
      "cell_type": "markdown",
      "source": [
        "#CNN + RNN"
      ],
      "metadata": {
        "id": "tsFsQEmL4IJ9"
      }
    },
    {
      "cell_type": "code",
      "source": [
        "net_name = 'CNN+RNN'\n",
        "\n",
        "model = Sequential()\n",
        "\n",
        "model.add(Embedding(input_dim=word_count,\n",
        "                    output_dim=128,\n",
        "                    input_length=training_length,\n",
        "                    trainable=True,\n",
        "                    mask_zero=True,\n",
        "                    ))\n",
        "# model.add(Masking(mask_value=0.0))\n",
        "\n",
        "model.add(Conv1D(128, 3, activation='relu'))\n",
        "# model.add(GlobalMaxPool1D(keepdims=True))\n",
        "model.add(SimpleRNN(64))\n",
        "model.add(Dense(64, activation='relu'))\n",
        "model.add(Dropout(0.5))\n",
        "model.add(Dense(num_classes, activation='sigmoid'))\n",
        "\n",
        "model.build()\n",
        "\n",
        "# print(model.summary())\n",
        "# plot_model(model, show_shapes=True, show_layer_names=True)\n",
        "\n",
        "model.compile(loss='categorical_crossentropy',\n",
        "              optimizer='adam',\n",
        "              metrics=['accuracy'])\n",
        "\n",
        "history = model.fit(X_train, y_train,\n",
        "                    batch_size=batch_size,\n",
        "                    epochs=epochs,\n",
        "                    verbose=1,\n",
        "                    validation_split=0.1,\n",
        "                    callbacks=[tensorboard, early_stopping])"
      ],
      "metadata": {
        "id": "WCNWQjjK4KaW",
        "colab": {
          "base_uri": "https://localhost:8080/"
        },
        "outputId": "c2b48213-de78-4e8e-db36-1dea99eb1eed"
      },
      "execution_count": 21,
      "outputs": [
        {
          "output_type": "stream",
          "name": "stdout",
          "text": [
            "Epoch 1/20\n",
            "26/26 [==============================] - 32s 1s/step - loss: 1.2723 - accuracy: 0.6160 - val_loss: 0.8739 - val_accuracy: 0.7068\n",
            "Epoch 2/20\n",
            "26/26 [==============================] - 28s 1s/step - loss: 0.8940 - accuracy: 0.7287 - val_loss: 0.7635 - val_accuracy: 0.7414\n",
            "Epoch 3/20\n",
            "26/26 [==============================] - 29s 1s/step - loss: 0.7457 - accuracy: 0.7718 - val_loss: 0.7178 - val_accuracy: 0.7559\n",
            "Epoch 4/20\n",
            "26/26 [==============================] - 29s 1s/step - loss: 0.6084 - accuracy: 0.8000 - val_loss: 0.6889 - val_accuracy: 0.7586\n",
            "Epoch 5/20\n",
            "26/26 [==============================] - 30s 1s/step - loss: 0.4955 - accuracy: 0.8363 - val_loss: 0.7195 - val_accuracy: 0.7476\n"
          ]
        }
      ]
    },
    {
      "cell_type": "code",
      "source": [
        "preds_proba = model.predict(X_test)\n",
        "preds = [np.round(l) for l in preds_proba]\n",
        "print(classification_report([np.round(l) for l in y_test], preds))\n",
        "\n",
        "comparing_list.append([net_name, history.history['accuracy'][-1], history.history['val_accuracy'][-1]])"
      ],
      "metadata": {
        "id": "1vfiv2R24MXE",
        "colab": {
          "base_uri": "https://localhost:8080/"
        },
        "outputId": "596f8f46-d6d1-4e98-9d1b-2b14f930a02f"
      },
      "execution_count": 22,
      "outputs": [
        {
          "output_type": "stream",
          "name": "stdout",
          "text": [
            "194/194 [==============================] - 4s 21ms/step\n",
            "              precision    recall  f1-score   support\n",
            "\n",
            "           0       0.00      0.00      0.00         0\n",
            "           1       0.37      0.83      0.51       683\n",
            "           2       0.14      0.72      0.23       225\n",
            "           3       0.15      0.70      0.25       273\n",
            "           4       0.10      0.99      0.19       641\n",
            "           5       0.82      0.97      0.89      4375\n",
            "\n",
            "   micro avg       0.38      0.93      0.54      6197\n",
            "   macro avg       0.26      0.70      0.34      6197\n",
            "weighted avg       0.64      0.93      0.72      6197\n",
            " samples avg       0.42      0.93      0.57      6197\n",
            "\n"
          ]
        },
        {
          "output_type": "stream",
          "name": "stderr",
          "text": [
            "/usr/local/lib/python3.10/dist-packages/sklearn/metrics/_classification.py:1344: UndefinedMetricWarning: Precision and F-score are ill-defined and being set to 0.0 in labels with no predicted samples. Use `zero_division` parameter to control this behavior.\n",
            "  _warn_prf(average, modifier, msg_start, len(result))\n",
            "/usr/local/lib/python3.10/dist-packages/sklearn/metrics/_classification.py:1344: UndefinedMetricWarning: Recall and F-score are ill-defined and being set to 0.0 in labels with no true samples. Use `zero_division` parameter to control this behavior.\n",
            "  _warn_prf(average, modifier, msg_start, len(result))\n"
          ]
        }
      ]
    },
    {
      "cell_type": "markdown",
      "source": [
        "#CNN+pooling+RNN"
      ],
      "metadata": {
        "id": "k0m6MK4_4N_G"
      }
    },
    {
      "cell_type": "code",
      "source": [
        "net_name = 'CNN+pooling+RNN'\n",
        "\n",
        "model = Sequential()\n",
        "\n",
        "model.add(Embedding(input_dim=word_count,\n",
        "                    output_dim=128,\n",
        "                    input_length=training_length,\n",
        "                    trainable=True,\n",
        "                    mask_zero=True,\n",
        "                    ))\n",
        "# model.add(Masking(mask_value=0.0))\n",
        "\n",
        "model.add(Conv1D(128, 3, activation='relu'))\n",
        "model.add(GlobalMaxPool1D(keepdims=True))\n",
        "model.add(SimpleRNN(64))\n",
        "model.add(Dense(64, activation='relu'))\n",
        "model.add(Dropout(0.5))\n",
        "model.add(Dense(num_classes, activation='sigmoid'))\n",
        "\n",
        "model.build()\n",
        "\n",
        "# print(model.summary())\n",
        "# plot_model(model, show_shapes=True, show_layer_names=True)\n",
        "\n",
        "model.compile(loss='categorical_crossentropy',\n",
        "              optimizer='adam',\n",
        "              metrics=['accuracy'])\n",
        "\n",
        "history = model.fit(X_train, y_train,\n",
        "                    batch_size=batch_size,\n",
        "                    epochs=epochs,\n",
        "                    verbose=1,\n",
        "                    validation_split=0.1,\n",
        "                    callbacks=[tensorboard, early_stopping])"
      ],
      "metadata": {
        "id": "wWwCGyCN4QXE",
        "colab": {
          "base_uri": "https://localhost:8080/"
        },
        "outputId": "33622d27-d804-471a-bd29-974963c42c4f"
      },
      "execution_count": 23,
      "outputs": [
        {
          "output_type": "stream",
          "name": "stdout",
          "text": [
            "Epoch 1/20\n",
            "26/26 [==============================] - 24s 863ms/step - loss: 1.3148 - accuracy: 0.6709 - val_loss: 0.9453 - val_accuracy: 0.7026\n",
            "Epoch 2/20\n",
            "26/26 [==============================] - 20s 770ms/step - loss: 0.8534 - accuracy: 0.7296 - val_loss: 0.7123 - val_accuracy: 0.7607\n",
            "Epoch 3/20\n",
            "26/26 [==============================] - 22s 852ms/step - loss: 0.6774 - accuracy: 0.7762 - val_loss: 0.6632 - val_accuracy: 0.7725\n",
            "Epoch 4/20\n",
            "26/26 [==============================] - 20s 771ms/step - loss: 0.5725 - accuracy: 0.8052 - val_loss: 0.6449 - val_accuracy: 0.7739\n",
            "Epoch 5/20\n",
            "26/26 [==============================] - 21s 811ms/step - loss: 0.4858 - accuracy: 0.8330 - val_loss: 0.6690 - val_accuracy: 0.7704\n"
          ]
        }
      ]
    },
    {
      "cell_type": "code",
      "source": [
        "preds_proba = model.predict(X_test)\n",
        "preds = [np.round(l) for l in preds_proba]\n",
        "print(classification_report([np.round(l) for l in y_test], preds))\n",
        "\n",
        "comparing_list.append([net_name, history.history['accuracy'][-1], history.history['val_accuracy'][-1]])"
      ],
      "metadata": {
        "id": "J1v4lwYj4SJQ",
        "colab": {
          "base_uri": "https://localhost:8080/"
        },
        "outputId": "fe4e3099-4ded-47c7-bdc5-b4de959812c6"
      },
      "execution_count": 24,
      "outputs": [
        {
          "output_type": "stream",
          "name": "stdout",
          "text": [
            "194/194 [==============================] - 3s 15ms/step\n",
            "              precision    recall  f1-score   support\n",
            "\n",
            "           0       0.00      0.00      0.00         0\n",
            "           1       0.42      0.86      0.56       683\n",
            "           2       0.14      0.80      0.23       225\n",
            "           3       0.14      0.81      0.24       273\n",
            "           4       0.11      0.95      0.19       641\n",
            "           5       0.83      0.97      0.89      4375\n",
            "\n",
            "   micro avg       0.39      0.94      0.55      6197\n",
            "   macro avg       0.27      0.73      0.35      6197\n",
            "weighted avg       0.65      0.94      0.73      6197\n",
            " samples avg       0.42      0.94      0.58      6197\n",
            "\n"
          ]
        },
        {
          "output_type": "stream",
          "name": "stderr",
          "text": [
            "/usr/local/lib/python3.10/dist-packages/sklearn/metrics/_classification.py:1344: UndefinedMetricWarning: Precision and F-score are ill-defined and being set to 0.0 in labels with no predicted samples. Use `zero_division` parameter to control this behavior.\n",
            "  _warn_prf(average, modifier, msg_start, len(result))\n",
            "/usr/local/lib/python3.10/dist-packages/sklearn/metrics/_classification.py:1344: UndefinedMetricWarning: Recall and F-score are ill-defined and being set to 0.0 in labels with no true samples. Use `zero_division` parameter to control this behavior.\n",
            "  _warn_prf(average, modifier, msg_start, len(result))\n"
          ]
        }
      ]
    },
    {
      "cell_type": "markdown",
      "source": [
        "#RNN + CNN + CNN"
      ],
      "metadata": {
        "id": "JLdEZDyR4T2o"
      }
    },
    {
      "cell_type": "code",
      "source": [
        "net_name = 'RNN+CNN+CNN'\n",
        "\n",
        "model = Sequential()\n",
        "\n",
        "model.add(Embedding(input_dim=word_count,\n",
        "                    output_dim=128,\n",
        "                    input_length=training_length,\n",
        "                    trainable=True,\n",
        "                    mask_zero=True,\n",
        "                    ))\n",
        "model.add(SimpleRNN(64, recurrent_dropout=0.2, return_sequences=\"True\"))\n",
        "model.add(Conv1D(64, 3, activation=\"linear\"))\n",
        "model.add(Conv1D(64, 1, activation=\"linear\"))\n",
        "model.add(Flatten())\n",
        "model.add(Dropout(0.5))\n",
        "model.add(Dense(num_classes, activation=\"sigmoid\"))\n",
        "\n",
        "\n",
        "model.compile(\n",
        "    optimizer='adam', loss='binary_crossentropy', metrics=['accuracy'])\n",
        "\n",
        "early_stopping=EarlyStopping(monitor='val_loss')\n",
        "\n",
        "history = model.fit(X_train, y_train,\n",
        "                    batch_size=batch_size,\n",
        "                    epochs=epochs,\n",
        "                    verbose=1,\n",
        "                    validation_split=0.1,\n",
        "                    callbacks=[tensorboard, early_stopping])"
      ],
      "metadata": {
        "id": "07jbX-SX4WOJ",
        "colab": {
          "base_uri": "https://localhost:8080/"
        },
        "outputId": "51935feb-8dce-49f3-9921-688fdfd0cddb"
      },
      "execution_count": 25,
      "outputs": [
        {
          "output_type": "stream",
          "name": "stdout",
          "text": [
            "Epoch 1/20\n",
            "26/26 [==============================] - 31s 1s/step - loss: 0.3884 - accuracy: 0.6811 - val_loss: 0.2355 - val_accuracy: 0.7158\n",
            "Epoch 2/20\n",
            "26/26 [==============================] - 28s 1s/step - loss: 0.2283 - accuracy: 0.7310 - val_loss: 0.2107 - val_accuracy: 0.7469\n",
            "Epoch 3/20\n",
            "26/26 [==============================] - 29s 1s/step - loss: 0.1962 - accuracy: 0.7642 - val_loss: 0.1991 - val_accuracy: 0.7545\n",
            "Epoch 4/20\n",
            "26/26 [==============================] - 29s 1s/step - loss: 0.1694 - accuracy: 0.7919 - val_loss: 0.1987 - val_accuracy: 0.7580\n",
            "Epoch 5/20\n",
            "26/26 [==============================] - 29s 1s/step - loss: 0.1495 - accuracy: 0.8183 - val_loss: 0.2050 - val_accuracy: 0.7476\n"
          ]
        }
      ]
    },
    {
      "cell_type": "code",
      "source": [
        "preds_proba = model.predict(X_test)\n",
        "preds = [np.round(l) for l in preds_proba]\n",
        "print(classification_report([np.round(l) for l in y_test], preds))\n",
        "\n",
        "comparing_list.append([net_name, history.history['accuracy'][-1], history.history['val_accuracy'][-1]])"
      ],
      "metadata": {
        "id": "1p3xdfRe4YCw",
        "colab": {
          "base_uri": "https://localhost:8080/"
        },
        "outputId": "63be1019-d4ec-4f49-cab6-ff19aa037fef"
      },
      "execution_count": 26,
      "outputs": [
        {
          "output_type": "stream",
          "name": "stdout",
          "text": [
            "194/194 [==============================] - 4s 21ms/step\n",
            "              precision    recall  f1-score   support\n",
            "\n",
            "           0       0.00      0.00      0.00         0\n",
            "           1       0.52      0.20      0.29       683\n",
            "           2       0.00      0.00      0.00       225\n",
            "           3       0.00      0.00      0.00       273\n",
            "           4       0.14      0.00      0.01       641\n",
            "           5       0.89      0.93      0.91      4375\n",
            "\n",
            "   micro avg       0.86      0.68      0.76      6197\n",
            "   macro avg       0.26      0.19      0.20      6197\n",
            "weighted avg       0.70      0.68      0.68      6197\n",
            " samples avg       0.68      0.68      0.68      6197\n",
            "\n"
          ]
        },
        {
          "output_type": "stream",
          "name": "stderr",
          "text": [
            "/usr/local/lib/python3.10/dist-packages/sklearn/metrics/_classification.py:1344: UndefinedMetricWarning: Precision and F-score are ill-defined and being set to 0.0 in labels with no predicted samples. Use `zero_division` parameter to control this behavior.\n",
            "  _warn_prf(average, modifier, msg_start, len(result))\n",
            "/usr/local/lib/python3.10/dist-packages/sklearn/metrics/_classification.py:1344: UndefinedMetricWarning: Recall and F-score are ill-defined and being set to 0.0 in labels with no true samples. Use `zero_division` parameter to control this behavior.\n",
            "  _warn_prf(average, modifier, msg_start, len(result))\n",
            "/usr/local/lib/python3.10/dist-packages/sklearn/metrics/_classification.py:1344: UndefinedMetricWarning: Precision and F-score are ill-defined and being set to 0.0 in samples with no predicted labels. Use `zero_division` parameter to control this behavior.\n",
            "  _warn_prf(average, modifier, msg_start, len(result))\n"
          ]
        }
      ]
    },
    {
      "cell_type": "markdown",
      "source": [
        "#RNN CNN pooling RNN"
      ],
      "metadata": {
        "id": "24Sl-Ghx4Zpf"
      }
    },
    {
      "cell_type": "code",
      "source": [
        "net_name = 'RNN+CNN+pooling+RNN'\n",
        "\n",
        "model = Sequential()\n",
        "\n",
        "model.add(Embedding(input_dim=word_count,\n",
        "                    output_dim=128,\n",
        "                    input_length=training_length,\n",
        "                    trainable=True,\n",
        "                    mask_zero=True,\n",
        "                    ))\n",
        "# model.add(Masking(mask_value=0.0))\n",
        "\n",
        "model.add(SimpleRNN(128, return_sequences=True)) # return_sequences Сохраняет размерность для Conv1D\n",
        "model.add(Conv1D(128, 3, activation='relu'))\n",
        "model.add(GlobalMaxPool1D(keepdims=True)) # keepdims Сохраняет размерность для SimpleRNN\n",
        "model.add(SimpleRNN(64))\n",
        "model.add(Dense(64, activation='relu'))\n",
        "model.add(Dropout(0.5))\n",
        "model.add(Dense(num_classes, activation='sigmoid'))\n",
        "\n",
        "model.build()\n",
        "\n",
        "model.compile(loss='categorical_crossentropy',\n",
        "              optimizer='adam',\n",
        "              metrics=['accuracy'])\n",
        "\n",
        "history = model.fit(X_train, y_train,\n",
        "                    batch_size=batch_size,\n",
        "                    epochs=epochs,\n",
        "                    verbose=1,\n",
        "                    validation_split=0.1,\n",
        "                    callbacks=[tensorboard, early_stopping])"
      ],
      "metadata": {
        "id": "PrFToamb4cX1",
        "colab": {
          "base_uri": "https://localhost:8080/"
        },
        "outputId": "48c5cafa-5d54-41af-ab85-9b3ab7d69a8f"
      },
      "execution_count": 27,
      "outputs": [
        {
          "output_type": "stream",
          "name": "stdout",
          "text": [
            "Epoch 1/20\n",
            "26/26 [==============================] - 48s 2s/step - loss: 1.2263 - accuracy: 0.6938 - val_loss: 0.7824 - val_accuracy: 0.7441\n",
            "Epoch 2/20\n",
            "26/26 [==============================] - 44s 2s/step - loss: 0.7553 - accuracy: 0.7531 - val_loss: 0.7001 - val_accuracy: 0.7635\n",
            "Epoch 3/20\n",
            "26/26 [==============================] - 43s 2s/step - loss: 0.6438 - accuracy: 0.7786 - val_loss: 0.7036 - val_accuracy: 0.7635\n"
          ]
        }
      ]
    },
    {
      "cell_type": "code",
      "source": [
        "preds_proba = model.predict(X_test)\n",
        "preds = [np.round(l) for l in preds_proba]\n",
        "print(classification_report([np.round(l) for l in y_test], preds))\n",
        "\n",
        "comparing_list.append([net_name, history.history['accuracy'][-1], history.history['val_accuracy'][-1]])"
      ],
      "metadata": {
        "id": "vpDhxSoA4eWI",
        "colab": {
          "base_uri": "https://localhost:8080/"
        },
        "outputId": "28a15ae5-5a0a-4d11-d2ad-39913375d692"
      },
      "execution_count": 28,
      "outputs": [
        {
          "output_type": "stream",
          "name": "stdout",
          "text": [
            "194/194 [==============================] - 7s 34ms/step\n",
            "              precision    recall  f1-score   support\n",
            "\n",
            "           0       0.00      0.00      0.00         0\n",
            "           1       0.35      0.94      0.51       683\n",
            "           2       0.15      0.48      0.23       225\n",
            "           3       0.15      0.75      0.25       273\n",
            "           4       0.10      0.91      0.18       641\n",
            "           5       0.82      0.97      0.89      4375\n",
            "\n",
            "   micro avg       0.39      0.93      0.55      6197\n",
            "   macro avg       0.26      0.67      0.34      6197\n",
            "weighted avg       0.64      0.93      0.72      6197\n",
            " samples avg       0.42      0.93      0.57      6197\n",
            "\n"
          ]
        },
        {
          "output_type": "stream",
          "name": "stderr",
          "text": [
            "/usr/local/lib/python3.10/dist-packages/sklearn/metrics/_classification.py:1344: UndefinedMetricWarning: Precision and F-score are ill-defined and being set to 0.0 in labels with no predicted samples. Use `zero_division` parameter to control this behavior.\n",
            "  _warn_prf(average, modifier, msg_start, len(result))\n",
            "/usr/local/lib/python3.10/dist-packages/sklearn/metrics/_classification.py:1344: UndefinedMetricWarning: Recall and F-score are ill-defined and being set to 0.0 in labels with no true samples. Use `zero_division` parameter to control this behavior.\n",
            "  _warn_prf(average, modifier, msg_start, len(result))\n"
          ]
        }
      ]
    },
    {
      "cell_type": "markdown",
      "source": [
        "#(CNN RNN)x3 + polling"
      ],
      "metadata": {
        "id": "xt5zhwr24f_P"
      }
    },
    {
      "cell_type": "code",
      "source": [
        "net_name = '(CNN+RNN)x3+polling'\n",
        "\n",
        "model = Sequential()\n",
        "\n",
        "model.add(Embedding(input_dim=word_count,\n",
        "                    output_dim=128,\n",
        "                    input_length=training_length,\n",
        "                    trainable=True,\n",
        "                    mask_zero=True,\n",
        "                    ))\n",
        "# model.add(Masking(mask_value=0.0))\n",
        "model.add(Conv1D(128, 3, activation='relu'))\n",
        "model.add(SimpleRNN(128, return_sequences=True)) # return_sequences Сохраняет размерность для Conv1D\n",
        "model.add(Conv1D(64, 3, activation='relu'))\n",
        "model.add(SimpleRNN(64, return_sequences=True)) # return_sequences Сохраняет размерность для Conv1D\n",
        "model.add(Conv1D(32, 2, activation='relu'))\n",
        "model.add(SimpleRNN(32, return_sequences=True)) # return_sequences Сохраняет размерность для Conv1D\n",
        "model.add(GlobalMaxPool1D())\n",
        "model.add(Dense(32, activation='relu'))\n",
        "model.add(Dropout(0.5))\n",
        "model.add(Dense(num_classes, activation='sigmoid'))\n",
        "\n",
        "model.build()\n",
        "\n",
        "model.compile(loss='categorical_crossentropy',\n",
        "              optimizer='adam',\n",
        "              metrics=['accuracy'])\n",
        "\n",
        "history = model.fit(X_train, y_train,\n",
        "                    batch_size=batch_size,\n",
        "                    epochs=epochs,\n",
        "                    verbose=1,\n",
        "                    validation_split=0.1,\n",
        "                    callbacks=[tensorboard, early_stopping])"
      ],
      "metadata": {
        "id": "j_QTGO2j4igp",
        "colab": {
          "base_uri": "https://localhost:8080/"
        },
        "outputId": "68c3083c-760a-4e64-c74d-e5c5d5bf5b10"
      },
      "execution_count": 29,
      "outputs": [
        {
          "output_type": "stream",
          "name": "stdout",
          "text": [
            "Epoch 1/20\n",
            "26/26 [==============================] - 64s 2s/step - loss: 1.3230 - accuracy: 0.6006 - val_loss: 0.9085 - val_accuracy: 0.7344\n",
            "Epoch 2/20\n",
            "26/26 [==============================] - 58s 2s/step - loss: 0.9503 - accuracy: 0.7084 - val_loss: 0.7751 - val_accuracy: 0.7483\n",
            "Epoch 3/20\n",
            "26/26 [==============================] - 58s 2s/step - loss: 0.8240 - accuracy: 0.7410 - val_loss: 0.7452 - val_accuracy: 0.7600\n",
            "Epoch 4/20\n",
            "26/26 [==============================] - 57s 2s/step - loss: 0.7500 - accuracy: 0.7566 - val_loss: 0.7034 - val_accuracy: 0.7690\n",
            "Epoch 5/20\n",
            "26/26 [==============================] - 58s 2s/step - loss: 0.6779 - accuracy: 0.7735 - val_loss: 0.6802 - val_accuracy: 0.7683\n",
            "Epoch 6/20\n",
            "26/26 [==============================] - 58s 2s/step - loss: 0.6248 - accuracy: 0.7847 - val_loss: 0.6889 - val_accuracy: 0.7690\n"
          ]
        }
      ]
    },
    {
      "cell_type": "code",
      "source": [
        "preds_proba = model.predict(X_test)\n",
        "preds = [np.round(l) for l in preds_proba]\n",
        "print(classification_report([np.round(l) for l in y_test], preds))\n",
        "\n",
        "comparing_list.append([net_name, history.history['accuracy'][-1], history.history['val_accuracy'][-1]])"
      ],
      "metadata": {
        "id": "x1eRb7Lv4kQ-",
        "colab": {
          "base_uri": "https://localhost:8080/"
        },
        "outputId": "74d7cef2-6782-4226-fdc3-b18696f425df"
      },
      "execution_count": 30,
      "outputs": [
        {
          "output_type": "stream",
          "name": "stdout",
          "text": [
            "194/194 [==============================] - 12s 61ms/step\n",
            "              precision    recall  f1-score   support\n",
            "\n",
            "           0       0.00      0.00      0.00         0\n",
            "           1       0.34      0.93      0.50       683\n",
            "           2       0.14      0.72      0.23       225\n",
            "           3       0.13      0.88      0.23       273\n",
            "           4       0.10      0.90      0.19       641\n",
            "           5       0.78      0.98      0.87      4375\n",
            "\n",
            "   micro avg       0.37      0.95      0.53      6197\n",
            "   macro avg       0.25      0.74      0.34      6197\n",
            "weighted avg       0.61      0.95      0.71      6197\n",
            " samples avg       0.41      0.95      0.57      6197\n",
            "\n"
          ]
        },
        {
          "output_type": "stream",
          "name": "stderr",
          "text": [
            "/usr/local/lib/python3.10/dist-packages/sklearn/metrics/_classification.py:1344: UndefinedMetricWarning: Precision and F-score are ill-defined and being set to 0.0 in labels with no predicted samples. Use `zero_division` parameter to control this behavior.\n",
            "  _warn_prf(average, modifier, msg_start, len(result))\n",
            "/usr/local/lib/python3.10/dist-packages/sklearn/metrics/_classification.py:1344: UndefinedMetricWarning: Recall and F-score are ill-defined and being set to 0.0 in labels with no true samples. Use `zero_division` parameter to control this behavior.\n",
            "  _warn_prf(average, modifier, msg_start, len(result))\n"
          ]
        }
      ]
    },
    {
      "cell_type": "markdown",
      "source": [
        "#Сравнение результатов"
      ],
      "metadata": {
        "id": "7_qZHKgD4l1g"
      }
    },
    {
      "cell_type": "code",
      "source": [
        "comparing_list"
      ],
      "metadata": {
        "id": "_W8zNS3d4nzR",
        "colab": {
          "base_uri": "https://localhost:8080/"
        },
        "outputId": "9d551e65-fa35-49b2-df29-ec0784f3434a"
      },
      "execution_count": 31,
      "outputs": [
        {
          "output_type": "execute_result",
          "data": {
            "text/plain": [
              "[['CNN+pooling', 0.8865749835968018, 0.748271107673645],\n",
              " ['RNN', 0.8310151100158691, 0.7558782696723938],\n",
              " ['CNN+RNN', 0.8363175392150879, 0.7475795149803162],\n",
              " ['CNN+pooling+RNN', 0.833013117313385, 0.770401120185852],\n",
              " ['RNN+CNN+CNN', 0.8183355331420898, 0.7475795149803162],\n",
              " ['RNN+CNN+pooling+RNN', 0.7786059975624084, 0.7634854912757874],\n",
              " ['(CNN+RNN)x3+polling', 0.7846768498420715, 0.7690179944038391]]"
            ]
          },
          "metadata": {},
          "execution_count": 31
        }
      ]
    },
    {
      "cell_type": "code",
      "source": [
        "pd.DataFrame(comparing_list, columns=['net_name', 'accuracy', 'val_accuracy'])"
      ],
      "metadata": {
        "id": "EpnAdQYl4pWq",
        "colab": {
          "base_uri": "https://localhost:8080/",
          "height": 269
        },
        "outputId": "1885031f-606b-43c7-cd06-1696372dae09"
      },
      "execution_count": 32,
      "outputs": [
        {
          "output_type": "execute_result",
          "data": {
            "text/plain": [
              "              net_name  accuracy  val_accuracy\n",
              "0          CNN+pooling  0.886575      0.748271\n",
              "1                  RNN  0.831015      0.755878\n",
              "2              CNN+RNN  0.836318      0.747580\n",
              "3      CNN+pooling+RNN  0.833013      0.770401\n",
              "4          RNN+CNN+CNN  0.818336      0.747580\n",
              "5  RNN+CNN+pooling+RNN  0.778606      0.763485\n",
              "6  (CNN+RNN)x3+polling  0.784677      0.769018"
            ],
            "text/html": [
              "\n",
              "\n",
              "  <div id=\"df-ee67e574-a103-4a88-8a6b-0efad28e7a06\">\n",
              "    <div class=\"colab-df-container\">\n",
              "      <div>\n",
              "<style scoped>\n",
              "    .dataframe tbody tr th:only-of-type {\n",
              "        vertical-align: middle;\n",
              "    }\n",
              "\n",
              "    .dataframe tbody tr th {\n",
              "        vertical-align: top;\n",
              "    }\n",
              "\n",
              "    .dataframe thead th {\n",
              "        text-align: right;\n",
              "    }\n",
              "</style>\n",
              "<table border=\"1\" class=\"dataframe\">\n",
              "  <thead>\n",
              "    <tr style=\"text-align: right;\">\n",
              "      <th></th>\n",
              "      <th>net_name</th>\n",
              "      <th>accuracy</th>\n",
              "      <th>val_accuracy</th>\n",
              "    </tr>\n",
              "  </thead>\n",
              "  <tbody>\n",
              "    <tr>\n",
              "      <th>0</th>\n",
              "      <td>CNN+pooling</td>\n",
              "      <td>0.886575</td>\n",
              "      <td>0.748271</td>\n",
              "    </tr>\n",
              "    <tr>\n",
              "      <th>1</th>\n",
              "      <td>RNN</td>\n",
              "      <td>0.831015</td>\n",
              "      <td>0.755878</td>\n",
              "    </tr>\n",
              "    <tr>\n",
              "      <th>2</th>\n",
              "      <td>CNN+RNN</td>\n",
              "      <td>0.836318</td>\n",
              "      <td>0.747580</td>\n",
              "    </tr>\n",
              "    <tr>\n",
              "      <th>3</th>\n",
              "      <td>CNN+pooling+RNN</td>\n",
              "      <td>0.833013</td>\n",
              "      <td>0.770401</td>\n",
              "    </tr>\n",
              "    <tr>\n",
              "      <th>4</th>\n",
              "      <td>RNN+CNN+CNN</td>\n",
              "      <td>0.818336</td>\n",
              "      <td>0.747580</td>\n",
              "    </tr>\n",
              "    <tr>\n",
              "      <th>5</th>\n",
              "      <td>RNN+CNN+pooling+RNN</td>\n",
              "      <td>0.778606</td>\n",
              "      <td>0.763485</td>\n",
              "    </tr>\n",
              "    <tr>\n",
              "      <th>6</th>\n",
              "      <td>(CNN+RNN)x3+polling</td>\n",
              "      <td>0.784677</td>\n",
              "      <td>0.769018</td>\n",
              "    </tr>\n",
              "  </tbody>\n",
              "</table>\n",
              "</div>\n",
              "      <button class=\"colab-df-convert\" onclick=\"convertToInteractive('df-ee67e574-a103-4a88-8a6b-0efad28e7a06')\"\n",
              "              title=\"Convert this dataframe to an interactive table.\"\n",
              "              style=\"display:none;\">\n",
              "\n",
              "  <svg xmlns=\"http://www.w3.org/2000/svg\" height=\"24px\"viewBox=\"0 0 24 24\"\n",
              "       width=\"24px\">\n",
              "    <path d=\"M0 0h24v24H0V0z\" fill=\"none\"/>\n",
              "    <path d=\"M18.56 5.44l.94 2.06.94-2.06 2.06-.94-2.06-.94-.94-2.06-.94 2.06-2.06.94zm-11 1L8.5 8.5l.94-2.06 2.06-.94-2.06-.94L8.5 2.5l-.94 2.06-2.06.94zm10 10l.94 2.06.94-2.06 2.06-.94-2.06-.94-.94-2.06-.94 2.06-2.06.94z\"/><path d=\"M17.41 7.96l-1.37-1.37c-.4-.4-.92-.59-1.43-.59-.52 0-1.04.2-1.43.59L10.3 9.45l-7.72 7.72c-.78.78-.78 2.05 0 2.83L4 21.41c.39.39.9.59 1.41.59.51 0 1.02-.2 1.41-.59l7.78-7.78 2.81-2.81c.8-.78.8-2.07 0-2.86zM5.41 20L4 18.59l7.72-7.72 1.47 1.35L5.41 20z\"/>\n",
              "  </svg>\n",
              "      </button>\n",
              "\n",
              "\n",
              "\n",
              "    <div id=\"df-3dfb8844-36b4-425c-adbb-2774785fa740\">\n",
              "      <button class=\"colab-df-quickchart\" onclick=\"quickchart('df-3dfb8844-36b4-425c-adbb-2774785fa740')\"\n",
              "              title=\"Suggest charts.\"\n",
              "              style=\"display:none;\">\n",
              "\n",
              "<svg xmlns=\"http://www.w3.org/2000/svg\" height=\"24px\"viewBox=\"0 0 24 24\"\n",
              "     width=\"24px\">\n",
              "    <g>\n",
              "        <path d=\"M19 3H5c-1.1 0-2 .9-2 2v14c0 1.1.9 2 2 2h14c1.1 0 2-.9 2-2V5c0-1.1-.9-2-2-2zM9 17H7v-7h2v7zm4 0h-2V7h2v10zm4 0h-2v-4h2v4z\"/>\n",
              "    </g>\n",
              "</svg>\n",
              "      </button>\n",
              "    </div>\n",
              "\n",
              "<style>\n",
              "  .colab-df-quickchart {\n",
              "    background-color: #E8F0FE;\n",
              "    border: none;\n",
              "    border-radius: 50%;\n",
              "    cursor: pointer;\n",
              "    display: none;\n",
              "    fill: #1967D2;\n",
              "    height: 32px;\n",
              "    padding: 0 0 0 0;\n",
              "    width: 32px;\n",
              "  }\n",
              "\n",
              "  .colab-df-quickchart:hover {\n",
              "    background-color: #E2EBFA;\n",
              "    box-shadow: 0px 1px 2px rgba(60, 64, 67, 0.3), 0px 1px 3px 1px rgba(60, 64, 67, 0.15);\n",
              "    fill: #174EA6;\n",
              "  }\n",
              "\n",
              "  [theme=dark] .colab-df-quickchart {\n",
              "    background-color: #3B4455;\n",
              "    fill: #D2E3FC;\n",
              "  }\n",
              "\n",
              "  [theme=dark] .colab-df-quickchart:hover {\n",
              "    background-color: #434B5C;\n",
              "    box-shadow: 0px 1px 3px 1px rgba(0, 0, 0, 0.15);\n",
              "    filter: drop-shadow(0px 1px 2px rgba(0, 0, 0, 0.3));\n",
              "    fill: #FFFFFF;\n",
              "  }\n",
              "</style>\n",
              "\n",
              "    <script>\n",
              "      async function quickchart(key) {\n",
              "        const containerElement = document.querySelector('#' + key);\n",
              "        const charts = await google.colab.kernel.invokeFunction(\n",
              "            'suggestCharts', [key], {});\n",
              "      }\n",
              "    </script>\n",
              "\n",
              "      <script>\n",
              "\n",
              "function displayQuickchartButton(domScope) {\n",
              "  let quickchartButtonEl =\n",
              "    domScope.querySelector('#df-3dfb8844-36b4-425c-adbb-2774785fa740 button.colab-df-quickchart');\n",
              "  quickchartButtonEl.style.display =\n",
              "    google.colab.kernel.accessAllowed ? 'block' : 'none';\n",
              "}\n",
              "\n",
              "        displayQuickchartButton(document);\n",
              "      </script>\n",
              "      <style>\n",
              "    .colab-df-container {\n",
              "      display:flex;\n",
              "      flex-wrap:wrap;\n",
              "      gap: 12px;\n",
              "    }\n",
              "\n",
              "    .colab-df-convert {\n",
              "      background-color: #E8F0FE;\n",
              "      border: none;\n",
              "      border-radius: 50%;\n",
              "      cursor: pointer;\n",
              "      display: none;\n",
              "      fill: #1967D2;\n",
              "      height: 32px;\n",
              "      padding: 0 0 0 0;\n",
              "      width: 32px;\n",
              "    }\n",
              "\n",
              "    .colab-df-convert:hover {\n",
              "      background-color: #E2EBFA;\n",
              "      box-shadow: 0px 1px 2px rgba(60, 64, 67, 0.3), 0px 1px 3px 1px rgba(60, 64, 67, 0.15);\n",
              "      fill: #174EA6;\n",
              "    }\n",
              "\n",
              "    [theme=dark] .colab-df-convert {\n",
              "      background-color: #3B4455;\n",
              "      fill: #D2E3FC;\n",
              "    }\n",
              "\n",
              "    [theme=dark] .colab-df-convert:hover {\n",
              "      background-color: #434B5C;\n",
              "      box-shadow: 0px 1px 3px 1px rgba(0, 0, 0, 0.15);\n",
              "      filter: drop-shadow(0px 1px 2px rgba(0, 0, 0, 0.3));\n",
              "      fill: #FFFFFF;\n",
              "    }\n",
              "  </style>\n",
              "\n",
              "      <script>\n",
              "        const buttonEl =\n",
              "          document.querySelector('#df-ee67e574-a103-4a88-8a6b-0efad28e7a06 button.colab-df-convert');\n",
              "        buttonEl.style.display =\n",
              "          google.colab.kernel.accessAllowed ? 'block' : 'none';\n",
              "\n",
              "        async function convertToInteractive(key) {\n",
              "          const element = document.querySelector('#df-ee67e574-a103-4a88-8a6b-0efad28e7a06');\n",
              "          const dataTable =\n",
              "            await google.colab.kernel.invokeFunction('convertToInteractive',\n",
              "                                                     [key], {});\n",
              "          if (!dataTable) return;\n",
              "\n",
              "          const docLinkHtml = 'Like what you see? Visit the ' +\n",
              "            '<a target=\"_blank\" href=https://colab.research.google.com/notebooks/data_table.ipynb>data table notebook</a>'\n",
              "            + ' to learn more about interactive tables.';\n",
              "          element.innerHTML = '';\n",
              "          dataTable['output_type'] = 'display_data';\n",
              "          await google.colab.output.renderOutput(dataTable, element);\n",
              "          const docLink = document.createElement('div');\n",
              "          docLink.innerHTML = docLinkHtml;\n",
              "          element.appendChild(docLink);\n",
              "        }\n",
              "      </script>\n",
              "    </div>\n",
              "  </div>\n"
            ]
          },
          "metadata": {},
          "execution_count": 32
        }
      ]
    },
    {
      "cell_type": "markdown",
      "source": [
        "как ни смешно, но обычная RNN уделала остальные архитектуры по метрике качества. Она же относительно других архитектур неплохо предсказывает и классы кроме 5 это (1,2,3,4)"
      ],
      "metadata": {
        "id": "HXg4dliL4roG"
      }
    }
  ]
}