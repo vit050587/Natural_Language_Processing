{
  "nbformat": 4,
  "nbformat_minor": 0,
  "metadata": {
    "colab": {
      "provenance": [],
      "gpuType": "T4",
      "mount_file_id": "1G0cs15gaSNae4he5h8-U--QxFlY4CbIe",
      "authorship_tag": "ABX9TyNbijkLar+cF4Kp18x+YVmh",
      "include_colab_link": true
    },
    "kernelspec": {
      "name": "python3",
      "display_name": "Python 3"
    },
    "language_info": {
      "name": "python"
    },
    "widgets": {
      "application/vnd.jupyter.widget-state+json": {
        "9267742227bc41dfb0ad3c91f7466a65": {
          "model_module": "@jupyter-widgets/controls",
          "model_name": "HBoxModel",
          "model_module_version": "1.5.0",
          "state": {
            "_dom_classes": [],
            "_model_module": "@jupyter-widgets/controls",
            "_model_module_version": "1.5.0",
            "_model_name": "HBoxModel",
            "_view_count": null,
            "_view_module": "@jupyter-widgets/controls",
            "_view_module_version": "1.5.0",
            "_view_name": "HBoxView",
            "box_style": "",
            "children": [
              "IPY_MODEL_ffbec7409ceb4a6390a19b49be182da4",
              "IPY_MODEL_3d5cba5b2cad478ba794b8119cf08df8",
              "IPY_MODEL_512a1d3c71634116b8bb4e4c9da2af2e"
            ],
            "layout": "IPY_MODEL_f8d63fc4d3e84db0b1a26205db2cd469"
          }
        },
        "ffbec7409ceb4a6390a19b49be182da4": {
          "model_module": "@jupyter-widgets/controls",
          "model_name": "HTMLModel",
          "model_module_version": "1.5.0",
          "state": {
            "_dom_classes": [],
            "_model_module": "@jupyter-widgets/controls",
            "_model_module_version": "1.5.0",
            "_model_name": "HTMLModel",
            "_view_count": null,
            "_view_module": "@jupyter-widgets/controls",
            "_view_module_version": "1.5.0",
            "_view_name": "HTMLView",
            "description": "",
            "description_tooltip": null,
            "layout": "IPY_MODEL_4d2f041ded664f429fc07202deb1174b",
            "placeholder": "​",
            "style": "IPY_MODEL_c3c1f8c352db4da791d6e08e1b23d940",
            "value": "100%"
          }
        },
        "3d5cba5b2cad478ba794b8119cf08df8": {
          "model_module": "@jupyter-widgets/controls",
          "model_name": "FloatProgressModel",
          "model_module_version": "1.5.0",
          "state": {
            "_dom_classes": [],
            "_model_module": "@jupyter-widgets/controls",
            "_model_module_version": "1.5.0",
            "_model_name": "FloatProgressModel",
            "_view_count": null,
            "_view_module": "@jupyter-widgets/controls",
            "_view_module_version": "1.5.0",
            "_view_name": "ProgressView",
            "bar_style": "success",
            "description": "",
            "description_tooltip": null,
            "layout": "IPY_MODEL_0b3c5f7ef8f042aba559679dd038ef52",
            "max": 229822,
            "min": 0,
            "orientation": "horizontal",
            "style": "IPY_MODEL_c8e4effa48f04a04a11cfb17b58667c9",
            "value": 229822
          }
        },
        "512a1d3c71634116b8bb4e4c9da2af2e": {
          "model_module": "@jupyter-widgets/controls",
          "model_name": "HTMLModel",
          "model_module_version": "1.5.0",
          "state": {
            "_dom_classes": [],
            "_model_module": "@jupyter-widgets/controls",
            "_model_module_version": "1.5.0",
            "_model_name": "HTMLModel",
            "_view_count": null,
            "_view_module": "@jupyter-widgets/controls",
            "_view_module_version": "1.5.0",
            "_view_name": "HTMLView",
            "description": "",
            "description_tooltip": null,
            "layout": "IPY_MODEL_b83b262f592a4245bef6364ec8431fb0",
            "placeholder": "​",
            "style": "IPY_MODEL_28ee206a4fba430ba997414901e6a9f6",
            "value": " 229822/229822 [07:02&lt;00:00, 698.61it/s]"
          }
        },
        "f8d63fc4d3e84db0b1a26205db2cd469": {
          "model_module": "@jupyter-widgets/base",
          "model_name": "LayoutModel",
          "model_module_version": "1.2.0",
          "state": {
            "_model_module": "@jupyter-widgets/base",
            "_model_module_version": "1.2.0",
            "_model_name": "LayoutModel",
            "_view_count": null,
            "_view_module": "@jupyter-widgets/base",
            "_view_module_version": "1.2.0",
            "_view_name": "LayoutView",
            "align_content": null,
            "align_items": null,
            "align_self": null,
            "border": null,
            "bottom": null,
            "display": null,
            "flex": null,
            "flex_flow": null,
            "grid_area": null,
            "grid_auto_columns": null,
            "grid_auto_flow": null,
            "grid_auto_rows": null,
            "grid_column": null,
            "grid_gap": null,
            "grid_row": null,
            "grid_template_areas": null,
            "grid_template_columns": null,
            "grid_template_rows": null,
            "height": null,
            "justify_content": null,
            "justify_items": null,
            "left": null,
            "margin": null,
            "max_height": null,
            "max_width": null,
            "min_height": null,
            "min_width": null,
            "object_fit": null,
            "object_position": null,
            "order": null,
            "overflow": null,
            "overflow_x": null,
            "overflow_y": null,
            "padding": null,
            "right": null,
            "top": null,
            "visibility": null,
            "width": null
          }
        },
        "4d2f041ded664f429fc07202deb1174b": {
          "model_module": "@jupyter-widgets/base",
          "model_name": "LayoutModel",
          "model_module_version": "1.2.0",
          "state": {
            "_model_module": "@jupyter-widgets/base",
            "_model_module_version": "1.2.0",
            "_model_name": "LayoutModel",
            "_view_count": null,
            "_view_module": "@jupyter-widgets/base",
            "_view_module_version": "1.2.0",
            "_view_name": "LayoutView",
            "align_content": null,
            "align_items": null,
            "align_self": null,
            "border": null,
            "bottom": null,
            "display": null,
            "flex": null,
            "flex_flow": null,
            "grid_area": null,
            "grid_auto_columns": null,
            "grid_auto_flow": null,
            "grid_auto_rows": null,
            "grid_column": null,
            "grid_gap": null,
            "grid_row": null,
            "grid_template_areas": null,
            "grid_template_columns": null,
            "grid_template_rows": null,
            "height": null,
            "justify_content": null,
            "justify_items": null,
            "left": null,
            "margin": null,
            "max_height": null,
            "max_width": null,
            "min_height": null,
            "min_width": null,
            "object_fit": null,
            "object_position": null,
            "order": null,
            "overflow": null,
            "overflow_x": null,
            "overflow_y": null,
            "padding": null,
            "right": null,
            "top": null,
            "visibility": null,
            "width": null
          }
        },
        "c3c1f8c352db4da791d6e08e1b23d940": {
          "model_module": "@jupyter-widgets/controls",
          "model_name": "DescriptionStyleModel",
          "model_module_version": "1.5.0",
          "state": {
            "_model_module": "@jupyter-widgets/controls",
            "_model_module_version": "1.5.0",
            "_model_name": "DescriptionStyleModel",
            "_view_count": null,
            "_view_module": "@jupyter-widgets/base",
            "_view_module_version": "1.2.0",
            "_view_name": "StyleView",
            "description_width": ""
          }
        },
        "0b3c5f7ef8f042aba559679dd038ef52": {
          "model_module": "@jupyter-widgets/base",
          "model_name": "LayoutModel",
          "model_module_version": "1.2.0",
          "state": {
            "_model_module": "@jupyter-widgets/base",
            "_model_module_version": "1.2.0",
            "_model_name": "LayoutModel",
            "_view_count": null,
            "_view_module": "@jupyter-widgets/base",
            "_view_module_version": "1.2.0",
            "_view_name": "LayoutView",
            "align_content": null,
            "align_items": null,
            "align_self": null,
            "border": null,
            "bottom": null,
            "display": null,
            "flex": null,
            "flex_flow": null,
            "grid_area": null,
            "grid_auto_columns": null,
            "grid_auto_flow": null,
            "grid_auto_rows": null,
            "grid_column": null,
            "grid_gap": null,
            "grid_row": null,
            "grid_template_areas": null,
            "grid_template_columns": null,
            "grid_template_rows": null,
            "height": null,
            "justify_content": null,
            "justify_items": null,
            "left": null,
            "margin": null,
            "max_height": null,
            "max_width": null,
            "min_height": null,
            "min_width": null,
            "object_fit": null,
            "object_position": null,
            "order": null,
            "overflow": null,
            "overflow_x": null,
            "overflow_y": null,
            "padding": null,
            "right": null,
            "top": null,
            "visibility": null,
            "width": null
          }
        },
        "c8e4effa48f04a04a11cfb17b58667c9": {
          "model_module": "@jupyter-widgets/controls",
          "model_name": "ProgressStyleModel",
          "model_module_version": "1.5.0",
          "state": {
            "_model_module": "@jupyter-widgets/controls",
            "_model_module_version": "1.5.0",
            "_model_name": "ProgressStyleModel",
            "_view_count": null,
            "_view_module": "@jupyter-widgets/base",
            "_view_module_version": "1.2.0",
            "_view_name": "StyleView",
            "bar_color": null,
            "description_width": ""
          }
        },
        "b83b262f592a4245bef6364ec8431fb0": {
          "model_module": "@jupyter-widgets/base",
          "model_name": "LayoutModel",
          "model_module_version": "1.2.0",
          "state": {
            "_model_module": "@jupyter-widgets/base",
            "_model_module_version": "1.2.0",
            "_model_name": "LayoutModel",
            "_view_count": null,
            "_view_module": "@jupyter-widgets/base",
            "_view_module_version": "1.2.0",
            "_view_name": "LayoutView",
            "align_content": null,
            "align_items": null,
            "align_self": null,
            "border": null,
            "bottom": null,
            "display": null,
            "flex": null,
            "flex_flow": null,
            "grid_area": null,
            "grid_auto_columns": null,
            "grid_auto_flow": null,
            "grid_auto_rows": null,
            "grid_column": null,
            "grid_gap": null,
            "grid_row": null,
            "grid_template_areas": null,
            "grid_template_columns": null,
            "grid_template_rows": null,
            "height": null,
            "justify_content": null,
            "justify_items": null,
            "left": null,
            "margin": null,
            "max_height": null,
            "max_width": null,
            "min_height": null,
            "min_width": null,
            "object_fit": null,
            "object_position": null,
            "order": null,
            "overflow": null,
            "overflow_x": null,
            "overflow_y": null,
            "padding": null,
            "right": null,
            "top": null,
            "visibility": null,
            "width": null
          }
        },
        "28ee206a4fba430ba997414901e6a9f6": {
          "model_module": "@jupyter-widgets/controls",
          "model_name": "DescriptionStyleModel",
          "model_module_version": "1.5.0",
          "state": {
            "_model_module": "@jupyter-widgets/controls",
            "_model_module_version": "1.5.0",
            "_model_name": "DescriptionStyleModel",
            "_view_count": null,
            "_view_module": "@jupyter-widgets/base",
            "_view_module_version": "1.2.0",
            "_view_name": "StyleView",
            "description_width": ""
          }
        },
        "68d7255bace84ccebbbcd5e50ed2d82c": {
          "model_module": "@jupyter-widgets/controls",
          "model_name": "HBoxModel",
          "model_module_version": "1.5.0",
          "state": {
            "_dom_classes": [],
            "_model_module": "@jupyter-widgets/controls",
            "_model_module_version": "1.5.0",
            "_model_name": "HBoxModel",
            "_view_count": null,
            "_view_module": "@jupyter-widgets/controls",
            "_view_module_version": "1.5.0",
            "_view_name": "HBoxView",
            "box_style": "",
            "children": [
              "IPY_MODEL_e3e0fc6e62db4e9a8a416fc2eb7057eb",
              "IPY_MODEL_554ca3ecdfa64791a94c96121d66e37a",
              "IPY_MODEL_229cfccce17a46768964c70fe4fe9770"
            ],
            "layout": "IPY_MODEL_3911ea50c38e420b9481219123cd9de3"
          }
        },
        "e3e0fc6e62db4e9a8a416fc2eb7057eb": {
          "model_module": "@jupyter-widgets/controls",
          "model_name": "HTMLModel",
          "model_module_version": "1.5.0",
          "state": {
            "_dom_classes": [],
            "_model_module": "@jupyter-widgets/controls",
            "_model_module_version": "1.5.0",
            "_model_name": "HTMLModel",
            "_view_count": null,
            "_view_module": "@jupyter-widgets/controls",
            "_view_module_version": "1.5.0",
            "_view_name": "HTMLView",
            "description": "",
            "description_tooltip": null,
            "layout": "IPY_MODEL_9580a3a9657241fb8da04334dc8ffdd9",
            "placeholder": "​",
            "style": "IPY_MODEL_5353e3041780485b85cfa46949e284ef",
            "value": "100%"
          }
        },
        "554ca3ecdfa64791a94c96121d66e37a": {
          "model_module": "@jupyter-widgets/controls",
          "model_name": "FloatProgressModel",
          "model_module_version": "1.5.0",
          "state": {
            "_dom_classes": [],
            "_model_module": "@jupyter-widgets/controls",
            "_model_module_version": "1.5.0",
            "_model_name": "FloatProgressModel",
            "_view_count": null,
            "_view_module": "@jupyter-widgets/controls",
            "_view_module_version": "1.5.0",
            "_view_name": "ProgressView",
            "bar_style": "success",
            "description": "",
            "description_tooltip": null,
            "layout": "IPY_MODEL_dbe352b472a34b5383ba4a37668299d1",
            "max": 23,
            "min": 0,
            "orientation": "horizontal",
            "style": "IPY_MODEL_b776108ba6904566bfcb4bcf1e399679",
            "value": 23
          }
        },
        "229cfccce17a46768964c70fe4fe9770": {
          "model_module": "@jupyter-widgets/controls",
          "model_name": "HTMLModel",
          "model_module_version": "1.5.0",
          "state": {
            "_dom_classes": [],
            "_model_module": "@jupyter-widgets/controls",
            "_model_module_version": "1.5.0",
            "_model_name": "HTMLModel",
            "_view_count": null,
            "_view_module": "@jupyter-widgets/controls",
            "_view_module_version": "1.5.0",
            "_view_name": "HTMLView",
            "description": "",
            "description_tooltip": null,
            "layout": "IPY_MODEL_1552c23c280c48329d626897aea3b52f",
            "placeholder": "​",
            "style": "IPY_MODEL_52766dd6c5984d42a9425913fee40777",
            "value": " 23/23 [1:21:28&lt;00:00, 281.59s/it]"
          }
        },
        "3911ea50c38e420b9481219123cd9de3": {
          "model_module": "@jupyter-widgets/base",
          "model_name": "LayoutModel",
          "model_module_version": "1.2.0",
          "state": {
            "_model_module": "@jupyter-widgets/base",
            "_model_module_version": "1.2.0",
            "_model_name": "LayoutModel",
            "_view_count": null,
            "_view_module": "@jupyter-widgets/base",
            "_view_module_version": "1.2.0",
            "_view_name": "LayoutView",
            "align_content": null,
            "align_items": null,
            "align_self": null,
            "border": null,
            "bottom": null,
            "display": null,
            "flex": null,
            "flex_flow": null,
            "grid_area": null,
            "grid_auto_columns": null,
            "grid_auto_flow": null,
            "grid_auto_rows": null,
            "grid_column": null,
            "grid_gap": null,
            "grid_row": null,
            "grid_template_areas": null,
            "grid_template_columns": null,
            "grid_template_rows": null,
            "height": null,
            "justify_content": null,
            "justify_items": null,
            "left": null,
            "margin": null,
            "max_height": null,
            "max_width": null,
            "min_height": null,
            "min_width": null,
            "object_fit": null,
            "object_position": null,
            "order": null,
            "overflow": null,
            "overflow_x": null,
            "overflow_y": null,
            "padding": null,
            "right": null,
            "top": null,
            "visibility": null,
            "width": null
          }
        },
        "9580a3a9657241fb8da04334dc8ffdd9": {
          "model_module": "@jupyter-widgets/base",
          "model_name": "LayoutModel",
          "model_module_version": "1.2.0",
          "state": {
            "_model_module": "@jupyter-widgets/base",
            "_model_module_version": "1.2.0",
            "_model_name": "LayoutModel",
            "_view_count": null,
            "_view_module": "@jupyter-widgets/base",
            "_view_module_version": "1.2.0",
            "_view_name": "LayoutView",
            "align_content": null,
            "align_items": null,
            "align_self": null,
            "border": null,
            "bottom": null,
            "display": null,
            "flex": null,
            "flex_flow": null,
            "grid_area": null,
            "grid_auto_columns": null,
            "grid_auto_flow": null,
            "grid_auto_rows": null,
            "grid_column": null,
            "grid_gap": null,
            "grid_row": null,
            "grid_template_areas": null,
            "grid_template_columns": null,
            "grid_template_rows": null,
            "height": null,
            "justify_content": null,
            "justify_items": null,
            "left": null,
            "margin": null,
            "max_height": null,
            "max_width": null,
            "min_height": null,
            "min_width": null,
            "object_fit": null,
            "object_position": null,
            "order": null,
            "overflow": null,
            "overflow_x": null,
            "overflow_y": null,
            "padding": null,
            "right": null,
            "top": null,
            "visibility": null,
            "width": null
          }
        },
        "5353e3041780485b85cfa46949e284ef": {
          "model_module": "@jupyter-widgets/controls",
          "model_name": "DescriptionStyleModel",
          "model_module_version": "1.5.0",
          "state": {
            "_model_module": "@jupyter-widgets/controls",
            "_model_module_version": "1.5.0",
            "_model_name": "DescriptionStyleModel",
            "_view_count": null,
            "_view_module": "@jupyter-widgets/base",
            "_view_module_version": "1.2.0",
            "_view_name": "StyleView",
            "description_width": ""
          }
        },
        "dbe352b472a34b5383ba4a37668299d1": {
          "model_module": "@jupyter-widgets/base",
          "model_name": "LayoutModel",
          "model_module_version": "1.2.0",
          "state": {
            "_model_module": "@jupyter-widgets/base",
            "_model_module_version": "1.2.0",
            "_model_name": "LayoutModel",
            "_view_count": null,
            "_view_module": "@jupyter-widgets/base",
            "_view_module_version": "1.2.0",
            "_view_name": "LayoutView",
            "align_content": null,
            "align_items": null,
            "align_self": null,
            "border": null,
            "bottom": null,
            "display": null,
            "flex": null,
            "flex_flow": null,
            "grid_area": null,
            "grid_auto_columns": null,
            "grid_auto_flow": null,
            "grid_auto_rows": null,
            "grid_column": null,
            "grid_gap": null,
            "grid_row": null,
            "grid_template_areas": null,
            "grid_template_columns": null,
            "grid_template_rows": null,
            "height": null,
            "justify_content": null,
            "justify_items": null,
            "left": null,
            "margin": null,
            "max_height": null,
            "max_width": null,
            "min_height": null,
            "min_width": null,
            "object_fit": null,
            "object_position": null,
            "order": null,
            "overflow": null,
            "overflow_x": null,
            "overflow_y": null,
            "padding": null,
            "right": null,
            "top": null,
            "visibility": null,
            "width": null
          }
        },
        "b776108ba6904566bfcb4bcf1e399679": {
          "model_module": "@jupyter-widgets/controls",
          "model_name": "ProgressStyleModel",
          "model_module_version": "1.5.0",
          "state": {
            "_model_module": "@jupyter-widgets/controls",
            "_model_module_version": "1.5.0",
            "_model_name": "ProgressStyleModel",
            "_view_count": null,
            "_view_module": "@jupyter-widgets/base",
            "_view_module_version": "1.2.0",
            "_view_name": "StyleView",
            "bar_color": null,
            "description_width": ""
          }
        },
        "1552c23c280c48329d626897aea3b52f": {
          "model_module": "@jupyter-widgets/base",
          "model_name": "LayoutModel",
          "model_module_version": "1.2.0",
          "state": {
            "_model_module": "@jupyter-widgets/base",
            "_model_module_version": "1.2.0",
            "_model_name": "LayoutModel",
            "_view_count": null,
            "_view_module": "@jupyter-widgets/base",
            "_view_module_version": "1.2.0",
            "_view_name": "LayoutView",
            "align_content": null,
            "align_items": null,
            "align_self": null,
            "border": null,
            "bottom": null,
            "display": null,
            "flex": null,
            "flex_flow": null,
            "grid_area": null,
            "grid_auto_columns": null,
            "grid_auto_flow": null,
            "grid_auto_rows": null,
            "grid_column": null,
            "grid_gap": null,
            "grid_row": null,
            "grid_template_areas": null,
            "grid_template_columns": null,
            "grid_template_rows": null,
            "height": null,
            "justify_content": null,
            "justify_items": null,
            "left": null,
            "margin": null,
            "max_height": null,
            "max_width": null,
            "min_height": null,
            "min_width": null,
            "object_fit": null,
            "object_position": null,
            "order": null,
            "overflow": null,
            "overflow_x": null,
            "overflow_y": null,
            "padding": null,
            "right": null,
            "top": null,
            "visibility": null,
            "width": null
          }
        },
        "52766dd6c5984d42a9425913fee40777": {
          "model_module": "@jupyter-widgets/controls",
          "model_name": "DescriptionStyleModel",
          "model_module_version": "1.5.0",
          "state": {
            "_model_module": "@jupyter-widgets/controls",
            "_model_module_version": "1.5.0",
            "_model_name": "DescriptionStyleModel",
            "_view_count": null,
            "_view_module": "@jupyter-widgets/base",
            "_view_module_version": "1.2.0",
            "_view_name": "StyleView",
            "description_width": ""
          }
        }
      }
    }
  },
  "cells": [
    {
      "cell_type": "markdown",
      "metadata": {
        "id": "view-in-github",
        "colab_type": "text"
      },
      "source": [
        "<a href=\"https://colab.research.google.com/github/vit050587/Natural_Language_Processing/blob/master/KVA_HW_04.ipynb\" target=\"_parent\"><img src=\"https://colab.research.google.com/assets/colab-badge.svg\" alt=\"Open In Colab\"/></a>"
      ]
    },
    {
      "cell_type": "code",
      "execution_count": null,
      "metadata": {
        "id": "jMMFw3GIUIuT"
      },
      "outputs": [],
      "source": []
    },
    {
      "cell_type": "markdown",
      "source": [
        "# Урок 4. Домашнее задание.\n",
        "**Тематическое моделирование. EM-алгоритм**\n",
        "\n",
        "объединить в одну выборку (это только для твитов), для роспотребнадзора сформировать датасет из вопросов\n",
        "провести исследование и выявить тематики о которых говорят в твитах (для твитов), а для роспотребнадзора так же выявить тематики о которых люди пишут проанализировать\n",
        "сделать визуализацию кластеров тематик\n",
        "проинтерпритировать получившиеся тематики"
      ],
      "metadata": {
        "id": "dlm0Ai3dVEjf"
      }
    },
    {
      "cell_type": "code",
      "source": [
        "!pip install pymorphy2"
      ],
      "metadata": {
        "id": "GGt58NQJYezQ",
        "colab": {
          "base_uri": "https://localhost:8080/"
        },
        "outputId": "d32e0eaf-94fa-4fd0-9208-03a9610fe8ad"
      },
      "execution_count": 1,
      "outputs": [
        {
          "output_type": "stream",
          "name": "stdout",
          "text": [
            "Collecting pymorphy2\n",
            "  Downloading pymorphy2-0.9.1-py3-none-any.whl (55 kB)\n",
            "\u001b[?25l     \u001b[90m━━━━━━━━━━━━━━━━━━━━━━━━━━━━━━━━━━━━━━━━\u001b[0m \u001b[32m0.0/55.5 kB\u001b[0m \u001b[31m?\u001b[0m eta \u001b[36m-:--:--\u001b[0m\r\u001b[2K     \u001b[90m━━━━━━━━━━━━━━━━━━━━━━━━━━━━━━━━━━━━━━━━\u001b[0m \u001b[32m55.5/55.5 kB\u001b[0m \u001b[31m4.9 MB/s\u001b[0m eta \u001b[36m0:00:00\u001b[0m\n",
            "\u001b[?25hCollecting dawg-python>=0.7.1 (from pymorphy2)\n",
            "  Downloading DAWG_Python-0.7.2-py2.py3-none-any.whl (11 kB)\n",
            "Collecting pymorphy2-dicts-ru<3.0,>=2.4 (from pymorphy2)\n",
            "  Downloading pymorphy2_dicts_ru-2.4.417127.4579844-py2.py3-none-any.whl (8.2 MB)\n",
            "\u001b[2K     \u001b[90m━━━━━━━━━━━━━━━━━━━━━━━━━━━━━━━━━━━━━━━━\u001b[0m \u001b[32m8.2/8.2 MB\u001b[0m \u001b[31m39.0 MB/s\u001b[0m eta \u001b[36m0:00:00\u001b[0m\n",
            "\u001b[?25hCollecting docopt>=0.6 (from pymorphy2)\n",
            "  Downloading docopt-0.6.2.tar.gz (25 kB)\n",
            "  Preparing metadata (setup.py) ... \u001b[?25l\u001b[?25hdone\n",
            "Building wheels for collected packages: docopt\n",
            "  Building wheel for docopt (setup.py) ... \u001b[?25l\u001b[?25hdone\n",
            "  Created wheel for docopt: filename=docopt-0.6.2-py2.py3-none-any.whl size=13707 sha256=da289c1661c8c1cee4f60f0e4047e2567127de07214284cb2c64f0449cf26e75\n",
            "  Stored in directory: /root/.cache/pip/wheels/fc/ab/d4/5da2067ac95b36618c629a5f93f809425700506f72c9732fac\n",
            "Successfully built docopt\n",
            "Installing collected packages: pymorphy2-dicts-ru, docopt, dawg-python, pymorphy2\n",
            "Successfully installed dawg-python-0.7.2 docopt-0.6.2 pymorphy2-0.9.1 pymorphy2-dicts-ru-2.4.417127.4579844\n"
          ]
        }
      ]
    },
    {
      "cell_type": "code",
      "source": [
        "import requests\n",
        "from bs4 import BeautifulSoup\n",
        "import time\n",
        "from urllib.parse import urlparse, urljoin\n",
        "from tqdm.notebook import tqdm\n",
        "\n",
        "import pandas as pd\n",
        "import numpy as np\n",
        "import re\n",
        "import string\n",
        "from pymorphy2 import MorphAnalyzer\n",
        "from nltk.corpus import stopwords\n",
        "import nltk\n",
        "from nltk.tokenize import word_tokenize"
      ],
      "metadata": {
        "id": "93tvSBqXYgsl"
      },
      "execution_count": 2,
      "outputs": []
    },
    {
      "cell_type": "code",
      "source": [
        "# считываем данные и заполняем общий датасет\n",
        "positive = pd.read_csv('/content/drive/MyDrive/Colab Notebooks/Natural_Language_Processing/Lesson02/positive.csv', sep=';', usecols=[3], names=['text'])\n",
        "#positive['label'] = ['positive'] * len(positive)\n",
        "negative = pd.read_csv('/content/drive/MyDrive/Colab Notebooks/Natural_Language_Processing/Lesson02/positive.csv', sep=';', usecols=[3], names=['text'])\n",
        "#negative['label'] = ['negative'] * len(negative)\n",
        "df = positive.append(negative)"
      ],
      "metadata": {
        "colab": {
          "base_uri": "https://localhost:8080/"
        },
        "id": "_Qx8MyZ6XXW5",
        "outputId": "a19a76ce-100c-46ee-abbf-15421c41ffbf"
      },
      "execution_count": 3,
      "outputs": [
        {
          "output_type": "stream",
          "name": "stderr",
          "text": [
            "<ipython-input-3-1468bc8fa89b>:6: FutureWarning: The frame.append method is deprecated and will be removed from pandas in a future version. Use pandas.concat instead.\n",
            "  df = positive.append(negative)\n"
          ]
        }
      ]
    },
    {
      "cell_type": "code",
      "source": [
        "df"
      ],
      "metadata": {
        "id": "8qxxKiiPYsyF",
        "colab": {
          "base_uri": "https://localhost:8080/",
          "height": 424
        },
        "outputId": "49eec174-8ccd-4c85-f237-5685c7c46776"
      },
      "execution_count": 4,
      "outputs": [
        {
          "output_type": "execute_result",
          "data": {
            "text/plain": [
              "                                                     text\n",
              "0       @first_timee хоть я и школота, но поверь, у на...\n",
              "1       Да, все-таки он немного похож на него. Но мой ...\n",
              "2       RT @KatiaCheh: Ну ты идиотка) я испугалась за ...\n",
              "3       RT @digger2912: \"Кто то в углу сидит и погибае...\n",
              "4       @irina_dyshkant Вот что значит страшилка :D\\nН...\n",
              "...                                                   ...\n",
              "114906  Спала в родительском доме, на своей кровати......\n",
              "114907  RT @jebesilofyt: Эх... Мы немного решили сокра...\n",
              "114908  Что происходит со мной, когда в эфире #proacti...\n",
              "114909  \"Любимая,я подарю тебе эту звезду...\" Имя како...\n",
              "114910  @Ma_che_rie посмотри #непытайтесьпокинутьомск ...\n",
              "\n",
              "[229822 rows x 1 columns]"
            ],
            "text/html": [
              "\n",
              "\n",
              "  <div id=\"df-0cf03189-ff08-4613-94e7-ed74bdb4a450\">\n",
              "    <div class=\"colab-df-container\">\n",
              "      <div>\n",
              "<style scoped>\n",
              "    .dataframe tbody tr th:only-of-type {\n",
              "        vertical-align: middle;\n",
              "    }\n",
              "\n",
              "    .dataframe tbody tr th {\n",
              "        vertical-align: top;\n",
              "    }\n",
              "\n",
              "    .dataframe thead th {\n",
              "        text-align: right;\n",
              "    }\n",
              "</style>\n",
              "<table border=\"1\" class=\"dataframe\">\n",
              "  <thead>\n",
              "    <tr style=\"text-align: right;\">\n",
              "      <th></th>\n",
              "      <th>text</th>\n",
              "    </tr>\n",
              "  </thead>\n",
              "  <tbody>\n",
              "    <tr>\n",
              "      <th>0</th>\n",
              "      <td>@first_timee хоть я и школота, но поверь, у на...</td>\n",
              "    </tr>\n",
              "    <tr>\n",
              "      <th>1</th>\n",
              "      <td>Да, все-таки он немного похож на него. Но мой ...</td>\n",
              "    </tr>\n",
              "    <tr>\n",
              "      <th>2</th>\n",
              "      <td>RT @KatiaCheh: Ну ты идиотка) я испугалась за ...</td>\n",
              "    </tr>\n",
              "    <tr>\n",
              "      <th>3</th>\n",
              "      <td>RT @digger2912: \"Кто то в углу сидит и погибае...</td>\n",
              "    </tr>\n",
              "    <tr>\n",
              "      <th>4</th>\n",
              "      <td>@irina_dyshkant Вот что значит страшилка :D\\nН...</td>\n",
              "    </tr>\n",
              "    <tr>\n",
              "      <th>...</th>\n",
              "      <td>...</td>\n",
              "    </tr>\n",
              "    <tr>\n",
              "      <th>114906</th>\n",
              "      <td>Спала в родительском доме, на своей кровати......</td>\n",
              "    </tr>\n",
              "    <tr>\n",
              "      <th>114907</th>\n",
              "      <td>RT @jebesilofyt: Эх... Мы немного решили сокра...</td>\n",
              "    </tr>\n",
              "    <tr>\n",
              "      <th>114908</th>\n",
              "      <td>Что происходит со мной, когда в эфире #proacti...</td>\n",
              "    </tr>\n",
              "    <tr>\n",
              "      <th>114909</th>\n",
              "      <td>\"Любимая,я подарю тебе эту звезду...\" Имя како...</td>\n",
              "    </tr>\n",
              "    <tr>\n",
              "      <th>114910</th>\n",
              "      <td>@Ma_che_rie посмотри #непытайтесьпокинутьомск ...</td>\n",
              "    </tr>\n",
              "  </tbody>\n",
              "</table>\n",
              "<p>229822 rows × 1 columns</p>\n",
              "</div>\n",
              "      <button class=\"colab-df-convert\" onclick=\"convertToInteractive('df-0cf03189-ff08-4613-94e7-ed74bdb4a450')\"\n",
              "              title=\"Convert this dataframe to an interactive table.\"\n",
              "              style=\"display:none;\">\n",
              "\n",
              "  <svg xmlns=\"http://www.w3.org/2000/svg\" height=\"24px\"viewBox=\"0 0 24 24\"\n",
              "       width=\"24px\">\n",
              "    <path d=\"M0 0h24v24H0V0z\" fill=\"none\"/>\n",
              "    <path d=\"M18.56 5.44l.94 2.06.94-2.06 2.06-.94-2.06-.94-.94-2.06-.94 2.06-2.06.94zm-11 1L8.5 8.5l.94-2.06 2.06-.94-2.06-.94L8.5 2.5l-.94 2.06-2.06.94zm10 10l.94 2.06.94-2.06 2.06-.94-2.06-.94-.94-2.06-.94 2.06-2.06.94z\"/><path d=\"M17.41 7.96l-1.37-1.37c-.4-.4-.92-.59-1.43-.59-.52 0-1.04.2-1.43.59L10.3 9.45l-7.72 7.72c-.78.78-.78 2.05 0 2.83L4 21.41c.39.39.9.59 1.41.59.51 0 1.02-.2 1.41-.59l7.78-7.78 2.81-2.81c.8-.78.8-2.07 0-2.86zM5.41 20L4 18.59l7.72-7.72 1.47 1.35L5.41 20z\"/>\n",
              "  </svg>\n",
              "      </button>\n",
              "\n",
              "\n",
              "\n",
              "    <div id=\"df-a4dfeaab-b605-466d-aab6-f566e972aa87\">\n",
              "      <button class=\"colab-df-quickchart\" onclick=\"quickchart('df-a4dfeaab-b605-466d-aab6-f566e972aa87')\"\n",
              "              title=\"Suggest charts.\"\n",
              "              style=\"display:none;\">\n",
              "\n",
              "<svg xmlns=\"http://www.w3.org/2000/svg\" height=\"24px\"viewBox=\"0 0 24 24\"\n",
              "     width=\"24px\">\n",
              "    <g>\n",
              "        <path d=\"M19 3H5c-1.1 0-2 .9-2 2v14c0 1.1.9 2 2 2h14c1.1 0 2-.9 2-2V5c0-1.1-.9-2-2-2zM9 17H7v-7h2v7zm4 0h-2V7h2v10zm4 0h-2v-4h2v4z\"/>\n",
              "    </g>\n",
              "</svg>\n",
              "      </button>\n",
              "    </div>\n",
              "\n",
              "<style>\n",
              "  .colab-df-quickchart {\n",
              "    background-color: #E8F0FE;\n",
              "    border: none;\n",
              "    border-radius: 50%;\n",
              "    cursor: pointer;\n",
              "    display: none;\n",
              "    fill: #1967D2;\n",
              "    height: 32px;\n",
              "    padding: 0 0 0 0;\n",
              "    width: 32px;\n",
              "  }\n",
              "\n",
              "  .colab-df-quickchart:hover {\n",
              "    background-color: #E2EBFA;\n",
              "    box-shadow: 0px 1px 2px rgba(60, 64, 67, 0.3), 0px 1px 3px 1px rgba(60, 64, 67, 0.15);\n",
              "    fill: #174EA6;\n",
              "  }\n",
              "\n",
              "  [theme=dark] .colab-df-quickchart {\n",
              "    background-color: #3B4455;\n",
              "    fill: #D2E3FC;\n",
              "  }\n",
              "\n",
              "  [theme=dark] .colab-df-quickchart:hover {\n",
              "    background-color: #434B5C;\n",
              "    box-shadow: 0px 1px 3px 1px rgba(0, 0, 0, 0.15);\n",
              "    filter: drop-shadow(0px 1px 2px rgba(0, 0, 0, 0.3));\n",
              "    fill: #FFFFFF;\n",
              "  }\n",
              "</style>\n",
              "\n",
              "    <script>\n",
              "      async function quickchart(key) {\n",
              "        const containerElement = document.querySelector('#' + key);\n",
              "        const charts = await google.colab.kernel.invokeFunction(\n",
              "            'suggestCharts', [key], {});\n",
              "      }\n",
              "    </script>\n",
              "\n",
              "      <script>\n",
              "\n",
              "function displayQuickchartButton(domScope) {\n",
              "  let quickchartButtonEl =\n",
              "    domScope.querySelector('#df-a4dfeaab-b605-466d-aab6-f566e972aa87 button.colab-df-quickchart');\n",
              "  quickchartButtonEl.style.display =\n",
              "    google.colab.kernel.accessAllowed ? 'block' : 'none';\n",
              "}\n",
              "\n",
              "        displayQuickchartButton(document);\n",
              "      </script>\n",
              "      <style>\n",
              "    .colab-df-container {\n",
              "      display:flex;\n",
              "      flex-wrap:wrap;\n",
              "      gap: 12px;\n",
              "    }\n",
              "\n",
              "    .colab-df-convert {\n",
              "      background-color: #E8F0FE;\n",
              "      border: none;\n",
              "      border-radius: 50%;\n",
              "      cursor: pointer;\n",
              "      display: none;\n",
              "      fill: #1967D2;\n",
              "      height: 32px;\n",
              "      padding: 0 0 0 0;\n",
              "      width: 32px;\n",
              "    }\n",
              "\n",
              "    .colab-df-convert:hover {\n",
              "      background-color: #E2EBFA;\n",
              "      box-shadow: 0px 1px 2px rgba(60, 64, 67, 0.3), 0px 1px 3px 1px rgba(60, 64, 67, 0.15);\n",
              "      fill: #174EA6;\n",
              "    }\n",
              "\n",
              "    [theme=dark] .colab-df-convert {\n",
              "      background-color: #3B4455;\n",
              "      fill: #D2E3FC;\n",
              "    }\n",
              "\n",
              "    [theme=dark] .colab-df-convert:hover {\n",
              "      background-color: #434B5C;\n",
              "      box-shadow: 0px 1px 3px 1px rgba(0, 0, 0, 0.15);\n",
              "      filter: drop-shadow(0px 1px 2px rgba(0, 0, 0, 0.3));\n",
              "      fill: #FFFFFF;\n",
              "    }\n",
              "  </style>\n",
              "\n",
              "      <script>\n",
              "        const buttonEl =\n",
              "          document.querySelector('#df-0cf03189-ff08-4613-94e7-ed74bdb4a450 button.colab-df-convert');\n",
              "        buttonEl.style.display =\n",
              "          google.colab.kernel.accessAllowed ? 'block' : 'none';\n",
              "\n",
              "        async function convertToInteractive(key) {\n",
              "          const element = document.querySelector('#df-0cf03189-ff08-4613-94e7-ed74bdb4a450');\n",
              "          const dataTable =\n",
              "            await google.colab.kernel.invokeFunction('convertToInteractive',\n",
              "                                                     [key], {});\n",
              "          if (!dataTable) return;\n",
              "\n",
              "          const docLinkHtml = 'Like what you see? Visit the ' +\n",
              "            '<a target=\"_blank\" href=https://colab.research.google.com/notebooks/data_table.ipynb>data table notebook</a>'\n",
              "            + ' to learn more about interactive tables.';\n",
              "          element.innerHTML = '';\n",
              "          dataTable['output_type'] = 'display_data';\n",
              "          await google.colab.output.renderOutput(dataTable, element);\n",
              "          const docLink = document.createElement('div');\n",
              "          docLink.innerHTML = docLinkHtml;\n",
              "          element.appendChild(docLink);\n",
              "        }\n",
              "      </script>\n",
              "    </div>\n",
              "  </div>\n"
            ]
          },
          "metadata": {},
          "execution_count": 4
        }
      ]
    },
    {
      "cell_type": "code",
      "source": [
        "nltk.download('stopwords')\n",
        "words_regex = re.compile('\\w+')\n",
        "morph = MorphAnalyzer()\n",
        "my_stopwords = ['здравствуйте', 'добрый', 'день', 'вопрос', 'роспотребнадзор', 'либо', 'месяц',\n",
        "                'течение', 'данный', 'это', 'просить', 'сказать', 'год', 'адрес', 'обращение', 'мочь', 'иметь', 'человек',\n",
        "                'право', 'санкт' ,'петербург']\n",
        "\n",
        "def find_words(text, regex = words_regex):\n",
        "    tokens =  regex.findall(text.lower())\n",
        "    return [w for w in tokens if w.isalpha() and len(w) >= 3]\n",
        "\n",
        "\n",
        "stopwords_list = stopwords.words('russian') + my_stopwords\n",
        "\n",
        "# mystem = Mystem()\n",
        "# def lemmatize(words, lemmer = mystem, stopwords = stopwords_list):\n",
        "#     lemmas = lemmer.lemmatize(' '.join(words))\n",
        "#     return [w for w in lemmas if not w in stopwords\n",
        "#             and w.isalpha()]\n",
        "\n",
        "def lemmatize(words, lemmer = morph, stopwords = stopwords_list):\n",
        "    lemmas = [lemmer.parse(w)[0].normal_form for w in words]\n",
        "    return [w for w in lemmas if not w in stopwords\n",
        "            and w.isalpha()]\n",
        "\n",
        "def preprocess(text):\n",
        "    return (lemmatize(find_words(text)))"
      ],
      "metadata": {
        "id": "wsMFLaIHYvLS",
        "colab": {
          "base_uri": "https://localhost:8080/"
        },
        "outputId": "0e4ba484-0ce7-4b37-cf53-4384874ae84c"
      },
      "execution_count": 5,
      "outputs": [
        {
          "output_type": "stream",
          "name": "stderr",
          "text": [
            "[nltk_data] Downloading package stopwords to /root/nltk_data...\n",
            "[nltk_data]   Unzipping corpora/stopwords.zip.\n"
          ]
        }
      ]
    },
    {
      "cell_type": "code",
      "source": [
        "df.text.iloc[1]"
      ],
      "metadata": {
        "id": "ASSlot8cYxWE",
        "colab": {
          "base_uri": "https://localhost:8080/",
          "height": 35
        },
        "outputId": "7094590c-4b03-4d98-b1c3-b6c3a5fc49b6"
      },
      "execution_count": 6,
      "outputs": [
        {
          "output_type": "execute_result",
          "data": {
            "text/plain": [
              "'Да, все-таки он немного похож на него. Но мой мальчик все равно лучше:D'"
            ],
            "application/vnd.google.colaboratory.intrinsic+json": {
              "type": "string"
            }
          },
          "metadata": {},
          "execution_count": 6
        }
      ]
    },
    {
      "cell_type": "code",
      "source": [
        "print(preprocess(df.text.iloc[1]))"
      ],
      "metadata": {
        "id": "eUU1B0ZkYzYg",
        "colab": {
          "base_uri": "https://localhost:8080/"
        },
        "outputId": "8719ab35-48ea-473c-a5a2-640f3a823c1c"
      },
      "execution_count": 7,
      "outputs": [
        {
          "output_type": "stream",
          "name": "stdout",
          "text": [
            "['всё', 'таки', 'немного', 'похожий', 'мальчик', 'всё', 'равно', 'хороший']\n"
          ]
        }
      ]
    },
    {
      "cell_type": "code",
      "source": [
        "preprocessed_text = list(tqdm(map(preprocess, df['text']), total=len(df)))"
      ],
      "metadata": {
        "id": "XexHjLcWY1zi",
        "colab": {
          "base_uri": "https://localhost:8080/",
          "height": 49,
          "referenced_widgets": [
            "9267742227bc41dfb0ad3c91f7466a65",
            "ffbec7409ceb4a6390a19b49be182da4",
            "3d5cba5b2cad478ba794b8119cf08df8",
            "512a1d3c71634116b8bb4e4c9da2af2e",
            "f8d63fc4d3e84db0b1a26205db2cd469",
            "4d2f041ded664f429fc07202deb1174b",
            "c3c1f8c352db4da791d6e08e1b23d940",
            "0b3c5f7ef8f042aba559679dd038ef52",
            "c8e4effa48f04a04a11cfb17b58667c9",
            "b83b262f592a4245bef6364ec8431fb0",
            "28ee206a4fba430ba997414901e6a9f6"
          ]
        },
        "outputId": "ba040091-d0e9-42e1-f98e-d561031407da"
      },
      "execution_count": 8,
      "outputs": [
        {
          "output_type": "display_data",
          "data": {
            "text/plain": [
              "  0%|          | 0/229822 [00:00<?, ?it/s]"
            ],
            "application/vnd.jupyter.widget-view+json": {
              "version_major": 2,
              "version_minor": 0,
              "model_id": "9267742227bc41dfb0ad3c91f7466a65"
            }
          },
          "metadata": {}
        }
      ]
    },
    {
      "cell_type": "code",
      "source": [
        "df['preprocessed_text'] = preprocessed_text\n",
        "df.sample(3)"
      ],
      "metadata": {
        "id": "wfz0j8rYY3ay",
        "colab": {
          "base_uri": "https://localhost:8080/",
          "height": 143
        },
        "outputId": "3b323737-650c-4b96-f3c3-c30de86aeebb"
      },
      "execution_count": 9,
      "outputs": [
        {
          "output_type": "execute_result",
          "data": {
            "text/plain": [
              "                                                     text  \\\n",
              "46465   @KrilovaValeria мы таааак \"любим\" соционику, ч...   \n",
              "97520   @ZurabChitaya @KomandaCom Карасёв в D-лиге - с...   \n",
              "114448  @Ann_Kurakina ..это из той же оперы, что в чат...   \n",
              "\n",
              "                                        preprocessed_text  \n",
              "46465   [krilovavaleria, таааак, любим, соционик, гото...  \n",
              "97520   [zurabchitaya, komandacom, карасёвый, лига, ра...  \n",
              "114448  [опера, чат, курятник, всё, пройти, печаль, ра...  "
            ],
            "text/html": [
              "\n",
              "\n",
              "  <div id=\"df-9de33547-4037-472d-a599-b723e13a50c2\">\n",
              "    <div class=\"colab-df-container\">\n",
              "      <div>\n",
              "<style scoped>\n",
              "    .dataframe tbody tr th:only-of-type {\n",
              "        vertical-align: middle;\n",
              "    }\n",
              "\n",
              "    .dataframe tbody tr th {\n",
              "        vertical-align: top;\n",
              "    }\n",
              "\n",
              "    .dataframe thead th {\n",
              "        text-align: right;\n",
              "    }\n",
              "</style>\n",
              "<table border=\"1\" class=\"dataframe\">\n",
              "  <thead>\n",
              "    <tr style=\"text-align: right;\">\n",
              "      <th></th>\n",
              "      <th>text</th>\n",
              "      <th>preprocessed_text</th>\n",
              "    </tr>\n",
              "  </thead>\n",
              "  <tbody>\n",
              "    <tr>\n",
              "      <th>46465</th>\n",
              "      <td>@KrilovaValeria мы таааак \"любим\" соционику, ч...</td>\n",
              "      <td>[krilovavaleria, таааак, любим, соционик, гото...</td>\n",
              "    </tr>\n",
              "    <tr>\n",
              "      <th>97520</th>\n",
              "      <td>@ZurabChitaya @KomandaCom Карасёв в D-лиге - с...</td>\n",
              "      <td>[zurabchitaya, komandacom, карасёвый, лига, ра...</td>\n",
              "    </tr>\n",
              "    <tr>\n",
              "      <th>114448</th>\n",
              "      <td>@Ann_Kurakina ..это из той же оперы, что в чат...</td>\n",
              "      <td>[опера, чат, курятник, всё, пройти, печаль, ра...</td>\n",
              "    </tr>\n",
              "  </tbody>\n",
              "</table>\n",
              "</div>\n",
              "      <button class=\"colab-df-convert\" onclick=\"convertToInteractive('df-9de33547-4037-472d-a599-b723e13a50c2')\"\n",
              "              title=\"Convert this dataframe to an interactive table.\"\n",
              "              style=\"display:none;\">\n",
              "\n",
              "  <svg xmlns=\"http://www.w3.org/2000/svg\" height=\"24px\"viewBox=\"0 0 24 24\"\n",
              "       width=\"24px\">\n",
              "    <path d=\"M0 0h24v24H0V0z\" fill=\"none\"/>\n",
              "    <path d=\"M18.56 5.44l.94 2.06.94-2.06 2.06-.94-2.06-.94-.94-2.06-.94 2.06-2.06.94zm-11 1L8.5 8.5l.94-2.06 2.06-.94-2.06-.94L8.5 2.5l-.94 2.06-2.06.94zm10 10l.94 2.06.94-2.06 2.06-.94-2.06-.94-.94-2.06-.94 2.06-2.06.94z\"/><path d=\"M17.41 7.96l-1.37-1.37c-.4-.4-.92-.59-1.43-.59-.52 0-1.04.2-1.43.59L10.3 9.45l-7.72 7.72c-.78.78-.78 2.05 0 2.83L4 21.41c.39.39.9.59 1.41.59.51 0 1.02-.2 1.41-.59l7.78-7.78 2.81-2.81c.8-.78.8-2.07 0-2.86zM5.41 20L4 18.59l7.72-7.72 1.47 1.35L5.41 20z\"/>\n",
              "  </svg>\n",
              "      </button>\n",
              "\n",
              "\n",
              "\n",
              "    <div id=\"df-3a54dc0a-3220-4328-ae22-a5c949bae3e4\">\n",
              "      <button class=\"colab-df-quickchart\" onclick=\"quickchart('df-3a54dc0a-3220-4328-ae22-a5c949bae3e4')\"\n",
              "              title=\"Suggest charts.\"\n",
              "              style=\"display:none;\">\n",
              "\n",
              "<svg xmlns=\"http://www.w3.org/2000/svg\" height=\"24px\"viewBox=\"0 0 24 24\"\n",
              "     width=\"24px\">\n",
              "    <g>\n",
              "        <path d=\"M19 3H5c-1.1 0-2 .9-2 2v14c0 1.1.9 2 2 2h14c1.1 0 2-.9 2-2V5c0-1.1-.9-2-2-2zM9 17H7v-7h2v7zm4 0h-2V7h2v10zm4 0h-2v-4h2v4z\"/>\n",
              "    </g>\n",
              "</svg>\n",
              "      </button>\n",
              "    </div>\n",
              "\n",
              "<style>\n",
              "  .colab-df-quickchart {\n",
              "    background-color: #E8F0FE;\n",
              "    border: none;\n",
              "    border-radius: 50%;\n",
              "    cursor: pointer;\n",
              "    display: none;\n",
              "    fill: #1967D2;\n",
              "    height: 32px;\n",
              "    padding: 0 0 0 0;\n",
              "    width: 32px;\n",
              "  }\n",
              "\n",
              "  .colab-df-quickchart:hover {\n",
              "    background-color: #E2EBFA;\n",
              "    box-shadow: 0px 1px 2px rgba(60, 64, 67, 0.3), 0px 1px 3px 1px rgba(60, 64, 67, 0.15);\n",
              "    fill: #174EA6;\n",
              "  }\n",
              "\n",
              "  [theme=dark] .colab-df-quickchart {\n",
              "    background-color: #3B4455;\n",
              "    fill: #D2E3FC;\n",
              "  }\n",
              "\n",
              "  [theme=dark] .colab-df-quickchart:hover {\n",
              "    background-color: #434B5C;\n",
              "    box-shadow: 0px 1px 3px 1px rgba(0, 0, 0, 0.15);\n",
              "    filter: drop-shadow(0px 1px 2px rgba(0, 0, 0, 0.3));\n",
              "    fill: #FFFFFF;\n",
              "  }\n",
              "</style>\n",
              "\n",
              "    <script>\n",
              "      async function quickchart(key) {\n",
              "        const containerElement = document.querySelector('#' + key);\n",
              "        const charts = await google.colab.kernel.invokeFunction(\n",
              "            'suggestCharts', [key], {});\n",
              "      }\n",
              "    </script>\n",
              "\n",
              "      <script>\n",
              "\n",
              "function displayQuickchartButton(domScope) {\n",
              "  let quickchartButtonEl =\n",
              "    domScope.querySelector('#df-3a54dc0a-3220-4328-ae22-a5c949bae3e4 button.colab-df-quickchart');\n",
              "  quickchartButtonEl.style.display =\n",
              "    google.colab.kernel.accessAllowed ? 'block' : 'none';\n",
              "}\n",
              "\n",
              "        displayQuickchartButton(document);\n",
              "      </script>\n",
              "      <style>\n",
              "    .colab-df-container {\n",
              "      display:flex;\n",
              "      flex-wrap:wrap;\n",
              "      gap: 12px;\n",
              "    }\n",
              "\n",
              "    .colab-df-convert {\n",
              "      background-color: #E8F0FE;\n",
              "      border: none;\n",
              "      border-radius: 50%;\n",
              "      cursor: pointer;\n",
              "      display: none;\n",
              "      fill: #1967D2;\n",
              "      height: 32px;\n",
              "      padding: 0 0 0 0;\n",
              "      width: 32px;\n",
              "    }\n",
              "\n",
              "    .colab-df-convert:hover {\n",
              "      background-color: #E2EBFA;\n",
              "      box-shadow: 0px 1px 2px rgba(60, 64, 67, 0.3), 0px 1px 3px 1px rgba(60, 64, 67, 0.15);\n",
              "      fill: #174EA6;\n",
              "    }\n",
              "\n",
              "    [theme=dark] .colab-df-convert {\n",
              "      background-color: #3B4455;\n",
              "      fill: #D2E3FC;\n",
              "    }\n",
              "\n",
              "    [theme=dark] .colab-df-convert:hover {\n",
              "      background-color: #434B5C;\n",
              "      box-shadow: 0px 1px 3px 1px rgba(0, 0, 0, 0.15);\n",
              "      filter: drop-shadow(0px 1px 2px rgba(0, 0, 0, 0.3));\n",
              "      fill: #FFFFFF;\n",
              "    }\n",
              "  </style>\n",
              "\n",
              "      <script>\n",
              "        const buttonEl =\n",
              "          document.querySelector('#df-9de33547-4037-472d-a599-b723e13a50c2 button.colab-df-convert');\n",
              "        buttonEl.style.display =\n",
              "          google.colab.kernel.accessAllowed ? 'block' : 'none';\n",
              "\n",
              "        async function convertToInteractive(key) {\n",
              "          const element = document.querySelector('#df-9de33547-4037-472d-a599-b723e13a50c2');\n",
              "          const dataTable =\n",
              "            await google.colab.kernel.invokeFunction('convertToInteractive',\n",
              "                                                     [key], {});\n",
              "          if (!dataTable) return;\n",
              "\n",
              "          const docLinkHtml = 'Like what you see? Visit the ' +\n",
              "            '<a target=\"_blank\" href=https://colab.research.google.com/notebooks/data_table.ipynb>data table notebook</a>'\n",
              "            + ' to learn more about interactive tables.';\n",
              "          element.innerHTML = '';\n",
              "          dataTable['output_type'] = 'display_data';\n",
              "          await google.colab.output.renderOutput(dataTable, element);\n",
              "          const docLink = document.createElement('div');\n",
              "          docLink.innerHTML = docLinkHtml;\n",
              "          element.appendChild(docLink);\n",
              "        }\n",
              "      </script>\n",
              "    </div>\n",
              "  </div>\n"
            ]
          },
          "metadata": {},
          "execution_count": 9
        }
      ]
    },
    {
      "cell_type": "markdown",
      "source": [
        "# Модель LDA"
      ],
      "metadata": {
        "id": "dGFmCWRFY5ga"
      }
    },
    {
      "cell_type": "markdown",
      "source": [
        "Первая модель, которую мы рассмотрим, LDA - латентное размещение Дирихле. Воспользуемся реализацией из библиотеки gensim"
      ],
      "metadata": {
        "id": "27VHdzk7Y8fL"
      }
    },
    {
      "cell_type": "code",
      "source": [
        "!pip install -U gensim"
      ],
      "metadata": {
        "id": "nyNuOORKY-hY",
        "colab": {
          "base_uri": "https://localhost:8080/"
        },
        "outputId": "1fa231b4-5629-4788-a42a-c01f0cd21ad0"
      },
      "execution_count": 10,
      "outputs": [
        {
          "output_type": "stream",
          "name": "stdout",
          "text": [
            "Requirement already satisfied: gensim in /usr/local/lib/python3.10/dist-packages (4.3.1)\n",
            "Requirement already satisfied: numpy>=1.18.5 in /usr/local/lib/python3.10/dist-packages (from gensim) (1.22.4)\n",
            "Requirement already satisfied: scipy>=1.7.0 in /usr/local/lib/python3.10/dist-packages (from gensim) (1.10.1)\n",
            "Requirement already satisfied: smart-open>=1.8.1 in /usr/local/lib/python3.10/dist-packages (from gensim) (6.3.0)\n"
          ]
        }
      ]
    },
    {
      "cell_type": "code",
      "source": [
        "from gensim.models import *\n",
        "from gensim import corpora"
      ],
      "metadata": {
        "id": "bxFCQAQoZAWU"
      },
      "execution_count": 11,
      "outputs": []
    },
    {
      "cell_type": "code",
      "source": [
        "dictionary = corpora.Dictionary(df['preprocessed_text'])\n",
        "\n",
        "dictionary.filter_extremes(no_below = 10, no_above = 0.9, keep_n=None) # игнорируем слова, которые встречаются реже 10 раз или составляют более 0.9 словаря\n",
        "dictionary.save('/content/drive/MyDrive/Colab Notebooks/Natural_Language_Processing/Lesson04/texts.dict')"
      ],
      "metadata": {
        "id": "12nGeD4AZCRC"
      },
      "execution_count": 12,
      "outputs": []
    },
    {
      "cell_type": "code",
      "source": [
        "corpus = [dictionary.doc2bow(text) for text in df['preprocessed_text']]\n",
        "corpora.MmCorpus.serialize('texts.model', corpus)"
      ],
      "metadata": {
        "id": "eST-XrTmZD8H"
      },
      "execution_count": 13,
      "outputs": []
    },
    {
      "cell_type": "code",
      "source": [
        "%time\n",
        "lda = ldamodel.LdaModel(corpus, id2word=dictionary, num_topics=10, chunksize=50, update_every=1, passes=2)"
      ],
      "metadata": {
        "id": "hi701TfCZFva",
        "colab": {
          "base_uri": "https://localhost:8080/"
        },
        "outputId": "f47b4b63-d899-41a4-fe97-b3aa3f845c5e"
      },
      "execution_count": 14,
      "outputs": [
        {
          "output_type": "stream",
          "name": "stdout",
          "text": [
            "CPU times: user 4 µs, sys: 0 ns, total: 4 µs\n",
            "Wall time: 9.54 µs\n"
          ]
        }
      ]
    },
    {
      "cell_type": "code",
      "source": [
        "lda.show_topics(num_topics=10, num_words=10, formatted=True)"
      ],
      "metadata": {
        "id": "oak0_fn3ZHPn",
        "colab": {
          "base_uri": "https://localhost:8080/"
        },
        "outputId": "84ae6345-9725-43c4-9edd-167880860256"
      },
      "execution_count": 15,
      "outputs": [
        {
          "output_type": "execute_result",
          "data": {
            "text/plain": [
              "[(0,\n",
              "  '0.091*\"сегодня\" + 0.069*\"хотеть\" + 0.035*\"ждать\" + 0.031*\"пойти\" + 0.026*\"предновогодниеобнимашка\" + 0.021*\"нравиться\" + 0.016*\"наверное\" + 0.016*\"скоро\" + 0.016*\"место\" + 0.016*\"музыка\"'),\n",
              " (1,\n",
              "  '0.057*\"завтра\" + 0.042*\"смотреть\" + 0.037*\"думать\" + 0.032*\"первый\" + 0.030*\"идти\" + 0.029*\"любимый\" + 0.021*\"мама\" + 0.020*\"молодёжка\" + 0.019*\"найти\" + 0.017*\"школа\"'),\n",
              " (2,\n",
              "  '0.175*\"всё\" + 0.025*\"писать\" + 0.019*\"посмотреть\" + 0.016*\"таки\" + 0.014*\"приятно\" + 0.014*\"сон\" + 0.014*\"давно\" + 0.014*\"стать\" + 0.012*\"получить\" + 0.012*\"никто\"'),\n",
              " (3,\n",
              "  '0.092*\"ещё\" + 0.036*\"большой\" + 0.028*\"ахи\" + 0.021*\"дом\" + 0.019*\"ахах\" + 0.019*\"хотя\" + 0.018*\"сидеть\" + 0.016*\"почему\" + 0.016*\"твит\" + 0.016*\"нибыть\"'),\n",
              " (4,\n",
              "  '0.093*\"просто\" + 0.029*\"давать\" + 0.022*\"пара\" + 0.018*\"привет\" + 0.017*\"крутой\" + 0.014*\"твиттер\" + 0.013*\"пройти\" + 0.013*\"рождение\" + 0.012*\"любовь\" + 0.012*\"хах\"'),\n",
              " (5,\n",
              "  '0.064*\"знать\" + 0.059*\"любить\" + 0.040*\"делать\" + 0.031*\"твой\" + 0.030*\"спать\" + 0.030*\"сделать\" + 0.024*\"наш\" + 0.022*\"пока\" + 0.020*\"прийти\" + 0.019*\"нужно\"'),\n",
              " (6,\n",
              "  '0.046*\"новый\" + 0.038*\"вообще\" + 0.032*\"написать\" + 0.026*\"жизнь\" + 0.023*\"настроение\" + 0.023*\"дело\" + 0.021*\"видеть\" + 0.020*\"песня\" + 0.016*\"помнить\" + 0.014*\"лента\"'),\n",
              " (7,\n",
              "  '0.091*\"спасибо\" + 0.079*\"очень\" + 0.042*\"говорить\" + 0.025*\"надеяться\" + 0.021*\"купить\" + 0.017*\"маленький\" + 0.016*\"классный\" + 0.016*\"слово\" + 0.015*\"правда\" + 0.015*\"главное\"'),\n",
              " (8,\n",
              "  '0.284*\"http\" + 0.028*\"который\" + 0.019*\"вечер\" + 0.018*\"время\" + 0.017*\"понять\" + 0.015*\"ахахи\" + 0.013*\"работа\" + 0.012*\"голова\" + 0.010*\"точно\" + 0.009*\"стоить\"'),\n",
              " (9,\n",
              "  '0.090*\"весь\" + 0.060*\"хороший\" + 0.056*\"свой\" + 0.035*\"самый\" + 0.027*\"друг\" + 0.027*\"пятница\" + 0.021*\"ночь\" + 0.019*\"фильм\" + 0.018*\"утро\" + 0.018*\"читать\"')]"
            ]
          },
          "metadata": {},
          "execution_count": 15
        }
      ]
    },
    {
      "cell_type": "code",
      "source": [
        "!pip install pyLDAvis"
      ],
      "metadata": {
        "id": "2epN-vzSZJdB",
        "colab": {
          "base_uri": "https://localhost:8080/",
          "height": 816
        },
        "outputId": "2594ecc5-eb65-4dac-f0a4-75888e40a6a1"
      },
      "execution_count": 16,
      "outputs": [
        {
          "output_type": "stream",
          "name": "stdout",
          "text": [
            "Collecting pyLDAvis\n",
            "  Downloading pyLDAvis-3.4.1-py3-none-any.whl (2.6 MB)\n",
            "\u001b[2K     \u001b[90m━━━━━━━━━━━━━━━━━━━━━━━━━━━━━━━━━━━━━━━━\u001b[0m \u001b[32m2.6/2.6 MB\u001b[0m \u001b[31m52.2 MB/s\u001b[0m eta \u001b[36m0:00:00\u001b[0m\n",
            "\u001b[?25hCollecting numpy>=1.24.2 (from pyLDAvis)\n",
            "  Downloading numpy-1.25.1-cp310-cp310-manylinux_2_17_x86_64.manylinux2014_x86_64.whl (17.6 MB)\n",
            "\u001b[2K     \u001b[90m━━━━━━━━━━━━━━━━━━━━━━━━━━━━━━━━━━━━━━━━\u001b[0m \u001b[32m17.6/17.6 MB\u001b[0m \u001b[31m77.1 MB/s\u001b[0m eta \u001b[36m0:00:00\u001b[0m\n",
            "\u001b[?25hRequirement already satisfied: scipy in /usr/local/lib/python3.10/dist-packages (from pyLDAvis) (1.10.1)\n",
            "Collecting pandas>=2.0.0 (from pyLDAvis)\n",
            "  Downloading pandas-2.0.3-cp310-cp310-manylinux_2_17_x86_64.manylinux2014_x86_64.whl (12.3 MB)\n",
            "\u001b[2K     \u001b[90m━━━━━━━━━━━━━━━━━━━━━━━━━━━━━━━━━━━━━━━━\u001b[0m \u001b[32m12.3/12.3 MB\u001b[0m \u001b[31m74.7 MB/s\u001b[0m eta \u001b[36m0:00:00\u001b[0m\n",
            "\u001b[?25hRequirement already satisfied: joblib>=1.2.0 in /usr/local/lib/python3.10/dist-packages (from pyLDAvis) (1.2.0)\n",
            "Requirement already satisfied: jinja2 in /usr/local/lib/python3.10/dist-packages (from pyLDAvis) (3.1.2)\n",
            "Requirement already satisfied: numexpr in /usr/local/lib/python3.10/dist-packages (from pyLDAvis) (2.8.4)\n",
            "Collecting funcy (from pyLDAvis)\n",
            "  Downloading funcy-2.0-py2.py3-none-any.whl (30 kB)\n",
            "Requirement already satisfied: scikit-learn>=1.0.0 in /usr/local/lib/python3.10/dist-packages (from pyLDAvis) (1.2.2)\n",
            "Requirement already satisfied: gensim in /usr/local/lib/python3.10/dist-packages (from pyLDAvis) (4.3.1)\n",
            "Requirement already satisfied: setuptools in /usr/local/lib/python3.10/dist-packages (from pyLDAvis) (67.7.2)\n",
            "Requirement already satisfied: python-dateutil>=2.8.2 in /usr/local/lib/python3.10/dist-packages (from pandas>=2.0.0->pyLDAvis) (2.8.2)\n",
            "Requirement already satisfied: pytz>=2020.1 in /usr/local/lib/python3.10/dist-packages (from pandas>=2.0.0->pyLDAvis) (2022.7.1)\n",
            "Collecting tzdata>=2022.1 (from pandas>=2.0.0->pyLDAvis)\n",
            "  Downloading tzdata-2023.3-py2.py3-none-any.whl (341 kB)\n",
            "\u001b[2K     \u001b[90m━━━━━━━━━━━━━━━━━━━━━━━━━━━━━━━━━━━━━━\u001b[0m \u001b[32m341.8/341.8 kB\u001b[0m \u001b[31m31.5 MB/s\u001b[0m eta \u001b[36m0:00:00\u001b[0m\n",
            "\u001b[?25hRequirement already satisfied: threadpoolctl>=2.0.0 in /usr/local/lib/python3.10/dist-packages (from scikit-learn>=1.0.0->pyLDAvis) (3.1.0)\n",
            "Requirement already satisfied: smart-open>=1.8.1 in /usr/local/lib/python3.10/dist-packages (from gensim->pyLDAvis) (6.3.0)\n",
            "Requirement already satisfied: MarkupSafe>=2.0 in /usr/local/lib/python3.10/dist-packages (from jinja2->pyLDAvis) (2.1.3)\n",
            "Requirement already satisfied: six>=1.5 in /usr/local/lib/python3.10/dist-packages (from python-dateutil>=2.8.2->pandas>=2.0.0->pyLDAvis) (1.16.0)\n",
            "Installing collected packages: funcy, tzdata, numpy, pandas, pyLDAvis\n",
            "  Attempting uninstall: numpy\n",
            "    Found existing installation: numpy 1.22.4\n",
            "    Uninstalling numpy-1.22.4:\n",
            "      Successfully uninstalled numpy-1.22.4\n",
            "  Attempting uninstall: pandas\n",
            "    Found existing installation: pandas 1.5.3\n",
            "    Uninstalling pandas-1.5.3:\n",
            "      Successfully uninstalled pandas-1.5.3\n",
            "\u001b[31mERROR: pip's dependency resolver does not currently take into account all the packages that are installed. This behaviour is the source of the following dependency conflicts.\n",
            "google-colab 1.0.0 requires pandas==1.5.3, but you have pandas 2.0.3 which is incompatible.\n",
            "numba 0.56.4 requires numpy<1.24,>=1.18, but you have numpy 1.25.1 which is incompatible.\n",
            "tensorflow 2.12.0 requires numpy<1.24,>=1.22, but you have numpy 1.25.1 which is incompatible.\u001b[0m\u001b[31m\n",
            "\u001b[0mSuccessfully installed funcy-2.0 numpy-1.25.1 pandas-2.0.3 pyLDAvis-3.4.1 tzdata-2023.3\n"
          ]
        },
        {
          "output_type": "display_data",
          "data": {
            "application/vnd.colab-display-data+json": {
              "pip_warning": {
                "packages": [
                  "numpy",
                  "pandas"
                ]
              }
            }
          },
          "metadata": {}
        }
      ]
    },
    {
      "cell_type": "code",
      "source": [
        "!pip install pyLDAvis"
      ],
      "metadata": {
        "colab": {
          "base_uri": "https://localhost:8080/"
        },
        "id": "WeUOpAkUJLpN",
        "outputId": "f661122e-585e-49eb-bcfd-3e2d1a3d0ccf"
      },
      "execution_count": 17,
      "outputs": [
        {
          "output_type": "stream",
          "name": "stdout",
          "text": [
            "\u001b[31mERROR: Could not find a version that satisfies the requirement pyLDAvis.gensim_models (from versions: none)\u001b[0m\u001b[31m\n",
            "\u001b[0m\u001b[31mERROR: No matching distribution found for pyLDAvis.gensim_models\u001b[0m\u001b[31m\n",
            "\u001b[0m"
          ]
        }
      ]
    },
    {
      "cell_type": "code",
      "source": [
        "!pip install pandas==1.5.3"
      ],
      "metadata": {
        "colab": {
          "base_uri": "https://localhost:8080/",
          "height": 419
        },
        "id": "djedj0KwXfqs",
        "outputId": "d99765ff-803c-4061-c7bd-4366ff6fb0ac"
      },
      "execution_count": 28,
      "outputs": [
        {
          "output_type": "stream",
          "name": "stderr",
          "text": [
            "/usr/local/lib/python3.10/dist-packages/ipykernel/ipkernel.py:283: DeprecationWarning: `should_run_async` will not call `transform_cell` automatically in the future. Please pass the result to `transformed_cell` argument and any exception that happen during thetransform in `preprocessing_exc_tuple` in IPython 7.17 and above.\n",
            "  and should_run_async(code)\n"
          ]
        },
        {
          "output_type": "stream",
          "name": "stdout",
          "text": [
            "Collecting pandas==1.5.3\n",
            "  Downloading pandas-1.5.3-cp310-cp310-manylinux_2_17_x86_64.manylinux2014_x86_64.whl (12.1 MB)\n",
            "\u001b[2K     \u001b[90m━━━━━━━━━━━━━━━━━━━━━━━━━━━━━━━━━━━━━━━━\u001b[0m \u001b[32m12.1/12.1 MB\u001b[0m \u001b[31m35.7 MB/s\u001b[0m eta \u001b[36m0:00:00\u001b[0m\n",
            "\u001b[?25hRequirement already satisfied: python-dateutil>=2.8.1 in /usr/local/lib/python3.10/dist-packages (from pandas==1.5.3) (2.8.2)\n",
            "Requirement already satisfied: pytz>=2020.1 in /usr/local/lib/python3.10/dist-packages (from pandas==1.5.3) (2022.7.1)\n",
            "Requirement already satisfied: numpy>=1.21.0 in /usr/local/lib/python3.10/dist-packages (from pandas==1.5.3) (1.25.1)\n",
            "Requirement already satisfied: six>=1.5 in /usr/local/lib/python3.10/dist-packages (from python-dateutil>=2.8.1->pandas==1.5.3) (1.16.0)\n",
            "Installing collected packages: pandas\n",
            "  Attempting uninstall: pandas\n",
            "    Found existing installation: pandas 2.0.0\n",
            "    Uninstalling pandas-2.0.0:\n",
            "      Successfully uninstalled pandas-2.0.0\n",
            "\u001b[31mERROR: pip's dependency resolver does not currently take into account all the packages that are installed. This behaviour is the source of the following dependency conflicts.\n",
            "pyldavis 3.4.1 requires pandas>=2.0.0, but you have pandas 1.5.3 which is incompatible.\u001b[0m\u001b[31m\n",
            "\u001b[0mSuccessfully installed pandas-1.5.3\n"
          ]
        },
        {
          "output_type": "display_data",
          "data": {
            "application/vnd.colab-display-data+json": {
              "pip_warning": {
                "packages": [
                  "pandas"
                ]
              }
            }
          },
          "metadata": {}
        }
      ]
    },
    {
      "cell_type": "code",
      "source": [
        "import pyLDAvis\n",
        "import pyLDAvis.gensim as gensimvis\n",
        "pyLDAvis.enable_notebook()\n",
        "import pandas\n",
        "import matplotlib.pyplot as plt\n",
        "%matplotlib inline"
      ],
      "metadata": {
        "id": "F_1O-_ThZL2p",
        "colab": {
          "base_uri": "https://localhost:8080/"
        },
        "outputId": "1dbcf2f9-962e-49b4-d2cc-fc9424588169"
      },
      "execution_count": 30,
      "outputs": [
        {
          "output_type": "stream",
          "name": "stderr",
          "text": [
            "/usr/local/lib/python3.10/dist-packages/ipykernel/ipkernel.py:283: DeprecationWarning: `should_run_async` will not call `transform_cell` automatically in the future. Please pass the result to `transformed_cell` argument and any exception that happen during thetransform in `preprocessing_exc_tuple` in IPython 7.17 and above.\n",
            "  and should_run_async(code)\n"
          ]
        }
      ]
    },
    {
      "cell_type": "code",
      "source": [
        "%%time\n",
        "vis_data = gensimvis.prepare(lda, corpus, dictionary)\n",
        "pyLDAvis.display(vis_data)"
      ],
      "metadata": {
        "id": "e7bwSlUsZNq8",
        "colab": {
          "base_uri": "https://localhost:8080/",
          "height": 951
        },
        "outputId": "a4971855-2372-4d3c-d634-2e98e8626e35"
      },
      "execution_count": 31,
      "outputs": [
        {
          "output_type": "stream",
          "name": "stderr",
          "text": [
            "/usr/local/lib/python3.10/dist-packages/ipykernel/ipkernel.py:283: DeprecationWarning: `should_run_async` will not call `transform_cell` automatically in the future. Please pass the result to `transformed_cell` argument and any exception that happen during thetransform in `preprocessing_exc_tuple` in IPython 7.17 and above.\n",
            "  and should_run_async(code)\n"
          ]
        },
        {
          "output_type": "stream",
          "name": "stdout",
          "text": [
            "CPU times: user 18.5 s, sys: 511 ms, total: 19 s\n",
            "Wall time: 43.5 s\n"
          ]
        },
        {
          "output_type": "execute_result",
          "data": {
            "text/plain": [
              "<IPython.core.display.HTML object>"
            ],
            "text/html": [
              "\n",
              "<link rel=\"stylesheet\" type=\"text/css\" href=\"https://cdn.jsdelivr.net/gh/bmabey/pyLDAvis@3.4.0/pyLDAvis/js/ldavis.v1.0.0.css\">\n",
              "\n",
              "\n",
              "<div id=\"ldavis_el2911397686362812801023900859\" style=\"background-color:white;\"></div>\n",
              "<script type=\"text/javascript\">\n",
              "\n",
              "var ldavis_el2911397686362812801023900859_data = {\"mdsDat\": {\"x\": [0.14097911275581337, -0.4165776893902523, 0.15062750933445396, -0.02621292182364401, 0.08476251180989716, 0.0664214773137318], \"y\": [-0.20795237442021672, -0.11561917316339893, -0.09982310517122008, 0.37091788040491447, 0.1322681989384371, -0.07979142658851558], \"topics\": [1, 2, 3, 4, 5, 6], \"cluster\": [1, 1, 1, 1, 1, 1], \"Freq\": [18.570882674547665, 17.439107357987325, 16.90964279590584, 16.69211286439221, 16.168620541525982, 14.21963376564098]}, \"tinfo\": {\"Term\": [\"http\", \"\\u0432\\u0441\\u0451\", \"\\u0432\\u0435\\u0441\\u044c\", \"\\u0435\\u0449\\u0451\", \"\\u0441\\u043f\\u0430\\u0441\\u0438\\u0431\\u043e\", \"\\u0445\\u043e\\u0440\\u043e\\u0448\\u0438\\u0439\", \"\\u0441\\u0435\\u0433\\u043e\\u0434\\u043d\\u044f\", \"\\u043f\\u0440\\u043e\\u0441\\u0442\\u043e\", \"\\u043e\\u0447\\u0435\\u043d\\u044c\", \"\\u0441\\u0432\\u043e\\u0439\", \"\\u0437\\u043d\\u0430\\u0442\\u044c\", \"\\u043b\\u044e\\u0431\\u0438\\u0442\\u044c\", \"\\u0445\\u043e\\u0442\\u0435\\u0442\\u044c\", \"\\u0437\\u0430\\u0432\\u0442\\u0440\\u0430\", \"\\u0441\\u043c\\u043e\\u0442\\u0440\\u0435\\u0442\\u044c\", \"\\u0441\\u0430\\u043c\\u044b\\u0439\", \"\\u0434\\u0435\\u043b\\u0430\\u0442\\u044c\", \"\\u043d\\u043e\\u0432\\u044b\\u0439\", \"\\u043a\\u043e\\u0442\\u043e\\u0440\\u044b\\u0439\", \"\\u0431\\u043e\\u043b\\u044c\\u0448\\u043e\\u0439\", \"\\u043f\\u044f\\u0442\\u043d\\u0438\\u0446\\u0430\", \"\\u0434\\u0443\\u043c\\u0430\\u0442\\u044c\", \"\\u0433\\u043e\\u0432\\u043e\\u0440\\u0438\\u0442\\u044c\", \"\\u0432\\u043e\\u043e\\u0431\\u0449\\u0435\", \"\\u0434\\u0440\\u0443\\u0433\", \"\\u043f\\u0438\\u0441\\u0430\\u0442\\u044c\", \"\\u0441\\u0434\\u0435\\u043b\\u0430\\u0442\\u044c\", \"\\u043b\\u044e\\u0431\\u0438\\u043c\\u044b\\u0439\", \"\\u043f\\u0435\\u0440\\u0432\\u044b\\u0439\", \"\\u0442\\u0432\\u043e\\u0439\", \"http\", \"\\u0441\\u0432\\u043e\\u0439\", \"\\u0445\\u043e\\u0442\\u0435\\u0442\\u044c\", \"\\u0433\\u043e\\u0432\\u043e\\u0440\\u0438\\u0442\\u044c\", \"\\u0434\\u0430\\u0432\\u0430\\u0442\\u044c\", \"\\u043f\\u043e\\u043d\\u044f\\u0442\\u044c\", \"\\u0430\\u0445\\u0430\\u0445\\u0438\", \"\\u0441\\u0438\\u0434\\u0435\\u0442\\u044c\", \"\\u043a\\u0430\\u0436\\u0434\\u044b\\u0439\", \"\\u043f\\u0430\\u0440\\u0435\\u043d\\u044c\", \"\\u0433\\u043e\\u043b\\u043e\\u0432\\u0430\", \"\\u043c\\u0430\\u043b\\u0435\\u043d\\u044c\\u043a\\u0438\\u0439\", \"\\u043d\\u0430\\u0432\\u0435\\u0440\\u043d\\u043e\\u0435\", \"\\u043f\\u0440\\u0430\\u0432\\u0434\\u0430\", \"\\u0445\\u043e\\u0434\\u0438\\u0442\\u044c\", \"\\u043b\\u0430\\u0434\\u043d\\u044b\\u0439\", \"\\u0442\\u0435\\u043c\\u0430\", \"\\u0440\\u0435\\u0431\\u044f\\u0442\\u0430\", \"\\u0432\\u0437\\u044f\\u0442\\u044c\", \"\\u0432\\u0430\\u0448\", \"\\u043f\\u043e\\u043d\\u0440\\u0430\\u0432\\u0438\\u0442\\u044c\\u0441\\u044f\", \"\\u0444\\u043e\\u0442\\u043e\", \"\\u0441\\u043a\\u0443\\u0447\\u0430\\u0442\\u044c\", \"\\u0441\\u0443\\u043f\\u0435\\u0440\", \"\\u043c\\u043e\\u043c\\u0435\\u043d\\u0442\", \"\\u0436\\u0438\\u0432\\u043e\\u0439\", \"\\u0440\\u0430\\u0434\\u043e\\u0441\\u0442\\u044c\", \"\\u043e\\u0431\\u044b\\u0447\\u043d\\u043e\", \"\\u0438\\u043c\\u0435\\u043d\\u043d\\u043e\", \"\\u0434\\u0435\\u043a\\u0430\\u0431\\u0440\\u044c\", \"\\u043f\\u0440\\u043e\\u0441\\u0442\\u043e\", \"\\u043b\\u044e\\u0431\\u0438\\u0442\\u044c\", \"\\u0437\\u0430\\u0432\\u0442\\u0440\\u0430\", \"\\u043d\\u043e\\u0432\\u044b\\u0439\", \"\\u0434\\u0443\\u043c\\u0430\\u0442\\u044c\", \"\\u043f\\u0435\\u0440\\u0432\\u044b\\u0439\", \"\\u0438\\u0434\\u0442\\u0438\", \"\\u043d\\u0430\\u0448\", \"\\u043c\\u0430\\u043c\\u0430\", \"\\u0447\\u0438\\u0442\\u0430\\u0442\\u044c\", \"\\u043c\\u043e\\u043b\\u043e\\u0434\\u0451\\u0436\\u043a\\u0430\", \"\\u0434\\u0435\\u043b\\u043e\", \"\\u043f\\u0440\\u0438\\u0439\\u0442\\u0438\", \"\\u043d\\u0443\\u0436\\u043d\\u043e\", \"\\u043d\\u0430\\u0439\\u0442\\u0438\", \"\\u0432\\u0438\\u0434\\u0435\\u0442\\u044c\", \"\\u0448\\u043a\\u043e\\u043b\\u0430\", \"\\u043f\\u043e\\u0441\\u043b\\u0435\\u0434\\u043d\\u0438\\u0439\", \"\\u043f\\u0440\\u0438\\u044f\\u0442\\u043d\\u043e\", \"\\u043a\\u0440\\u0443\\u0442\\u043e\", \"\\u0440\\u0435\\u0448\\u0438\\u0442\\u044c\", \"\\u043d\\u0443\\u0436\\u043d\\u044b\\u0439\", \"\\u043f\\u043e\\u043b\\u0443\\u0447\\u0438\\u0442\\u044c\", \"\\u0432\\u043c\\u0435\\u0441\\u0442\\u0435\", \"\\u043c\\u0435\\u0441\\u0442\\u043e\", \"\\u0440\\u0443\\u043a\\u0430\", \"\\u0441\\u0435\\u0440\\u0438\\u044f\", \"\\u0441\\u043d\\u043e\\u0432\\u0430\", \"\\u0437\\u0430\\u0431\\u044b\\u0442\\u044c\", \"\\u043a\\u043b\\u0430\\u0441\\u0441\", \"\\u043f\\u0440\\u0435\\u0434\\u043d\\u043e\\u0432\\u043e\\u0433\\u043e\\u0434\\u043d\\u0438\\u0435\\u043e\\u0431\\u043d\\u0438\\u043c\\u0430\\u0448\\u043a\\u0430\", \"\\u0432\\u0435\\u0441\\u044c\", \"\\u0435\\u0449\\u0451\", \"\\u0441\\u0435\\u0433\\u043e\\u0434\\u043d\\u044f\", \"\\u0441\\u0430\\u043c\\u044b\\u0439\", \"\\u0431\\u043e\\u043b\\u044c\\u0448\\u043e\\u0439\", \"\\u0434\\u0440\\u0443\\u0433\", \"\\u0442\\u0432\\u043e\\u0439\", \"\\u0430\\u0445\\u0438\", \"\\u0432\\u0435\\u0447\\u0435\\u0440\", \"\\u0444\\u0438\\u043b\\u044c\\u043c\", \"\\u043d\\u0430\\u0434\\u0435\\u044f\\u0442\\u044c\\u0441\\u044f\", \"\\u0430\\u0445\\u0430\\u0445\", \"\\u0447\\u0430\\u0441\", \"\\u043f\\u043e\\u0447\\u0435\\u043c\\u0443\", \"\\u043a\\u0441\\u0442\\u0430\\u0442\\u0438\", \"\\u043d\\u0438\\u0431\\u044b\\u0442\\u044c\", \"\\u043f\\u0440\\u0438\\u0432\\u0435\\u0442\", \"\\u043a\\u0440\\u0443\\u0442\\u043e\\u0439\", \"\\u0441\\u0447\\u0430\\u0441\\u0442\\u043b\\u0438\\u0432\\u044b\\u0439\", \"\\u0438\\u0433\\u0440\\u0430\\u0442\\u044c\", \"\\u043d\\u043e\\u0440\\u043c\\u0430\", \"\\u043e\\u0441\\u0442\\u0430\\u0442\\u044c\\u0441\\u044f\", \"\\u043f\\u0440\\u043e\\u0439\\u0442\\u0438\", \"\\u0441\\u0435\\u0440\\u0438\\u0430\\u043b\", \"\\u0434\\u0435\\u0432\\u043e\\u0447\\u043a\\u0430\", \"\\u0440\\u043e\\u0436\\u0434\\u0435\\u043d\\u0438\\u0435\", \"\\u043b\\u044e\\u0431\\u043e\\u0432\\u044c\", \"\\u0445\\u0430\\u0445\", \"\\u0436\\u0435\\u043b\\u0430\\u0442\\u044c\", \"\\u0443\\u0434\\u0430\\u0447\\u0430\", \"\\u0432\\u0441\\u0451\", \"\\u0437\\u043d\\u0430\\u0442\\u044c\", \"\\u0434\\u0435\\u043b\\u0430\\u0442\\u044c\", \"\\u0432\\u043e\\u043e\\u0431\\u0449\\u0435\", \"\\u0441\\u043f\\u0430\\u0442\\u044c\", \"\\u043d\\u0430\\u043f\\u0438\\u0441\\u0430\\u0442\\u044c\", \"\\u043f\\u043e\\u043a\\u0430\", \"\\u0442\\u0430\\u043a\\u0438\", \"\\u043f\\u0430\\u0440\\u0430\", \"\\u0441\\u043e\\u043d\", \"\\u0441\\u0442\\u0430\\u0442\\u044c\", \"\\u0444\\u043e\\u0442\\u043a\\u0430\", \"\\u043f\\u043e\\u043d\\u0438\\u043c\\u0430\\u0442\\u044c\", \"\\u0441\\u043b\\u043e\\u0432\\u043e\", \"\\u043d\\u0435\\u043c\\u043d\\u043e\\u0433\\u043e\", \"\\u0436\\u0438\\u0442\\u044c\", \"\\u0432\\u0442\\u043e\\u0440\\u043e\\u0439\", \"\\u043c\\u0443\\u0437\\u044b\\u043a\\u0430\", \"\\u0434\\u0430\\u0442\\u044c\", \"\\u043f\\u0440\\u044f\\u043c\", \"\\u0432\\u0440\\u043e\\u0434\\u0435\", \"\\u0437\\u0430\\u0442\\u043e\", \"\\u0438\\u043d\\u0442\\u0435\\u0440\\u0435\\u0441\\u043d\\u044b\\u0439\", \"\\u0440\\u0430\\u0432\\u043d\\u043e\", \"\\u0433\\u043e\\u0440\\u043e\\u0434\", \"\\u043f\\u0430\\u043f\\u0430\", \"\\u0440\\u043e\\u0434\\u043d\\u044b\\u0439\", \"\\u043d\\u043e\\u0440\\u043c\\u0430\\u043b\\u044c\\u043d\\u043e\", \"\\u0431\\u043b\\u044f\", \"\\u043a\\u0440\\u0430\\u0441\\u0438\\u0432\\u044b\\u0439\", \"\\u0441\\u043f\\u0430\\u0441\\u0438\\u0431\\u043e\", \"\\u0445\\u043e\\u0440\\u043e\\u0448\\u0438\\u0439\", \"\\u043e\\u0447\\u0435\\u043d\\u044c\", \"\\u043a\\u043e\\u0442\\u043e\\u0440\\u044b\\u0439\", \"\\u0441\\u0434\\u0435\\u043b\\u0430\\u0442\\u044c\", \"\\u043b\\u044e\\u0431\\u0438\\u043c\\u044b\\u0439\", \"\\u0436\\u0434\\u0430\\u0442\\u044c\", \"\\u043d\\u043e\\u0447\\u044c\", \"\\u043f\\u043e\\u0439\\u0442\\u0438\", \"\\u0432\\u0440\\u0435\\u043c\\u044f\", \"\\u043f\\u043e\\u0441\\u043c\\u043e\\u0442\\u0440\\u0435\\u0442\\u044c\", \"\\u043d\\u0430\\u0441\\u0442\\u0440\\u043e\\u0435\\u043d\\u0438\\u0435\", \"\\u043a\\u0443\\u043f\\u0438\\u0442\\u044c\", \"\\u0434\\u0430\\u0432\\u043d\\u043e\", \"\\u0440\\u0430\\u0431\\u043e\\u0442\\u0430\", \"\\u0443\\u0440\\u043e\\u043a\", \"\\u043a\\u043b\\u0430\\u0441\\u0441\\u043d\\u044b\\u0439\", \"\\u0441\\u043a\\u043e\\u0440\\u043e\", \"\\u0433\\u043b\\u0430\\u0432\\u043d\\u043e\\u0435\", \"\\u0442\\u043e\\u0447\\u043d\\u043e\", \"\\u0442\\u0435\\u043b\\u0435\\u0444\\u043e\\u043d\", \"\\u0437\\u043d\\u0430\\u0447\\u0438\\u0442\", \"\\u0438\\u043d\\u0442\\u0435\\u0440\\u0435\\u0441\\u043d\\u043e\", \"\\u0440\\u0443\\u0441\\u0441\\u043a\\u0438\\u0439\", \"\\u0441\\u043b\\u0443\\u0448\\u0430\\u0442\\u044c\", \"ddd\", \"\\u0434\\u0443\\u0448\\u0430\", \"\\u043d\\u0430\\u0447\\u0430\\u0442\\u044c\", \"\\u0440\\u0430\\u0431\\u043e\\u0442\\u0430\\u0442\\u044c\", \"\\u0441\\u043a\\u043e\\u043b\\u044c\\u043a\\u043e\", \"\\u0441\\u043c\\u043e\\u0442\\u0440\\u0435\\u0442\\u044c\", \"\\u043f\\u044f\\u0442\\u043d\\u0438\\u0446\\u0430\", \"\\u043f\\u0438\\u0441\\u0430\\u0442\\u044c\", \"\\u0436\\u0438\\u0437\\u043d\\u044c\", \"\\u0443\\u0442\\u0440\\u043e\", \"\\u0434\\u043e\\u043c\", \"\\u0445\\u043e\\u0442\\u044f\", \"\\u043f\\u0435\\u0441\\u043d\\u044f\", \"\\u043d\\u0440\\u0430\\u0432\\u0438\\u0442\\u044c\\u0441\\u044f\", \"\\u0442\\u0432\\u0438\\u0442\", \"\\u043d\\u0435\\u0434\\u0435\\u043b\\u044f\", \"\\u043f\\u043e\\u043c\\u043d\\u0438\\u0442\\u044c\", \"\\u043c\\u0438\\u043b\\u044b\\u0439\", \"\\u043d\\u0438\\u043a\\u0442\\u043e\", \"\\u0431\\u043b\\u0438\\u043d\", \"\\u0434\\u043e\\u043b\\u0436\\u043d\\u044b\\u0439\", \"\\u043b\\u0435\\u043d\\u0442\\u0430\", \"\\u0441\\u0435\\u0437\\u043e\\u043d\", \"\\u043a\\u0430\\u0437\\u0430\\u0442\\u044c\\u0441\\u044f\", \"\\u0441\\u0442\\u043e\\u0438\\u0442\\u044c\", \"\\u043f\\u043e\\u0441\\u0442\\u0430\\u0432\\u0438\\u0442\\u044c\", \"\\u0441\\u0440\\u0430\\u0437\\u0443\", \"\\u0445\\u043e\\u0442\\u0435\\u0442\\u044c\\u0441\\u044f\", \"\\u0441\\u043b\\u0435\\u0434\\u0443\\u044e\\u0449\\u0438\\u0439\", \"\\u0434\\u0435\\u0432\\u0443\\u0448\\u043a\\u0430\", \"\\u043e\\u0442\\u043b\\u0438\\u0447\\u043d\\u044b\\u0439\", \"\\u0432\\u0435\\u0440\\u0438\\u0442\\u044c\", \"\\u0434\\u043e\\u0440\\u043e\\u0433\\u0430\", \"\\u0433\\u043b\\u0430\\u0437\", \"\\u0441\\u043f\\u043e\\u043a\\u043e\\u0439\\u043d\\u044b\\u0439\"], \"Freq\": [46388.0, 24737.0, 13319.0, 11568.0, 9654.0, 9163.0, 9171.0, 8829.0, 8366.0, 8743.0, 7897.0, 7142.0, 7376.0, 7039.0, 5459.0, 5188.0, 5003.0, 4866.0, 4447.0, 4544.0, 4067.0, 4527.0, 4558.0, 4145.0, 3984.0, 3603.0, 3829.0, 3810.0, 3899.0, 3810.0, 46387.28408579038, 8742.857058934953, 7375.4234499983595, 4557.366435690474, 2980.963927488837, 2734.2745977864715, 2497.2751385183306, 2468.108376381771, 1999.3576846789879, 1922.7611915041061, 1880.7056364160726, 1796.9021705473158, 1722.786030686181, 1679.2646545639952, 1676.864103720941, 1543.811641793567, 1387.9903784198873, 1372.8462982531719, 1333.3318157500653, 1313.1028146753854, 1182.6689146885387, 1179.6792134314107, 1092.2142020268932, 1053.5316313668243, 1006.5018379280049, 999.7865178470524, 943.90235114544, 937.9527878158781, 931.5141741278726, 922.3852341035932, 8828.884184342856, 7141.991945450002, 7039.08176550904, 4865.976439350902, 4526.241126632167, 3898.830750949453, 3653.050730423467, 2835.37125458438, 2603.33787515948, 2577.594907939967, 2499.368122559619, 2436.976496344178, 2385.5794026631447, 2317.996999934847, 2280.7540418830044, 2209.2205061769746, 2113.9108811576084, 2106.8883341993856, 1976.3362972922737, 1881.7430459155994, 1619.5909118145391, 1617.3367676432135, 1616.766579404261, 1571.073105829291, 1529.7847436775432, 1435.5143817550415, 1423.9792021628227, 1405.65943417077, 1382.3094112310364, 1368.575151360282, 2556.675624614709, 13318.603358033162, 11567.584746998184, 9170.642487057767, 5187.830260944582, 4543.2360440132725, 3983.648807830745, 3809.4628899733016, 3501.194321759362, 2945.139389702012, 2770.6160589766096, 2553.322803870594, 2422.470218272533, 2068.4423993141, 2036.1091056657478, 2028.6860225706594, 1978.8344297385033, 1794.3957522060562, 1667.702275162039, 1540.5561762370965, 1441.92788855757, 1399.0414914453827, 1358.4032497343126, 1293.3190034381316, 1277.3125329473405, 1262.7832441977648, 1258.7978969521268, 1203.5189486343338, 1174.4407834967806, 1125.7475993873288, 1115.130572823977, 24737.062907077732, 7896.960518326155, 5002.625407457891, 4144.902685033919, 3707.039431490099, 3443.0251586328336, 2726.2171776475143, 2256.8297325217877, 2115.3507225243748, 1962.991558529753, 1920.705513912293, 1905.3184883055699, 1852.5832877462835, 1610.8163527651204, 1613.776163819835, 1586.639399379127, 1571.2371963203814, 1563.2005275640972, 1461.5549483103778, 1392.7170948859862, 1257.7530581468623, 1241.679096903389, 1198.4473722787382, 1180.5428647841245, 1165.3257018938737, 1160.1460325481235, 1146.3402687408266, 1080.5461181778771, 1070.792941970924, 1066.3362806992654, 9653.882158817709, 9162.755856180245, 8365.495170551943, 4446.464826843769, 3828.7242975493136, 3809.606758066228, 3637.0015249972894, 3218.025969930281, 3168.770836180332, 2810.899591824404, 2804.168134749335, 2599.976105764702, 2203.1330982247837, 2004.5969029124385, 2009.3819267001313, 1972.9515025387377, 1689.9801791423981, 1629.2643495292325, 1567.9910727003962, 1535.1934200707492, 1525.4640730923302, 1508.6730903140983, 1431.056319042731, 1429.2491468643277, 1396.20871872222, 1290.9273203389128, 1230.326282963078, 1225.4047168299282, 1219.04562966157, 1187.4811880236712, 5459.100038627281, 4066.915649732193, 3602.6344472220426, 2933.9717344617493, 2789.34355829261, 2685.879352875154, 2482.1882333398526, 2296.234027028554, 2184.8997571128893, 2079.893419331623, 1883.0720239257691, 1844.3249520182985, 1749.5756452985877, 1683.0588555409079, 1620.7260318829506, 1583.1808561763312, 1575.9530073610422, 1570.836889816421, 1469.4471331541185, 1443.3648697768854, 1432.1560276066684, 1334.898076945186, 1332.5186377305765, 1297.7987859549894, 1292.8514581361878, 1192.2523387625092, 1169.7754983166988, 1140.5625663208018, 1117.3512337522488, 1107.490052677269], \"Total\": [46388.0, 24737.0, 13319.0, 11568.0, 9654.0, 9163.0, 9171.0, 8829.0, 8366.0, 8743.0, 7897.0, 7142.0, 7376.0, 7039.0, 5459.0, 5188.0, 5003.0, 4866.0, 4447.0, 4544.0, 4067.0, 4527.0, 4558.0, 4145.0, 3984.0, 3603.0, 3829.0, 3810.0, 3899.0, 3810.0, 46388.161642753425, 8743.736769042272, 7376.303221012677, 4558.2454656872405, 2981.8423244796845, 2735.1542077270883, 2498.153367091598, 2468.9894496704355, 2000.2359436520821, 1923.6417788935028, 1881.5867952534797, 1797.7809270619177, 1723.6698501556575, 1680.1435075747947, 1677.7417835150054, 1544.6910044509698, 1388.8730649713746, 1373.7275211736383, 1334.2116035197364, 1313.982708884609, 1183.546592550083, 1180.5552722648977, 1093.0934608180905, 1054.4130638647491, 1007.3795510499698, 1000.668673466022, 944.7815341765956, 938.8362559419453, 932.3975158510011, 923.2642297998349, 8829.778247530556, 7142.885936529589, 7039.976583733103, 4866.869502025411, 4527.135204752893, 3899.7239718008136, 3653.945965613317, 2836.2657408623554, 2604.232116549141, 2578.4899580818046, 2500.264793192583, 2437.8703899559787, 2386.4733809965965, 2318.8925443844178, 2281.6493984683743, 2210.1142635268448, 2114.8028488211635, 2107.7823011348346, 1977.2304673226915, 1882.6358568120563, 1620.485073387626, 1618.2315546430764, 1617.666497285044, 1571.9687385716873, 1530.678553979216, 1436.4105993480532, 1424.8730466951088, 1406.5550919845207, 1383.2031179463604, 1369.4675459366383, 2564.7313196775426, 13319.493197823065, 11568.474793601516, 9171.533000413468, 5188.720542842487, 4544.124247043478, 3984.5369445923957, 3810.3511590549715, 3502.083253600779, 2946.027791915682, 2771.506950349293, 2554.211903676062, 2423.3574070097143, 2069.3321747504237, 2036.9970151777893, 2029.574742186593, 1979.7232501792826, 1795.282392228962, 1668.5909819891635, 1541.4444603383274, 1442.8208151450517, 1399.9314804030769, 1359.2923615169113, 1294.2079870916052, 1278.2021227867913, 1263.6719818812885, 1259.6838677052374, 1204.4068339077885, 1175.3297150498693, 1126.6371304352444, 1116.0177565859046, 24737.952431279282, 7897.849054724031, 5003.514530270738, 4145.791024658198, 3707.9309390129893, 3443.914808772046, 2727.107567725075, 2257.7170013278846, 2116.2405307713743, 1963.884752296379, 1921.5971332109928, 1906.2103550290478, 1853.4732875017903, 1611.705338446189, 1614.6682883902197, 1587.5280145208183, 1572.1273924665313, 1564.091733774129, 1462.443743065696, 1393.6062433396626, 1258.6418041832846, 1242.571554486623, 1199.3403554649822, 1181.4290470764465, 1166.2139805976935, 1161.033997717548, 1147.2385614661325, 1081.435447249695, 1071.6816150120992, 1067.2249519964366, 9654.765915019365, 9163.639253146423, 8366.378921694302, 4447.348258558397, 3829.6072803235525, 3810.4922709359403, 3637.8844150255018, 3218.912115479976, 3169.6537186623536, 2811.7828156166597, 2805.0506730262878, 2600.859151244824, 2204.018969202734, 2005.4800452879049, 2010.2682101146381, 1973.8344767193844, 1690.8633551553435, 1630.1465572317668, 1568.874617298032, 1536.0757065026676, 1526.3472903137927, 1509.5570562422272, 1431.940131094796, 1430.1342451743808, 1397.0920074357248, 1291.8087456322344, 1231.2113100884023, 1226.2869046960875, 1219.9270377651878, 1188.3642819786728, 5459.9828587991, 4067.802928210483, 3603.5170061299686, 2934.855678877602, 2790.2282733094153, 2686.7630866633995, 2483.0722273532215, 2297.1175749838094, 2185.7833965575046, 2080.7753154891493, 1883.9557993366498, 1845.2062842845696, 1750.4586398731587, 1683.9416650257829, 1621.6095567672562, 1584.0645298901482, 1576.836702229567, 1571.7209254702625, 1470.3284350125314, 1444.2498082303105, 1433.0396933651716, 1335.7812238766633, 1333.4010739149683, 1298.6827941050772, 1293.7340093520543, 1193.1368142708932, 1170.6603703524056, 1141.446541560558, 1118.2342341215335, 1108.3754154439073], \"Category\": [\"Default\", \"Default\", \"Default\", \"Default\", \"Default\", \"Default\", \"Default\", \"Default\", \"Default\", \"Default\", \"Default\", \"Default\", \"Default\", \"Default\", \"Default\", \"Default\", \"Default\", \"Default\", \"Default\", \"Default\", \"Default\", \"Default\", \"Default\", \"Default\", \"Default\", \"Default\", \"Default\", \"Default\", \"Default\", \"Default\", \"Topic1\", \"Topic1\", \"Topic1\", \"Topic1\", \"Topic1\", \"Topic1\", \"Topic1\", \"Topic1\", \"Topic1\", \"Topic1\", \"Topic1\", \"Topic1\", \"Topic1\", \"Topic1\", \"Topic1\", \"Topic1\", \"Topic1\", \"Topic1\", \"Topic1\", \"Topic1\", \"Topic1\", \"Topic1\", \"Topic1\", \"Topic1\", \"Topic1\", \"Topic1\", \"Topic1\", \"Topic1\", \"Topic1\", \"Topic1\", \"Topic2\", \"Topic2\", \"Topic2\", \"Topic2\", \"Topic2\", \"Topic2\", \"Topic2\", \"Topic2\", \"Topic2\", \"Topic2\", \"Topic2\", \"Topic2\", \"Topic2\", \"Topic2\", \"Topic2\", \"Topic2\", \"Topic2\", \"Topic2\", \"Topic2\", \"Topic2\", \"Topic2\", \"Topic2\", \"Topic2\", \"Topic2\", \"Topic2\", \"Topic2\", \"Topic2\", \"Topic2\", \"Topic2\", \"Topic2\", \"Topic2\", \"Topic3\", \"Topic3\", \"Topic3\", \"Topic3\", \"Topic3\", \"Topic3\", \"Topic3\", \"Topic3\", \"Topic3\", \"Topic3\", \"Topic3\", \"Topic3\", \"Topic3\", \"Topic3\", \"Topic3\", \"Topic3\", \"Topic3\", \"Topic3\", \"Topic3\", \"Topic3\", \"Topic3\", \"Topic3\", \"Topic3\", \"Topic3\", \"Topic3\", \"Topic3\", \"Topic3\", \"Topic3\", \"Topic3\", \"Topic3\", \"Topic4\", \"Topic4\", \"Topic4\", \"Topic4\", \"Topic4\", \"Topic4\", \"Topic4\", \"Topic4\", \"Topic4\", \"Topic4\", \"Topic4\", \"Topic4\", \"Topic4\", \"Topic4\", \"Topic4\", \"Topic4\", \"Topic4\", \"Topic4\", \"Topic4\", \"Topic4\", \"Topic4\", \"Topic4\", \"Topic4\", \"Topic4\", \"Topic4\", \"Topic4\", \"Topic4\", \"Topic4\", \"Topic4\", \"Topic4\", \"Topic5\", \"Topic5\", \"Topic5\", \"Topic5\", \"Topic5\", \"Topic5\", \"Topic5\", \"Topic5\", \"Topic5\", \"Topic5\", \"Topic5\", \"Topic5\", \"Topic5\", \"Topic5\", \"Topic5\", \"Topic5\", \"Topic5\", \"Topic5\", \"Topic5\", \"Topic5\", \"Topic5\", \"Topic5\", \"Topic5\", \"Topic5\", \"Topic5\", \"Topic5\", \"Topic5\", \"Topic5\", \"Topic5\", \"Topic5\", \"Topic6\", \"Topic6\", \"Topic6\", \"Topic6\", \"Topic6\", \"Topic6\", \"Topic6\", \"Topic6\", \"Topic6\", \"Topic6\", \"Topic6\", \"Topic6\", \"Topic6\", \"Topic6\", \"Topic6\", \"Topic6\", \"Topic6\", \"Topic6\", \"Topic6\", \"Topic6\", \"Topic6\", \"Topic6\", \"Topic6\", \"Topic6\", \"Topic6\", \"Topic6\", \"Topic6\", \"Topic6\", \"Topic6\", \"Topic6\"], \"logprob\": [30.0, 29.0, 28.0, 27.0, 26.0, 25.0, 24.0, 23.0, 22.0, 21.0, 20.0, 19.0, 18.0, 17.0, 16.0, 15.0, 14.0, 13.0, 12.0, 11.0, 10.0, 9.0, 8.0, 7.0, 6.0, 5.0, 4.0, 3.0, 2.0, 1.0, -1.6779, -3.3467, -3.5168, -3.9982, -4.4227, -4.509, -4.5997, -4.6115, -4.8221, -4.8612, -4.8833, -4.9289, -4.971, -4.9966, -4.998, -5.0807, -5.1871, -5.198, -5.2272, -5.2425, -5.3471, -5.3497, -5.4267, -5.4628, -5.5084, -5.5151, -5.5726, -5.579, -5.5859, -5.5957, -3.274, -3.486, -3.5006, -3.8698, -3.9421, -4.0914, -4.1565, -4.4099, -4.4952, -4.5052, -4.536, -4.5613, -4.5826, -4.6113, -4.6275, -4.6594, -4.7035, -4.7068, -4.7708, -4.8198, -4.9699, -4.9713, -4.9716, -5.0003, -5.0269, -5.0905, -5.0986, -5.1115, -5.1283, -5.1383, -4.5133, -2.832, -2.973, -3.2052, -3.7749, -3.9076, -4.039, -4.0837, -4.1681, -4.341, -4.4021, -4.4838, -4.5364, -4.6944, -4.7102, -4.7138, -4.7387, -4.8365, -4.9098, -4.9891, -5.0552, -5.0854, -5.1149, -5.164, -5.1764, -5.1879, -5.191, -5.236, -5.2604, -5.3028, -5.3122, -2.2, -3.3418, -3.7983, -3.9864, -4.098, -4.1719, -4.4053, -4.5943, -4.659, -4.7338, -4.7556, -4.7636, -4.7917, -4.9315, -4.9297, -4.9466, -4.9564, -4.9615, -5.0288, -5.077, -5.1789, -5.1918, -5.2272, -5.2423, -5.2553, -5.2597, -5.2717, -5.3308, -5.3399, -5.344, -3.109, -3.1612, -3.2523, -3.8843, -4.0339, -4.0389, -4.0852, -4.2076, -4.223, -4.3429, -4.3453, -4.4209, -4.5865, -4.6809, -4.6786, -4.6969, -4.8517, -4.8883, -4.9266, -4.9477, -4.9541, -4.9652, -5.018, -5.0192, -5.0426, -5.121, -5.1691, -5.1731, -5.1783, -5.2046, -3.5507, -3.8451, -3.9663, -4.1716, -4.2221, -4.2599, -4.3388, -4.4167, -4.4664, -4.5156, -4.615, -4.6358, -4.6886, -4.7273, -4.7651, -4.7885, -4.7931, -4.7963, -4.8631, -4.881, -4.8888, -4.9591, -4.9609, -4.9873, -4.9911, -5.0721, -5.0911, -5.1164, -5.137, -5.1458], \"loglift\": [30.0, 29.0, 28.0, 27.0, 26.0, 25.0, 24.0, 23.0, 22.0, 21.0, 20.0, 19.0, 18.0, 17.0, 16.0, 15.0, 14.0, 13.0, 12.0, 11.0, 10.0, 9.0, 8.0, 7.0, 6.0, 5.0, 4.0, 3.0, 2.0, 1.0, 1.6836, 1.6835, 1.6835, 1.6834, 1.6833, 1.6833, 1.6832, 1.6832, 1.6831, 1.6831, 1.6831, 1.6831, 1.6831, 1.6831, 1.6831, 1.683, 1.6829, 1.6829, 1.6829, 1.6829, 1.6828, 1.6828, 1.6828, 1.6827, 1.6827, 1.6827, 1.6826, 1.6826, 1.6826, 1.6826, 1.7464, 1.7463, 1.7463, 1.7463, 1.7463, 1.7462, 1.7462, 1.7461, 1.7461, 1.7461, 1.7461, 1.7461, 1.7461, 1.7461, 1.7461, 1.7461, 1.746, 1.746, 1.746, 1.746, 1.7459, 1.7459, 1.7459, 1.7459, 1.7459, 1.7458, 1.7458, 1.7458, 1.7458, 1.7458, 1.7433, 1.7772, 1.7772, 1.7772, 1.7771, 1.7771, 1.7771, 1.7771, 1.777, 1.777, 1.777, 1.7769, 1.7769, 1.7769, 1.7769, 1.7768, 1.7768, 1.7768, 1.7768, 1.7767, 1.7767, 1.7767, 1.7766, 1.7766, 1.7766, 1.7766, 1.7766, 1.7765, 1.7765, 1.7765, 1.7765, 1.7902, 1.7901, 1.7901, 1.79, 1.79, 1.79, 1.7899, 1.7898, 1.7898, 1.7898, 1.7898, 1.7898, 1.7898, 1.7897, 1.7897, 1.7897, 1.7897, 1.7897, 1.7896, 1.7896, 1.7895, 1.7895, 1.7895, 1.7895, 1.7895, 1.7895, 1.7895, 1.7894, 1.7894, 1.7894, 1.822, 1.822, 1.822, 1.8219, 1.8219, 1.8219, 1.8219, 1.8218, 1.8218, 1.8218, 1.8218, 1.8218, 1.8217, 1.8217, 1.8217, 1.8217, 1.8216, 1.8216, 1.8215, 1.8215, 1.8215, 1.8215, 1.8215, 1.8215, 1.8215, 1.8214, 1.8214, 1.8214, 1.8214, 1.8214, 1.9504, 1.9503, 1.9503, 1.9502, 1.9502, 1.9502, 1.9502, 1.9502, 1.9501, 1.9501, 1.9501, 1.9501, 1.95, 1.95, 1.95, 1.95, 1.95, 1.95, 1.9499, 1.9499, 1.9499, 1.9499, 1.9499, 1.9499, 1.9499, 1.9498, 1.9498, 1.9498, 1.9498, 1.9497]}, \"token.table\": {\"Topic\": [5, 1, 3, 1, 3, 6, 4, 3, 1, 6, 3, 3, 1, 2, 2, 4, 5, 4, 4, 4, 5, 6, 1, 1, 4, 1, 5, 4, 3, 6, 1, 4, 2, 6, 6, 6, 3, 2, 5, 3, 5, 3, 1, 6, 4, 2, 2, 4, 4, 5, 3, 2, 1, 5, 4, 1, 6, 2, 5, 5, 4, 2, 3, 3, 5, 1, 6, 5, 2, 3, 1, 2, 2, 6, 2, 1, 4, 1, 3, 2, 4, 5, 5, 2, 6, 4, 3, 6, 2, 3, 4, 5, 6, 2, 2, 1, 3, 6, 5, 4, 4, 1, 2, 6, 6, 5, 4, 2, 6, 4, 1, 1, 2, 5, 6, 3, 1, 1, 2, 5, 6, 3, 2, 2, 3, 2, 4, 6, 5, 5, 4, 1, 1, 2, 4, 3, 2, 5, 3, 1, 5, 3, 6, 3, 2, 1, 5, 5, 1, 6, 4, 5, 6, 2, 4, 5, 4, 6, 6, 4, 6, 1, 3, 4, 6, 3, 5, 1, 5, 3, 5, 6, 3, 4, 1, 3, 1, 5, 1, 6, 6, 3, 2, 2], \"Freq\": [0.9993739432133675, 0.9999749582067431, 0.9994398651202716, 0.9995383121361597, 0.9996906830813731, 0.9996241038635272, 0.9993639762009993, 0.9997525932429754, 0.999252114294987, 0.9994358992846005, 0.999962971727547, 0.9996511261982991, 0.9990918955310086, 0.999495834425743, 0.9993837418340982, 0.9998091981352912, 0.9997215945654437, 0.999490081942971, 0.9999614991870517, 0.9992828873334734, 0.9994425193139154, 0.9988962651259706, 0.9997267664287464, 0.9996881380891065, 0.9989590412926869, 0.9997175154189847, 0.9997606332264274, 0.9996965742663264, 0.9994682307664303, 0.9994326427636993, 0.9986306955700981, 0.9998971662283331, 0.9996429711933971, 0.999327975678982, 0.9997159828988319, 0.9996087932773904, 0.9998652429128246, 0.9997492443451433, 0.9990161639367044, 0.9999589579776084, 0.999756887541053, 0.9994344847883734, 0.9993317733594018, 0.9997084426046022, 0.9996673982972341, 0.999130194307148, 0.9998612802583237, 0.9995400228787154, 0.9998924954480457, 0.9996309803329899, 0.9994311038928495, 0.9997411112199743, 0.9995736626875948, 0.9993434564236444, 0.9988824227760914, 0.9993821010686241, 0.9990965045761901, 0.9996585929049392, 0.9994893998070801, 0.9996968398964928, 0.998852208248931, 0.9996622518317838, 0.9996458197392035, 0.9997168164469894, 0.9995376767546141, 0.9995526584611558, 0.9994693792779025, 0.9998708117217046, 0.999875969385839, 0.9996622122223696, 0.9995656161158668, 0.9995268791359605, 0.9995566972716433, 0.9997379887403727, 0.9994941363026721, 0.9996232293482886, 0.9993020014423997, 0.9996113814048572, 0.9995255273556913, 0.9997153820088177, 0.999734369511779, 0.9996696663698945, 0.9989505680186592, 0.9995537298060193, 0.9994926636086758, 0.9995861141294315, 0.9996346710686874, 0.9994407971218121, 0.9998213426464283, 0.9993346242897483, 0.9995973432803572, 0.9997166385886742, 0.9996415946068863, 0.9996150988597643, 0.9992389502975993, 0.9991092632643311, 0.9990492394767311, 0.9990472054358763, 0.9998351829737562, 0.9991094165032371, 0.9994138044549585, 0.9996663729699862, 0.9998143530654865, 0.999513488122689, 0.9998565273511714, 0.9997937570724194, 0.9995938672393481, 0.9995879884474566, 0.9993462604724234, 0.999744648328637, 0.9995381740325868, 0.9995780099989143, 0.9996288510751734, 0.9996254352777327, 0.9992744839030033, 0.9995105465691111, 0.9993193988670377, 0.0019495219486104446, 0.9969855245193814, 0.0007798087794441778, 0.0003899043897220889, 0.9992856877366408, 0.9998016399427012, 0.9993776813866531, 0.9990666205867575, 0.9999118610333421, 0.9995649823308701, 0.9998026137881669, 0.9993691338756405, 0.9992400875327051, 0.9996368405893623, 0.9991727884719119, 0.999470403582643, 0.9997006616132464, 0.9989203976332963, 0.9994571116430322, 0.9997141490405045, 0.9992068960111905, 0.9998611328483511, 0.9999157375088324, 0.9998414249088483, 0.9999418853518333, 0.9995413145816285, 0.9990595205833562, 0.9993872810654018, 0.999599249129814, 0.9988519665229241, 0.9992966538949026, 0.9989996639287622, 0.9994742410477936, 0.9995623651362544, 0.9992183711381121, 0.999819988665804, 0.9996053535423647, 0.9995494886879973, 0.9999206697473448, 0.9997489330226746, 0.9987590707762528, 0.9994151558184087, 0.99968925161228, 0.9991346315414492, 0.9996082523264316, 0.9997116598425935, 0.9996824219654354, 0.9996273910578534, 0.9996453977603191, 0.9991173107703977, 0.999371386058673, 0.9992997047618722, 0.999088046243083, 0.9995772306496686, 0.9995597946873507, 0.9998170849439041, 0.9993650464515342, 0.9995296516156906, 0.9988686450849983, 0.999557867889866, 0.9999302402540341, 0.9998233232862548, 0.9996992098455488, 0.9995681851935638, 0.9993562296248623, 0.9998099825518928, 0.9996203670608771], \"Term\": [\"ddd\", \"http\", \"\\u0430\\u0445\\u0430\\u0445\", \"\\u0430\\u0445\\u0430\\u0445\\u0438\", \"\\u0430\\u0445\\u0438\", \"\\u0431\\u043b\\u0438\\u043d\", \"\\u0431\\u043b\\u044f\", \"\\u0431\\u043e\\u043b\\u044c\\u0448\\u043e\\u0439\", \"\\u0432\\u0430\\u0448\", \"\\u0432\\u0435\\u0440\\u0438\\u0442\\u044c\", \"\\u0432\\u0435\\u0441\\u044c\", \"\\u0432\\u0435\\u0447\\u0435\\u0440\", \"\\u0432\\u0437\\u044f\\u0442\\u044c\", \"\\u0432\\u0438\\u0434\\u0435\\u0442\\u044c\", \"\\u0432\\u043c\\u0435\\u0441\\u0442\\u0435\", \"\\u0432\\u043e\\u043e\\u0431\\u0449\\u0435\", \"\\u0432\\u0440\\u0435\\u043c\\u044f\", \"\\u0432\\u0440\\u043e\\u0434\\u0435\", \"\\u0432\\u0441\\u0451\", \"\\u0432\\u0442\\u043e\\u0440\\u043e\\u0439\", \"\\u0433\\u043b\\u0430\\u0432\\u043d\\u043e\\u0435\", \"\\u0433\\u043b\\u0430\\u0437\", \"\\u0433\\u043e\\u0432\\u043e\\u0440\\u0438\\u0442\\u044c\", \"\\u0433\\u043e\\u043b\\u043e\\u0432\\u0430\", \"\\u0433\\u043e\\u0440\\u043e\\u0434\", \"\\u0434\\u0430\\u0432\\u0430\\u0442\\u044c\", \"\\u0434\\u0430\\u0432\\u043d\\u043e\", \"\\u0434\\u0430\\u0442\\u044c\", \"\\u0434\\u0435\\u0432\\u043e\\u0447\\u043a\\u0430\", \"\\u0434\\u0435\\u0432\\u0443\\u0448\\u043a\\u0430\", \"\\u0434\\u0435\\u043a\\u0430\\u0431\\u0440\\u044c\", \"\\u0434\\u0435\\u043b\\u0430\\u0442\\u044c\", \"\\u0434\\u0435\\u043b\\u043e\", \"\\u0434\\u043e\\u043b\\u0436\\u043d\\u044b\\u0439\", \"\\u0434\\u043e\\u043c\", \"\\u0434\\u043e\\u0440\\u043e\\u0433\\u0430\", \"\\u0434\\u0440\\u0443\\u0433\", \"\\u0434\\u0443\\u043c\\u0430\\u0442\\u044c\", \"\\u0434\\u0443\\u0448\\u0430\", \"\\u0435\\u0449\\u0451\", \"\\u0436\\u0434\\u0430\\u0442\\u044c\", \"\\u0436\\u0435\\u043b\\u0430\\u0442\\u044c\", \"\\u0436\\u0438\\u0432\\u043e\\u0439\", \"\\u0436\\u0438\\u0437\\u043d\\u044c\", \"\\u0436\\u0438\\u0442\\u044c\", \"\\u0437\\u0430\\u0431\\u044b\\u0442\\u044c\", \"\\u0437\\u0430\\u0432\\u0442\\u0440\\u0430\", \"\\u0437\\u0430\\u0442\\u043e\", \"\\u0437\\u043d\\u0430\\u0442\\u044c\", \"\\u0437\\u043d\\u0430\\u0447\\u0438\\u0442\", \"\\u0438\\u0433\\u0440\\u0430\\u0442\\u044c\", \"\\u0438\\u0434\\u0442\\u0438\", \"\\u0438\\u043c\\u0435\\u043d\\u043d\\u043e\", \"\\u0438\\u043d\\u0442\\u0435\\u0440\\u0435\\u0441\\u043d\\u043e\", \"\\u0438\\u043d\\u0442\\u0435\\u0440\\u0435\\u0441\\u043d\\u044b\\u0439\", \"\\u043a\\u0430\\u0436\\u0434\\u044b\\u0439\", \"\\u043a\\u0430\\u0437\\u0430\\u0442\\u044c\\u0441\\u044f\", \"\\u043a\\u043b\\u0430\\u0441\\u0441\", \"\\u043a\\u043b\\u0430\\u0441\\u0441\\u043d\\u044b\\u0439\", \"\\u043a\\u043e\\u0442\\u043e\\u0440\\u044b\\u0439\", \"\\u043a\\u0440\\u0430\\u0441\\u0438\\u0432\\u044b\\u0439\", \"\\u043a\\u0440\\u0443\\u0442\\u043e\", \"\\u043a\\u0440\\u0443\\u0442\\u043e\\u0439\", \"\\u043a\\u0441\\u0442\\u0430\\u0442\\u0438\", \"\\u043a\\u0443\\u043f\\u0438\\u0442\\u044c\", \"\\u043b\\u0430\\u0434\\u043d\\u044b\\u0439\", \"\\u043b\\u0435\\u043d\\u0442\\u0430\", \"\\u043b\\u044e\\u0431\\u0438\\u043c\\u044b\\u0439\", \"\\u043b\\u044e\\u0431\\u0438\\u0442\\u044c\", \"\\u043b\\u044e\\u0431\\u043e\\u0432\\u044c\", \"\\u043c\\u0430\\u043b\\u0435\\u043d\\u044c\\u043a\\u0438\\u0439\", \"\\u043c\\u0430\\u043c\\u0430\", \"\\u043c\\u0435\\u0441\\u0442\\u043e\", \"\\u043c\\u0438\\u043b\\u044b\\u0439\", \"\\u043c\\u043e\\u043b\\u043e\\u0434\\u0451\\u0436\\u043a\\u0430\", \"\\u043c\\u043e\\u043c\\u0435\\u043d\\u0442\", \"\\u043c\\u0443\\u0437\\u044b\\u043a\\u0430\", \"\\u043d\\u0430\\u0432\\u0435\\u0440\\u043d\\u043e\\u0435\", \"\\u043d\\u0430\\u0434\\u0435\\u044f\\u0442\\u044c\\u0441\\u044f\", \"\\u043d\\u0430\\u0439\\u0442\\u0438\", \"\\u043d\\u0430\\u043f\\u0438\\u0441\\u0430\\u0442\\u044c\", \"\\u043d\\u0430\\u0441\\u0442\\u0440\\u043e\\u0435\\u043d\\u0438\\u0435\", \"\\u043d\\u0430\\u0447\\u0430\\u0442\\u044c\", \"\\u043d\\u0430\\u0448\", \"\\u043d\\u0435\\u0434\\u0435\\u043b\\u044f\", \"\\u043d\\u0435\\u043c\\u043d\\u043e\\u0433\\u043e\", \"\\u043d\\u0438\\u0431\\u044b\\u0442\\u044c\", \"\\u043d\\u0438\\u043a\\u0442\\u043e\", \"\\u043d\\u043e\\u0432\\u044b\\u0439\", \"\\u043d\\u043e\\u0440\\u043c\\u0430\", \"\\u043d\\u043e\\u0440\\u043c\\u0430\\u043b\\u044c\\u043d\\u043e\", \"\\u043d\\u043e\\u0447\\u044c\", \"\\u043d\\u0440\\u0430\\u0432\\u0438\\u0442\\u044c\\u0441\\u044f\", \"\\u043d\\u0443\\u0436\\u043d\\u043e\", \"\\u043d\\u0443\\u0436\\u043d\\u044b\\u0439\", \"\\u043e\\u0431\\u044b\\u0447\\u043d\\u043e\", \"\\u043e\\u0441\\u0442\\u0430\\u0442\\u044c\\u0441\\u044f\", \"\\u043e\\u0442\\u043b\\u0438\\u0447\\u043d\\u044b\\u0439\", \"\\u043e\\u0447\\u0435\\u043d\\u044c\", \"\\u043f\\u0430\\u043f\\u0430\", \"\\u043f\\u0430\\u0440\\u0430\", \"\\u043f\\u0430\\u0440\\u0435\\u043d\\u044c\", \"\\u043f\\u0435\\u0440\\u0432\\u044b\\u0439\", \"\\u043f\\u0435\\u0441\\u043d\\u044f\", \"\\u043f\\u0438\\u0441\\u0430\\u0442\\u044c\", \"\\u043f\\u043e\\u0439\\u0442\\u0438\", \"\\u043f\\u043e\\u043a\\u0430\", \"\\u043f\\u043e\\u043b\\u0443\\u0447\\u0438\\u0442\\u044c\", \"\\u043f\\u043e\\u043c\\u043d\\u0438\\u0442\\u044c\", \"\\u043f\\u043e\\u043d\\u0438\\u043c\\u0430\\u0442\\u044c\", \"\\u043f\\u043e\\u043d\\u0440\\u0430\\u0432\\u0438\\u0442\\u044c\\u0441\\u044f\", \"\\u043f\\u043e\\u043d\\u044f\\u0442\\u044c\", \"\\u043f\\u043e\\u0441\\u043b\\u0435\\u0434\\u043d\\u0438\\u0439\", \"\\u043f\\u043e\\u0441\\u043c\\u043e\\u0442\\u0440\\u0435\\u0442\\u044c\", \"\\u043f\\u043e\\u0441\\u0442\\u0430\\u0432\\u0438\\u0442\\u044c\", \"\\u043f\\u043e\\u0447\\u0435\\u043c\\u0443\", \"\\u043f\\u0440\\u0430\\u0432\\u0434\\u0430\", \"\\u043f\\u0440\\u0435\\u0434\\u043d\\u043e\\u0432\\u043e\\u0433\\u043e\\u0434\\u043d\\u0438\\u0435\\u043e\\u0431\\u043d\\u0438\\u043c\\u0430\\u0448\\u043a\\u0430\", \"\\u043f\\u0440\\u0435\\u0434\\u043d\\u043e\\u0432\\u043e\\u0433\\u043e\\u0434\\u043d\\u0438\\u0435\\u043e\\u0431\\u043d\\u0438\\u043c\\u0430\\u0448\\u043a\\u0430\", \"\\u043f\\u0440\\u0435\\u0434\\u043d\\u043e\\u0432\\u043e\\u0433\\u043e\\u0434\\u043d\\u0438\\u0435\\u043e\\u0431\\u043d\\u0438\\u043c\\u0430\\u0448\\u043a\\u0430\", \"\\u043f\\u0440\\u0435\\u0434\\u043d\\u043e\\u0432\\u043e\\u0433\\u043e\\u0434\\u043d\\u0438\\u0435\\u043e\\u0431\\u043d\\u0438\\u043c\\u0430\\u0448\\u043a\\u0430\", \"\\u043f\\u0440\\u0438\\u0432\\u0435\\u0442\", \"\\u043f\\u0440\\u0438\\u0439\\u0442\\u0438\", \"\\u043f\\u0440\\u0438\\u044f\\u0442\\u043d\\u043e\", \"\\u043f\\u0440\\u043e\\u0439\\u0442\\u0438\", \"\\u043f\\u0440\\u043e\\u0441\\u0442\\u043e\", \"\\u043f\\u0440\\u044f\\u043c\", \"\\u043f\\u044f\\u0442\\u043d\\u0438\\u0446\\u0430\", \"\\u0440\\u0430\\u0431\\u043e\\u0442\\u0430\", \"\\u0440\\u0430\\u0431\\u043e\\u0442\\u0430\\u0442\\u044c\", \"\\u0440\\u0430\\u0432\\u043d\\u043e\", \"\\u0440\\u0430\\u0434\\u043e\\u0441\\u0442\\u044c\", \"\\u0440\\u0435\\u0431\\u044f\\u0442\\u0430\", \"\\u0440\\u0435\\u0448\\u0438\\u0442\\u044c\", \"\\u0440\\u043e\\u0434\\u043d\\u044b\\u0439\", \"\\u0440\\u043e\\u0436\\u0434\\u0435\\u043d\\u0438\\u0435\", \"\\u0440\\u0443\\u043a\\u0430\", \"\\u0440\\u0443\\u0441\\u0441\\u043a\\u0438\\u0439\", \"\\u0441\\u0430\\u043c\\u044b\\u0439\", \"\\u0441\\u0432\\u043e\\u0439\", \"\\u0441\\u0434\\u0435\\u043b\\u0430\\u0442\\u044c\", \"\\u0441\\u0435\\u0433\\u043e\\u0434\\u043d\\u044f\", \"\\u0441\\u0435\\u0437\\u043e\\u043d\", \"\\u0441\\u0435\\u0440\\u0438\\u0430\\u043b\", \"\\u0441\\u0435\\u0440\\u0438\\u044f\", \"\\u0441\\u0438\\u0434\\u0435\\u0442\\u044c\", \"\\u0441\\u043a\\u043e\\u043b\\u044c\\u043a\\u043e\", \"\\u0441\\u043a\\u043e\\u0440\\u043e\", \"\\u0441\\u043a\\u0443\\u0447\\u0430\\u0442\\u044c\", \"\\u0441\\u043b\\u0435\\u0434\\u0443\\u044e\\u0449\\u0438\\u0439\", \"\\u0441\\u043b\\u043e\\u0432\\u043e\", \"\\u0441\\u043b\\u0443\\u0448\\u0430\\u0442\\u044c\", \"\\u0441\\u043c\\u043e\\u0442\\u0440\\u0435\\u0442\\u044c\", \"\\u0441\\u043d\\u043e\\u0432\\u0430\", \"\\u0441\\u043e\\u043d\", \"\\u0441\\u043f\\u0430\\u0441\\u0438\\u0431\\u043e\", \"\\u0441\\u043f\\u0430\\u0442\\u044c\", \"\\u0441\\u043f\\u043e\\u043a\\u043e\\u0439\\u043d\\u044b\\u0439\", \"\\u0441\\u0440\\u0430\\u0437\\u0443\", \"\\u0441\\u0442\\u0430\\u0442\\u044c\", \"\\u0441\\u0442\\u043e\\u0438\\u0442\\u044c\", \"\\u0441\\u0443\\u043f\\u0435\\u0440\", \"\\u0441\\u0447\\u0430\\u0441\\u0442\\u043b\\u0438\\u0432\\u044b\\u0439\", \"\\u0442\\u0430\\u043a\\u0438\", \"\\u0442\\u0432\\u0438\\u0442\", \"\\u0442\\u0432\\u043e\\u0439\", \"\\u0442\\u0435\\u043b\\u0435\\u0444\\u043e\\u043d\", \"\\u0442\\u0435\\u043c\\u0430\", \"\\u0442\\u043e\\u0447\\u043d\\u043e\", \"\\u0443\\u0434\\u0430\\u0447\\u0430\", \"\\u0443\\u0440\\u043e\\u043a\", \"\\u0443\\u0442\\u0440\\u043e\", \"\\u0444\\u0438\\u043b\\u044c\\u043c\", \"\\u0444\\u043e\\u0442\\u043a\\u0430\", \"\\u0444\\u043e\\u0442\\u043e\", \"\\u0445\\u0430\\u0445\", \"\\u0445\\u043e\\u0434\\u0438\\u0442\\u044c\", \"\\u0445\\u043e\\u0440\\u043e\\u0448\\u0438\\u0439\", \"\\u0445\\u043e\\u0442\\u0435\\u0442\\u044c\", \"\\u0445\\u043e\\u0442\\u0435\\u0442\\u044c\\u0441\\u044f\", \"\\u0445\\u043e\\u0442\\u044f\", \"\\u0447\\u0430\\u0441\", \"\\u0447\\u0438\\u0442\\u0430\\u0442\\u044c\", \"\\u0448\\u043a\\u043e\\u043b\\u0430\"]}, \"R\": 30, \"lambda.step\": 0.01, \"plot.opts\": {\"xlab\": \"PC1\", \"ylab\": \"PC2\"}, \"topic.order\": [6, 1, 3, 4, 5, 2]};\n",
              "\n",
              "function LDAvis_load_lib(url, callback){\n",
              "  var s = document.createElement('script');\n",
              "  s.src = url;\n",
              "  s.async = true;\n",
              "  s.onreadystatechange = s.onload = callback;\n",
              "  s.onerror = function(){console.warn(\"failed to load library \" + url);};\n",
              "  document.getElementsByTagName(\"head\")[0].appendChild(s);\n",
              "}\n",
              "\n",
              "if(typeof(LDAvis) !== \"undefined\"){\n",
              "   // already loaded: just create the visualization\n",
              "   !function(LDAvis){\n",
              "       new LDAvis(\"#\" + \"ldavis_el2911397686362812801023900859\", ldavis_el2911397686362812801023900859_data);\n",
              "   }(LDAvis);\n",
              "}else if(typeof define === \"function\" && define.amd){\n",
              "   // require.js is available: use it to load d3/LDAvis\n",
              "   require.config({paths: {d3: \"https://d3js.org/d3.v5\"}});\n",
              "   require([\"d3\"], function(d3){\n",
              "      window.d3 = d3;\n",
              "      LDAvis_load_lib(\"https://cdn.jsdelivr.net/gh/bmabey/pyLDAvis@3.4.0/pyLDAvis/js/ldavis.v3.0.0.js\", function(){\n",
              "        new LDAvis(\"#\" + \"ldavis_el2911397686362812801023900859\", ldavis_el2911397686362812801023900859_data);\n",
              "      });\n",
              "    });\n",
              "}else{\n",
              "    // require.js not available: dynamically load d3 & LDAvis\n",
              "    LDAvis_load_lib(\"https://d3js.org/d3.v5.js\", function(){\n",
              "         LDAvis_load_lib(\"https://cdn.jsdelivr.net/gh/bmabey/pyLDAvis@3.4.0/pyLDAvis/js/ldavis.v3.0.0.js\", function(){\n",
              "                 new LDAvis(\"#\" + \"ldavis_el2911397686362812801023900859\", ldavis_el2911397686362812801023900859_data);\n",
              "            })\n",
              "         });\n",
              "}\n",
              "</script>"
            ]
          },
          "metadata": {},
          "execution_count": 31
        }
      ]
    },
    {
      "cell_type": "markdown",
      "source": [
        "Заносить слова в стоп-лист можно бесконечно))"
      ],
      "metadata": {
        "id": "M2si-Ml2ZPds"
      }
    },
    {
      "cell_type": "code",
      "source": [
        "print('Персплексия: ', np.exp(lda.log_perplexity(corpus)))"
      ],
      "metadata": {
        "id": "pyy8AsMbZRT1",
        "colab": {
          "base_uri": "https://localhost:8080/"
        },
        "outputId": "86c0876c-21bd-48ff-d013-7b0a11d59378"
      },
      "execution_count": 20,
      "outputs": [
        {
          "output_type": "stream",
          "name": "stderr",
          "text": [
            "/usr/local/lib/python3.10/dist-packages/ipykernel/ipkernel.py:283: DeprecationWarning: `should_run_async` will not call `transform_cell` automatically in the future. Please pass the result to `transformed_cell` argument and any exception that happen during thetransform in `preprocessing_exc_tuple` in IPython 7.17 and above.\n",
            "  and should_run_async(code)\n"
          ]
        },
        {
          "output_type": "stream",
          "name": "stdout",
          "text": [
            "Персплексия:  6.599296900911668e-05\n"
          ]
        }
      ]
    },
    {
      "cell_type": "code",
      "source": [
        "CoherenceModel(model=lda, texts=df['preprocessed_text'], dictionary=dictionary, coherence='u_mass').get_coherence()"
      ],
      "metadata": {
        "id": "MVIveAAgZV8J",
        "colab": {
          "base_uri": "https://localhost:8080/"
        },
        "outputId": "01a0008a-43da-4021-a0e0-ba6997a993c5"
      },
      "execution_count": 21,
      "outputs": [
        {
          "output_type": "stream",
          "name": "stderr",
          "text": [
            "/usr/local/lib/python3.10/dist-packages/ipykernel/ipkernel.py:283: DeprecationWarning: `should_run_async` will not call `transform_cell` automatically in the future. Please pass the result to `transformed_cell` argument and any exception that happen during thetransform in `preprocessing_exc_tuple` in IPython 7.17 and above.\n",
            "  and should_run_async(code)\n"
          ]
        },
        {
          "output_type": "execute_result",
          "data": {
            "text/plain": [
              "-6.475988121517558"
            ]
          },
          "metadata": {},
          "execution_count": 21
        }
      ]
    },
    {
      "cell_type": "code",
      "source": [
        "topics_list = list(range(3, 26))\n",
        "coherences = []\n",
        "\n",
        "for num in tqdm(topics_list):\n",
        "    lda = ldamodel.LdaModel(corpus, id2word=dictionary, num_topics=num, chunksize=150, update_every=1, passes=3)\n",
        "    coherences.append(CoherenceModel(model=lda, texts=df['preprocessed_text'], dictionary=dictionary, coherence='u_mass').get_coherence())\n",
        "\n",
        "plt.plot(topics_list, coherences)\n",
        "plt.xlabel(\"Число тем\")\n",
        "plt.ylabel(\"Средняя когерентность\")\n",
        "plt.show()"
      ],
      "metadata": {
        "id": "f7j_uytnZX18",
        "colab": {
          "base_uri": "https://localhost:8080/",
          "height": 536,
          "referenced_widgets": [
            "68d7255bace84ccebbbcd5e50ed2d82c",
            "e3e0fc6e62db4e9a8a416fc2eb7057eb",
            "554ca3ecdfa64791a94c96121d66e37a",
            "229cfccce17a46768964c70fe4fe9770",
            "3911ea50c38e420b9481219123cd9de3",
            "9580a3a9657241fb8da04334dc8ffdd9",
            "5353e3041780485b85cfa46949e284ef",
            "dbe352b472a34b5383ba4a37668299d1",
            "b776108ba6904566bfcb4bcf1e399679",
            "1552c23c280c48329d626897aea3b52f",
            "52766dd6c5984d42a9425913fee40777"
          ]
        },
        "outputId": "1002a89d-6649-4e2a-9d81-b880cc988254"
      },
      "execution_count": 22,
      "outputs": [
        {
          "output_type": "stream",
          "name": "stderr",
          "text": [
            "/usr/local/lib/python3.10/dist-packages/ipykernel/ipkernel.py:283: DeprecationWarning: `should_run_async` will not call `transform_cell` automatically in the future. Please pass the result to `transformed_cell` argument and any exception that happen during thetransform in `preprocessing_exc_tuple` in IPython 7.17 and above.\n",
            "  and should_run_async(code)\n"
          ]
        },
        {
          "output_type": "display_data",
          "data": {
            "text/plain": [
              "  0%|          | 0/23 [00:00<?, ?it/s]"
            ],
            "application/vnd.jupyter.widget-view+json": {
              "version_major": 2,
              "version_minor": 0,
              "model_id": "68d7255bace84ccebbbcd5e50ed2d82c"
            }
          },
          "metadata": {}
        },
        {
          "output_type": "display_data",
          "data": {
            "text/plain": [
              "<Figure size 640x480 with 1 Axes>"
            ],
            "image/png": "[encoded data removed]"
          },
          "metadata": {}
        }
      ]
    },
    {
      "cell_type": "markdown",
      "source": [
        "Выбираю оптимальным делить вопросы на 6 тем."
      ],
      "metadata": {
        "id": "Zu6NYT-iZZ5s"
      }
    },
    {
      "cell_type": "code",
      "source": [
        "lda = ldamodel.LdaModel(corpus, id2word=dictionary, num_topics=6, chunksize=50, update_every=1, passes=2)\n",
        "vis_data = gensimvis.prepare(lda, corpus, dictionary)\n",
        "pyLDAvis.display(vis_data)"
      ],
      "metadata": {
        "id": "a0sbg6sgZb_4",
        "colab": {
          "base_uri": "https://localhost:8080/",
          "height": 916
        },
        "outputId": "d7c0be7b-efe3-4d5a-8819-e75a93ee9e25"
      },
      "execution_count": 32,
      "outputs": [
        {
          "output_type": "stream",
          "name": "stderr",
          "text": [
            "/usr/local/lib/python3.10/dist-packages/ipykernel/ipkernel.py:283: DeprecationWarning: `should_run_async` will not call `transform_cell` automatically in the future. Please pass the result to `transformed_cell` argument and any exception that happen during thetransform in `preprocessing_exc_tuple` in IPython 7.17 and above.\n",
            "  and should_run_async(code)\n"
          ]
        },
        {
          "output_type": "execute_result",
          "data": {
            "text/plain": [
              "<IPython.core.display.HTML object>"
            ],
            "text/html": [
              "\n",
              "<link rel=\"stylesheet\" type=\"text/css\" href=\"https://cdn.jsdelivr.net/gh/bmabey/pyLDAvis@3.4.0/pyLDAvis/js/ldavis.v1.0.0.css\">\n",
              "\n",
              "\n",
              "<div id=\"ldavis_el2911397686362865442976586304\" style=\"background-color:white;\"></div>\n",
              "<script type=\"text/javascript\">\n",
              "\n",
              "var ldavis_el2911397686362865442976586304_data = {\"mdsDat\": {\"x\": [0.15481757284110756, -0.27910890829008533, -0.2881409227954369, 0.13702870232616032, 0.13917801988646644, 0.13622553603178758], \"y\": [-0.38695940458055955, -0.013367041637853034, -0.0020304001278561006, 0.1771006484340523, 0.2163248743875483, 0.008931323524668423], \"topics\": [1, 2, 3, 4, 5, 6], \"cluster\": [1, 1, 1, 1, 1, 1], \"Freq\": [20.588504217807145, 17.802696182403313, 16.896975535554436, 15.824025538758878, 14.718529411516245, 14.169269113959981]}, \"tinfo\": {\"Term\": [\"http\", \"\\u0432\\u0441\\u0451\", \"\\u0432\\u0435\\u0441\\u044c\", \"\\u0435\\u0449\\u0451\", \"\\u0445\\u043e\\u0440\\u043e\\u0448\\u0438\\u0439\", \"\\u0441\\u043f\\u0430\\u0441\\u0438\\u0431\\u043e\", \"\\u0437\\u043d\\u0430\\u0442\\u044c\", \"\\u043f\\u0440\\u043e\\u0441\\u0442\\u043e\", \"\\u043e\\u0447\\u0435\\u043d\\u044c\", \"\\u0441\\u0435\\u0433\\u043e\\u0434\\u043d\\u044f\", \"\\u0437\\u0430\\u0432\\u0442\\u0440\\u0430\", \"\\u0441\\u0432\\u043e\\u0439\", \"\\u043b\\u044e\\u0431\\u0438\\u0442\\u044c\", \"\\u0445\\u043e\\u0442\\u0435\\u0442\\u044c\", \"\\u0441\\u043c\\u043e\\u0442\\u0440\\u0435\\u0442\\u044c\", \"\\u0441\\u0430\\u043c\\u044b\\u0439\", \"\\u0431\\u043e\\u043b\\u044c\\u0448\\u043e\\u0439\", \"\\u0434\\u0443\\u043c\\u0430\\u0442\\u044c\", \"\\u0434\\u0435\\u043b\\u0430\\u0442\\u044c\", \"\\u0432\\u043e\\u043e\\u0431\\u0449\\u0435\", \"\\u0433\\u043e\\u0432\\u043e\\u0440\\u0438\\u0442\\u044c\", \"\\u043f\\u0435\\u0440\\u0432\\u044b\\u0439\", \"\\u043d\\u043e\\u0432\\u044b\\u0439\", \"\\u043a\\u043e\\u0442\\u043e\\u0440\\u044b\\u0439\", \"\\u0434\\u0440\\u0443\\u0433\", \"\\u0438\\u0434\\u0442\\u0438\", \"\\u043b\\u044e\\u0431\\u0438\\u043c\\u044b\\u0439\", \"\\u0441\\u0434\\u0435\\u043b\\u0430\\u0442\\u044c\", \"\\u043f\\u0438\\u0441\\u0430\\u0442\\u044c\", \"\\u0441\\u043f\\u0430\\u0442\\u044c\", \"http\", \"\\u0432\\u0435\\u0441\\u044c\", \"\\u0441\\u0435\\u0433\\u043e\\u0434\\u043d\\u044f\", \"\\u043d\\u043e\\u0432\\u044b\\u0439\", \"\\u043f\\u044f\\u0442\\u043d\\u0438\\u0446\\u0430\", \"\\u0442\\u0432\\u043e\\u0439\", \"\\u0436\\u0434\\u0430\\u0442\\u044c\", \"\\u043d\\u043e\\u0447\\u044c\", \"\\u0444\\u0438\\u043b\\u044c\\u043c\", \"\\u0443\\u0442\\u0440\\u043e\", \"\\u043d\\u0430\\u0434\\u0435\\u044f\\u0442\\u044c\\u0441\\u044f\", \"\\u043d\\u0430\\u0441\\u0442\\u0440\\u043e\\u0435\\u043d\\u0438\\u0435\", \"\\u0430\\u0445\\u0430\\u0445\\u0438\", \"\\u0432\\u0438\\u0434\\u0435\\u0442\\u044c\", \"\\u043f\\u0435\\u0441\\u043d\\u044f\", \"\\u0447\\u0430\\u0441\", \"\\u043f\\u0430\\u0440\\u0435\\u043d\\u044c\", \"\\u0433\\u043e\\u043b\\u043e\\u0432\\u0430\", \"\\u043b\\u0435\\u043d\\u0442\\u0430\", \"\\u0438\\u0433\\u0440\\u0430\\u0442\\u044c\", \"\\u043f\\u043e\\u0441\\u0442\\u0430\\u0432\\u0438\\u0442\\u044c\", \"\\u0442\\u0435\\u043c\\u0430\", \"\\u0440\\u0435\\u0431\\u044f\\u0442\\u0430\", \"\\u0441\\u0435\\u0440\\u0438\\u0430\\u043b\", \"\\u0432\\u0430\\u0448\", \"\\u043d\\u0430\\u0447\\u0430\\u0442\\u044c\", \"\\u043e\\u0442\\u043b\\u0438\\u0447\\u043d\\u044b\\u0439\", \"\\u0440\\u043e\\u0434\\u043d\\u044b\\u0439\", \"\\u0436\\u0435\\u043b\\u0430\\u0442\\u044c\", \"\\u043f\\u043e\\u043d\\u0440\\u0430\\u0432\\u0438\\u0442\\u044c\\u0441\\u044f\", \"\\u0435\\u0449\\u0451\", \"\\u043a\\u043e\\u0442\\u043e\\u0440\\u044b\\u0439\", \"\\u0430\\u0445\\u0438\", \"\\u043f\\u043e\\u0439\\u0442\\u0438\", \"\\u043d\\u0430\\u0448\", \"\\u0436\\u0438\\u0437\\u043d\\u044c\", \"\\u043f\\u043e\\u043a\\u0430\", \"\\u0432\\u0440\\u0435\\u043c\\u044f\", \"\\u0434\\u0435\\u043b\\u043e\", \"\\u043f\\u0440\\u0438\\u0439\\u0442\\u0438\", \"\\u0430\\u0445\\u0430\\u0445\", \"\\u0445\\u043e\\u0442\\u044f\", \"\\u0441\\u0438\\u0434\\u0435\\u0442\\u044c\", \"\\u043f\\u043e\\u0447\\u0435\\u043c\\u0443\", \"\\u043a\\u0441\\u0442\\u0430\\u0442\\u0438\", \"\\u0442\\u0432\\u0438\\u0442\", \"\\u043d\\u0438\\u0431\\u044b\\u0442\\u044c\", \"\\u0440\\u0430\\u0431\\u043e\\u0442\\u0430\", \"\\u0444\\u043e\\u0442\\u043a\\u0430\", \"\\u043f\\u043e\\u043d\\u0438\\u043c\\u0430\\u0442\\u044c\", \"\\u043f\\u0440\\u0438\\u0432\\u0435\\u0442\", \"\\u043d\\u0443\\u0436\\u043d\\u044b\\u0439\", \"\\u0441\\u043a\\u043e\\u0440\\u043e\", \"\\u043c\\u0435\\u0441\\u0442\\u043e\", \"\\u0440\\u0443\\u043a\\u0430\", \"\\u043b\\u0430\\u0434\\u043d\\u044b\\u0439\", \"\\u0437\\u0430\\u0431\\u044b\\u0442\\u044c\", \"\\u043a\\u043b\\u0430\\u0441\\u0441\", \"\\u043d\\u043e\\u0440\\u043c\\u0430\", \"\\u043f\\u0440\\u044f\\u043c\", \"\\u0432\\u0441\\u0451\", \"\\u043f\\u0440\\u043e\\u0441\\u0442\\u043e\", \"\\u0441\\u0432\\u043e\\u0439\", \"\\u043b\\u044e\\u0431\\u0438\\u0442\\u044c\", \"\\u0445\\u043e\\u0442\\u0435\\u0442\\u044c\", \"\\u0434\\u0435\\u043b\\u0430\\u0442\\u044c\", \"\\u0441\\u043f\\u0430\\u0442\\u044c\", \"\\u043d\\u0430\\u043f\\u0438\\u0441\\u0430\\u0442\\u044c\", \"\\u043c\\u0430\\u043c\\u0430\", \"\\u0442\\u0430\\u043a\\u0438\", \"\\u0441\\u0442\\u0430\\u0442\\u044c\", \"\\u043a\\u0430\\u0436\\u0434\\u044b\\u0439\", \"\\u043a\\u0440\\u0443\\u0442\\u043e\\u0439\", \"\\u0441\\u043b\\u043e\\u0432\\u043e\", \"\\u043d\\u0435\\u043c\\u043d\\u043e\\u0433\\u043e\", \"\\u043f\\u0440\\u0435\\u0434\\u043d\\u043e\\u0432\\u043e\\u0433\\u043e\\u0434\\u043d\\u0438\\u0435\\u043e\\u0431\\u043d\\u0438\\u043c\\u0430\\u0448\\u043a\\u0430\", \"\\u0445\\u043e\\u0434\\u0438\\u0442\\u044c\", \"\\u0441\\u0447\\u0430\\u0441\\u0442\\u043b\\u0438\\u0432\\u044b\\u0439\", \"\\u0441\\u043d\\u043e\\u0432\\u0430\", \"\\u0441\\u0442\\u043e\\u0438\\u0442\\u044c\", \"\\u0442\\u0432\\u0438\\u0442\\u0442\\u0435\\u0440\", \"\\u0441\\u0440\\u0430\\u0437\\u0443\", \"\\u0440\\u043e\\u0436\\u0434\\u0435\\u043d\\u0438\\u0435\", \"\\u043b\\u044e\\u0431\\u043e\\u0432\\u044c\", \"\\u0430\\u0433\\u0430\", \"\\u0440\\u0430\\u0432\\u043d\\u043e\", \"\\u043f\\u0430\\u043f\\u0430\", \"\\u0443\\u0434\\u0430\\u0447\\u0430\", \"\\u043d\\u043e\\u0440\\u043c\\u0430\\u043b\\u044c\\u043d\\u043e\", \"\\u043f\\u043e\\u0437\\u0434\\u0440\\u0430\\u0432\\u043b\\u044f\\u0442\\u044c\", \"\\u0432\\u0435\\u0441\\u0435\\u043b\\u043e\", \"\\u0432\\u0441\\u0451\", \"\\u0441\\u043f\\u0430\\u0441\\u0438\\u0431\\u043e\", \"\\u043e\\u0447\\u0435\\u043d\\u044c\", \"\\u0434\\u0443\\u043c\\u0430\\u0442\\u044c\", \"\\u0433\\u043e\\u0432\\u043e\\u0440\\u0438\\u0442\\u044c\", \"\\u0434\\u0440\\u0443\\u0433\", \"\\u0441\\u0434\\u0435\\u043b\\u0430\\u0442\\u044c\", \"\\u043f\\u0438\\u0441\\u0430\\u0442\\u044c\", \"\\u0432\\u0435\\u0447\\u0435\\u0440\", \"\\u043f\\u043e\\u043d\\u044f\\u0442\\u044c\", \"\\u043d\\u0430\\u0439\\u0442\\u0438\", \"\\u043d\\u0435\\u0434\\u0435\\u043b\\u044f\", \"\\u043c\\u0430\\u043b\\u0435\\u043d\\u044c\\u043a\\u0438\\u0439\", \"\\u0440\\u0435\\u0448\\u0438\\u0442\\u044c\", \"\\u043f\\u043e\\u043b\\u0443\\u0447\\u0438\\u0442\\u044c\", \"\\u043a\\u043b\\u0430\\u0441\\u0441\\u043d\\u044b\\u0439\", \"\\u043f\\u0440\\u0430\\u0432\\u0434\\u0430\", \"\\u0433\\u043b\\u0430\\u0432\\u043d\\u043e\\u0435\", \"\\u0442\\u043e\\u0447\\u043d\\u043e\", \"\\u0441\\u0435\\u0440\\u0438\\u044f\", \"\\u0438\\u043d\\u0442\\u0435\\u0440\\u0435\\u0441\\u043d\\u043e\", \"\\u0432\\u0440\\u043e\\u0434\\u0435\", \"\\u0438\\u043d\\u0442\\u0435\\u0440\\u0435\\u0441\\u043d\\u044b\\u0439\", \"\\u0440\\u0430\\u0431\\u043e\\u0442\\u0430\\u0442\\u044c\", \"\\u0445\\u0430\\u0445\", \"\\u0433\\u043e\\u0440\\u043e\\u0434\", \"\\u0441\\u043a\\u043e\\u043b\\u044c\\u043a\\u043e\", \"\\u0432\\u0435\\u0440\\u0438\\u0442\\u044c\", \"\\u0433\\u0440\\u0443\\u043f\\u043f\\u0430\", \"\\u0441\\u0445\\u043e\\u0434\\u0438\\u0442\\u044c\", \"\\u0440\\u0430\\u043d\\u043d\\u0438\\u0439\", \"\\u0437\\u043d\\u0430\\u0442\\u044c\", \"\\u0437\\u0430\\u0432\\u0442\\u0440\\u0430\", \"\\u0432\\u043e\\u043e\\u0431\\u0449\\u0435\", \"\\u043f\\u0435\\u0440\\u0432\\u044b\\u0439\", \"\\u0438\\u0434\\u0442\\u0438\", \"\\u043b\\u044e\\u0431\\u0438\\u043c\\u044b\\u0439\", \"\\u0434\\u0430\\u0432\\u0430\\u0442\\u044c\", \"\\u043f\\u043e\\u0441\\u043c\\u043e\\u0442\\u0440\\u0435\\u0442\\u044c\", \"\\u0447\\u0438\\u0442\\u0430\\u0442\\u044c\", \"\\u043c\\u043e\\u043b\\u043e\\u0434\\u0451\\u0436\\u043a\\u0430\", \"\\u0448\\u043a\\u043e\\u043b\\u0430\", \"\\u043f\\u043e\\u0441\\u043b\\u0435\\u0434\\u043d\\u0438\\u0439\", \"\\u043d\\u0440\\u0430\\u0432\\u0438\\u0442\\u044c\\u0441\\u044f\", \"\\u0434\\u0430\\u0432\\u043d\\u043e\", \"\\u0443\\u0440\\u043e\\u043a\", \"\\u0432\\u043c\\u0435\\u0441\\u0442\\u0435\", \"\\u0436\\u0438\\u0442\\u044c\", \"\\u0431\\u043b\\u0438\\u043d\", \"\\u043c\\u0443\\u0437\\u044b\\u043a\\u0430\", \"\\u0442\\u0435\\u043b\\u0435\\u0444\\u043e\\u043d\", \"\\u0434\\u0430\\u0442\\u044c\", \"\\u0437\\u043d\\u0430\\u0447\\u0438\\u0442\", \"\\u043f\\u0440\\u043e\\u0439\\u0442\\u0438\", \"\\u043f\\u043e\\u0434\\u0430\\u0440\\u043e\\u043a\", \"ddd\", \"\\u043e\\u0442\\u043b\\u0438\\u0447\\u043d\\u043e\", \"\\u043b\\u0435\\u0442\\u043e\", \"\\u043a\\u043e\\u043d\\u0435\\u0446\", \"\\u043d\\u043e\\u0432\\u043e\\u0433\\u043e\\u0434\\u043d\\u0438\\u0439\", \"\\u0431\\u043b\\u044f\", \"\\u0445\\u043e\\u0440\\u043e\\u0448\\u0438\\u0439\", \"\\u0441\\u043c\\u043e\\u0442\\u0440\\u0435\\u0442\\u044c\", \"\\u0441\\u0430\\u043c\\u044b\\u0439\", \"\\u0431\\u043e\\u043b\\u044c\\u0448\\u043e\\u0439\", \"\\u0434\\u043e\\u043c\", \"\\u043d\\u0443\\u0436\\u043d\\u043e\", \"\\u043a\\u0443\\u043f\\u0438\\u0442\\u044c\", \"\\u043f\\u0430\\u0440\\u0430\", \"\\u043f\\u0440\\u0438\\u044f\\u0442\\u043d\\u043e\", \"\\u0441\\u043e\\u043d\", \"\\u043a\\u0440\\u0443\\u0442\\u043e\", \"\\u043f\\u043e\\u043c\\u043d\\u0438\\u0442\\u044c\", \"\\u043c\\u0438\\u043b\\u044b\\u0439\", \"\\u043d\\u0438\\u043a\\u0442\\u043e\", \"\\u043d\\u0430\\u0432\\u0435\\u0440\\u043d\\u043e\\u0435\", \"\\u0432\\u0442\\u043e\\u0440\\u043e\\u0439\", \"\\u0434\\u043e\\u043b\\u0436\\u043d\\u044b\\u0439\", \"\\u0441\\u0435\\u0437\\u043e\\u043d\", \"\\u043a\\u0430\\u0437\\u0430\\u0442\\u044c\\u0441\\u044f\", \"\\u043e\\u0431\\u043e\\u0436\\u0430\\u0442\\u044c\", \"\\u0441\\u043b\\u0443\\u0448\\u0430\\u0442\\u044c\", \"\\u0431\\u043e\\u0433\", \"\\u0434\\u0435\\u0432\\u0443\\u0448\\u043a\\u0430\", \"\\u0432\\u0441\\u043f\\u043e\\u043c\\u043d\\u0438\\u0442\\u044c\", \"\\u043c\\u0438\\u0440\", \"\\u0433\\u043b\\u0430\\u0437\", \"\\u043a\\u0440\\u0430\\u0441\\u0438\\u0432\\u044b\\u0439\", \"\\u0440\\u0435\\u0431\\u0451\\u043d\\u043e\\u043a\", \"\\u0432\\u0438\\u0434\\u0435\\u043e\", \"\\u0441\\u043b\\u0430\\u0432\\u0430\", \"\\u043f\\u0435\\u0440\\u0435\\u0441\\u0442\\u0430\\u0442\\u044c\"], \"Freq\": [43989.0, 24332.0, 13406.0, 11872.0, 9291.0, 9569.0, 8241.0, 8757.0, 8292.0, 9231.0, 7540.0, 7945.0, 7084.0, 6702.0, 5538.0, 5432.0, 4757.0, 4764.0, 4834.0, 4326.0, 4395.0, 4177.0, 5037.0, 4420.0, 4078.0, 3913.0, 3844.0, 3795.0, 3573.0, 3582.0, 43988.4986610385, 13405.601073501368, 9230.528209095384, 5036.279622842771, 3966.5376586505, 3834.317086792764, 3545.342374374164, 3137.0002295366166, 2788.7130009910966, 2720.4580889548765, 2569.9165170986294, 2534.4874887012456, 2368.1159963642226, 2286.507882601837, 2239.5222865220644, 2081.936247468764, 1823.3045453216228, 1783.4406055406992, 1537.0681227002613, 1451.391297014015, 1396.7701344692894, 1316.1768907080807, 1301.8781865954738, 1285.6462929683062, 1245.1849710856156, 1194.4755778391736, 1162.8590756091944, 1155.9159030806095, 1133.1097290276223, 1121.529440441858, 11871.136727668423, 4419.298870656073, 3593.0654308955163, 3149.4085627805057, 2992.0892416027955, 2917.594363385978, 2802.7053979801212, 2793.7292298180478, 2571.6493388757644, 2517.4308883493663, 2486.0369175971414, 2468.3063245576304, 2386.3544414217818, 2089.5215630793646, 2081.914437956635, 2068.2295511453117, 2030.7338704297524, 1997.1224668311656, 1958.7726309831878, 1904.5834505703613, 1841.47065515392, 1706.7679294210375, 1619.3096061694603, 1614.3303607129542, 1514.8694060789462, 1492.6870948570788, 1458.7291065046056, 1444.17554037572, 1435.7576109327179, 1431.794060591488, 7148.70724764298, 8756.489950482077, 7944.6555561713, 7083.445095445582, 6702.102282023375, 4833.6582021453405, 3581.816819480126, 3326.74614862497, 2581.9893577356634, 2180.586991177413, 1855.8544541326405, 1816.8255409657736, 1608.511947529158, 1556.4024007955695, 1559.2695244775016, 2542.726410836556, 1523.7607985457514, 1485.8501751596923, 1394.1257890806783, 1348.984323123956, 1280.4394839432114, 1247.6047828180963, 1214.067033417308, 1160.7980515839788, 1146.3012192904187, 1140.6624164387583, 1120.9688567023245, 1075.5523169254243, 1044.0304776903401, 1024.8647566233833, 1020.5687012642524, 17182.91488849333, 9569.012295718912, 8291.938697449326, 4763.523121169332, 4394.424467912312, 4077.1164025874473, 3795.0450791901344, 3572.840227020122, 3014.2147405026885, 2636.5559347735775, 2400.316145870986, 1867.480111826745, 1732.6492844624095, 1704.4932792795767, 1701.474530108189, 1675.1192099886755, 1619.2676199719497, 1554.2101852472053, 1521.7020645999294, 1498.577373735327, 1418.478818253458, 1289.5592481216688, 1228.7892807986743, 1208.3220589258335, 1201.9879284661254, 1194.7860751527326, 1177.0748711477108, 1160.0937172165218, 1149.6682316184178, 1108.043255898203, 1079.1917912970337, 8240.554121148534, 7539.823397562626, 4325.23791347161, 4176.163542005965, 3912.9399084146207, 3843.267884680178, 2925.5142336742247, 2828.9490727708, 2760.964584502297, 2677.169328043789, 2264.286872898215, 2256.782885750814, 2205.3716273782197, 2022.2961203638629, 1990.3852921896919, 1682.8473989174902, 1655.6457205003621, 1635.9311630423822, 1631.2517124429146, 1538.9107983842666, 1525.178787896411, 1522.0164692630901, 1347.2070444457713, 1339.9184678548593, 1302.333175638376, 1141.986232255576, 1144.7404624644341, 1136.995215493766, 1123.7052091350117, 1117.3466561637315, 9290.406666273666, 5538.063647989089, 5431.317039505118, 4756.444353602201, 2724.7366460189205, 2495.452628642135, 2233.8718860720764, 2218.5560115503736, 2127.6252645960108, 2058.7735415208926, 2025.789576861054, 1870.984563091346, 1774.8629873771906, 1707.4295119531569, 1699.366008104178, 1647.913056362373, 1606.0782803907023, 1593.5576032679382, 1490.7041163538124, 1433.8711420391282, 1415.6213515204581, 1328.8296604442758, 1311.5703136560544, 1299.2856875827335, 1169.134286633786, 1133.4949020936315, 1118.375898559333, 1052.0295816134828, 1001.6456102129694, 998.9901903326538, 1001.8348040260557], \"Total\": [43989.0, 24332.0, 13406.0, 11872.0, 9291.0, 9569.0, 8241.0, 8757.0, 8292.0, 9231.0, 7540.0, 7945.0, 7084.0, 6702.0, 5538.0, 5432.0, 4757.0, 4764.0, 4834.0, 4326.0, 4395.0, 4177.0, 5037.0, 4420.0, 4078.0, 3913.0, 3844.0, 3795.0, 3573.0, 3582.0, 43989.38813046818, 13406.491938233892, 9231.420662877881, 5037.170009676558, 3967.431911488519, 3835.2081492562133, 3546.233470229802, 3137.889967791949, 2789.6049227585777, 2721.35124775603, 2570.8115611983544, 2535.3763699961623, 2369.0071782788937, 2287.400404134498, 2240.4146003922974, 2082.8282735634034, 1824.1985937354907, 1784.334311772571, 1537.9578876987307, 1452.2830553470467, 1397.6625144020522, 1317.0732311400966, 1302.7698782227878, 1286.537547934956, 1246.0774211095368, 1195.3675166270918, 1163.748239675518, 1156.8123984748775, 1133.999520327856, 1122.4177003403966, 11872.023443947626, 4420.185980935582, 3593.9520159168396, 3150.295143153891, 2992.9758796510764, 2918.481245000609, 2803.59304920299, 2794.616047342195, 2572.5368916710086, 2518.3177642452483, 2486.9216005389812, 2469.194834449535, 2387.2410655838735, 2090.4078977363474, 2082.800875202672, 2069.1170506496815, 2031.6219120383387, 1998.0113960224, 1959.6619182466002, 1905.4693723819696, 1842.3553554447885, 1707.6531737653095, 1620.1952039895773, 1615.2172487269654, 1515.757467512975, 1493.5722721299417, 1459.6148442771198, 1445.0629439862041, 1436.6447561123166, 1432.6804456042305, 24332.34167421763, 8757.38738936133, 7945.555019209257, 7084.341486079066, 6702.999425251172, 4834.554878377557, 3582.7170770417274, 3327.64299437327, 2582.8872223834687, 2181.483054340974, 1856.7525279506613, 1817.7227317708496, 1609.4098361971094, 1557.299659454097, 1560.1697546078399, 2544.21228162429, 1524.658207954988, 1486.749390605258, 1395.02556004445, 1349.8828878556099, 1281.3387550887483, 1248.5017905479017, 1214.9647968109305, 1161.6953041737213, 1147.1988648935223, 1141.556872003492, 1121.8644315577112, 1076.44816621087, 1044.9285126735192, 1025.7613478938538, 1021.4681367512411, 24332.34167421763, 9569.898922911707, 8292.826094912098, 4764.4091619414285, 4395.311353199915, 4078.003886589749, 3795.9324992477227, 3573.726405556823, 3015.1034126502864, 2637.441826493561, 2401.204296242906, 1868.3685190090484, 1733.5366047760433, 1705.3807012008863, 1702.3695576380119, 1676.006557128599, 1620.1526578071146, 1555.0974096798807, 1522.5876457474283, 1499.467684641175, 1419.366302472254, 1290.4452363844273, 1229.6771832086797, 1209.207540144823, 1202.8761783256782, 1195.6720966586945, 1177.960111070704, 1160.9828208410624, 1150.5551006959276, 1108.9312725482666, 1080.0828383380265, 8241.437629257978, 7540.706527041082, 4326.1215348541555, 4177.047162534355, 3913.823489468702, 3844.153692636476, 2926.397153093278, 2829.8317939651597, 2761.8488446382785, 2678.0555399645787, 2265.1688344286777, 2257.6659146467496, 2206.255249435608, 2023.180220124824, 1991.2685522312663, 1683.7323039007658, 1656.5306283670934, 1636.8137905970889, 1632.1355265865536, 1539.7962775141486, 1526.0608613347588, 1522.9001819610562, 1348.0909202971736, 1340.8017165985932, 1303.2150717038287, 1142.8692597735023, 1145.6265677849228, 1137.879668167116, 1124.5879206181926, 1118.2319477222686, 9291.288976379505, 5538.945978871464, 5432.1997467761985, 4757.3267891107425, 2725.6196398426578, 2496.3361314679687, 2234.7549362179507, 2219.438910216152, 2128.5081100132834, 2059.6588733161902, 2026.6713031134404, 1871.8664320596017, 1775.746735975111, 1708.3107182932702, 1700.2495645714346, 1648.7955458173467, 1606.9617482471006, 1594.4413750505466, 1491.5849174705697, 1434.75335643228, 1416.5064527645904, 1329.7105133348564, 1312.4516223215412, 1300.1670510447736, 1170.0150619509404, 1134.3784591686485, 1119.2572013237905, 1052.9116937821532, 1002.5268958358337, 999.8766474676036, 1002.7321667482613], \"Category\": [\"Default\", \"Default\", \"Default\", \"Default\", \"Default\", \"Default\", \"Default\", \"Default\", \"Default\", \"Default\", \"Default\", \"Default\", \"Default\", \"Default\", \"Default\", \"Default\", \"Default\", \"Default\", \"Default\", \"Default\", \"Default\", \"Default\", \"Default\", \"Default\", \"Default\", \"Default\", \"Default\", \"Default\", \"Default\", \"Default\", \"Topic1\", \"Topic1\", \"Topic1\", \"Topic1\", \"Topic1\", \"Topic1\", \"Topic1\", \"Topic1\", \"Topic1\", \"Topic1\", \"Topic1\", \"Topic1\", \"Topic1\", \"Topic1\", \"Topic1\", \"Topic1\", \"Topic1\", \"Topic1\", \"Topic1\", \"Topic1\", \"Topic1\", \"Topic1\", \"Topic1\", \"Topic1\", \"Topic1\", \"Topic1\", \"Topic1\", \"Topic1\", \"Topic1\", \"Topic1\", \"Topic2\", \"Topic2\", \"Topic2\", \"Topic2\", \"Topic2\", \"Topic2\", \"Topic2\", \"Topic2\", \"Topic2\", \"Topic2\", \"Topic2\", \"Topic2\", \"Topic2\", \"Topic2\", \"Topic2\", \"Topic2\", \"Topic2\", \"Topic2\", \"Topic2\", \"Topic2\", \"Topic2\", \"Topic2\", \"Topic2\", \"Topic2\", \"Topic2\", \"Topic2\", \"Topic2\", \"Topic2\", \"Topic2\", \"Topic2\", \"Topic2\", \"Topic3\", \"Topic3\", \"Topic3\", \"Topic3\", \"Topic3\", \"Topic3\", \"Topic3\", \"Topic3\", \"Topic3\", \"Topic3\", \"Topic3\", \"Topic3\", \"Topic3\", \"Topic3\", \"Topic3\", \"Topic3\", \"Topic3\", \"Topic3\", \"Topic3\", \"Topic3\", \"Topic3\", \"Topic3\", \"Topic3\", \"Topic3\", \"Topic3\", \"Topic3\", \"Topic3\", \"Topic3\", \"Topic3\", \"Topic3\", \"Topic3\", \"Topic4\", \"Topic4\", \"Topic4\", \"Topic4\", \"Topic4\", \"Topic4\", \"Topic4\", \"Topic4\", \"Topic4\", \"Topic4\", \"Topic4\", \"Topic4\", \"Topic4\", \"Topic4\", \"Topic4\", \"Topic4\", \"Topic4\", \"Topic4\", \"Topic4\", \"Topic4\", \"Topic4\", \"Topic4\", \"Topic4\", \"Topic4\", \"Topic4\", \"Topic4\", \"Topic4\", \"Topic4\", \"Topic4\", \"Topic4\", \"Topic5\", \"Topic5\", \"Topic5\", \"Topic5\", \"Topic5\", \"Topic5\", \"Topic5\", \"Topic5\", \"Topic5\", \"Topic5\", \"Topic5\", \"Topic5\", \"Topic5\", \"Topic5\", \"Topic5\", \"Topic5\", \"Topic5\", \"Topic5\", \"Topic5\", \"Topic5\", \"Topic5\", \"Topic5\", \"Topic5\", \"Topic5\", \"Topic5\", \"Topic5\", \"Topic5\", \"Topic5\", \"Topic5\", \"Topic5\", \"Topic6\", \"Topic6\", \"Topic6\", \"Topic6\", \"Topic6\", \"Topic6\", \"Topic6\", \"Topic6\", \"Topic6\", \"Topic6\", \"Topic6\", \"Topic6\", \"Topic6\", \"Topic6\", \"Topic6\", \"Topic6\", \"Topic6\", \"Topic6\", \"Topic6\", \"Topic6\", \"Topic6\", \"Topic6\", \"Topic6\", \"Topic6\", \"Topic6\", \"Topic6\", \"Topic6\", \"Topic6\", \"Topic6\", \"Topic6\", \"Topic6\"], \"logprob\": [30.0, 29.0, 28.0, 27.0, 26.0, 25.0, 24.0, 23.0, 22.0, 21.0, 20.0, 19.0, 18.0, 17.0, 16.0, 15.0, 14.0, 13.0, 12.0, 11.0, 10.0, 9.0, 8.0, 7.0, 6.0, 5.0, 4.0, 3.0, 2.0, 1.0, -1.8341, -3.0224, -3.3955, -4.0014, -4.2402, -4.2741, -4.3524, -4.4748, -4.5925, -4.6173, -4.6742, -4.6881, -4.756, -4.791, -4.8118, -4.8848, -5.0174, -5.0395, -5.1882, -5.2455, -5.2839, -5.3433, -5.3542, -5.3668, -5.3988, -5.4403, -5.4672, -5.4732, -5.4931, -5.5034, -2.9986, -3.9867, -4.1937, -4.3255, -4.3767, -4.4019, -4.4421, -4.4453, -4.5281, -4.5494, -4.562, -4.5691, -4.6029, -4.7357, -4.7394, -4.746, -4.7643, -4.781, -4.8004, -4.8284, -4.8621, -4.9381, -4.9907, -4.9937, -5.0573, -5.0721, -5.0951, -5.1051, -5.111, -5.1137, -3.5057, -3.2507, -3.348, -3.4627, -3.518, -3.8449, -4.1446, -4.2185, -4.4719, -4.6409, -4.8021, -4.8234, -4.9451, -4.9781, -4.9762, -4.4872, -4.9993, -5.0245, -5.0882, -5.1211, -5.1733, -5.1992, -5.2265, -5.2713, -5.2839, -5.2888, -5.3063, -5.3476, -5.3774, -5.3959, -5.4001, -2.5765, -3.0963, -3.2396, -3.7939, -3.8745, -3.9495, -4.0212, -4.0815, -4.2515, -4.3854, -4.4792, -4.7303, -4.8052, -4.8216, -4.8234, -4.839, -4.8729, -4.9139, -4.935, -4.9503, -5.0053, -5.1005, -5.1488, -5.1656, -5.1709, -5.1769, -5.1918, -5.2063, -5.2154, -5.2523, -5.2786, -3.1734, -3.2622, -3.818, -3.853, -3.9181, -3.9361, -4.209, -4.2425, -4.2668, -4.2977, -4.4652, -4.4685, -4.4915, -4.5782, -4.5941, -4.7619, -4.7782, -4.7902, -4.7931, -4.8514, -4.8603, -4.8624, -4.9844, -4.9898, -5.0183, -5.1497, -5.1472, -5.154, -5.1658, -5.1715, -3.0154, -3.5328, -3.5522, -3.6849, -4.242, -4.3299, -4.4407, -4.4475, -4.4894, -4.5223, -4.5384, -4.6179, -4.6707, -4.7094, -4.7141, -4.7449, -4.7706, -4.7784, -4.8451, -4.884, -4.8968, -4.9601, -4.9732, -4.9826, -5.0881, -5.1191, -5.1325, -5.1937, -5.2428, -5.2454, -5.2426], \"loglift\": [30.0, 29.0, 28.0, 27.0, 26.0, 25.0, 24.0, 23.0, 22.0, 21.0, 20.0, 19.0, 18.0, 17.0, 16.0, 15.0, 14.0, 13.0, 12.0, 11.0, 10.0, 9.0, 8.0, 7.0, 6.0, 5.0, 4.0, 3.0, 2.0, 1.0, 1.5804, 1.5804, 1.5803, 1.5803, 1.5802, 1.5802, 1.5802, 1.5802, 1.5801, 1.5801, 1.5801, 1.5801, 1.5801, 1.58, 1.58, 1.58, 1.5799, 1.5799, 1.5799, 1.5798, 1.5798, 1.5798, 1.5798, 1.5797, 1.5797, 1.5797, 1.5797, 1.5797, 1.5797, 1.5796, 1.7257, 1.7256, 1.7256, 1.7255, 1.7255, 1.7255, 1.7255, 1.7255, 1.7255, 1.7255, 1.7255, 1.7255, 1.7254, 1.7254, 1.7254, 1.7254, 1.7254, 1.7254, 1.7254, 1.7254, 1.7253, 1.7253, 1.7253, 1.7253, 1.7252, 1.7252, 1.7252, 1.7252, 1.7252, 1.7252, 0.5009, 1.7779, 1.7779, 1.7779, 1.7779, 1.7779, 1.7778, 1.7778, 1.7777, 1.7776, 1.7776, 1.7775, 1.7775, 1.7775, 1.7775, 1.7775, 1.7774, 1.7774, 1.7774, 1.7774, 1.7773, 1.7773, 1.7773, 1.7773, 1.7773, 1.7773, 1.7772, 1.7772, 1.7772, 1.7772, 1.7772, 1.4301, 1.8435, 1.8435, 1.8435, 1.8434, 1.8434, 1.8434, 1.8434, 1.8433, 1.8433, 1.8433, 1.8432, 1.8431, 1.8431, 1.8431, 1.8431, 1.8431, 1.8431, 1.8431, 1.843, 1.843, 1.843, 1.8429, 1.8429, 1.8429, 1.8429, 1.8429, 1.8429, 1.8429, 1.8428, 1.8428, 1.916, 1.9159, 1.9159, 1.9159, 1.9158, 1.9158, 1.9158, 1.9158, 1.9157, 1.9157, 1.9157, 1.9157, 1.9157, 1.9156, 1.9156, 1.9155, 1.9155, 1.9155, 1.9155, 1.9155, 1.9155, 1.9155, 1.9154, 1.9154, 1.9154, 1.9153, 1.9153, 1.9153, 1.9153, 1.9153, 1.954, 1.9539, 1.9539, 1.9539, 1.9538, 1.9537, 1.9537, 1.9537, 1.9537, 1.9537, 1.9537, 1.9536, 1.9536, 1.9536, 1.9536, 1.9536, 1.9535, 1.9535, 1.9535, 1.9535, 1.9535, 1.9534, 1.9534, 1.9534, 1.9533, 1.9533, 1.9533, 1.9533, 1.9532, 1.9532, 1.9532]}, \"token.table\": {\"Topic\": [5, 1, 3, 2, 1, 2, 5, 5, 6, 6, 1, 4, 3, 1, 4, 6, 1, 5, 5, 2, 4, 6, 2, 3, 6, 4, 6, 4, 1, 4, 4, 5, 5, 5, 6, 3, 2, 6, 6, 4, 4, 2, 1, 1, 2, 5, 2, 5, 5, 5, 1, 5, 4, 4, 3, 6, 2, 4, 5, 2, 6, 6, 3, 2, 6, 2, 1, 5, 5, 3, 3, 4, 3, 2, 6, 6, 5, 5, 6, 1, 4, 3, 1, 1, 2, 4, 3, 2, 6, 5, 1, 2, 3, 1, 5, 6, 2, 6, 5, 1, 4, 3, 6, 1, 5, 6, 1, 4, 5, 3, 2, 2, 4, 6, 2, 1, 4, 5, 5, 1, 2, 4, 3, 2, 2, 6, 5, 3, 2, 1, 2, 4, 3, 4, 1, 6, 4, 1, 3, 2, 6, 3, 4, 1, 6, 1, 4, 2, 4, 2, 6, 3, 6, 6, 3, 6, 4, 3, 3, 3, 3, 4, 3, 3, 2, 3, 1, 5, 1, 4, 3, 5, 1, 1, 2, 4, 3, 6, 3, 2, 1, 5, 5], \"Freq\": [0.9990676353195945, 0.9999684439696215, 0.9989549633196041, 0.999629421153131, 0.9995748521624889, 0.9997351061136533, 0.9995028202952811, 0.9988983075248583, 0.9994656631441723, 0.9997211061653828, 0.9991353497854272, 0.9991534578949666, 0.999541702051784, 0.999963305968768, 0.9996340382072281, 0.9994744322192031, 0.9998249523197713, 0.9995650710632151, 0.9997407528093883, 0.9997795592196713, 0.9996549745995617, 0.999102383771504, 0.29380649407759335, 0.7061794639439483, 0.9995174988073173, 0.9992943145084998, 0.9987848330885455, 0.9997016472566931, 0.9992522075242473, 0.9994378921607582, 0.9995175366259366, 0.9998642859897338, 0.9994166510165114, 0.9993048368111407, 0.9996558941191734, 0.9998852265841395, 0.9997912987476499, 0.9994015114248055, 0.9997726609268586, 0.9997538289276647, 0.9999141211580448, 0.9999137936382574, 0.9996521745564253, 0.9991185884033116, 0.9998351043024747, 0.9996796748831523, 0.9995787626581557, 0.9999063049279867, 0.999946898917681, 0.999408902847528, 0.9991165252928328, 0.9997895946327375, 0.9990373855784275, 0.9994493000131037, 0.9996023971322923, 0.999607855064959, 0.9992644306667556, 0.9993994312705294, 0.9992269233806303, 0.9997316898110855, 0.9988767538664898, 0.999668765668903, 0.9997453500109843, 0.9996154816275491, 0.999662183890629, 0.9996168433623064, 0.9993771690978067, 0.9994530785139399, 0.9996998838421352, 0.9998106406810425, 0.9994014745766612, 0.9996904566222802, 0.9996564997589596, 0.999246386993499, 0.999579480586965, 0.9991324368514984, 0.9996058558350166, 0.9993042694261252, 0.9992650699065172, 0.9996843171196974, 0.9994984615658109, 0.9998067718278801, 0.9994571338549769, 0.9988559864576624, 0.9996739433626207, 0.9992675326119419, 0.9992502388894637, 0.9996938839679501, 0.9992327401103123, 0.9994772124016151, 0.9997677247989822, 0.9995512069984083, 0.9991114103383555, 0.9997163801786921, 0.9994310497681855, 0.9994647629976084, 0.9996175020927293, 0.9994749226904384, 0.9992394057622351, 0.9993570433449362, 0.999900384392167, 0.9992294687901719, 0.9998022427136283, 0.9993429477801338, 0.9997493055515992, 0.9992698282028434, 0.9998149447909218, 0.9997967372220511, 0.9994020617749304, 0.9992577728772711, 0.9995888819634232, 0.999788468157617, 0.9991954992193868, 0.9995371293353189, 0.9997536709911098, 0.9996278565989561, 0.9998324791511521, 0.9997050428752857, 0.9997060624002693, 0.9995259839945442, 0.9998048717014564, 0.9992885498773463, 0.9995235139642058, 0.9992643354927251, 0.9994767283684538, 0.9997612834966928, 0.9991907665271322, 0.9998415749698345, 0.999525054169394, 0.9998911357527603, 0.9994937986718126, 0.9990013789157497, 0.9995121819883449, 0.9989974488070816, 0.9994090451155978, 0.9991341213251433, 0.9991903853491986, 0.9992977266876215, 0.9992059055427261, 0.9995002712972163, 0.999779141630992, 0.9999301472070969, 0.9997543425105933, 0.9999544314040879, 0.999723178877911, 0.9995821747015322, 0.999688099552951, 0.9994801255718304, 0.9991849375359313, 0.9992623086485911, 0.9991232443823707, 0.9991654403529808, 0.9996424634962996, 0.9998292131977686, 0.9992648449793154, 0.9996801056113096, 0.9999060676691627, 0.999799851055412, 0.9995980858404043, 0.9995947074586768, 0.9993459522573752, 0.9991602071550145, 0.9994959536489516, 0.9997785660814497, 0.999460131726559, 0.9989551903558435, 0.9996849846972589, 0.9994828682691491, 0.9991851393569304, 0.9996140479997525, 0.9995836620610841, 0.9993629426679567, 0.9995034644068295, 0.999783151100128, 0.9996622283464117, 0.999271597242122, 0.9995682914691609, 0.9998612704455989, 0.9998508988010043, 0.9995161036169099, 0.9996023322835029, 0.9996926534774246, 0.9994839967728179], \"Term\": [\"ddd\", \"http\", \"\\u0430\\u0433\\u0430\", \"\\u0430\\u0445\\u0430\\u0445\", \"\\u0430\\u0445\\u0430\\u0445\\u0438\", \"\\u0430\\u0445\\u0438\", \"\\u0431\\u043b\\u0438\\u043d\", \"\\u0431\\u043b\\u044f\", \"\\u0431\\u043e\\u0433\", \"\\u0431\\u043e\\u043b\\u044c\\u0448\\u043e\\u0439\", \"\\u0432\\u0430\\u0448\", \"\\u0432\\u0435\\u0440\\u0438\\u0442\\u044c\", \"\\u0432\\u0435\\u0441\\u0435\\u043b\\u043e\", \"\\u0432\\u0435\\u0441\\u044c\", \"\\u0432\\u0435\\u0447\\u0435\\u0440\", \"\\u0432\\u0438\\u0434\\u0435\\u043e\", \"\\u0432\\u0438\\u0434\\u0435\\u0442\\u044c\", \"\\u0432\\u043c\\u0435\\u0441\\u0442\\u0435\", \"\\u0432\\u043e\\u043e\\u0431\\u0449\\u0435\", \"\\u0432\\u0440\\u0435\\u043c\\u044f\", \"\\u0432\\u0440\\u043e\\u0434\\u0435\", \"\\u0432\\u0441\\u043f\\u043e\\u043c\\u043d\\u0438\\u0442\\u044c\", \"\\u0432\\u0441\\u0451\", \"\\u0432\\u0441\\u0451\", \"\\u0432\\u0442\\u043e\\u0440\\u043e\\u0439\", \"\\u0433\\u043b\\u0430\\u0432\\u043d\\u043e\\u0435\", \"\\u0433\\u043b\\u0430\\u0437\", \"\\u0433\\u043e\\u0432\\u043e\\u0440\\u0438\\u0442\\u044c\", \"\\u0433\\u043e\\u043b\\u043e\\u0432\\u0430\", \"\\u0433\\u043e\\u0440\\u043e\\u0434\", \"\\u0433\\u0440\\u0443\\u043f\\u043f\\u0430\", \"\\u0434\\u0430\\u0432\\u0430\\u0442\\u044c\", \"\\u0434\\u0430\\u0432\\u043d\\u043e\", \"\\u0434\\u0430\\u0442\\u044c\", \"\\u0434\\u0435\\u0432\\u0443\\u0448\\u043a\\u0430\", \"\\u0434\\u0435\\u043b\\u0430\\u0442\\u044c\", \"\\u0434\\u0435\\u043b\\u043e\", \"\\u0434\\u043e\\u043b\\u0436\\u043d\\u044b\\u0439\", \"\\u0434\\u043e\\u043c\", \"\\u0434\\u0440\\u0443\\u0433\", \"\\u0434\\u0443\\u043c\\u0430\\u0442\\u044c\", \"\\u0435\\u0449\\u0451\", \"\\u0436\\u0434\\u0430\\u0442\\u044c\", \"\\u0436\\u0435\\u043b\\u0430\\u0442\\u044c\", \"\\u0436\\u0438\\u0437\\u043d\\u044c\", \"\\u0436\\u0438\\u0442\\u044c\", \"\\u0437\\u0430\\u0431\\u044b\\u0442\\u044c\", \"\\u0437\\u0430\\u0432\\u0442\\u0440\\u0430\", \"\\u0437\\u043d\\u0430\\u0442\\u044c\", \"\\u0437\\u043d\\u0430\\u0447\\u0438\\u0442\", \"\\u0438\\u0433\\u0440\\u0430\\u0442\\u044c\", \"\\u0438\\u0434\\u0442\\u0438\", \"\\u0438\\u043d\\u0442\\u0435\\u0440\\u0435\\u0441\\u043d\\u043e\", \"\\u0438\\u043d\\u0442\\u0435\\u0440\\u0435\\u0441\\u043d\\u044b\\u0439\", \"\\u043a\\u0430\\u0436\\u0434\\u044b\\u0439\", \"\\u043a\\u0430\\u0437\\u0430\\u0442\\u044c\\u0441\\u044f\", \"\\u043a\\u043b\\u0430\\u0441\\u0441\", \"\\u043a\\u043b\\u0430\\u0441\\u0441\\u043d\\u044b\\u0439\", \"\\u043a\\u043e\\u043d\\u0435\\u0446\", \"\\u043a\\u043e\\u0442\\u043e\\u0440\\u044b\\u0439\", \"\\u043a\\u0440\\u0430\\u0441\\u0438\\u0432\\u044b\\u0439\", \"\\u043a\\u0440\\u0443\\u0442\\u043e\", \"\\u043a\\u0440\\u0443\\u0442\\u043e\\u0439\", \"\\u043a\\u0441\\u0442\\u0430\\u0442\\u0438\", \"\\u043a\\u0443\\u043f\\u0438\\u0442\\u044c\", \"\\u043b\\u0430\\u0434\\u043d\\u044b\\u0439\", \"\\u043b\\u0435\\u043d\\u0442\\u0430\", \"\\u043b\\u0435\\u0442\\u043e\", \"\\u043b\\u044e\\u0431\\u0438\\u043c\\u044b\\u0439\", \"\\u043b\\u044e\\u0431\\u0438\\u0442\\u044c\", \"\\u043b\\u044e\\u0431\\u043e\\u0432\\u044c\", \"\\u043c\\u0430\\u043b\\u0435\\u043d\\u044c\\u043a\\u0438\\u0439\", \"\\u043c\\u0430\\u043c\\u0430\", \"\\u043c\\u0435\\u0441\\u0442\\u043e\", \"\\u043c\\u0438\\u043b\\u044b\\u0439\", \"\\u043c\\u0438\\u0440\", \"\\u043c\\u043e\\u043b\\u043e\\u0434\\u0451\\u0436\\u043a\\u0430\", \"\\u043c\\u0443\\u0437\\u044b\\u043a\\u0430\", \"\\u043d\\u0430\\u0432\\u0435\\u0440\\u043d\\u043e\\u0435\", \"\\u043d\\u0430\\u0434\\u0435\\u044f\\u0442\\u044c\\u0441\\u044f\", \"\\u043d\\u0430\\u0439\\u0442\\u0438\", \"\\u043d\\u0430\\u043f\\u0438\\u0441\\u0430\\u0442\\u044c\", \"\\u043d\\u0430\\u0441\\u0442\\u0440\\u043e\\u0435\\u043d\\u0438\\u0435\", \"\\u043d\\u0430\\u0447\\u0430\\u0442\\u044c\", \"\\u043d\\u0430\\u0448\", \"\\u043d\\u0435\\u0434\\u0435\\u043b\\u044f\", \"\\u043d\\u0435\\u043c\\u043d\\u043e\\u0433\\u043e\", \"\\u043d\\u0438\\u0431\\u044b\\u0442\\u044c\", \"\\u043d\\u0438\\u043a\\u0442\\u043e\", \"\\u043d\\u043e\\u0432\\u043e\\u0433\\u043e\\u0434\\u043d\\u0438\\u0439\", \"\\u043d\\u043e\\u0432\\u044b\\u0439\", \"\\u043d\\u043e\\u0440\\u043c\\u0430\", \"\\u043d\\u043e\\u0440\\u043c\\u0430\\u043b\\u044c\\u043d\\u043e\", \"\\u043d\\u043e\\u0447\\u044c\", \"\\u043d\\u0440\\u0430\\u0432\\u0438\\u0442\\u044c\\u0441\\u044f\", \"\\u043d\\u0443\\u0436\\u043d\\u043e\", \"\\u043d\\u0443\\u0436\\u043d\\u044b\\u0439\", \"\\u043e\\u0431\\u043e\\u0436\\u0430\\u0442\\u044c\", \"\\u043e\\u0442\\u043b\\u0438\\u0447\\u043d\\u043e\", \"\\u043e\\u0442\\u043b\\u0438\\u0447\\u043d\\u044b\\u0439\", \"\\u043e\\u0447\\u0435\\u043d\\u044c\", \"\\u043f\\u0430\\u043f\\u0430\", \"\\u043f\\u0430\\u0440\\u0430\", \"\\u043f\\u0430\\u0440\\u0435\\u043d\\u044c\", \"\\u043f\\u0435\\u0440\\u0432\\u044b\\u0439\", \"\\u043f\\u0435\\u0440\\u0435\\u0441\\u0442\\u0430\\u0442\\u044c\", \"\\u043f\\u0435\\u0441\\u043d\\u044f\", \"\\u043f\\u0438\\u0441\\u0430\\u0442\\u044c\", \"\\u043f\\u043e\\u0434\\u0430\\u0440\\u043e\\u043a\", \"\\u043f\\u043e\\u0437\\u0434\\u0440\\u0430\\u0432\\u043b\\u044f\\u0442\\u044c\", \"\\u043f\\u043e\\u0439\\u0442\\u0438\", \"\\u043f\\u043e\\u043a\\u0430\", \"\\u043f\\u043e\\u043b\\u0443\\u0447\\u0438\\u0442\\u044c\", \"\\u043f\\u043e\\u043c\\u043d\\u0438\\u0442\\u044c\", \"\\u043f\\u043e\\u043d\\u0438\\u043c\\u0430\\u0442\\u044c\", \"\\u043f\\u043e\\u043d\\u0440\\u0430\\u0432\\u0438\\u0442\\u044c\\u0441\\u044f\", \"\\u043f\\u043e\\u043d\\u044f\\u0442\\u044c\", \"\\u043f\\u043e\\u0441\\u043b\\u0435\\u0434\\u043d\\u0438\\u0439\", \"\\u043f\\u043e\\u0441\\u043c\\u043e\\u0442\\u0440\\u0435\\u0442\\u044c\", \"\\u043f\\u043e\\u0441\\u0442\\u0430\\u0432\\u0438\\u0442\\u044c\", \"\\u043f\\u043e\\u0447\\u0435\\u043c\\u0443\", \"\\u043f\\u0440\\u0430\\u0432\\u0434\\u0430\", \"\\u043f\\u0440\\u0435\\u0434\\u043d\\u043e\\u0432\\u043e\\u0433\\u043e\\u0434\\u043d\\u0438\\u0435\\u043e\\u0431\\u043d\\u0438\\u043c\\u0430\\u0448\\u043a\\u0430\", \"\\u043f\\u0440\\u0438\\u0432\\u0435\\u0442\", \"\\u043f\\u0440\\u0438\\u0439\\u0442\\u0438\", \"\\u043f\\u0440\\u0438\\u044f\\u0442\\u043d\\u043e\", \"\\u043f\\u0440\\u043e\\u0439\\u0442\\u0438\", \"\\u043f\\u0440\\u043e\\u0441\\u0442\\u043e\", \"\\u043f\\u0440\\u044f\\u043c\", \"\\u043f\\u044f\\u0442\\u043d\\u0438\\u0446\\u0430\", \"\\u0440\\u0430\\u0431\\u043e\\u0442\\u0430\", \"\\u0440\\u0430\\u0431\\u043e\\u0442\\u0430\\u0442\\u044c\", \"\\u0440\\u0430\\u0432\\u043d\\u043e\", \"\\u0440\\u0430\\u043d\\u043d\\u0438\\u0439\", \"\\u0440\\u0435\\u0431\\u044f\\u0442\\u0430\", \"\\u0440\\u0435\\u0431\\u0451\\u043d\\u043e\\u043a\", \"\\u0440\\u0435\\u0448\\u0438\\u0442\\u044c\", \"\\u0440\\u043e\\u0434\\u043d\\u044b\\u0439\", \"\\u0440\\u043e\\u0436\\u0434\\u0435\\u043d\\u0438\\u0435\", \"\\u0440\\u0443\\u043a\\u0430\", \"\\u0441\\u0430\\u043c\\u044b\\u0439\", \"\\u0441\\u0432\\u043e\\u0439\", \"\\u0441\\u0434\\u0435\\u043b\\u0430\\u0442\\u044c\", \"\\u0441\\u0435\\u0433\\u043e\\u0434\\u043d\\u044f\", \"\\u0441\\u0435\\u0437\\u043e\\u043d\", \"\\u0441\\u0435\\u0440\\u0438\\u0430\\u043b\", \"\\u0441\\u0435\\u0440\\u0438\\u044f\", \"\\u0441\\u0438\\u0434\\u0435\\u0442\\u044c\", \"\\u0441\\u043a\\u043e\\u043b\\u044c\\u043a\\u043e\", \"\\u0441\\u043a\\u043e\\u0440\\u043e\", \"\\u0441\\u043b\\u0430\\u0432\\u0430\", \"\\u0441\\u043b\\u043e\\u0432\\u043e\", \"\\u0441\\u043b\\u0443\\u0448\\u0430\\u0442\\u044c\", \"\\u0441\\u043c\\u043e\\u0442\\u0440\\u0435\\u0442\\u044c\", \"\\u0441\\u043d\\u043e\\u0432\\u0430\", \"\\u0441\\u043e\\u043d\", \"\\u0441\\u043f\\u0430\\u0441\\u0438\\u0431\\u043e\", \"\\u0441\\u043f\\u0430\\u0442\\u044c\", \"\\u0441\\u0440\\u0430\\u0437\\u0443\", \"\\u0441\\u0442\\u0430\\u0442\\u044c\", \"\\u0441\\u0442\\u043e\\u0438\\u0442\\u044c\", \"\\u0441\\u0445\\u043e\\u0434\\u0438\\u0442\\u044c\", \"\\u0441\\u0447\\u0430\\u0441\\u0442\\u043b\\u0438\\u0432\\u044b\\u0439\", \"\\u0442\\u0430\\u043a\\u0438\", \"\\u0442\\u0432\\u0438\\u0442\", \"\\u0442\\u0432\\u0438\\u0442\\u0442\\u0435\\u0440\", \"\\u0442\\u0432\\u043e\\u0439\", \"\\u0442\\u0435\\u043b\\u0435\\u0444\\u043e\\u043d\", \"\\u0442\\u0435\\u043c\\u0430\", \"\\u0442\\u043e\\u0447\\u043d\\u043e\", \"\\u0443\\u0434\\u0430\\u0447\\u0430\", \"\\u0443\\u0440\\u043e\\u043a\", \"\\u0443\\u0442\\u0440\\u043e\", \"\\u0444\\u0438\\u043b\\u044c\\u043c\", \"\\u0444\\u043e\\u0442\\u043a\\u0430\", \"\\u0445\\u0430\\u0445\", \"\\u0445\\u043e\\u0434\\u0438\\u0442\\u044c\", \"\\u0445\\u043e\\u0440\\u043e\\u0448\\u0438\\u0439\", \"\\u0445\\u043e\\u0442\\u0435\\u0442\\u044c\", \"\\u0445\\u043e\\u0442\\u044f\", \"\\u0447\\u0430\\u0441\", \"\\u0447\\u0438\\u0442\\u0430\\u0442\\u044c\", \"\\u0448\\u043a\\u043e\\u043b\\u0430\"]}, \"R\": 30, \"lambda.step\": 0.01, \"plot.opts\": {\"xlab\": \"PC1\", \"ylab\": \"PC2\"}, \"topic.order\": [5, 4, 2, 1, 3, 6]};\n",
              "\n",
              "function LDAvis_load_lib(url, callback){\n",
              "  var s = document.createElement('script');\n",
              "  s.src = url;\n",
              "  s.async = true;\n",
              "  s.onreadystatechange = s.onload = callback;\n",
              "  s.onerror = function(){console.warn(\"failed to load library \" + url);};\n",
              "  document.getElementsByTagName(\"head\")[0].appendChild(s);\n",
              "}\n",
              "\n",
              "if(typeof(LDAvis) !== \"undefined\"){\n",
              "   // already loaded: just create the visualization\n",
              "   !function(LDAvis){\n",
              "       new LDAvis(\"#\" + \"ldavis_el2911397686362865442976586304\", ldavis_el2911397686362865442976586304_data);\n",
              "   }(LDAvis);\n",
              "}else if(typeof define === \"function\" && define.amd){\n",
              "   // require.js is available: use it to load d3/LDAvis\n",
              "   require.config({paths: {d3: \"https://d3js.org/d3.v5\"}});\n",
              "   require([\"d3\"], function(d3){\n",
              "      window.d3 = d3;\n",
              "      LDAvis_load_lib(\"https://cdn.jsdelivr.net/gh/bmabey/pyLDAvis@3.4.0/pyLDAvis/js/ldavis.v3.0.0.js\", function(){\n",
              "        new LDAvis(\"#\" + \"ldavis_el2911397686362865442976586304\", ldavis_el2911397686362865442976586304_data);\n",
              "      });\n",
              "    });\n",
              "}else{\n",
              "    // require.js not available: dynamically load d3 & LDAvis\n",
              "    LDAvis_load_lib(\"https://d3js.org/d3.v5.js\", function(){\n",
              "         LDAvis_load_lib(\"https://cdn.jsdelivr.net/gh/bmabey/pyLDAvis@3.4.0/pyLDAvis/js/ldavis.v3.0.0.js\", function(){\n",
              "                 new LDAvis(\"#\" + \"ldavis_el2911397686362865442976586304\", ldavis_el2911397686362865442976586304_data);\n",
              "            })\n",
              "         });\n",
              "}\n",
              "</script>"
            ]
          },
          "metadata": {},
          "execution_count": 32
        }
      ]
    },
    {
      "cell_type": "code",
      "source": [
        "vis_data.topic_info.Category"
      ],
      "metadata": {
        "id": "lhQ4YUnpZduS",
        "colab": {
          "base_uri": "https://localhost:8080/"
        },
        "outputId": "0585cb32-e6c1-4224-d718-867ffc502b4b"
      },
      "execution_count": 33,
      "outputs": [
        {
          "output_type": "stream",
          "name": "stderr",
          "text": [
            "/usr/local/lib/python3.10/dist-packages/ipykernel/ipkernel.py:283: DeprecationWarning: `should_run_async` will not call `transform_cell` automatically in the future. Please pass the result to `transformed_cell` argument and any exception that happen during thetransform in `preprocessing_exc_tuple` in IPython 7.17 and above.\n",
            "  and should_run_async(code)\n"
          ]
        },
        {
          "output_type": "execute_result",
          "data": {
            "text/plain": [
              "15      Default\n",
              "6       Default\n",
              "143     Default\n",
              "18      Default\n",
              "12      Default\n",
              "         ...   \n",
              "1633     Topic6\n",
              "1002     Topic6\n",
              "1007     Topic6\n",
              "2562     Topic6\n",
              "1606     Topic6\n",
              "Name: Category, Length: 213, dtype: object"
            ]
          },
          "metadata": {},
          "execution_count": 33
        }
      ]
    },
    {
      "cell_type": "code",
      "source": [
        "topic_names_list = vis_data.topic_info.Category.unique()\n",
        "topic_names_list"
      ],
      "metadata": {
        "id": "LVE-ERNEZgHP",
        "colab": {
          "base_uri": "https://localhost:8080/"
        },
        "outputId": "ae12ac68-104c-4976-ab0b-aba240685848"
      },
      "execution_count": 34,
      "outputs": [
        {
          "output_type": "stream",
          "name": "stderr",
          "text": [
            "/usr/local/lib/python3.10/dist-packages/ipykernel/ipkernel.py:283: DeprecationWarning: `should_run_async` will not call `transform_cell` automatically in the future. Please pass the result to `transformed_cell` argument and any exception that happen during thetransform in `preprocessing_exc_tuple` in IPython 7.17 and above.\n",
            "  and should_run_async(code)\n"
          ]
        },
        {
          "output_type": "execute_result",
          "data": {
            "text/plain": [
              "array(['Default', 'Topic1', 'Topic2', 'Topic3', 'Topic4', 'Topic5',\n",
              "       'Topic6'], dtype=object)"
            ]
          },
          "metadata": {},
          "execution_count": 34
        }
      ]
    },
    {
      "cell_type": "code",
      "source": [
        "for topic_name in topic_names_list[1:]:\n",
        "  print(list(vis_data.topic_info.loc[vis_data.topic_info.Category == topic_name].Term[:8]))"
      ],
      "metadata": {
        "id": "HZigCU64Zh6r",
        "colab": {
          "base_uri": "https://localhost:8080/"
        },
        "outputId": "1bde5212-77f3-4f37-8ef7-d7fb2a0f9ce5"
      },
      "execution_count": 35,
      "outputs": [
        {
          "output_type": "stream",
          "name": "stdout",
          "text": [
            "['http', 'весь', 'сегодня', 'новый', 'пятница', 'твой', 'ждать', 'ночь']\n",
            "['ещё', 'который', 'ахи', 'пойти', 'наш', 'жизнь', 'пока', 'время']\n",
            "['просто', 'свой', 'любить', 'хотеть', 'делать', 'спать', 'написать', 'мама']\n",
            "['спасибо', 'очень', 'думать', 'говорить', 'друг', 'сделать', 'писать', 'вечер']\n",
            "['знать', 'завтра', 'вообще', 'первый', 'идти', 'любимый', 'давать', 'посмотреть']\n",
            "['хороший', 'смотреть', 'самый', 'большой', 'дом', 'нужно', 'купить', 'пара']\n"
          ]
        },
        {
          "output_type": "stream",
          "name": "stderr",
          "text": [
            "/usr/local/lib/python3.10/dist-packages/ipykernel/ipkernel.py:283: DeprecationWarning: `should_run_async` will not call `transform_cell` automatically in the future. Please pass the result to `transformed_cell` argument and any exception that happen during thetransform in `preprocessing_exc_tuple` in IPython 7.17 and above.\n",
            "  and should_run_async(code)\n"
          ]
        }
      ]
    }
  ]
}